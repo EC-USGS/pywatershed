{
 "cells": [
  {
   "cell_type": "code",
   "execution_count": null,
   "id": "f6c651e1-813f-475e-a0d3-e62bf1157587",
   "metadata": {},
   "outputs": [],
   "source": [
    "# collect and plot performance data of nhm from PRMS and pynhmn"
   ]
  },
  {
   "cell_type": "code",
   "execution_count": null,
   "id": "ab3d89b9-ecb0-4e24-8a8e-8a61bcafe6f5",
   "metadata": {},
   "outputs": [],
   "source": [
    "import pathlib as pl\n",
    "import pickle\n",
    "data_dir = pl.Path(\"../../../data/\")"
   ]
  },
  {
   "cell_type": "code",
   "execution_count": null,
   "id": "13c737d8-b8a2-47cd-981d-b7be36b72245",
   "metadata": {},
   "outputs": [],
   "source": [
    "results = {}\n",
    "files = (data_dir / 'pynhm/performance_runs/results/').glob('*.pkl')\n",
    "for ff in files: \n",
    "    print(ff)\n",
    "    with open(ff, \"rb\") as input_file:\n",
    "        results[ff.name[0:-4]] = pickle.load(input_file)"
   ]
  },
  {
   "cell_type": "code",
   "execution_count": null,
   "id": "1e6a352d-9947-4519-8305-72f31bcfe29e",
   "metadata": {},
   "outputs": [],
   "source": [
    "results_post = {}\n",
    "for info, timing in results.items():\n",
    "    #kk = list(rr.keys())[0]\n",
    "    all_keys = info.split('_')\n",
    "    kk = []\n",
    "    \n",
    "    kk += [f\"{all_keys[1]}_{all_keys[2]}\"]\n",
    "    kk += [f\"Output: {all_keys[4]}\"]\n",
    "    #kk += [f\"{all_keys[4]}\"]\n",
    "    if len(all_keys) > 5:\n",
    "        kk += [f\"{all_keys[0]}: {all_keys[6]}\"]\n",
    "    else:\n",
    "        kk += [f\"{all_keys[0]}: fortran\"]\n",
    "    results_post[tuple(kk)] = {'mean': timing.average, 'stdev': timing.stdev, 'N': timing.repeat}"
   ]
  },
  {
   "cell_type": "code",
   "execution_count": null,
   "id": "2efdb38c-fbc3-47cb-984e-33d0b5a58d06",
   "metadata": {},
   "outputs": [],
   "source": [
    "results_post"
   ]
  },
  {
   "cell_type": "code",
   "execution_count": null,
   "id": "49b507f8-a0bd-474f-914c-701a25cca950",
   "metadata": {},
   "outputs": [],
   "source": [
    "import pandas\n",
    "import pandas as pd\n",
    "pd.options.plotting.backend = 'holoviews'\n",
    "results_df = pd.DataFrame(results_post).T\n",
    "results_df.index.set_names(names = [\"domain\", \"Output\", \"method\"], inplace=True)\n",
    "results_df.sort_index(inplace=True)"
   ]
  },
  {
   "cell_type": "code",
   "execution_count": null,
   "id": "2e71008a-1a78-4c6a-8af2-fad19027e1b2",
   "metadata": {},
   "outputs": [],
   "source": [
    "results_df"
   ]
  },
  {
   "cell_type": "code",
   "execution_count": null,
   "id": "af5330fd-bbc8-4261-9c77-3fc9bf25e49d",
   "metadata": {},
   "outputs": [],
   "source": [
    "ylim = (0.01, results_df['mean'].max())\n",
    "for dd in [\"hru_1\", 'drb_2yr', \"ucb_2yr\", \"conus_2yr\"]:\n",
    "    proc_df = results_df.loc[ dd, slice(None), slice(None)] \n",
    "    display(\n",
    "        proc_df.plot.bar().opts(\n",
    "            title=dd, \n",
    "            height=450, width=450, \n",
    "            ylabel='Mean Time (seconds)', xlabel='',\n",
    "            xrotation = 65, ylim=ylim, logy=True, \n",
    "            show_grid=True,\n",
    "            fontscale=1.5\n",
    "        )\n",
    "    )"
   ]
  }
 ],
 "metadata": {
  "language_info": {
   "codemirror_mode": {
    "name": "ipython"
   },
   "file_extension": ".py",
   "mimetype": "text/x-python",
   "name": "python",
   "nbconvert_exporter": "python"
  }
 },
 "nbformat": 4,
 "nbformat_minor": 5
}
