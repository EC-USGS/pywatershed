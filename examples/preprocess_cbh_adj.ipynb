{
 "cells": [
  {
   "cell_type": "markdown",
   "id": "2aa72049-ae70-41ca-8720-5c7091b4dcf0",
   "metadata": {},
   "source": [
    "# Preprocess CBH forcing files.\n",
    "\n",
    "This notebook demonstrates 2 steps in preprocessing CBH file: 1) conversion to netCDF, 2) applying parameter adjustments (with and without soltab input files)."
   ]
  },
  {
   "cell_type": "code",
   "execution_count": null,
   "id": "b4d1ec1c-2526-4ccd-a8e5-3169c898cf68",
   "metadata": {},
   "outputs": [],
   "source": [
    "import pathlib as pl\n",
    "from pprint import pprint\n",
    "import shutil\n",
    "\n",
    "import numpy as np"
   ]
  },
  {
   "cell_type": "markdown",
   "id": "e368cfc8-3a1d-4810-9a29-44dc3740c5ef",
   "metadata": {},
   "source": [
    "## 1. Convert CBH files to netcdf"
   ]
  },
  {
   "cell_type": "code",
   "execution_count": null,
   "id": "6333def3-918c-412a-9a0d-a3732fdbcc05",
   "metadata": {},
   "outputs": [],
   "source": [
    "from pywatershed.parameters import PrmsParameters\n",
    "from pywatershed.utils.cbh_utils import cbh_files_to_netcdf\n",
    "\n",
    "dom_name = \"drb_2yr\"\n",
    "dom_dir = pl.Path(f\"../test_data/{dom_name}\")\n",
    "cbh_nc_dir = pl.Path(\".\") / f\"{dom_name}_cbh_files\"\n",
    "\n",
    "param_file = dom_dir / \"myparam.param\"\n",
    "control_file = dom_dir / \"control.test\"\n",
    "\n",
    "params = PrmsParameters.load(dom_dir / \"myparam.param\")\n",
    "\n",
    "cbh_files = {\n",
    "    \"prcp\": dom_dir / \"prcp.cbh\",\n",
    "    \"tmax\": dom_dir / \"tmax.cbh\",\n",
    "    \"tmin\": dom_dir / \"tmin.cbh\",\n",
    "}\n",
    "\n",
    "if cbh_nc_dir.exists():\n",
    "    shutil.rmtree(cbh_nc_dir)\n",
    "cbh_nc_dir.mkdir()  # this should not exist, it should be deleted a the end\n",
    "\n",
    "for kk, vv in cbh_files.items():\n",
    "    out_file = cbh_nc_dir / f\"{kk}.nc\"\n",
    "    cbh_files_to_netcdf({kk: vv}, params, out_file)\n",
    "\n",
    "print(sorted(cbh_nc_dir.glob(\"*.nc\")))"
   ]
  },
  {
   "cell_type": "markdown",
   "id": "1e5fa092-7623-4ef2-8907-d9f0597f8271",
   "metadata": {},
   "source": [
    "## 2. Apply PRMS parameters to input CBH data to get forcings used by the hydrologic components of the model.\n",
    "\n",
    "When a `PRMSAtmosphere` object is initalized with a `netcdf_output_dir` argument, the adjusted forcings \n",
    "are written to this location. Unless one requests specific variables only, all variables are written. \n",
    "\n",
    "Typically, the `soltab_potsw.nc` and `soltab_horad_potsw.nc` input files are not available as inputs. \n",
    "(These are only output in a fixed width format by a version of PRMS5.2.1 in the pynhm repository\n",
    "that is translated to netCDF when setting up test data). First it is shown how to get the CBH adjustments\n",
    "to output files using PRMSSolarGeometry instead of soltab files. Second is shown how to use available\n",
    "soltab files."
   ]
  },
  {
   "cell_type": "code",
   "execution_count": null,
   "id": "7c809c84-ec8c-4f7f-8a3b-1f167af384a6",
   "metadata": {},
   "outputs": [],
   "source": [
    "from pywatershed import Control, PRMSAtmosphere, PRMSSolarGeometry"
   ]
  },
  {
   "cell_type": "markdown",
   "id": "6193aa78-3cdc-46c6-afde-e681a395df30",
   "metadata": {},
   "source": [
    "From `help(PRMSAtmosphere)`:\n",
    "\n",
    "```\n",
    "Help on class PRMSAtmosphere in module pywatershed.atmosphere.PRMSAtmosphere:\n",
    "\n",
    "class PRMSAtmosphere(pywatershed.base.storageUnit.StorageUnit)\n",
    " |  PRMSAtmosphere(\n",
    "        control: pywatershed.base.control.Control, \n",
    "        prcp: Union[str, pathlib.Path], \n",
    "        tmax: Union[str, pathlib.Path], \n",
    "        tmin: Union[str, pathlib.Path], \n",
    "        soltab_potsw: Union[str, numpy.ndarray, pywatershed.base.adapter.Adapter], \n",
    "        soltab_horad_potsw: Union[str, numpy.ndarray, pywatershed.base.adapter.Adapter], \n",
    "        budget_type: str = None, \n",
    "        verbose: bool = False, \n",
    "        netcdf_output_dir: Union[str, pathlib.Path] = None, \n",
    "        netcdf_output_vars: list = None, \n",
    "        n_time_chunk: int = -1, \n",
    "        load_n_time_batches: int = 1)\n",
    "```"
   ]
  },
  {
   "cell_type": "markdown",
   "id": "1be5ec8a-47f1-42b5-ada7-5f7d6ba2088d",
   "metadata": {},
   "source": [
    "Thus the required inputs are `control`, `prcp`, `tmax`, `tmin`, `soltab_potsw`, `soltab_horad_potsw`. All but control can be specified as files and the `prcp`, `tmax`, and `tmin` must be specified as files. "
   ]
  },
  {
   "cell_type": "markdown",
   "id": "59213c1b-61c9-4fe5-80ad-8f117a9f6e18",
   "metadata": {},
   "source": [
    "### 2a. If soltab output files are not present\n",
    "For a test domain, specified above, we can generate a dict to pass as arguments specifying the required files."
   ]
  },
  {
   "cell_type": "code",
   "execution_count": null,
   "id": "15fa6b5d-fadb-4336-a9d8-a14dd125f160",
   "metadata": {},
   "outputs": [],
   "source": [
    "input_vars = PRMSAtmosphere.get_inputs()\n",
    "input_files_w_solar_geom = {}\n",
    "for var in input_vars:\n",
    "    if \"soltab\" in var:\n",
    "        continue\n",
    "    nc_pth = cbh_nc_dir / f\"{var}.nc\"\n",
    "    input_files_w_solar_geom[var] = nc_pth\n",
    "pprint(input_files_w_solar_geom)"
   ]
  },
  {
   "cell_type": "markdown",
   "id": "7e5a04da-d5c4-4f6e-a6c7-b3c928c58951",
   "metadata": {},
   "source": [
    "We can query `PRMSAtmosphere` about its outputs and later we'll use this list to confirm that we get all of its variables as netCDF outputs when None was requested."
   ]
  },
  {
   "cell_type": "code",
   "execution_count": null,
   "id": "8ff025e9-e441-4273-ade0-b94f1a739012",
   "metadata": {},
   "outputs": [],
   "source": [
    "output_vars = PRMSAtmosphere.get_variables()\n",
    "output_dir = pl.Path(\"preprocess_cbh_adj_files\")\n",
    "output_files = [output_dir / f\"{vv}.nc\" for vv in output_vars]\n",
    "pprint(output_files)"
   ]
  },
  {
   "cell_type": "markdown",
   "id": "2601f9cb-26a3-4d07-83f5-fa6060c6307b",
   "metadata": {},
   "source": [
    "Establish a file checking function and functions for achieving initialization of `PRMSAtmosphere` specifing a `netcdf_output_dir`."
   ]
  },
  {
   "cell_type": "code",
   "execution_count": null,
   "id": "69a37053-ce54-4dad-87d8-58b944a01089",
   "metadata": {},
   "outputs": [],
   "source": [
    "def check_output_files(netcdf_output_vars):\n",
    "    if netcdf_output_vars is None:\n",
    "        check_files = output_files\n",
    "    else:\n",
    "        check_files = [output_dir / f\"{vv}.nc\" for vv in netcdf_output_vars]\n",
    "\n",
    "    for ff in check_files:\n",
    "        print(f\"checking {ff} file exists\")\n",
    "        assert ff.exists()\n",
    "        ff.unlink()\n",
    "        assert not ff.exists()\n",
    "\n",
    "    return True\n",
    "\n",
    "\n",
    "def preprocess_w_solar_geom(input_dict, netcdf_output_vars):\n",
    "    output_dir.mkdir(exist_ok=True)\n",
    "    solar_geom = PRMSSolarGeometry(control)\n",
    "    atm = PRMSAtmosphere(\n",
    "        control=control,\n",
    "        **input_dict,\n",
    "        soltab_horad_potsw=solar_geom.soltab_horad_potsw,\n",
    "        soltab_potsw=solar_geom.soltab_potsw,\n",
    "        budget_type=None,\n",
    "        netcdf_output_dir=output_dir,\n",
    "        netcdf_output_vars=netcdf_output_vars,\n",
    "    )\n",
    "    del atm\n",
    "    assert check_output_files(netcdf_output_vars)\n",
    "    shutil.rmtree(output_dir)\n",
    "    return None"
   ]
  },
  {
   "cell_type": "markdown",
   "id": "adfd07a4-4b9b-4eb5-9a40-76a3fd167b80",
   "metadata": {},
   "source": [
    "We may also want to exercise control over the variables output to netCDF files. Here we'll speficy two options including the default which is all variables written to netcdf when `None` is used. (An empty list would give the same effect as not specifying a `netcdf_output_dir`.)"
   ]
  },
  {
   "cell_type": "code",
   "execution_count": null,
   "id": "1b71a090-6935-443c-849a-6232546a77fc",
   "metadata": {},
   "outputs": [],
   "source": [
    "netcdf_output_vars_dict = {\n",
    "    \"Reduced output set\": [\"tmaxc\", \"tminc\", \"pptmix\"],\n",
    "    \"Full/Default output set\": None,\n",
    "}"
   ]
  },
  {
   "cell_type": "markdown",
   "id": "b7406e3d-f1dd-4fb1-9bb3-6f299f207781",
   "metadata": {},
   "source": [
    "Run both output variable sets when only the typical CBH files are available."
   ]
  },
  {
   "cell_type": "code",
   "execution_count": null,
   "id": "e27f7e40-f5ac-4061-b98a-e223b881c68f",
   "metadata": {},
   "outputs": [],
   "source": [
    "# Preprocess using PRMSSolarGeom (soltab netCDF files not available)\n",
    "control = Control.load(control_file, params=params)\n",
    "for desc, netcdf_output_vars in netcdf_output_vars_dict.items():\n",
    "    print(f\"{desc}:\")\n",
    "    preprocess_w_solar_geom(input_files_w_solar_geom, netcdf_output_vars)\n",
    "    print(\"\")"
   ]
  },
  {
   "cell_type": "markdown",
   "id": "d72cfda1-9957-4283-a35d-f3f8f595a139",
   "metadata": {},
   "source": [
    "### 2b. If soltab output files are present\n",
    "We repeat the above, dropping the `PRMSSolarGeometry` object as its information is now coming from the soltab files. "
   ]
  },
  {
   "cell_type": "code",
   "execution_count": null,
   "id": "d54fd129-085c-498c-a90d-d752e89c9b8a",
   "metadata": {},
   "outputs": [],
   "source": [
    "input_vars = PRMSAtmosphere.get_inputs()\n",
    "input_files = {}\n",
    "for var in input_vars:\n",
    "    if \"soltab\" in var:\n",
    "        # These are in dom_dir/output for the test datasets\n",
    "        nc_pth = dom_dir / f\"output/{var}.nc\"\n",
    "    else:\n",
    "        nc_pth = cbh_nc_dir / f\"{var}.nc\"\n",
    "\n",
    "    input_files[var] = nc_pth\n",
    "\n",
    "pprint(input_files)\n",
    "\n",
    "\n",
    "def preprocess_w_soltab(input_dict, netcdf_output_vars):\n",
    "    output_dir.mkdir(exist_ok=True)\n",
    "    atm = PRMSAtmosphere(\n",
    "        control=control,\n",
    "        **input_dict,\n",
    "        budget_type=None,\n",
    "        netcdf_output_dir=output_dir,\n",
    "        netcdf_output_vars=netcdf_output_vars,\n",
    "    )\n",
    "    del atm\n",
    "    assert check_output_files(netcdf_output_vars)\n",
    "    shutil.rmtree(output_dir)\n",
    "    return None\n",
    "\n",
    "\n",
    "# Preprocess when soltab netCDF files are available (not typical)\n",
    "for desc, netcdf_output_vars in netcdf_output_vars_dict.items():\n",
    "    print(f\"{desc}:\")\n",
    "    preprocess_w_soltab(input_files, netcdf_output_vars)\n",
    "    print(\"\")"
   ]
  },
  {
   "cell_type": "markdown",
   "id": "09b646b5-9e52-4c27-847d-85ac324f88dd",
   "metadata": {},
   "source": [
    "## Clean up"
   ]
  },
  {
   "cell_type": "code",
   "execution_count": null,
   "id": "05ad9f0c-f550-4ee1-a50b-e39f7498b4c7",
   "metadata": {},
   "outputs": [],
   "source": [
    "# Clean up the cbh netcdf files that were created at the very beginning\n",
    "shutil.rmtree(cbh_nc_dir)"
   ]
  }
 ],
 "metadata": {
  "language_info": {
   "codemirror_mode": {
    "name": "ipython"
   },
   "file_extension": ".py",
   "mimetype": "text/x-python",
   "name": "python",
   "nbconvert_exporter": "python"
  }
 },
 "nbformat": 4,
 "nbformat_minor": 5
}
