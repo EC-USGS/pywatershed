{
 "cells": [
  {
   "cell_type": "markdown",
   "id": "4bf60102-e977-4b2c-82b1-86780c283c71",
   "metadata": {},
   "source": [
    "# Snow mass balance errors\n"
   ]
  },
  {
   "cell_type": "markdown",
   "id": "c7b84519-933d-4284-838d-f5a8d4ec01f7",
   "metadata": {},
   "source": [
    "## Setup"
   ]
  },
  {
   "cell_type": "code",
   "execution_count": null,
   "id": "d316a5de-19ef-4008-8c68-1e192c3f89d9",
   "metadata": {
    "editable": true,
    "slideshow": {
     "slide_type": ""
    }
   },
   "outputs": [],
   "source": [
    "import pathlib as pl\n",
    "from pprint import pprint\n",
    "from shutil import rmtree, copy2\n",
    "\n",
    "import hvplot.xarray  # noqa\n",
    "import jupyter_black\n",
    "from IPython.display import display\n",
    "import numpy as np\n",
    "import pywatershed as pws\n",
    "import xarray as xr\n",
    "\n",
    "jupyter_black.load()"
   ]
  },
  {
   "cell_type": "code",
   "execution_count": null,
   "id": "9c188b5b-fc91-480c-a1a2-ce1121f92915",
   "metadata": {},
   "outputs": [],
   "source": [
    "domain_name = \"ucb_2yr\"\n",
    "\n",
    "nb_output_dir = pl.Path(\"./snow_errors\")\n",
    "\n",
    "skip_if_exists_prms_mixed = True\n",
    "skip_if_exists_prms_double = True\n",
    "skip_if_exists_pws = True"
   ]
  },
  {
   "cell_type": "code",
   "execution_count": null,
   "id": "6f807cf6-f982-4b5a-91eb-89294bf1c08e",
   "metadata": {},
   "outputs": [],
   "source": [
    "pws_root = pws.constants.__pywatershed_root__\n",
    "domain_dir = pws_root / f\"../test_data/{domain_name}\"\n",
    "nb_output_dir.mkdir(exist_ok=True)\n",
    "\n",
    "zero = pws.constants.zero\n",
    "epsilon64 = pws.constants.epsilon64\n",
    "epsilon32 = pws.constants.epsilon32"
   ]
  },
  {
   "cell_type": "markdown",
   "id": "0a05c33a-c86b-433a-a400-54c7f2df8eb9",
   "metadata": {},
   "source": [
    "## Run PRMS mixed and double precision runs and convert to netcdf"
   ]
  },
  {
   "cell_type": "code",
   "execution_count": null,
   "id": "daa94738-1c8b-4113-a529-c6dd0b4a0284",
   "metadata": {},
   "outputs": [],
   "source": [
    "bin_dir = pws_root / \"../bin/\"\n",
    "# bin_mixed = bin_dir / \"prms_521_mixed_mac_m1_intel\"\n",
    "bin_double = bin_dir / \"prms_mac_m1_ifort_dbl_prec\""
   ]
  },
  {
   "cell_type": "code",
   "execution_count": null,
   "id": "611c0d7a-7bfd-422d-ae53-3978b0c2eb83",
   "metadata": {},
   "outputs": [],
   "source": [
    "def run_prms(binary: pl.Path, run_dir: pl.Path, skip_if_exists=False):\n",
    "    import shlex\n",
    "    import subprocess\n",
    "\n",
    "    from pywatershed import CsvFile, Soltab\n",
    "\n",
    "    from pywatershed.parameters import PrmsParameters\n",
    "\n",
    "    if skip_if_exists and run_dir.exists():\n",
    "        print(\n",
    "            f\"Run ({run_dir}) already exists and skip_if_exists=True. Using existing run.\"\n",
    "        )\n",
    "        return None\n",
    "\n",
    "    run_dir.mkdir()  # must not exist, on user to delete\n",
    "    copy2(binary, run_dir / binary.name)\n",
    "    for ff in [\n",
    "        \"nhm.control\",\n",
    "        \"myparam.param\",\n",
    "        \"tmax.cbh\",\n",
    "        \"tmin.cbh\",\n",
    "        \"prcp.cbh\",\n",
    "        \"sf_data\",\n",
    "    ]:\n",
    "        copy2(domain_dir / ff, run_dir / ff)\n",
    "\n",
    "    output_dir = run_dir / \"output\"\n",
    "    output_dir.mkdir()\n",
    "\n",
    "    exe_command = f\"time ./{binary.name} nhm.control -MAXDATALNLEN 60000 2>&1 | tee run.log\"\n",
    "    result = subprocess.run(\n",
    "        exe_command,\n",
    "        shell=True,\n",
    "        # stdout = subprocess.PIPE,\n",
    "        stderr=subprocess.STDOUT,\n",
    "        universal_newlines=True,\n",
    "        cwd=run_dir,\n",
    "    )\n",
    "\n",
    "    # these will be useful in what follows\n",
    "    params = pws.parameters.PrmsParameters.load(\n",
    "        domain_dir / \"myparam.param\"\n",
    "    ).parameters\n",
    "\n",
    "    # convert to netcdf\n",
    "    # could make these arguments\n",
    "    chunking = {\n",
    "        \"time\": 0,\n",
    "        \"doy\": 0,\n",
    "        \"nhm_id\": 100,\n",
    "        \"nhm_seg\": 100,\n",
    "    }\n",
    "\n",
    "    output_csvs = output_dir.glob(\"*.csv\")\n",
    "    for cc in output_csvs:\n",
    "        if cc.name in [\"stats.csv\"]:\n",
    "            continue\n",
    "        nc_path = cc.with_suffix(\".nc\")\n",
    "        CsvFile(cc).to_netcdf(nc_path, chunk_sizes=chunking)\n",
    "\n",
    "    # solar tables\n",
    "    soltab_file = run_dir / \"soltab_debug\"\n",
    "    # the nhm_ids are not available in the solta_debug file currently, so get\n",
    "    # them from the domain parameters\n",
    "    params = PrmsParameters.load(run_dir / \"myparam.param\")\n",
    "    nhm_ids = params.parameters[\"nhm_id\"]\n",
    "\n",
    "    soltab = Soltab(\n",
    "        soltab_file,\n",
    "        output_dir=output_dir,\n",
    "        nhm_ids=nhm_ids,\n",
    "        chunk_sizes=chunking,\n",
    "    )\n",
    "\n",
    "    for var in soltab.variables:\n",
    "        assert (output_dir / f\"{var}.nc\").exists()\n",
    "\n",
    "    # previous and change variables\n",
    "    for vv in [\"pk_ice\", \"freeh2o\", \"soil_moist\"]:\n",
    "        data = xr.open_dataset(output_dir / f\"{vv}.nc\")[vv]\n",
    "        prev_da = data.copy()\n",
    "        prev_da[:] = np.roll(prev_da.values, 1, axis=0)\n",
    "        assert (prev_da[1:, :].values == data[0:-1, :].values).all()\n",
    "        prev_da[0, :] = np.zeros(1)[\n",
    "            0\n",
    "        ]  # np.nan better but causes plotting to fail\n",
    "        change_da = data - prev_da\n",
    "        prev_da.rename(f\"{vv}_prev\").to_dataset().to_netcdf(\n",
    "            output_dir / f\"{vv}_prev.nc\"\n",
    "        )\n",
    "        data[f\"{vv}_prev\"] = xr.open_dataset(output_dir / f\"{vv}_prev.nc\")[\n",
    "            f\"{vv}_prev\"\n",
    "        ]\n",
    "\n",
    "        change_da.rename(f\"{vv}_change\").to_dataset().to_netcdf(\n",
    "            output_dir / f\"{vv}_change.nc\"\n",
    "        )\n",
    "        data[f\"{vv}_change\"] = xr.open_dataset(output_dir / f\"{vv}_change.nc\")[\n",
    "            f\"{vv}_change\"\n",
    "        ]\n",
    "    # through_rain\n",
    "    dep_vars = [\n",
    "        \"net_ppt\",\n",
    "        \"pptmix_nopack\",\n",
    "        \"snowmelt\",\n",
    "        \"pkwater_equiv\",\n",
    "        \"snow_evap\",\n",
    "        \"net_snow\",\n",
    "        \"net_rain\",\n",
    "    ]\n",
    "    data = {}\n",
    "    for vv in dep_vars:\n",
    "        data[vv] = xr.open_dataset(output_dir / f\"{vv}.nc\")[vv]\n",
    "\n",
    "    nearzero = 1.0e-6\n",
    "\n",
    "    cond1 = data[\"net_ppt\"] > zero\n",
    "    cond2 = data[\"pptmix_nopack\"] != 0\n",
    "    cond3 = data[\"snowmelt\"] < nearzero\n",
    "    cond4 = data[\"pkwater_equiv\"] < epsilon32\n",
    "    cond5 = data[\"snow_evap\"] < nearzero\n",
    "    cond6 = data[\"net_snow\"] < nearzero\n",
    "\n",
    "    through_rain = data[\"net_rain\"] * zero\n",
    "    # these are in reverse order\n",
    "    through_rain[:] = np.where(\n",
    "        cond1 & cond3 & cond4 & cond6, data[\"net_rain\"], zero\n",
    "    )\n",
    "    through_rain[:] = np.where(\n",
    "        cond1 & cond3 & cond4 & cond5, data[\"net_ppt\"], through_rain\n",
    "    )\n",
    "    through_rain[:] = np.where(cond1 & cond2, data[\"net_rain\"], through_rain)\n",
    "\n",
    "    through_rain.to_dataset(name=\"through_rain\").to_netcdf(\n",
    "        output_dir / \"through_rain.nc\"\n",
    "    )\n",
    "    through_rain.close()"
   ]
  },
  {
   "cell_type": "code",
   "execution_count": null,
   "id": "e591db15-82cc-4843-a46b-87d037823700",
   "metadata": {},
   "outputs": [],
   "source": [
    "# run_prms(bin_mixed, nb_output_dir / \"prms_mixed_run\")"
   ]
  },
  {
   "cell_type": "code",
   "execution_count": null,
   "id": "155fc8ac-da82-4df7-a33a-a744818d46d7",
   "metadata": {},
   "outputs": [],
   "source": [
    "prms_dbl_run_dir = nb_output_dir / f\"{domain_name}_prms_double_run\"\n",
    "run_prms(\n",
    "    bin_double, prms_dbl_run_dir, skip_if_exists=skip_if_exists_prms_double\n",
    ")"
   ]
  },
  {
   "cell_type": "markdown",
   "id": "34bcdb09-c0c2-45c4-ab5f-fc22f94e77ef",
   "metadata": {},
   "source": [
    "## pywatershed run"
   ]
  },
  {
   "cell_type": "code",
   "execution_count": null,
   "id": "01d0f43f-30cd-480e-9200-7c9507d4b263",
   "metadata": {},
   "outputs": [],
   "source": [
    "process = [pws.PRMSSnow]\n",
    "pws_run_dir = nb_output_dir / f\"{domain_name}_pws_run\"\n",
    "input_dir = pws_run_dir / \"pws_input\""
   ]
  },
  {
   "cell_type": "code",
   "execution_count": null,
   "id": "80bc300c-2779-497f-877f-6a502531ca4a",
   "metadata": {
    "editable": true,
    "slideshow": {
     "slide_type": ""
    }
   },
   "outputs": [],
   "source": [
    "control = pws.Control.load_prms(domain_dir / \"nhm.control\")\n",
    "output_dir = pws_run_dir / \"output\"\n",
    "control.options = control.options | {\n",
    "    \"input_dir\": input_dir,\n",
    "    \"budget_type\": \"warn\",\n",
    "    \"calc_method\": \"numpy\",\n",
    "    \"netcdf_output_dir\": output_dir,\n",
    "}\n",
    "del control.options[\"netcdf_output_var_names\"]\n",
    "params = pws.parameters.PrmsParameters.load(domain_dir / \"myparam.param\")"
   ]
  },
  {
   "cell_type": "code",
   "execution_count": null,
   "id": "65276857-f940-46df-8385-a9791bc79894",
   "metadata": {},
   "outputs": [],
   "source": [
    "if output_dir.exists() and skip_if_exists_pws:\n",
    "    print(\n",
    "        f\"Output ({output_dir}) already exists and skip_if_exists=True. Using existing run.\"\n",
    "    )\n",
    "\n",
    "else:\n",
    "    input_dir.mkdir(exist_ok=True, parents=True)\n",
    "    for ff in prms_dbl_run_dir.glob(\"*.nc\"):\n",
    "        copy2(ff, input_dir / ff.name)\n",
    "    for ff in (prms_dbl_run_dir / \"output\").glob(\"*.nc\"):\n",
    "        copy2(ff, input_dir / ff.name)\n",
    "\n",
    "    submodel = pws.Model(\n",
    "        process,\n",
    "        control=control,\n",
    "        parameters=params,\n",
    "    )\n",
    "\n",
    "    submodel.run(finalize=True)"
   ]
  },
  {
   "cell_type": "code",
   "execution_count": null,
   "id": "e0e7d6ae-6502-4815-b534-1bcf9c2b948a",
   "metadata": {},
   "outputs": [],
   "source": [
    "for vv in process[0].get_variables():\n",
    "    print(vv)\n",
    "    assert (output_dir / f\"{vv}.nc\").exists()\n",
    "    try:\n",
    "        assert (input_dir / f\"{vv}.nc\").exists()\n",
    "    except:\n",
    "        print(f\"********** {vv} not in input_dir\")"
   ]
  },
  {
   "cell_type": "markdown",
   "id": "fa4ca04f-c639-479c-8832-8cea51fc79be",
   "metadata": {},
   "source": [
    "## Start by comparing the budget variables"
   ]
  },
  {
   "cell_type": "code",
   "execution_count": null,
   "id": "0f149cac-3343-4425-bddd-9e641245f3c9",
   "metadata": {},
   "outputs": [],
   "source": [
    "budget_terms = pws.PRMSSnow.get_mass_budget_terms()"
   ]
  },
  {
   "cell_type": "code",
   "execution_count": null,
   "id": "d2cb23a3-38c3-488b-ace3-118d5fd1ae64",
   "metadata": {},
   "outputs": [],
   "source": [
    "# additional variables\n",
    "budget_terms[\"outputs\"] += [\n",
    "    \"pk_ice_prev\",\n",
    "    \"freeh2o_prev\",\n",
    "    \"newsnow\",\n",
    "    \"pptmix_nopack\",\n",
    "    # \"ai\",\n",
    "    \"albedo\",\n",
    "    # 'frac_swe',\n",
    "    \"freeh2o\",\n",
    "    \"freeh2o_change\",\n",
    "    \"freeh2o_prev\",\n",
    "    #' iasw',\n",
    "    # 'int_alb',\n",
    "    \"iso\",\n",
    "    # 'lso',\n",
    "    # 'lst',\n",
    "    # \"mso\",\n",
    "    \"newsnow\",\n",
    "    \"pk_def\",\n",
    "    \"pk_den\",\n",
    "    \"pk_depth\",\n",
    "    \"pk_ice\",\n",
    "    \"pk_ice_change\",\n",
    "    \"pk_ice_prev\",\n",
    "    #  'pk_precip',\n",
    "    \"pk_temp\",\n",
    "    # 'pksv',\n",
    "    # \"pkwater_ante\", # not actually prognostic, removed from pywatershed\n",
    "    \"pkwater_equiv\",\n",
    "    # 'pkwater_equiv_change',\n",
    "    \"pptmix_nopack\",\n",
    "    # 'pss',\n",
    "    \"pst\",\n",
    "    # \"salb\",\n",
    "    #' scrv',\n",
    "    #' slst',\n",
    "    \"snow_evap\",\n",
    "    \"snowcov_area\",\n",
    "    # 'snowcov_areasv',\n",
    "    \"snowmelt\",\n",
    "    # 'snsv',\n",
    "    \"tcal\",\n",
    "    \"through_rain\",\n",
    "]"
   ]
  },
  {
   "cell_type": "code",
   "execution_count": null,
   "id": "9b823fdf-e855-4263-b694-621c6b74005a",
   "metadata": {},
   "outputs": [],
   "source": [
    "comparisons = {}\n",
    "for term, vars in budget_terms.items():\n",
    "    if term == \"inputs\":\n",
    "        continue\n",
    "    print(term)\n",
    "    for vv in sorted(vars):\n",
    "        print(\"    \", vv)\n",
    "\n",
    "        pws_file = output_dir / f\"{vv}.nc\"\n",
    "        assert (pws_file).exists()\n",
    "        pws_ds = xr.open_dataset(pws_file)[vv].rename(\"pws\")\n",
    "\n",
    "        prms_file = input_dir / f\"{vv}.nc\"\n",
    "        assert prms_file.exists()\n",
    "        prms_ds = xr.open_dataset(prms_file)[vv].rename(\"prms\")\n",
    "\n",
    "        comparisons[vv] = xr.merge([pws_ds, prms_ds])"
   ]
  },
  {
   "cell_type": "code",
   "execution_count": null,
   "id": "ec5e0551-9d22-4522-b80e-4c2f54eedd28",
   "metadata": {},
   "outputs": [],
   "source": [
    "# comparisons"
   ]
  },
  {
   "cell_type": "code",
   "execution_count": null,
   "id": "66f80562-8679-4ef3-b007-470692de064a",
   "metadata": {},
   "outputs": [],
   "source": [
    "def plot_var(var_name, diff=False, nhm_id: list = None):\n",
    "    from textwrap import fill\n",
    "\n",
    "    # lines = textwrap.wrap(text, width, break_long_words=False)\n",
    "    meta = pws.meta.find_variables(var_name)[var_name]\n",
    "    ylabel = f\"{fill(meta['desc'], 40)}\\n({meta['units']})\"\n",
    "    title = var_name\n",
    "    ds = comparisons[var_name]\n",
    "\n",
    "    if diff:\n",
    "        ds = ds.copy()\n",
    "        ds[\"error\"] = ds[\"pws\"] - ds[\"prms\"]\n",
    "        # ds[\"relative_error\"] = ds[\"error\"] / ds[\"prms\"]\n",
    "        # ds[\"relative_error\"] = xr.where(\n",
    "        #     abs(ds[\"prms\"]) < 1.0e-7, np.nan, ds[\"relative_error\"]\n",
    "        # )\n",
    "        del ds[\"pws\"], ds[\"prms\"]\n",
    "        ylabel = \"Difference PWS - PRMS\\n\" + ylabel\n",
    "        title = \"ERRORS: Difference in \" + title\n",
    "\n",
    "    if (nhm_id is not None) and (len(nhm_id) > 0):\n",
    "        ds = ds.where(ds.nhm_id.isin(nhm_id), drop=True)\n",
    "\n",
    "    display(\n",
    "        ds.hvplot(\n",
    "            frame_width=700,\n",
    "            groupby=\"nhm_id\",\n",
    "            title=title,\n",
    "            ylabel=ylabel,\n",
    "            # fontsize={\"ylabel\": \"9px\"},\n",
    "        )\n",
    "    )"
   ]
  },
  {
   "cell_type": "code",
   "execution_count": null,
   "id": "38a84f40-5684-4c73-a36f-027e3dc1bdbb",
   "metadata": {},
   "outputs": [],
   "source": [
    "def var_close(var_name):\n",
    "    print(var_name)\n",
    "    var_ds = comparisons[var_name]\n",
    "    abs_diff = abs(var_ds[\"pws\"] - var_ds[\"prms\"])\n",
    "    rel_abs_diff = abs_diff / var_ds[\"prms\"]\n",
    "    rtol = 0.02\n",
    "    atol = 1.0e-2\n",
    "    close = (abs_diff < atol) | (rel_abs_diff < rtol)\n",
    "    if close.all():\n",
    "        plot_var(var_name, diff=False)\n",
    "\n",
    "    else:\n",
    "        wh_not_close = np.where(~close)\n",
    "        nhm_ids = abs_diff.nhm_id[wh_not_close[1]]\n",
    "        plot_var(var_name, diff=False, nhm_id=nhm_ids)\n",
    "\n",
    "    return"
   ]
  },
  {
   "cell_type": "code",
   "execution_count": null,
   "id": "b3b9d5ff-05e1-4468-bef6-54b3da7f5b0c",
   "metadata": {},
   "outputs": [],
   "source": [
    "if True:\n",
    "    for var_name in comparisons.keys():\n",
    "        var_close(var_name)"
   ]
  },
  {
   "cell_type": "markdown",
   "id": "da70848a-3187-4ae7-b045-125c83e451c9",
   "metadata": {},
   "source": [
    "## Mass-balance errors\n",
    "These are currently resolved in the UCB_2yr domain for pywatershed."
   ]
  },
  {
   "cell_type": "code",
   "execution_count": null,
   "id": "b5d5e323-a739-43a6-a372-5bcb7dc7b775",
   "metadata": {},
   "outputs": [],
   "source": [
    "budget_terms = pws.PRMSSnow.get_mass_budget_terms()"
   ]
  },
  {
   "cell_type": "code",
   "execution_count": null,
   "id": "ff49bb08-0ae4-41e9-9e52-adeb0d48cbbe",
   "metadata": {},
   "outputs": [],
   "source": [
    "budget_terms"
   ]
  },
  {
   "cell_type": "code",
   "execution_count": null,
   "id": "bacee4a6-0952-4c96-aa50-b05f5664e74b",
   "metadata": {},
   "outputs": [],
   "source": [
    "prms_mass = {}\n",
    "for term, vars in budget_terms.items():\n",
    "    prms_mass[term] = {}\n",
    "    for vv in vars:\n",
    "        prms_mass[term][vv] = xr.open_dataarray(input_dir / f\"{vv}.nc\")"
   ]
  },
  {
   "cell_type": "code",
   "execution_count": null,
   "id": "3deaaa12-3094-4283-8edf-1c1ad0acdfe7",
   "metadata": {},
   "outputs": [],
   "source": [
    "prms_mass_sums = {}\n",
    "for term, vars in prms_mass.items():\n",
    "    prms_mass_sums[term] = None\n",
    "    for vv in vars:\n",
    "        data = xr.open_dataarray(input_dir / f\"{vv}.nc\")\n",
    "        if prms_mass_sums[term] is None:\n",
    "            prms_mass_sums[term] = data\n",
    "        else:\n",
    "            prms_mass_sums[term] += xr.open_dataarray(input_dir / f\"{vv}.nc\")"
   ]
  },
  {
   "cell_type": "code",
   "execution_count": null,
   "id": "552ff261-c959-4d89-8f7f-53160c928f75",
   "metadata": {},
   "outputs": [],
   "source": [
    "prms_mass_balance = (\n",
    "    prms_mass_sums[\"inputs\"]\n",
    "    - prms_mass_sums[\"outputs\"]\n",
    "    - prms_mass_sums[\"storage_changes\"]\n",
    ")"
   ]
  },
  {
   "cell_type": "code",
   "execution_count": null,
   "id": "bf5228fd-0a6c-4c9e-bc29-adf8373743f2",
   "metadata": {},
   "outputs": [],
   "source": [
    "prms_mass_balance"
   ]
  },
  {
   "cell_type": "code",
   "execution_count": null,
   "id": "bbd6c480-fc75-4546-9246-2c5f5b2aee46",
   "metadata": {},
   "outputs": [],
   "source": [
    "wh_imbalance = np.where(prms_mass_balance.values > 1e-5)"
   ]
  },
  {
   "cell_type": "code",
   "execution_count": null,
   "id": "2be69429-2ab7-4307-90c6-dedb4262635a",
   "metadata": {},
   "outputs": [],
   "source": [
    "wh_imbalance"
   ]
  },
  {
   "cell_type": "code",
   "execution_count": null,
   "id": "7bb8a452-ae77-48e9-9120-02a8c1ebcd75",
   "metadata": {},
   "outputs": [],
   "source": [
    "prms_mass_balance.values[wh_imbalance]"
   ]
  },
  {
   "cell_type": "code",
   "execution_count": null,
   "id": "0c979a40-5740-4971-a0aa-d5e0f5dd88b7",
   "metadata": {},
   "outputs": [],
   "source": [
    "freeh2o = xr.open_dataarray(input_dir / \"freeh2o.nc\")\n",
    "pk_ice = xr.open_dataarray(input_dir / \"pk_ice.nc\")\n",
    "pkwater_equiv = xr.open_dataarray(input_dir / \"pkwater_equiv.nc\")\n",
    "freeh2o_prev = xr.open_dataarray(input_dir / \"freeh2o_prev.nc\")\n",
    "pk_ice_prev = xr.open_dataarray(input_dir / \"pk_ice_prev.nc\")\n",
    "pkwater_ante = xr.open_dataarray(input_dir / \"pkwater_ante.nc\")\n",
    "freeh2o_change = xr.open_dataarray(input_dir / \"freeh2o_change.nc\")\n",
    "pk_ice_change = xr.open_dataarray(input_dir / \"pk_ice_change.nc\")"
   ]
  },
  {
   "cell_type": "code",
   "execution_count": null,
   "id": "be45ba5c-75ce-49ac-89d1-8f91aaaadec3",
   "metadata": {},
   "outputs": [],
   "source": [
    "print(f\"{pk_ice.values[wh_imbalance]=}\")\n",
    "print(f\"{pk_ice_prev.values[wh_imbalance]=}\")\n",
    "print(f\"{pk_ice_change.values[wh_imbalance]=}\")"
   ]
  },
  {
   "cell_type": "code",
   "execution_count": null,
   "id": "3220c630-52c8-4074-8794-54a9f462a7a3",
   "metadata": {},
   "outputs": [],
   "source": [
    "print(f\"{freeh2o.values[wh_imbalance]=}\")\n",
    "print(f\"{freeh2o_prev.values[wh_imbalance]=}\")\n",
    "print(f\"{freeh2o_change.values[wh_imbalance]=}\")"
   ]
  },
  {
   "cell_type": "code",
   "execution_count": null,
   "id": "d7ae9821-c6b6-422b-89d8-04f1037c83eb",
   "metadata": {},
   "outputs": [],
   "source": [
    "import numpy as np\n",
    "\n",
    "np.set_printoptions(edgeitems=30, linewidth=100000)\n",
    "\n",
    "for term, vars in prms_mass.items():\n",
    "    print(term)\n",
    "    for vv in vars:\n",
    "        print(f\"    {vv}\")\n",
    "        print(f\"    {prms_mass[term][vv].values[wh_imbalance]}\")\n",
    "print(\"imbalance\")\n",
    "print(f\"    {prms_mass_balance.values[wh_imbalance]}\")\n",
    "print(\"freeh2o prev\")\n",
    "print(f\"    {freeh2o_prev.values[wh_imbalance]}\")\n",
    "print(\"freeh2o\")\n",
    "print(f\"    {freeh2o.values[wh_imbalance]}\")\n",
    "print(\"pk_ice prev\")\n",
    "print(f\"    {pk_ice_prev.values[wh_imbalance]}\")\n",
    "print(\"pk_ice\")\n",
    "print(f\"    {pk_ice.values[wh_imbalance]}\")\n",
    "print(\"pkwater_ante\")\n",
    "print(f\"    {pkwater_ante.values[wh_imbalance]}\")\n",
    "print(\"pkwater_equiv\")\n",
    "print(f\"    {pkwater_equiv.values[wh_imbalance]}\")"
   ]
  },
  {
   "cell_type": "code",
   "execution_count": null,
   "id": "a882b844-6fa3-4005-8660-36d45deb51f6",
   "metadata": {},
   "outputs": [],
   "source": []
  }
 ],
 "metadata": {
  "language_info": {
   "codemirror_mode": {
    "name": "ipython"
   },
   "file_extension": ".py",
   "mimetype": "text/x-python",
   "name": "python",
   "nbconvert_exporter": "python"
  }
 },
 "nbformat": 4,
 "nbformat_minor": 5
}
