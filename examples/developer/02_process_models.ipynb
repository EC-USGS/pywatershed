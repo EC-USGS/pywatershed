{
 "cells": [
  {
   "cell_type": "markdown",
   "id": "08f842ce-586b-490c-9e9e-97321918e5b8",
   "metadata": {},
   "source": [
    "# 02 - Process models in pynhm\n",
    "\n",
    "*James McCreight, September 2022*\n",
    "\n",
    "---\n",
    "\n",
    "The representation of \"individual\" physical processes in the model is fundamental. In pynhm we aim to make individual processes distinct units of code which can be run individually, assuming their inputs can be found. In our re-expression of PRMS, there are 8 \"indivdial\" processes (I keep putting \"individual\" in quotes because there are certainly debates over what that means and if processes are always aggregations of other processes. Effectively, the individual processes are conceptualizations that are useful for certain applications.) These are (with associated pynhm class names in parentheses):\n",
    "\n",
    "* solar geometry (PRMSSolarGeometry)\n",
    "* atmosphere (PRMSAtmosphere)\n",
    "* canopy (PRMSCanopy)\n",
    "* snow (PRMSSnow)\n",
    "* runoff (PRMSRunoff)\n",
    "* soil (PRMSSoilzone)\n",
    "* groundwater (PRMSGroundwater)\n",
    "* stream flow (PRMSChannel)\n",
    "\n",
    "Given these process conceptualizations, we want to be able to run them in isolation. This provides a concise way to hypothesis testing, particularly of individual processes. \n",
    "\n",
    "## Requirements: pyws_nb virtual env\n",
    "The pynhm virtual environment was installed in notebook 00. You need this environment to proceed. __This notebook is to be run with a bash kernel using the conda env: pyws_nb.__\n",
    "\n",
    "## PRMSChannel: Single process model example\n",
    "Let's say we are interested in just running the stream flow process in isolation. In pynhm we would do this"
   ]
  },
  {
   "cell_type": "code",
   "execution_count": null,
   "id": "cd182c00-845e-4de8-a280-fa1bbe2e9cc5",
   "metadata": {},
   "outputs": [],
   "source": [
    "%load_ext jupyter_black"
   ]
  },
  {
   "cell_type": "code",
   "execution_count": null,
   "id": "816e410d-c806-4467-8d56-e6add8c7f516",
   "metadata": {},
   "outputs": [],
   "source": [
    "import pathlib as pl\n",
    "import pywatershed\n",
    "import tempfile\n",
    "\n",
    "pynhm_root = pywatershed.constants.__pywatershed_root__\n",
    "domain = \"drb_2yr\"\n",
    "domain_dir = pynhm_root.parent / f\"test_data/{domain}\"\n",
    "input_dir = domain_dir / \"output\"\n",
    "run_dir = pl.Path(tempfile.mkdtemp())\n",
    "\n",
    "control = pywatershed.Control.load(domain_dir / \"control.test\")\n",
    "control.config[\"input_dir\"] = input_dir\n",
    "params = pywatershed.parameters.PrmsParameters.load(domain_dir / \"myparam.param\")\n",
    "\n",
    "streamflow_model = pywatershed.Model(\n",
    "    [pywatershed.PRMSChannel], control=control, parameters=params\n",
    ")"
   ]
  },
  {
   "cell_type": "markdown",
   "id": "d0baa109-233b-498a-8097-2e25258a0cfa",
   "metadata": {},
   "source": [
    "We have not yet run the model, but a lot already happened. Here's a \"play-by-play\".\n",
    "We imported the pynhm package and asked it where it was located (pynhm_root). Relative to this we know where our test data are and we use that to assign the `domain_dir` variable, which is where our control and parameter files are found for running our model domain. We chose to use the \"drb_2yr\" domain for this model. For our `input_dir` we selected the `output` subdirectory of the domain directory. What we are using here is saying we want to look for our inputs among the PRMS outputs. That is we want to drive our stream channel model with fluxes calculated by PRMS. We can illustrate that with with the following code. "
   ]
  },
  {
   "cell_type": "code",
   "execution_count": null,
   "id": "95574d33-f8ff-42f4-ae9b-316dcc152a7b",
   "metadata": {},
   "outputs": [],
   "source": [
    "pywatershed.analysis.ModelGraph(streamflow_model, hide_variables=False).SVG(\n",
    "    verbose=True\n",
    ")"
   ]
  },
  {
   "cell_type": "markdown",
   "id": "e99798e6-8d98-4e24-ae07-817717f5e72a",
   "metadata": {},
   "source": [
    "The plot shows inputs and (public) variables of the PRMSChannel process (the only process in our streamflow_model). The graph shows its inputs coming from file. It's inputs are mass flux volumes from groundwater (gwres_flow_vol), surface runoff (sroff_vol), and the subsurface reservoir (ssres_flow_vol). The files use for these inputs are those fluxes calculated by PRMS (in this case they've been converted to volumes instead of inches output natively by PRMS). We are using the PRMS calculated values out of convenience, but also because if our `pywatershed.PRMSChannel` process representation matches that of PRMS, our outputs will be identical. We will verify that momentarily. Also of note in the plot are the mass balance/budget terms outlined in blue. Stream channel has a \"global\" budget which is calculate over the entire spatial domain whereas HRU-based processes track a budget on each HRU. \n",
    "\n",
    "Returning to the previous code block, a temporary directory is created for the output of this model. Next, the parameter and control files are read in from the domain directory and the control object is given the parameters to manage. Finally, the `streamflow_model` is instantiated with the single process, providing the control object, a directory to search for input data, and the type of budget which is to error on imbalance. \n",
    "\n",
    "To run this model with netcdf output, we do the following:"
   ]
  },
  {
   "cell_type": "code",
   "execution_count": null,
   "id": "67554718-c7a1-4d72-9f2e-523c3436b534",
   "metadata": {},
   "outputs": [],
   "source": [
    "%%time\n",
    "streamflow_model.run(netcdf_dir=run_dir, finalize=True)"
   ]
  },
  {
   "cell_type": "code",
   "execution_count": null,
   "id": "870aa0da-14dd-405a-b836-fd4146172603",
   "metadata": {},
   "outputs": [],
   "source": [
    "import process_plot\n",
    "\n",
    "gis_dir = pynhm_root.parent / f\"examples/pynhm_gis/{domain}\"\n",
    "proc_plot = process_plot.ProcessPlot(gis_dir)\n",
    "\n",
    "proc_name = \"PRMSChannel\"\n",
    "var_name = \"seg_outflow\"\n",
    "proc = streamflow_model.processes[proc_name]\n",
    "display(proc_plot.plot_seg_var(var_name, proc))"
   ]
  },
  {
   "cell_type": "markdown",
   "id": "a51cb35e-4921-4e7a-b518-bd997f178beb",
   "metadata": {},
   "source": [
    "Now we can easily check the results of our pynhm model against PRMS. The model only maintains the current state, not the full timeseries, "
   ]
  },
  {
   "cell_type": "code",
   "execution_count": null,
   "id": "ee8a9aa5-b98a-4bec-ae1c-308060059819",
   "metadata": {},
   "outputs": [],
   "source": [
    "streamflow_model.processes[\n",
    "    \"PRMSChannel\"\n",
    "].seg_outflow.shape  # tolower on the names as they are instances?"
   ]
  },
  {
   "cell_type": "markdown",
   "id": "5ba72503-01b7-4815-805c-e9e02ffefa3d",
   "metadata": {},
   "source": [
    "So we'll evaluate the full timeseries of output retrieved from disk."
   ]
  },
  {
   "cell_type": "code",
   "execution_count": null,
   "id": "068e17bc-61ba-407d-9266-32e93d5f08fc",
   "metadata": {},
   "outputs": [],
   "source": [
    "import numpy as np\n",
    "import xarray as xr\n",
    "\n",
    "\n",
    "def compare_results(var, verbose=False):\n",
    "    ans_file = input_dir / f\"{var}.nc\"\n",
    "    if not ans_file.exists():\n",
    "        print(f\"PRMS does not output {var}\")\n",
    "        return\n",
    "    ans_prms = xr.open_dataset(ans_file)\n",
    "    result_pynhm = xr.open_dataset(run_dir / f\"{var}.nc\")\n",
    "    outflow_errs = result_pynhm - ans_prms\n",
    "    outflow_rel_errs = outflow_errs / ans_prms\n",
    "    tol = np.finfo(np.float32).resolution\n",
    "    assert (abs(outflow_errs).max() < tol) | (abs(outflow_rel_errs).max() < tol)\n",
    "\n",
    "    if verbose:\n",
    "        display(ans_prms)\n",
    "        display(result_pynhm)\n",
    "        display(abs(outflow_errs).max().values())\n",
    "        display(abs(outflow_rel_errs).max().values())\n",
    "\n",
    "    return\n",
    "\n",
    "\n",
    "for vv in pywatershed.PRMSChannel.get_variables():\n",
    "    print(f\"comparing variable: {vv}\")\n",
    "    verbose = False\n",
    "    if vv == \"seg_outflow\":\n",
    "        verbose = True\n",
    "    compare_results(vv, verbose=verbose)\n",
    "    print(\"\")"
   ]
  },
  {
   "cell_type": "markdown",
   "id": "c2d263e0-a612-421a-95e9-19376ae44e9c",
   "metadata": {},
   "source": [
    "The above code is similar to the test of pynhmPRMSChannel against PRMS5.2.1 output. We see that the absolute differences have a maximum of 0.02661 while the absolute differences normalized by the PRMS magnitudes are less than about 7.1e-7. That is, errors are in the range of single precision floating point accuracy. We call this result good enough as PRMS has a mixture of single and double precision types. \n",
    "\n",
    "Note that the (static)method `get_variables()` is defined on the `PRMSChannel` class but could also be obtained on the instance in the model (`streamflow_model.processes['PRMSChannel']` which should probably not be capitalized todo). This is one way in which process models are self-describing. Also apparent in the netcdf output is metadata describing the variable (particularly if you click on the little piece of paper looking icon to the right of `seg_outflow`. If you want a full description of the public inputs, variables, and parameters for a given process model you can do the following: "
   ]
  },
  {
   "cell_type": "code",
   "execution_count": null,
   "id": "bda755fc-e31e-4e06-8f13-80a0cf2f6365",
   "metadata": {},
   "outputs": [],
   "source": [
    "from pprint import pprint, pformat\n",
    "\n",
    "# pprint(pywatershed.PRMSChannel.description(), sort_dicts=False) ## to save space here, we'll just print the first 50 lines... but feel free to run this line yourself.\n",
    "whole_repr = pformat(pywatershed.PRMSChannel.description(), sort_dicts=False)\n",
    "for line in whole_repr.splitlines()[:50]:\n",
    "    print(line)"
   ]
  },
  {
   "cell_type": "markdown",
   "id": "696a2772-49cd-4442-bc4d-6c91879677a7",
   "metadata": {},
   "source": [
    "We will discuss how process models are self-describing and the metadata in later notebooks.\n",
    "\n",
    "## Multi-process model\n",
    "\n",
    "Usually, a single process is just not enough! Let's make a model with more processes. For example we are interested in processes in the soil and groundwater and how these models contribute to changes in streamflow. We simply add the process classes we want to include as the first arguments to `pywatershed.Model()`. "
   ]
  },
  {
   "cell_type": "code",
   "execution_count": null,
   "id": "cd3db6a2-b6e1-4b31-9476-b90ec30f28d7",
   "metadata": {},
   "outputs": [],
   "source": [
    "control = pywatershed.Control.load(domain_dir / \"control.test\")\n",
    "control.config[\"input_dir\"] = input_dir\n",
    "\n",
    "multi_proc_model = pywatershed.Model(\n",
    "    [\n",
    "        pywatershed.PRMSSoilzone,\n",
    "        pywatershed.PRMSGroundwater,\n",
    "        pywatershed.PRMSChannel,\n",
    "    ],\n",
    "    control=control,\n",
    "    parameters=params,\n",
    ")"
   ]
  },
  {
   "cell_type": "markdown",
   "id": "91854ce8-21b6-4ba1-bee0-6cc37958cf8d",
   "metadata": {},
   "source": [
    "As before, we can plot the model graph. This time we adopt the standard color palette for the NHM processes that's already defined in the package."
   ]
  },
  {
   "cell_type": "code",
   "execution_count": null,
   "id": "93e2562b-d3fd-4d52-8a60-903123a1bb2e",
   "metadata": {},
   "outputs": [],
   "source": [
    "palette = pywatershed.analysis.utils.colorbrewer.nhm_process_colors(multi_proc_model)\n",
    "pywatershed.analysis.utils.colorbrewer.jupyter_palette(palette)\n",
    "try:\n",
    "    pywatershed.analysis.ModelGraph(\n",
    "        multi_proc_model, process_colors=palette, hide_variables=False\n",
    "    ).SVG(verbose=True)\n",
    "except:\n",
    "    print(\"Sorry, this fails for no good reason on Mac ARM architecture\")"
   ]
  },
  {
   "cell_type": "markdown",
   "id": "54e081b0-c96c-4c75-9ef7-3a19b9528a93",
   "metadata": {},
   "source": [
    "We run the model just as before"
   ]
  },
  {
   "cell_type": "code",
   "execution_count": null,
   "id": "02071b0f-87ff-418b-a8ed-6aa517253255",
   "metadata": {},
   "outputs": [],
   "source": [
    "%%time\n",
    "run_dir_multi_proc = pl.Path(tempfile.mkdtemp())\n",
    "multi_proc_model.run(netcdf_dir=run_dir_multi_proc, finalize=True)"
   ]
  },
  {
   "cell_type": "markdown",
   "id": "fa9ce5aa-53ca-4f18-b529-7c28c8119369",
   "metadata": {},
   "source": [
    "Let's plot some variables, say soil recharge storage, at the final time of the simulation. "
   ]
  },
  {
   "cell_type": "code",
   "execution_count": null,
   "id": "1675ca28-ce7f-4554-b34b-e32dff2e1255",
   "metadata": {},
   "outputs": [],
   "source": [
    "import process_plot\n",
    "\n",
    "gis_dir = pynhm_root.parent / f\"examples/pynhm_gis/{domain}\"\n",
    "proc_plot = process_plot.ProcessPlot(gis_dir)\n",
    "\n",
    "proc_name = \"PRMSSoilzone\"\n",
    "var_name = \"soil_rechr\"\n",
    "proc = multi_proc_model.processes[proc_name]\n",
    "display(proc_plot.plot_hru_var(var_name, proc))"
   ]
  },
  {
   "cell_type": "markdown",
   "id": "1ac44b16-64e3-4401-be5d-040fe012efda",
   "metadata": {},
   "source": [
    "We can also inspect the mass budget at the final time. Processes on HRUs check budgets on individual HRUs (or spatial units) whereas the `PRMSChannel` tracks a global budget, checking if the total water entering and leaving the channel model is consistent with its stoage changes."
   ]
  },
  {
   "cell_type": "code",
   "execution_count": null,
   "id": "85a5c1c3-701e-4c9b-9e10-3aba9abcf3d3",
   "metadata": {},
   "outputs": [],
   "source": [
    "pprint(multi_proc_model.processes[\"PRMSSoilzone\"].get_mass_budget_terms())\n",
    "multi_proc_model.processes[\"PRMSSoilzone\"].budget"
   ]
  },
  {
   "cell_type": "code",
   "execution_count": null,
   "id": "e09b19f5-edc0-4660-880a-6cfd8b8bbbf3",
   "metadata": {},
   "outputs": [],
   "source": [
    "pprint(multi_proc_model.processes[\"PRMSChannel\"].get_mass_budget_terms())\n",
    "multi_proc_model.processes[\"PRMSChannel\"].budget"
   ]
  },
  {
   "cell_type": "markdown",
   "id": "acbed031-66ba-4255-9a26-f09d9a69e741",
   "metadata": {},
   "source": [
    "## NHM Model"
   ]
  },
  {
   "cell_type": "code",
   "execution_count": null,
   "id": "6c855f32-c165-4a62-ba84-cfa25f0aa2f9",
   "metadata": {},
   "outputs": [],
   "source": [
    "control = pywatershed.Control.load(domain_dir / \"control.test\")\n",
    "control.config[\"input_dir\"] = domain_dir  # the PRMS/NHM inputs are all in this level\n",
    "\n",
    "nhm = pywatershed.Model(\n",
    "    [\n",
    "        pywatershed.PRMSSolarGeometry,\n",
    "        pywatershed.PRMSAtmosphere,\n",
    "        pywatershed.PRMSCanopy,\n",
    "        pywatershed.PRMSSnow,\n",
    "        pywatershed.PRMSRunoff,\n",
    "        pywatershed.PRMSGroundwater,\n",
    "        pywatershed.PRMSSoilzone,\n",
    "        pywatershed.PRMSChannel,\n",
    "    ],\n",
    "    control=control,\n",
    "    parameters=params,\n",
    ")"
   ]
  },
  {
   "cell_type": "code",
   "execution_count": null,
   "id": "85978af5-278f-464d-8ef2-64b2bd49f4a6",
   "metadata": {},
   "outputs": [],
   "source": [
    "palette = pywatershed.analysis.utils.colorbrewer.nhm_process_colors(nhm)\n",
    "pywatershed.analysis.utils.colorbrewer.jupyter_palette(palette)\n",
    "try:\n",
    "    pywatershed.analysis.ModelGraph(\n",
    "        nhm, process_colors=palette, hide_variables=False\n",
    "    ).SVG(verbose=True)\n",
    "except:\n",
    "    print(\"Sorry, this fails for no good reason on Mac ARM architecture\")"
   ]
  },
  {
   "cell_type": "code",
   "execution_count": null,
   "id": "f32bcbcb-9f72-4a6a-be4c-b39f06c44941",
   "metadata": {},
   "outputs": [],
   "source": []
  }
 ],
 "metadata": {
  "language_info": {
   "codemirror_mode": {
    "name": "ipython"
   },
   "file_extension": ".py",
   "mimetype": "text/x-python",
   "name": "python",
   "nbconvert_exporter": "python"
  }
 },
 "nbformat": 4,
 "nbformat_minor": 5
}
