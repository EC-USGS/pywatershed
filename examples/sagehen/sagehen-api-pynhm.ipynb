{
 "cells": [
  {
   "cell_type": "markdown",
   "metadata": {},
   "source": [
    "# Sagehen Creek pynhm + mf6\n",
    "This notebook reproduces the results of \n",
    "\n",
    "Hughes, Joseph D., Martijn J. Russcher, Christian D. Langevin, Eric D. Morway, and Richard R. McDonald. \"The MODFLOW Application Programming Interface for simulation control and software interoperability.\" Environmental Modelling & Software 148 (2022): 105257.\n",
    "\n",
    "for the Coupling MODFLOW to PRMS section. Here we substitute pynhm for PRMS-BMI used in the paper. This coupling was demonstrated in our [AGU 2022 poster](https://agu2022fallmeeting-agu.ipostersessions.com/default.aspx?s=05-E1-C6-40-DF-0D-4D-C7-4E-DE-D2-61-02-05-8F-0A).\n",
    "\n",
    "This notebook is meant to be run inside the repository for that paper because that's where the data are \n",
    "\n",
    "https://github.com/jdhughes-usgs/mf6bmipaper\n",
    "\n",
    "as will be setup below. You'll need to clone the above repo and specify its location below. (We wont add this notebook to that repository, since it's not part of the paper.) \n",
    "\n",
    "You may need to obtain a MODFLOW 6 DLL for your platform from https://github.com/MODFLOW-USGS/modflow6/releases, the DLL in the mf6bmipaper repo may not work for you. Changes (hopefully bug fixes) in the DLL may change the overall results somewhat.\n",
    "\n",
    "The python environment dependencies for this notebook should be completely specified in environment.yaml found in this directoy. You can see how to create a conda environment form this file in the example notebook `../00_python_virtual_env.ipynb`: `conda env create -f examples_env.yml`.\n",
    "\n",
    "For plotting output, run the plotting notebooks in this directory: `sagehen-postprocess-graphs.ipynb` and `sagehen-postprocess-maps.ipynb`."
   ]
  },
  {
   "cell_type": "code",
   "execution_count": null,
   "metadata": {},
   "outputs": [],
   "source": [
    "import os\n",
    "import pathlib as pl\n",
    "import shutil\n",
    "import sys\n",
    "\n",
    "import numpy as np\n",
    "import netCDF4 as nc\n",
    "from modflowapi import ModflowApi\n",
    "import pywatershed"
   ]
  },
  {
   "cell_type": "code",
   "execution_count": null,
   "metadata": {},
   "outputs": [],
   "source": [
    "# Set this to your path for this repo\n",
    "root_dir = pl.Path(\"/Users/jamesmcc/usgs/mf6bmipaper/models/ModflowPynhm/\")\n",
    "# Set this to the path to the repos where this current notebook is located\n",
    "pynhm_dir = pl.Path(\"/Users/jamesmcc/usgs/pynhm_2/\")"
   ]
  },
  {
   "cell_type": "code",
   "execution_count": null,
   "metadata": {},
   "outputs": [],
   "source": [
    "# Also configure this to where your DLL is found\n",
    "if sys.platform == \"win32\":\n",
    "    mf6_dll = root_dir.parent / \"/bin/libmf6.dll\"\n",
    "else:\n",
    "    mf6_dll = root_dir.parent / \"bin/libmf6.dylib\"\n",
    "assert mf6_dll.exists()"
   ]
  },
  {
   "cell_type": "code",
   "execution_count": null,
   "metadata": {},
   "outputs": [],
   "source": [
    "# Create the run directory\n",
    "name = \"sagehenmodel\"\n",
    "run_dir = root_dir / name\n",
    "if not run_dir.exists():\n",
    "    run_dir.mkdir(parents=True)\n",
    "\n",
    "os.chdir(run_dir)\n",
    "assert run_dir.exists()\n",
    "print(os.getcwd())"
   ]
  },
  {
   "cell_type": "markdown",
   "metadata": {
    "tags": []
   },
   "source": [
    "### Read weights\n",
    "\n",
    "The weight matrix should have columns equal to the number of HRUs and rows equal to the number of UZF cells or number of SFR reaches.\n",
    "\n",
    "_UZF weights_"
   ]
  },
  {
   "cell_type": "code",
   "execution_count": null,
   "metadata": {},
   "outputs": [],
   "source": [
    "shutil.copy2(root_dir.parent / \"ModflowPRMS/weights.npz\", root_dir / \"weights.npz\")\n",
    "uz2 = np.load(root_dir / \"weights.npz\")\n",
    "print(uz2[\"uzfw\"].shape, uz2[\"sfrw\"].shape)\n",
    "uzfw = uz2[\"uzfw\"]"
   ]
  },
  {
   "cell_type": "markdown",
   "metadata": {},
   "source": [
    "_SFR weights_"
   ]
  },
  {
   "cell_type": "code",
   "execution_count": null,
   "metadata": {},
   "outputs": [],
   "source": [
    "sfrw = uz2[\"sfrw\"]"
   ]
  },
  {
   "cell_type": "markdown",
   "metadata": {},
   "source": [
    "_Number of UZF cells at the top of the model_"
   ]
  },
  {
   "cell_type": "code",
   "execution_count": null,
   "metadata": {},
   "outputs": [],
   "source": [
    "nuzf_infilt = uzfw.shape[0]\n",
    "print(\"number of UZF cells at the top of the model {}\".format(nuzf_infilt))"
   ]
  },
  {
   "cell_type": "markdown",
   "metadata": {},
   "source": [
    "### Function to map HRU values to MODFLOW 6 values"
   ]
  },
  {
   "cell_type": "code",
   "execution_count": null,
   "metadata": {},
   "outputs": [],
   "source": [
    "def hru2mf6(weights, values):\n",
    "    return weights.dot(values)"
   ]
  },
  {
   "cell_type": "markdown",
   "metadata": {},
   "source": [
    "### Run loosely coupled PRMS and MODFLOW 6 models\n",
    "\n",
    "#### Initialize pynhm components"
   ]
  },
  {
   "cell_type": "code",
   "execution_count": null,
   "metadata": {},
   "outputs": [],
   "source": [
    "# Have to bring in or create some file\n",
    "\n",
    "# This parameter dictionary was adapted from PRMS6 parameter file\n",
    "param_file = root_dir / \"sagehen_params.pkl\"\n",
    "_ = shutil.copy2(pynhm_dir / \"examples/sagehen/sagehen_params.pkl\", param_file)\n",
    "\n",
    "# Control file\n",
    "control_file = root_dir / \"pywatershed.control\"\n",
    "_ = shutil.copy2(pynhm_dir / \"examples/sagehen/pywatershed.control\", control_file)"
   ]
  },
  {
   "cell_type": "code",
   "execution_count": null,
   "metadata": {},
   "outputs": [],
   "source": [
    "# PRMS forcings need converted to netcdf for pynhm\n",
    "\n",
    "import pickle\n",
    "\n",
    "with open(param_file, \"rb\") as input_file:\n",
    "    param_dict = pickle.load(input_file)\n",
    "\n",
    "params = pywatershed.PrmsParameters(param_dict)\n",
    "\n",
    "src_dir = root_dir.parent / \"ModflowPRMS/sagehenmodel/surf_climate\"\n",
    "tgt_dir = root_dir / \"pynhm_climate\"\n",
    "tgt_dir.mkdir(exist_ok=True)\n",
    "\n",
    "cbh_files = {\n",
    "    src_dir / \"precip.day\": tgt_dir / \"prcp.nc\",\n",
    "    src_dir / \"tmax.day\": tgt_dir / \"tmax.nc\",\n",
    "    src_dir / \"tmin.day\": tgt_dir / \"tmin.nc\",\n",
    "}\n",
    "\n",
    "from pywatershed.utils.cbh_utils import cbh_files_to_netcdf\n",
    "\n",
    "for src, tgt in cbh_files.items():\n",
    "    var_name = tgt.with_suffix(\"\").name\n",
    "    if tgt.exists():\n",
    "        print(f\"output file already exists, skipping: {tgt}\")\n",
    "        continue\n",
    "    else:\n",
    "        print(f\"creating {tgt}\")\n",
    "\n",
    "    cbh_files_to_netcdf({var_name: src}, params, tgt)"
   ]
  },
  {
   "cell_type": "code",
   "execution_count": null,
   "metadata": {},
   "outputs": [],
   "source": [
    "# This step is critical for MF6 initialization\n",
    "output_dir = run_dir / \"output\"\n",
    "if not output_dir.exists():\n",
    "    output_dir.mkdir()\n",
    "\n",
    "input_dir = tgt_dir\n",
    "for ff in [param_file, control_file, input_dir, output_dir]:\n",
    "    assert ff.exists()"
   ]
  },
  {
   "cell_type": "code",
   "execution_count": null,
   "metadata": {},
   "outputs": [],
   "source": [
    "params = pywatershed.PrmsParameters(parameter_dict=param_dict)\n",
    "control = pywatershed.Control.load(control_file, params=params)\n",
    "\n",
    "# Only need a PRMS/NHM model through soilzone\n",
    "prms = pywatershed.Model(\n",
    "    pywatershed.PRMSSolarGeometry,\n",
    "    pywatershed.PRMSAtmosphere,\n",
    "    pywatershed.PRMSCanopy,\n",
    "    pywatershed.PRMSSnow,\n",
    "    pywatershed.PRMSRunoff,\n",
    "    pywatershed.PRMSSoilzone,\n",
    "    control=control,\n",
    "    input_dir=input_dir,\n",
    "    budget_type=\"warn\",\n",
    ")\n",
    "\n",
    "# prms.initialize_netcdf(output_dir)\n",
    "# can this just be set up as adapters on pynhm output?"
   ]
  },
  {
   "cell_type": "markdown",
   "metadata": {},
   "source": [
    "#### Calculate multipliers for PRMS internal variables"
   ]
  },
  {
   "cell_type": "code",
   "execution_count": null,
   "metadata": {},
   "outputs": [],
   "source": [
    "m2ft = 3.28081\n",
    "in2m = 1.0 / (12.0 * m2ft)\n",
    "acre2m2 = 43560.0 / (m2ft * m2ft)"
   ]
  },
  {
   "cell_type": "code",
   "execution_count": null,
   "metadata": {},
   "outputs": [],
   "source": [
    "hru_area_m2 = params.parameters[\"hru_area\"] * acre2m2"
   ]
  },
  {
   "cell_type": "markdown",
   "metadata": {},
   "source": [
    "#### Create arrays to save results"
   ]
  },
  {
   "cell_type": "code",
   "execution_count": null,
   "metadata": {},
   "outputs": [],
   "source": [
    "ntimes = int(control.n_times)\n",
    "print(\"Number of days to simulate {}\".format(ntimes))\n",
    "\n",
    "nhm_vars = [\n",
    "    \"ppt_out\",\n",
    "    \"actet_out\",\n",
    "    \"potet_out\",\n",
    "    \"soilinfil_out\",\n",
    "    \"runoff_out\",\n",
    "    \"interflow_out\",\n",
    "]\n",
    "nhm_var_dict = {}\n",
    "nhm_var_dict[\"time_out\"] = np.empty(ntimes, dtype=\"datetime64[s]\")\n",
    "for vv in nhm_vars:\n",
    "    nhm_var_dict[vv] = np.zeros((ntimes, hru_area_m2.shape[0]), dtype=np.float64)"
   ]
  },
  {
   "cell_type": "markdown",
   "metadata": {},
   "source": [
    "#### Initialize MODFLOW 6"
   ]
  },
  {
   "cell_type": "code",
   "execution_count": null,
   "metadata": {},
   "outputs": [],
   "source": [
    "(root_dir / \"common\").mkdir(exist_ok=True)\n",
    "cp_list = [\n",
    "    \"sagehenmodel/mfsim.nam\",\n",
    "    \"sagehenmodel/ex-gwf-sagehen-gsf.tdis\",\n",
    "    \"sagehenmodel/gwf_sagehen-gsf.nam\",\n",
    "    \"sagehenmodel/gwf_sagehen-gsf.ic\",\n",
    "    \"sagehenmodel/gwf_sagehen-gsf.sto\",\n",
    "    \"sagehenmodel/gwf_sagehen-gsf.oc\",\n",
    "    \"sagehenmodel/gwf_sagehen-gsf.uzf\",\n",
    "]\n",
    "for ff in cp_list:\n",
    "    shutil.copy2(root_dir.parent / f\"ModflowPRMS/{ff}\", root_dir / ff)\n",
    "\n",
    "all_common = sorted((root_dir.parent / \"ModflowPRMS/common\").glob(\"*\"))\n",
    "for cc in all_common:\n",
    "    shutil.copy2(cc, (root_dir / \"common\") / cc.name)"
   ]
  },
  {
   "cell_type": "code",
   "execution_count": null,
   "metadata": {},
   "outputs": [],
   "source": []
  },
  {
   "cell_type": "code",
   "execution_count": null,
   "metadata": {
    "tags": []
   },
   "outputs": [],
   "source": [
    "# this requires all the inputs and also the output directory above to exist.\n",
    "mf6_config_file = \"mfsim.nam\"\n",
    "mf6_dll = \"/Users/jamesmcc/usgs/mf6bmipaper/models/bin/libmf6.dylib\"\n",
    "mf6 = ModflowApi(mf6_dll, working_directory=os.getcwd())\n",
    "mf6.initialize(mf6_config_file)\n",
    "\n",
    "# MODFLOW 6 time loop\n",
    "current_time = mf6.get_current_time()\n",
    "end_time = mf6.get_end_time()\n",
    "print(f\"MF current_time: {current_time}, prms control.start_time: {control.start_time}\")\n",
    "print(f\"MF end_time: {end_time}, prms control.n_times: {control.n_times}\")"
   ]
  },
  {
   "cell_type": "markdown",
   "metadata": {},
   "source": [
    "#### Get pointers to MODFLOW 6 variables"
   ]
  },
  {
   "cell_type": "code",
   "execution_count": null,
   "metadata": {},
   "outputs": [],
   "source": [
    "# get pointer to UZF variables\n",
    "mf6_var_model_dict = {\"SINF\": \"UZF-1\", \"PET\": \"UZF-1\", \"RUNOFF\": \"SFR-1\"}\n",
    "mf6_vars = {}\n",
    "for vv, mm in mf6_var_model_dict.items():\n",
    "    mf6_vars[vv] = mf6.get_value_ptr(mf6.get_var_address(vv, name.upper(), mm))\n",
    "\n",
    "for vv, dd in mf6_vars.items():\n",
    "    print(f\"shape of {vv}: {dd.shape}\")"
   ]
  },
  {
   "cell_type": "markdown",
   "metadata": {},
   "source": [
    "#### Run the models"
   ]
  },
  {
   "cell_type": "code",
   "execution_count": null,
   "metadata": {},
   "outputs": [],
   "source": [
    "# control is prms.control\n",
    "n_time_steps = control.n_times\n",
    "# n_time_steps = 2 * 365\n",
    "for istep in range(n_time_steps):\n",
    "    prms.advance()\n",
    "\n",
    "    if control.current_dowy == 0:\n",
    "        if istep > 0:\n",
    "            print(\"\\n\")\n",
    "        print(f\"Water year: {control.current_year + 1}\")\n",
    "\n",
    "    stdout_str = f\"Day of water year: {str(control.current_dowy + 1).zfill(3)}\"\n",
    "    print(stdout_str, end=\"\\r\")\n",
    "\n",
    "    # run pynhm\n",
    "    prms.calculate()\n",
    "\n",
    "    hru_ppt = prms.processes[\"PRMSAtmosphere\"].hru_ppt.current\n",
    "\n",
    "    potet = prms.processes[\"PRMSSoilzone\"].potet\n",
    "    actet = prms.processes[\"PRMSSoilzone\"].hru_actet\n",
    "    unused_pet = potet - actet\n",
    "\n",
    "    soil_infil = (\n",
    "        prms.processes[\"PRMSSoilzone\"].ssres_in\n",
    "        + prms.processes[\"PRMSSoilzone\"].pref_flow_infil\n",
    "    )\n",
    "    recharge = (\n",
    "        prms.processes[\"PRMSSoilzone\"].ssr_to_gw\n",
    "        + prms.processes[\"PRMSSoilzone\"].soil_to_gw\n",
    "    )\n",
    "\n",
    "    sroff = prms.processes[\"PRMSRunoff\"].sroff\n",
    "    interflow = prms.processes[\"PRMSSoilzone\"].ssres_flow\n",
    "    prms_ro = (sroff + interflow) * in2m * hru_area_m2\n",
    "\n",
    "    # save PRMS results (converted to m3/d)\n",
    "    nhm_var_dict[\"time_out\"][istep] = control.current_time\n",
    "    nhm_var_dict[\"ppt_out\"][istep, :] = hru_ppt * in2m * hru_area_m2\n",
    "    nhm_var_dict[\"potet_out\"][istep, :] = potet * in2m * hru_area_m2\n",
    "    nhm_var_dict[\"actet_out\"][istep, :] = actet * in2m * hru_area_m2\n",
    "    nhm_var_dict[\"soilinfil_out\"][istep, :] = soil_infil * in2m * hru_area_m2\n",
    "    nhm_var_dict[\"runoff_out\"][istep, :] = sroff * in2m * hru_area_m2\n",
    "    nhm_var_dict[\"interflow_out\"][istep, :] = interflow * in2m * hru_area_m2\n",
    "\n",
    "    # map runoff to SFR\n",
    "    mf6_vars[\"RUNOFF\"][:] = hru2mf6(sfrw, prms_ro)  # sroff + ssres_flow\n",
    "    # map groundwater recharge to MODFLOW\n",
    "    mf6_vars[\"SINF\"][:nuzf_infilt] = (\n",
    "        hru2mf6(uzfw, recharge) * in2m\n",
    "    )  # ssr_to_gw + soil_to_gw\n",
    "    # map unused pet to MODFLOW\n",
    "    mf6_vars[\"PET\"][:nuzf_infilt] = hru2mf6(uzfw, unused_pet) * in2m  # potet - actet\n",
    "\n",
    "    # run MODFLOW 6\n",
    "    mf6.update()"
   ]
  },
  {
   "cell_type": "markdown",
   "metadata": {},
   "source": [
    "### Finalize models"
   ]
  },
  {
   "cell_type": "code",
   "execution_count": null,
   "metadata": {},
   "outputs": [],
   "source": [
    "# cleanup\n",
    "try:\n",
    "    mf6.finalize()\n",
    "    prms.finalize()\n",
    "    success = True\n",
    "except:\n",
    "    raise RuntimeError"
   ]
  },
  {
   "cell_type": "markdown",
   "metadata": {},
   "source": [
    "#### Save PRMS output"
   ]
  },
  {
   "cell_type": "code",
   "execution_count": null,
   "metadata": {},
   "outputs": [],
   "source": [
    "fpth = \"output/pynhm_output.npz\"\n",
    "np.savez_compressed(\n",
    "    fpth,\n",
    "    time=nhm_var_dict[\"time_out\"],\n",
    "    ppt=nhm_var_dict[\"ppt_out\"],\n",
    "    potet=nhm_var_dict[\"potet_out\"],\n",
    "    actet=nhm_var_dict[\"actet_out\"],\n",
    "    infil=nhm_var_dict[\"soilinfil_out\"],\n",
    "    runoff=nhm_var_dict[\"runoff_out\"],\n",
    "    interflow=nhm_var_dict[\"interflow_out\"],\n",
    ")"
   ]
  },
  {
   "cell_type": "code",
   "execution_count": null,
   "metadata": {},
   "outputs": [],
   "source": []
  }
 ],
 "metadata": {
  "kernelspec": {
   "display_name": "Python [conda env:pynhmf6_nb]",
   "language": "python",
   "name": "conda-env-pynhmf6_nb-py"
  },
  "language_info": {
   "codemirror_mode": {
    "name": "ipython",
    "version": 3
   },
   "file_extension": ".py",
   "mimetype": "text/x-python",
   "name": "python",
   "nbconvert_exporter": "python",
   "pygments_lexer": "ipython3",
   "version": "3.9.13"
  }
 },
 "nbformat": 4,
 "nbformat_minor": 4
}
