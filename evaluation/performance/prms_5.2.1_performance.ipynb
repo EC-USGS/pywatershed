{
 "cells": [
  {
   "cell_type": "markdown",
   "id": "228c7d6c-4d66-422a-8639-d99deb96c2ca",
   "metadata": {},
   "source": [
    "# PRMS Profiling\n",
    "Get timing results for PRMS 5.2.1 (fortran) for multiple domains and choice of output."
   ]
  },
  {
   "cell_type": "code",
   "execution_count": null,
   "id": "26d32ca1-60d8-453c-a9ca-181ed560ea62",
   "metadata": {},
   "outputs": [],
   "source": [
    "# Inspired by test_data/scripts/test_run_domains.py\n",
    "import os\n",
    "import pathlib as pl\n",
    "import shutil\n",
    "from flopy import run_model\n",
    "\n",
    "\n",
    "def time_prms_run(\n",
    "    domain_dir,\n",
    "    exe,\n",
    "    working_dir,\n",
    "    io,\n",
    "    overwrite=False,\n",
    "):\n",
    "    domain_dir = pl.Path(domain_dir)\n",
    "\n",
    "    working_dir = pl.Path(working_dir)\n",
    "    if not working_dir.exists():\n",
    "        working_dir.mkdir(parents=True)\n",
    "    elif overwrite:\n",
    "        shutil.rmtree(working_dir)\n",
    "        working_dir.mkdir(parents=True)\n",
    "    else:\n",
    "        raise FileExistsError(f\"working_dir exists and overwrite=False: {working_dir}\")\n",
    "\n",
    "    control_dir = pl.Path(\n",
    "        \"/Users/jamesmcc/usgs/data/pynhm/performance_runs/PRMS/control_files\"\n",
    "    )\n",
    "    n_hru_desc = \"multi\"\n",
    "    if domain_dir.name == \"hru_1\":\n",
    "        n_hru_desc = \"single\"\n",
    "    control_file_in = control_dir / f\"control.{n_hru_desc}_hru_{io}_io\"\n",
    "    control_file = working_dir / \"control.test\"\n",
    "    shutil.copy2(control_file_in, control_file)\n",
    "    print(control_file_in)\n",
    "    assert control_file.exists()\n",
    "\n",
    "    # the control specifies the output here\n",
    "    (working_dir / \"output\").mkdir()\n",
    "\n",
    "    # Copy the requisite files\n",
    "    req_files = [\"myparam.param\", \"prcp.cbh\", \"tmax.cbh\", \"tmin.cbh\", \"sf_data\"]\n",
    "    for ff in req_files:\n",
    "        shutil.copy2(domain_dir / ff, working_dir / ff)\n",
    "\n",
    "    # print(f\"Running '{control_file}' in {working_dir}\\n\",flush=True,)\n",
    "    def run_model_time():\n",
    "        success, buff = run_model(\n",
    "            exe,\n",
    "            control_file,\n",
    "            model_ws=working_dir,\n",
    "            cargs=[\n",
    "                \"-MAXDATALNLEN\",\n",
    "                \"60000\",\n",
    "            ],\n",
    "            silent=True,\n",
    "            normal_msg=\"Normal completion of PRMS\",\n",
    "        )\n",
    "        assert success, f\"could not run prms model in '{working_dir}'\"\n",
    "        return\n",
    "\n",
    "    if \"conus\" in str(domain_dir):\n",
    "        result = %timeit -o -n1 -r1 run_model_nhm()\n",
    "    else:\n",
    "        result = %timeit -o run_model_time()\n",
    "\n",
    "    return result\n",
    "    # print(f\"Ran in {working_dir}\\n\", flush=True)"
   ]
  },
  {
   "cell_type": "code",
   "execution_count": null,
   "id": "446e28eb-3fae-4a06-8c91-2a16ed64d8cc",
   "metadata": {},
   "outputs": [],
   "source": [
    "# domain_dir: run_dir/working_dir\n",
    "prms_run_dir = pl.Path(\"/Users/jamesmcc/usgs/data/pynhm/performance_runs/PRMS\")\n",
    "test_dom_dir = pl.Path(\"/Users/jamesmcc/usgs/pynhm/test_data/\")\n",
    "conus_dom_dir = pl.Path(\"/Users/jamesmcc/usgs/data/pynhm/conus_2yr\")\n",
    "\n",
    "dom_dirs = [\n",
    "    # test_dom_dir / 'hru_1',\n",
    "    # test_dom_dir / 'drb_2yr',\n",
    "    # test_dom_dir / 'ucb_2yr',\n",
    "    conus_dom_dir,\n",
    "]\n",
    "\n",
    "run_dict = {}\n",
    "for dom in dom_dirs:\n",
    "    for io in [\"no\", \"yes\"]:\n",
    "        run_dir = f\"{dom.name}_io_{io}\"\n",
    "        src_dir = f\"{dom}\"\n",
    "        run_dict[f\"{prms_run_dir / run_dir}\"] = src_dir"
   ]
  },
  {
   "cell_type": "code",
   "execution_count": null,
   "id": "5d5a4000-5c01-48c9-92df-945d13ed75e4",
   "metadata": {},
   "outputs": [],
   "source": [
    "run_dict"
   ]
  },
  {
   "cell_type": "code",
   "execution_count": null,
   "id": "5f3e8f06-6ff0-431a-a2a5-19cf293de372",
   "metadata": {
    "tags": []
   },
   "outputs": [],
   "source": [
    "exe = \"/Users/jamesmcc/usgs/pynhm/bin/prms_mac\"\n",
    "results = {}\n",
    "for run_dir, src_dir in run_dict.items():\n",
    "    print(run_dir)\n",
    "    io = \"yes\"\n",
    "    if run_dir[-2:] == \"no\":\n",
    "        io = \"no\"\n",
    "    results[run_dir] = time_prms_run(\n",
    "        domain_dir=src_dir, exe=exe, working_dir=run_dir, io=io, overwrite=True\n",
    "    )"
   ]
  },
  {
   "cell_type": "code",
   "execution_count": null,
   "id": "833f5db1-886f-4aea-a682-00e5a8baacd4",
   "metadata": {},
   "outputs": [],
   "source": [
    "results"
   ]
  },
  {
   "cell_type": "code",
   "execution_count": null,
   "id": "40cf7f78-a8c7-4f9e-aeca-91c389f60e9e",
   "metadata": {},
   "outputs": [],
   "source": [
    "import pickle\n",
    "\n",
    "for path, result in results.items():\n",
    "    path = pl.Path(path)\n",
    "    pkl_path = path.parent.parent / (f\"results/{path.parent.name}_{path.name}.pkl\")\n",
    "    print(pkl_path)\n",
    "\n",
    "    with open(pkl_path, \"wb\") as output_file:\n",
    "        pickle.dump(result, output_file)"
   ]
  },
  {
   "cell_type": "code",
   "execution_count": null,
   "id": "ba0d53b0-ff34-4c63-8cf5-916f055e8800",
   "metadata": {},
   "outputs": [],
   "source": [
    "import os\n",
    "\n",
    "os.getcwd()"
   ]
  },
  {
   "cell_type": "code",
   "execution_count": null,
   "id": "e6515dd6-946f-480c-a7a8-709fe1abd361",
   "metadata": {},
   "outputs": [],
   "source": [
    "results2 = {}\n",
    "files = pl.Path(\"/Users/jamesmcc/usgs/data/pynhm/performance_runs/results/\").glob(\n",
    "    \"*.pkl\"\n",
    ")\n",
    "for ff in files:\n",
    "    print(ff)\n",
    "    with open(ff, \"rb\") as input_file:\n",
    "        results2[ff.name[0:-4]] = pickle.load(input_file)"
   ]
  },
  {
   "cell_type": "code",
   "execution_count": null,
   "id": "3bba2c60-1fc4-4ece-93ce-7a1931160e0b",
   "metadata": {},
   "outputs": [],
   "source": [
    "results2"
   ]
  },
  {
   "cell_type": "code",
   "execution_count": null,
   "id": "7a8ec832-0408-4051-ae0b-b46a3b55d68d",
   "metadata": {},
   "outputs": [],
   "source": [
    "results2[\"PRMS_drb_2yr_io_yes\"].average"
   ]
  },
  {
   "cell_type": "code",
   "execution_count": null,
   "id": "ba5c7b79-c3b5-49ad-b96b-428ed1f6bde3",
   "metadata": {},
   "outputs": [],
   "source": [
    "import time\n",
    "\n",
    "\n",
    "def test():\n",
    "    time.sleep(4)\n",
    "    return 10"
   ]
  },
  {
   "cell_type": "code",
   "execution_count": null,
   "id": "5a04d405-4cc9-406f-9f96-9e0bf9146abc",
   "metadata": {},
   "outputs": [],
   "source": [
    "test()"
   ]
  },
  {
   "cell_type": "code",
   "execution_count": null,
   "id": "f82a7c87-3c63-44d1-aff8-a41f3605f992",
   "metadata": {},
   "outputs": [],
   "source": [
    "results = %timeit -o (test())"
   ]
  },
  {
   "cell_type": "code",
   "execution_count": null,
   "id": "8fcc3ff0-5ca6-4473-8844-58fc88965bd3",
   "metadata": {},
   "outputs": [],
   "source": []
  }
 ],
 "metadata": {
  "kernelspec": {
   "display_name": "Python [conda env:pyws_nb2] *",
   "language": "python",
   "name": "conda-env-pyws_nb2-py"
  },
  "language_info": {
   "codemirror_mode": {
    "name": "ipython",
    "version": 3
   },
   "file_extension": ".py",
   "mimetype": "text/x-python",
   "name": "python",
   "nbconvert_exporter": "python",
   "pygments_lexer": "ipython3",
   "version": "3.10.6"
  }
 },
 "nbformat": 4,
 "nbformat_minor": 5
}
