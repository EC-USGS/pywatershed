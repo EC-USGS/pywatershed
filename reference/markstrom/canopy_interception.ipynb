{
 "cells": [
  {
   "cell_type": "code",
   "execution_count": 1,
   "metadata": {},
   "outputs": [],
   "source": [
    "# 1/25/2022\n",
    "# markstro\n",
    "\n",
    "# This notebook demos how PRMS makes the canopy intercepetion calculations"
   ]
  },
  {
   "cell_type": "code",
   "execution_count": 2,
   "metadata": {},
   "outputs": [],
   "source": [
    "import pandas as pd\n",
    "import numpy as np\n",
    "import gc\n",
    "import sys\n",
    "import os\n",
    "import matplotlib.pyplot as plt\n",
    "from datetime import datetime\n",
    "from datetime import date\n",
    "import math"
   ]
  },
  {
   "cell_type": "code",
   "execution_count": 3,
   "metadata": {},
   "outputs": [],
   "source": [
    "pfn = \"C:/Users/markstro/jupyter_notebooks/EC/hru1/input/hru1.params\"\n",
    "outdir = \"C:/Users/markstro/jupyter_notebooks/EC/hru1/output/\"\n",
    "indir = \"C:/Users/markstro/jupyter_notebooks/EC/hru1/input/\""
   ]
  },
  {
   "cell_type": "code",
   "execution_count": null,
   "metadata": {},
   "outputs": [],
   "source": []
  },
  {
   "cell_type": "code",
   "execution_count": 4,
   "metadata": {},
   "outputs": [],
   "source": [
    "# Function that will read PRMS parameter file\n",
    "# Returns the contents of param file in python data structures\n",
    "def read_param_file(pfn):\n",
    "    line_num = 0\n",
    "    vals = {}\n",
    "    dims = {}\n",
    "    param_dims = {}\n",
    "    param_type = {}\n",
    "\n",
    "    with open(pfn) as f:\n",
    "        reading_dims = False\n",
    "        for line in f:\n",
    "            try:\n",
    "                line = line.rstrip()  # remove '\\n' at end of line\n",
    "                line_num += 1\n",
    "                if line == \"** Dimensions **\":\n",
    "                    reading_dims = True\n",
    "                    line = f.readline().rstrip()\n",
    "                    line_num += 1\n",
    "\n",
    "                if line == \"** Parameters **\":\n",
    "                    reading_dims = False\n",
    "                    break\n",
    "\n",
    "                if reading_dims:\n",
    "                    line = f.readline().rstrip()\n",
    "                    line_num += 1\n",
    "                    dim_name = line\n",
    "\n",
    "                    line = f.readline().rstrip()\n",
    "                    line_num += 1\n",
    "                    size = line\n",
    "\n",
    "                    if dim_name in dims.keys():\n",
    "                        pass\n",
    "                    else:\n",
    "                        dims[dim_name] = int(size)\n",
    "            except:\n",
    "                print(\"**** read parameters exception line = \", line)\n",
    "                print(\"**** read parameters exception line_num = \", str(line_num))\n",
    "                print(\"**** Unexpected error:\", sys.exc_info()[0])\n",
    "\n",
    "        #        read params\n",
    "        for line in f:\n",
    "            try:\n",
    "                line = line.rstrip()  # remove '\\n' at end of line\n",
    "                line_num += 1\n",
    "\n",
    "                if line == \"####\":\n",
    "                    line = f.readline().rstrip()\n",
    "                    line = line.split(\" \", 1)[\n",
    "                        0\n",
    "                    ]  # old format parameter files have a blank (' ') and then a width format value. Strip this off.\n",
    "                    param_name = line\n",
    "                    line_num += 1\n",
    "\n",
    "                    line = f.readline().rstrip()\n",
    "                    line_num += 1\n",
    "                    num_dims = int(line)\n",
    "                    pd = [None] * num_dims\n",
    "                    for ii in range(num_dims):\n",
    "                        line = f.readline().rstrip()\n",
    "                        pd[ii] = line\n",
    "                        line_num += 1\n",
    "\n",
    "                    param_dims[param_name] = pd\n",
    "\n",
    "                    line = f.readline().rstrip()\n",
    "                    line_num += 1\n",
    "                    num_vals = int(line)\n",
    "                    line = f.readline().rstrip()\n",
    "                    line_num += 1\n",
    "                    tp = int(line)\n",
    "                    param_type[param_name] = tp\n",
    "\n",
    "                    if tp == 2:\n",
    "                        vs = np.zeros(num_vals, dtype=np.float)\n",
    "                        for jj in range(num_vals):\n",
    "                            line = f.readline().rstrip()\n",
    "                            line_num += 1\n",
    "                            vs[jj] = float(line)\n",
    "\n",
    "                    elif tp == 1:\n",
    "                        vs = np.zeros(num_vals, dtype=np.int)\n",
    "                        for jj in range(num_vals):\n",
    "                            line = f.readline().rstrip()\n",
    "                            line_num += 1\n",
    "                            vs[jj] = int(line)\n",
    "\n",
    "                    else:\n",
    "                        vs = np.zeros(num_vals, dtype=np.chararray)\n",
    "                        for jj in range(num_vals):\n",
    "                            line = f.readline().rstrip()\n",
    "                            line_num += 1\n",
    "                            vs[jj] = line\n",
    "\n",
    "                    if num_dims == 2:\n",
    "                        vs.shape = (dims[pd[1]], dims[pd[0]])\n",
    "\n",
    "                    if param_name in vals.keys():\n",
    "                        print(\"parameter \", param_name, \" is already in \", pfn)\n",
    "                    else:\n",
    "                        vals[param_name] = vs\n",
    "\n",
    "            except:\n",
    "                print(\"read parameters exception line_num = \", str(line_num))\n",
    "                print(\"Unexpected error:\", sys.exc_info()[0])\n",
    "\n",
    "    gc.collect()\n",
    "\n",
    "    return (dims, vals, param_dims, param_type)"
   ]
  },
  {
   "cell_type": "code",
   "execution_count": 5,
   "metadata": {},
   "outputs": [],
   "source": [
    "# I don't understand why I needed to write this function myself\n",
    "# Input: datetime.Date\n",
    "# Output: day of the year (aka \"Julian date\")\n",
    "def day_of_year(d):\n",
    "    N1 = math.floor(275 * d.month / 9)\n",
    "    N2 = math.floor((d.month + 9) / 12)\n",
    "    N3 = 1 + math.floor((d.year - 4 * math.floor(d.year / 4) + 2) / 3)\n",
    "    N = N1 - (N2 * N3) + d.day - 30\n",
    "    return N"
   ]
  },
  {
   "cell_type": "code",
   "execution_count": null,
   "metadata": {},
   "outputs": [],
   "source": []
  },
  {
   "cell_type": "markdown",
   "metadata": {},
   "source": [
    "# Read the simulated output into a dataframe"
   ]
  },
  {
   "cell_type": "code",
   "execution_count": 6,
   "metadata": {},
   "outputs": [],
   "source": [
    "# This loops over all of the csv files in the output directory\n",
    "\n",
    "sim_vals = None\n",
    "for filename in os.listdir(outdir):\n",
    "    f = os.path.join(outdir, filename)\n",
    "    if os.path.isfile(f) and f.endswith(\".csv\"):\n",
    "        varname = filename.split(\".\")[0]\n",
    "\n",
    "        if sim_vals is None:\n",
    "            sim_vals = pd.read_csv(f, names=[\"datestr\", varname], skiprows=1)\n",
    "\n",
    "        else:\n",
    "            if varname != \"stats\":\n",
    "                df = pd.read_csv(f, names=[\"datestr\", varname], skiprows=1)\n",
    "                sim_vals = pd.merge(\n",
    "                    sim_vals, df[[\"datestr\", varname]], on=\"datestr\", how=\"left\"\n",
    "                )\n",
    "\n",
    "sim_vals[\"date\"] = [\n",
    "    datetime.strptime(date, \"%Y-%m-%d\").date() for date in sim_vals[\"datestr\"]\n",
    "]\n",
    "del sim_vals[\"datestr\"]"
   ]
  },
  {
   "cell_type": "markdown",
   "metadata": {},
   "source": [
    "# Read the CBH forcing data into the dataframe"
   ]
  },
  {
   "cell_type": "code",
   "execution_count": 7,
   "metadata": {},
   "outputs": [],
   "source": [
    "def add_date_for_PRMS_dates(df):\n",
    "    df[\"date\"] = [date(y, m, d) for y, m, d in zip(df[\"yr\"], df[\"mo\"], df[\"da\"])]\n",
    "    del df[\"yr\"]\n",
    "    del df[\"mo\"]\n",
    "    del df[\"da\"]\n",
    "    del df[\"hr\"]\n",
    "    del df[\"mi\"]\n",
    "    del df[\"se\"]\n",
    "    return df"
   ]
  },
  {
   "cell_type": "code",
   "execution_count": 8,
   "metadata": {},
   "outputs": [],
   "source": [
    "# Read the CBH forcing inputs\n",
    "cbh_vals = None\n",
    "for filename in os.listdir(indir):\n",
    "    f = os.path.join(indir, filename)\n",
    "    if os.path.isfile(f) and f.endswith(\".cbh\"):\n",
    "        varname = filename.split(\".\")[0]\n",
    "\n",
    "        if cbh_vals is None:\n",
    "            cbh_vals = pd.read_csv(\n",
    "                f,\n",
    "                names=[\"yr\", \"mo\", \"da\", \"hr\", \"mi\", \"se\", varname],\n",
    "                skiprows=3,\n",
    "                delim_whitespace=True,\n",
    "            )\n",
    "            cbh_vals = add_date_for_PRMS_dates(cbh_vals)\n",
    "\n",
    "        else:\n",
    "            foo = pd.read_csv(\n",
    "                f,\n",
    "                names=[\"yr\", \"mo\", \"da\", \"hr\", \"mi\", \"se\", varname],\n",
    "                skiprows=3,\n",
    "                delim_whitespace=True,\n",
    "            )\n",
    "            foo = add_date_for_PRMS_dates(foo)\n",
    "            cbh_vals = pd.merge(cbh_vals, foo[[\"date\", varname]], on=\"date\", how=\"left\")"
   ]
  },
  {
   "cell_type": "markdown",
   "metadata": {},
   "source": [
    "# Sync up the dates of the forcings and the outputs. This makes sure that all values are compared for the same date(s)"
   ]
  },
  {
   "cell_type": "code",
   "execution_count": 9,
   "metadata": {},
   "outputs": [],
   "source": [
    "synced_vals = pd.merge(cbh_vals, sim_vals, on=\"date\", how=\"right\")"
   ]
  },
  {
   "cell_type": "code",
   "execution_count": 10,
   "metadata": {},
   "outputs": [
    {
     "name": "stdout",
     "output_type": "stream",
     "text": [
      "(365, 21)\n"
     ]
    }
   ],
   "source": [
    "print(synced_vals.shape)"
   ]
  },
  {
   "cell_type": "code",
   "execution_count": 11,
   "metadata": {},
   "outputs": [
    {
     "data": {
      "text/html": [
       "<div>\n",
       "<style scoped>\n",
       "    .dataframe tbody tr th:only-of-type {\n",
       "        vertical-align: middle;\n",
       "    }\n",
       "\n",
       "    .dataframe tbody tr th {\n",
       "        vertical-align: top;\n",
       "    }\n",
       "\n",
       "    .dataframe thead th {\n",
       "        text-align: right;\n",
       "    }\n",
       "</style>\n",
       "<table border=\"1\" class=\"dataframe\">\n",
       "  <thead>\n",
       "    <tr style=\"text-align: right;\">\n",
       "      <th></th>\n",
       "      <th>prcp</th>\n",
       "      <th>date</th>\n",
       "      <th>tmax</th>\n",
       "      <th>tmin</th>\n",
       "      <th>canopy_covden</th>\n",
       "      <th>hru_ppt</th>\n",
       "      <th>hru_rain</th>\n",
       "      <th>hru_snow</th>\n",
       "      <th>intcp_evap</th>\n",
       "      <th>intcp_stor</th>\n",
       "      <th>...</th>\n",
       "      <th>net_rain</th>\n",
       "      <th>net_snow</th>\n",
       "      <th>pkwater_equiv</th>\n",
       "      <th>potet</th>\n",
       "      <th>soil_moist_tot</th>\n",
       "      <th>swrad</th>\n",
       "      <th>tmaxf</th>\n",
       "      <th>tminc</th>\n",
       "      <th>tminf</th>\n",
       "      <th>transp_on</th>\n",
       "    </tr>\n",
       "  </thead>\n",
       "  <tbody>\n",
       "    <tr>\n",
       "      <th>0</th>\n",
       "      <td>0.00</td>\n",
       "      <td>1980-10-01</td>\n",
       "      <td>77.5</td>\n",
       "      <td>50.1</td>\n",
       "      <td>0.2308</td>\n",
       "      <td>0.0000</td>\n",
       "      <td>0.0000</td>\n",
       "      <td>0.0</td>\n",
       "      <td>0.0000</td>\n",
       "      <td>0.0000</td>\n",
       "      <td>...</td>\n",
       "      <td>0.0000</td>\n",
       "      <td>0.0</td>\n",
       "      <td>0.0</td>\n",
       "      <td>0.1863</td>\n",
       "      <td>0.0000</td>\n",
       "      <td>403.8735</td>\n",
       "      <td>78.5987</td>\n",
       "      <td>9.8522</td>\n",
       "      <td>49.7339</td>\n",
       "      <td>1</td>\n",
       "    </tr>\n",
       "    <tr>\n",
       "      <th>1</th>\n",
       "      <td>0.17</td>\n",
       "      <td>1980-10-02</td>\n",
       "      <td>76.5</td>\n",
       "      <td>51.9</td>\n",
       "      <td>0.2308</td>\n",
       "      <td>0.1039</td>\n",
       "      <td>0.1039</td>\n",
       "      <td>0.0</td>\n",
       "      <td>0.0000</td>\n",
       "      <td>0.0038</td>\n",
       "      <td>...</td>\n",
       "      <td>0.1030</td>\n",
       "      <td>0.0</td>\n",
       "      <td>0.0</td>\n",
       "      <td>0.1840</td>\n",
       "      <td>0.0566</td>\n",
       "      <td>396.4248</td>\n",
       "      <td>77.5987</td>\n",
       "      <td>10.8522</td>\n",
       "      <td>51.5339</td>\n",
       "      <td>1</td>\n",
       "    </tr>\n",
       "    <tr>\n",
       "      <th>2</th>\n",
       "      <td>0.43</td>\n",
       "      <td>1980-10-03</td>\n",
       "      <td>65.2</td>\n",
       "      <td>51.5</td>\n",
       "      <td>0.2308</td>\n",
       "      <td>0.2629</td>\n",
       "      <td>0.2629</td>\n",
       "      <td>0.0</td>\n",
       "      <td>0.0000</td>\n",
       "      <td>0.0038</td>\n",
       "      <td>...</td>\n",
       "      <td>0.2629</td>\n",
       "      <td>0.0</td>\n",
       "      <td>0.0</td>\n",
       "      <td>0.1359</td>\n",
       "      <td>0.2017</td>\n",
       "      <td>319.9297</td>\n",
       "      <td>66.2987</td>\n",
       "      <td>10.6300</td>\n",
       "      <td>51.1339</td>\n",
       "      <td>1</td>\n",
       "    </tr>\n",
       "    <tr>\n",
       "      <th>3</th>\n",
       "      <td>0.11</td>\n",
       "      <td>1980-10-04</td>\n",
       "      <td>65.2</td>\n",
       "      <td>45.4</td>\n",
       "      <td>0.2308</td>\n",
       "      <td>0.0672</td>\n",
       "      <td>0.0672</td>\n",
       "      <td>0.0</td>\n",
       "      <td>0.0000</td>\n",
       "      <td>0.0038</td>\n",
       "      <td>...</td>\n",
       "      <td>0.0672</td>\n",
       "      <td>0.0</td>\n",
       "      <td>0.0</td>\n",
       "      <td>0.1282</td>\n",
       "      <td>0.2280</td>\n",
       "      <td>316.8498</td>\n",
       "      <td>66.2987</td>\n",
       "      <td>7.2411</td>\n",
       "      <td>45.0339</td>\n",
       "      <td>1</td>\n",
       "    </tr>\n",
       "    <tr>\n",
       "      <th>4</th>\n",
       "      <td>0.00</td>\n",
       "      <td>1980-10-05</td>\n",
       "      <td>62.0</td>\n",
       "      <td>43.3</td>\n",
       "      <td>0.2308</td>\n",
       "      <td>0.0000</td>\n",
       "      <td>0.0000</td>\n",
       "      <td>0.0</td>\n",
       "      <td>0.0038</td>\n",
       "      <td>0.0000</td>\n",
       "      <td>...</td>\n",
       "      <td>0.0000</td>\n",
       "      <td>0.0</td>\n",
       "      <td>0.0</td>\n",
       "      <td>0.1083</td>\n",
       "      <td>0.2147</td>\n",
       "      <td>279.8678</td>\n",
       "      <td>63.0987</td>\n",
       "      <td>6.0744</td>\n",
       "      <td>42.9339</td>\n",
       "      <td>1</td>\n",
       "    </tr>\n",
       "  </tbody>\n",
       "</table>\n",
       "<p>5 rows × 21 columns</p>\n",
       "</div>"
      ],
      "text/plain": [
       "   prcp        date  tmax  tmin  canopy_covden  hru_ppt  hru_rain  hru_snow  \\\n",
       "0  0.00  1980-10-01  77.5  50.1         0.2308   0.0000    0.0000       0.0   \n",
       "1  0.17  1980-10-02  76.5  51.9         0.2308   0.1039    0.1039       0.0   \n",
       "2  0.43  1980-10-03  65.2  51.5         0.2308   0.2629    0.2629       0.0   \n",
       "3  0.11  1980-10-04  65.2  45.4         0.2308   0.0672    0.0672       0.0   \n",
       "4  0.00  1980-10-05  62.0  43.3         0.2308   0.0000    0.0000       0.0   \n",
       "\n",
       "   intcp_evap  intcp_stor  ...  net_rain  net_snow  pkwater_equiv   potet  \\\n",
       "0      0.0000      0.0000  ...    0.0000       0.0            0.0  0.1863   \n",
       "1      0.0000      0.0038  ...    0.1030       0.0            0.0  0.1840   \n",
       "2      0.0000      0.0038  ...    0.2629       0.0            0.0  0.1359   \n",
       "3      0.0000      0.0038  ...    0.0672       0.0            0.0  0.1282   \n",
       "4      0.0038      0.0000  ...    0.0000       0.0            0.0  0.1083   \n",
       "\n",
       "   soil_moist_tot     swrad    tmaxf    tminc    tminf  transp_on  \n",
       "0          0.0000  403.8735  78.5987   9.8522  49.7339          1  \n",
       "1          0.0566  396.4248  77.5987  10.8522  51.5339          1  \n",
       "2          0.2017  319.9297  66.2987  10.6300  51.1339          1  \n",
       "3          0.2280  316.8498  66.2987   7.2411  45.0339          1  \n",
       "4          0.2147  279.8678  63.0987   6.0744  42.9339          1  \n",
       "\n",
       "[5 rows x 21 columns]"
      ]
     },
     "execution_count": 11,
     "metadata": {},
     "output_type": "execute_result"
    }
   ],
   "source": [
    "synced_vals.head()"
   ]
  },
  {
   "cell_type": "code",
   "execution_count": 12,
   "metadata": {},
   "outputs": [
    {
     "data": {
      "text/html": [
       "<div>\n",
       "<style scoped>\n",
       "    .dataframe tbody tr th:only-of-type {\n",
       "        vertical-align: middle;\n",
       "    }\n",
       "\n",
       "    .dataframe tbody tr th {\n",
       "        vertical-align: top;\n",
       "    }\n",
       "\n",
       "    .dataframe thead th {\n",
       "        text-align: right;\n",
       "    }\n",
       "</style>\n",
       "<table border=\"1\" class=\"dataframe\">\n",
       "  <thead>\n",
       "    <tr style=\"text-align: right;\">\n",
       "      <th></th>\n",
       "      <th>prcp</th>\n",
       "      <th>date</th>\n",
       "      <th>tmax</th>\n",
       "      <th>tmin</th>\n",
       "      <th>canopy_covden</th>\n",
       "      <th>hru_ppt</th>\n",
       "      <th>hru_rain</th>\n",
       "      <th>hru_snow</th>\n",
       "      <th>intcp_evap</th>\n",
       "      <th>intcp_stor</th>\n",
       "      <th>...</th>\n",
       "      <th>net_rain</th>\n",
       "      <th>net_snow</th>\n",
       "      <th>pkwater_equiv</th>\n",
       "      <th>potet</th>\n",
       "      <th>soil_moist_tot</th>\n",
       "      <th>swrad</th>\n",
       "      <th>tmaxf</th>\n",
       "      <th>tminc</th>\n",
       "      <th>tminf</th>\n",
       "      <th>transp_on</th>\n",
       "    </tr>\n",
       "  </thead>\n",
       "  <tbody>\n",
       "    <tr>\n",
       "      <th>360</th>\n",
       "      <td>0.00</td>\n",
       "      <td>1981-09-26</td>\n",
       "      <td>65.1</td>\n",
       "      <td>51.2</td>\n",
       "      <td>0.2308</td>\n",
       "      <td>0.0000</td>\n",
       "      <td>0.0000</td>\n",
       "      <td>0.0</td>\n",
       "      <td>0.0000</td>\n",
       "      <td>0.0000</td>\n",
       "      <td>...</td>\n",
       "      <td>0.0000</td>\n",
       "      <td>0.0</td>\n",
       "      <td>0.0</td>\n",
       "      <td>0.0559</td>\n",
       "      <td>0.6204</td>\n",
       "      <td>145.3992</td>\n",
       "      <td>66.1987</td>\n",
       "      <td>10.4633</td>\n",
       "      <td>50.8339</td>\n",
       "      <td>1</td>\n",
       "    </tr>\n",
       "    <tr>\n",
       "      <th>361</th>\n",
       "      <td>0.02</td>\n",
       "      <td>1981-09-27</td>\n",
       "      <td>76.4</td>\n",
       "      <td>53.0</td>\n",
       "      <td>0.2308</td>\n",
       "      <td>0.0122</td>\n",
       "      <td>0.0122</td>\n",
       "      <td>0.0</td>\n",
       "      <td>0.0000</td>\n",
       "      <td>0.0038</td>\n",
       "      <td>...</td>\n",
       "      <td>0.0113</td>\n",
       "      <td>0.0</td>\n",
       "      <td>0.0</td>\n",
       "      <td>0.1527</td>\n",
       "      <td>0.5382</td>\n",
       "      <td>360.0937</td>\n",
       "      <td>77.4987</td>\n",
       "      <td>11.4633</td>\n",
       "      <td>52.6339</td>\n",
       "      <td>1</td>\n",
       "    </tr>\n",
       "    <tr>\n",
       "      <th>362</th>\n",
       "      <td>0.00</td>\n",
       "      <td>1981-09-28</td>\n",
       "      <td>68.1</td>\n",
       "      <td>43.6</td>\n",
       "      <td>0.2308</td>\n",
       "      <td>0.0000</td>\n",
       "      <td>0.0000</td>\n",
       "      <td>0.0</td>\n",
       "      <td>0.0038</td>\n",
       "      <td>0.0000</td>\n",
       "      <td>...</td>\n",
       "      <td>0.0000</td>\n",
       "      <td>0.0</td>\n",
       "      <td>0.0</td>\n",
       "      <td>0.0864</td>\n",
       "      <td>0.5142</td>\n",
       "      <td>233.4196</td>\n",
       "      <td>69.1987</td>\n",
       "      <td>6.2411</td>\n",
       "      <td>43.2339</td>\n",
       "      <td>1</td>\n",
       "    </tr>\n",
       "    <tr>\n",
       "      <th>363</th>\n",
       "      <td>0.00</td>\n",
       "      <td>1981-09-29</td>\n",
       "      <td>58.0</td>\n",
       "      <td>40.8</td>\n",
       "      <td>0.2308</td>\n",
       "      <td>0.0000</td>\n",
       "      <td>0.0000</td>\n",
       "      <td>0.0</td>\n",
       "      <td>0.0000</td>\n",
       "      <td>0.0000</td>\n",
       "      <td>...</td>\n",
       "      <td>0.0000</td>\n",
       "      <td>0.0</td>\n",
       "      <td>0.0</td>\n",
       "      <td>0.0437</td>\n",
       "      <td>0.5026</td>\n",
       "      <td>131.8481</td>\n",
       "      <td>59.0987</td>\n",
       "      <td>4.6855</td>\n",
       "      <td>40.4339</td>\n",
       "      <td>1</td>\n",
       "    </tr>\n",
       "    <tr>\n",
       "      <th>364</th>\n",
       "      <td>0.02</td>\n",
       "      <td>1981-09-30</td>\n",
       "      <td>60.7</td>\n",
       "      <td>39.3</td>\n",
       "      <td>0.2308</td>\n",
       "      <td>0.0122</td>\n",
       "      <td>0.0122</td>\n",
       "      <td>0.0</td>\n",
       "      <td>0.0000</td>\n",
       "      <td>0.0038</td>\n",
       "      <td>...</td>\n",
       "      <td>0.0113</td>\n",
       "      <td>0.0</td>\n",
       "      <td>0.0</td>\n",
       "      <td>0.0438</td>\n",
       "      <td>0.4990</td>\n",
       "      <td>130.6410</td>\n",
       "      <td>61.7987</td>\n",
       "      <td>3.8522</td>\n",
       "      <td>38.9339</td>\n",
       "      <td>1</td>\n",
       "    </tr>\n",
       "  </tbody>\n",
       "</table>\n",
       "<p>5 rows × 21 columns</p>\n",
       "</div>"
      ],
      "text/plain": [
       "     prcp        date  tmax  tmin  canopy_covden  hru_ppt  hru_rain  hru_snow  \\\n",
       "360  0.00  1981-09-26  65.1  51.2         0.2308   0.0000    0.0000       0.0   \n",
       "361  0.02  1981-09-27  76.4  53.0         0.2308   0.0122    0.0122       0.0   \n",
       "362  0.00  1981-09-28  68.1  43.6         0.2308   0.0000    0.0000       0.0   \n",
       "363  0.00  1981-09-29  58.0  40.8         0.2308   0.0000    0.0000       0.0   \n",
       "364  0.02  1981-09-30  60.7  39.3         0.2308   0.0122    0.0122       0.0   \n",
       "\n",
       "     intcp_evap  intcp_stor  ...  net_rain  net_snow  pkwater_equiv   potet  \\\n",
       "360      0.0000      0.0000  ...    0.0000       0.0            0.0  0.0559   \n",
       "361      0.0000      0.0038  ...    0.0113       0.0            0.0  0.1527   \n",
       "362      0.0038      0.0000  ...    0.0000       0.0            0.0  0.0864   \n",
       "363      0.0000      0.0000  ...    0.0000       0.0            0.0  0.0437   \n",
       "364      0.0000      0.0038  ...    0.0113       0.0            0.0  0.0438   \n",
       "\n",
       "     soil_moist_tot     swrad    tmaxf    tminc    tminf  transp_on  \n",
       "360          0.6204  145.3992  66.1987  10.4633  50.8339          1  \n",
       "361          0.5382  360.0937  77.4987  11.4633  52.6339          1  \n",
       "362          0.5142  233.4196  69.1987   6.2411  43.2339          1  \n",
       "363          0.5026  131.8481  59.0987   4.6855  40.4339          1  \n",
       "364          0.4990  130.6410  61.7987   3.8522  38.9339          1  \n",
       "\n",
       "[5 rows x 21 columns]"
      ]
     },
     "execution_count": 12,
     "metadata": {},
     "output_type": "execute_result"
    }
   ],
   "source": [
    "synced_vals.tail()"
   ]
  },
  {
   "cell_type": "code",
   "execution_count": null,
   "metadata": {},
   "outputs": [],
   "source": []
  },
  {
   "cell_type": "markdown",
   "metadata": {},
   "source": [
    "# Compute the canopy storage and net precip"
   ]
  },
  {
   "cell_type": "code",
   "execution_count": 13,
   "metadata": {},
   "outputs": [],
   "source": [
    "# CONSTANTS\n",
    "\n",
    "RAIN = 0\n",
    "SNOW = 1\n",
    "\n",
    "INACTIVE = 0\n",
    "LAND = 1\n",
    "LAKE = 2\n",
    "SWALE = 3\n",
    "GLACIER = 4\n",
    "\n",
    "BARESOIL = 0\n",
    "GRASSES = 1\n",
    "SHRUBS = 2\n",
    "TREES = 3\n",
    "CONIFEROUS = 4"
   ]
  },
  {
   "cell_type": "code",
   "execution_count": 14,
   "metadata": {},
   "outputs": [],
   "source": [
    "def subroutine_intercept(precip, stor_max, cov, intcp_stor):\n",
    "    net_precip = precip * (1.0 - cov)\n",
    "    intcp_stor = intcp_stor + precip\n",
    "    if intcp_stor > stor_max:\n",
    "        net_precip = net_precip + (intcp_stor - stor_max) * cov\n",
    "        intcp_stor = stor_max\n",
    "\n",
    "    return intcp_stor, net_precip"
   ]
  },
  {
   "cell_type": "code",
   "execution_count": 15,
   "metadata": {},
   "outputs": [],
   "source": [
    "def intcp(\n",
    "    dates,\n",
    "    transp_on,\n",
    "    potet,\n",
    "    hru_snow,\n",
    "    hru_rain,\n",
    "    hru_ppt,\n",
    "    pkwater_equiv,\n",
    "    covden_sum,\n",
    "    covden_win,\n",
    "    hru_type,\n",
    "    cov_type,\n",
    "    srain_intcp,\n",
    "    wrain_intcp,\n",
    "    potet_sublim,\n",
    "    epan_coef,\n",
    "    hru_area,\n",
    "):\n",
    "    canopy_covden = np.zeros(len(dates))\n",
    "    intcp_form = np.zeros(len(dates))\n",
    "    intcp_stor = np.zeros(len(dates))\n",
    "    intcp_transp_on = np.zeros(len(dates), dtype=int)\n",
    "    intcp_evap = np.zeros(len(dates))\n",
    "    hru_intcpevap = np.zeros(len(dates))\n",
    "    hru_intcpstor = np.zeros(len(dates))\n",
    "    net_ppt = np.zeros(len(dates))\n",
    "    net_rain = np.zeros(len(dates))\n",
    "    net_snow = np.zeros(len(dates))\n",
    "    intcp_on = np.zeros(len(dates), dtype=int)\n",
    "    intcp_changeover = np.zeros(len(dates), dtype=int)\n",
    "\n",
    "    intcpstor = 0.0\n",
    "    intcp_transp_on[0] = 1\n",
    "\n",
    "    ihru = 0\n",
    "\n",
    "    ii = 0\n",
    "    for date in dates:\n",
    "        #     jday = day_of_year(date)\n",
    "        imon = date.month - 1\n",
    "\n",
    "        if ii > 0:\n",
    "            intcpstor = intcp_stor[ii - 1]\n",
    "            intcp_transp_on[ii] = intcp_transp_on[ii - 1]\n",
    "\n",
    "        harea = hru_area[ihru]\n",
    "        netrain = hru_rain[ii]\n",
    "        netsnow = hru_snow[ii]\n",
    "\n",
    "        if transp_on[ii] == True:\n",
    "            canopy_covden[ii] = covden_sum[ihru]\n",
    "        else:\n",
    "            canopy_covden[ii] = covden_win[ihru]\n",
    "\n",
    "        cov = canopy_covden[ii]\n",
    "\n",
    "        if hru_snow[ii] > 0.0:\n",
    "            intcp_form[ii] = SNOW\n",
    "        else:\n",
    "            intcp_form[ii] = RAIN\n",
    "\n",
    "        intcpevap = 0.0\n",
    "        changeover = 0.0\n",
    "        extra_water = 0.0\n",
    "\n",
    "        #         print(\"block 1\", transp_on[ii], cov, intcp_form[ii])\n",
    "\n",
    "        # ! block 2\n",
    "        if hru_type[ihru] == LAKE or cov_type[ihru] == BARESOIL:\n",
    "            if cov_type[ihru] == BARESOIL and intcpstor > 0.0:\n",
    "                extra_water = hru_intcpstor[ii]\n",
    "            intcpstor = 0.0\n",
    "\n",
    "        #         print(\"block 2\", hru_type[ihru], cov_type[ihru], extra_water)\n",
    "        # ! block 3\n",
    "        #         print(\"block 3.1\", intcpstor)\n",
    "        if transp_on[ii] is False and intcp_transp_on[ii] is True:\n",
    "            intcp_transp_on[ii] = False\n",
    "\n",
    "            #             print(\"block 3\", transp_on[ii], intcp_transp_on[ii])\n",
    "\n",
    "            # ! block 4\n",
    "            if intcpstor > 0.0:\n",
    "                diff = covden_sum[ihru] - cov\n",
    "                changeover = intcpstor * diff\n",
    "                if cov > 0.0:\n",
    "                    if changeover < 0.0:\n",
    "                        intcpstor = intcpstor * covden_sum[ihru] / cov\n",
    "                        changeover = 0.0\n",
    "                # ! block 5\n",
    "\n",
    "                else:\n",
    "                    intcpstor = 0\n",
    "\n",
    "        #             print(\"block 5\", intcpstor, diff, changeover)\n",
    "        # ! block 6\n",
    "\n",
    "        elif transp_on[ii] == True and intcp_transp_on[ii] == False:\n",
    "            #             print(\"block 6\", transp_on[ii], intcp_transp_on[ii], intcpstor)\n",
    "\n",
    "            # ! block 7\n",
    "\n",
    "            intcp_transp_on[ii] = True\n",
    "            if intcpstor > 0.0:\n",
    "                diff = covden[ii] - cov\n",
    "                changeover = iontcpstor * diff\n",
    "                if cov > 0.0:\n",
    "                    if changeover < 0.0:\n",
    "                        intcpstor = intcpstor * covden_win[ii] / cov\n",
    "                        changeover = 0.0\n",
    "\n",
    "                #                     print(\"block 7\", intcpstor, diff, changeover)\n",
    "                # ! block 8\n",
    "                else:\n",
    "                    intcpstor = 0.0\n",
    "        # ! block 9\n",
    "\n",
    "        if hru_type[ihru] != LAKE and cov_type[ihru] != BARESOIL:\n",
    "            if transp_on[ii] == True:\n",
    "                stor = srain_intcp[ihru]\n",
    "            else:\n",
    "                stor = wrain_intcp[ihru]\n",
    "            # ! block 10\n",
    "\n",
    "            #             print(\"block 10.3\", intcpstor)\n",
    "            if hru_rain[ii] > 0.0:\n",
    "                if cov > 0.0:\n",
    "                    if cov_type[ihru] > GRASSES:\n",
    "                        #                         print(\"block 10.1\", netrain, cov, hru_rain[ii], stor, intcpstor)\n",
    "                        intcpstor, netrain = subroutine_intercept(\n",
    "                            hru_rain[ii], stor, cov, intcpstor\n",
    "                        )\n",
    "                    #                         print(\"block 10.2\", netrain, cov, hru_rain[ii], stor, intcpstor)\n",
    "                    elif cov_type[ihru] == GRASSES:\n",
    "                        # pkwater_equiv in the fortran calculation is from the previous time step because it hasn't been computed yet\n",
    "                        # for the current time step. The value from the csv file is for the current time step, so lag it back for\n",
    "                        # consistency\n",
    "                        if pkwater_equiv[ii - 1] == 0.0 and netsnow == 0.0:\n",
    "                            intcpstor, netrain = subroutine_intercept(\n",
    "                                hru_rain[ii], stor, cov, intcpstor\n",
    "                            )\n",
    "        #         print(\"block 10\", hru_type[ihru], transp_on[ii], stor, hru_rain[ii], cov , intcpstor,\n",
    "        #               pkwater_equiv[ii-1], netsnow, netrain)\n",
    "        # ! block 11\n",
    "\n",
    "        # ! block 17\n",
    "        if hru_snow[ii] > 0.0:\n",
    "            if cov > 0.0:\n",
    "                if cov_type[ihru] > GRASSES:\n",
    "                    intcpstor, netsnow = subroutine_intercept(\n",
    "                        hru_snow[ii], stor, cov, intcpstor\n",
    "                    )\n",
    "        #         print(\"block 17\", hru_snow[ii], cov, cov_type[ihru], netsnow, intcpstor, stor)\n",
    "        # ! block 18\n",
    "\n",
    "        if intcpstor > 0.0:\n",
    "            if hru_ppt[ii] == 0.0:\n",
    "                evrn = potet[ii] / epan_coef[imon]\n",
    "                evsn = potet_sublim[ihru] * potet[ii]\n",
    "\n",
    "                #                 print(\"block 18\", intcpstor, hru_ppt[ii], potet[ii], epan_coef[imon], potet_sublim[ihru])\n",
    "\n",
    "                # ! block 19\n",
    "                # Compute snow interception loss\n",
    "                if intcp_form[ii] == SNOW:\n",
    "                    z = intcpstor - evsn\n",
    "                    if z > 0.0:\n",
    "                        intcpstor = z\n",
    "                        intcpevap = evsn\n",
    "                    else:\n",
    "                        intcpevap = intcpstor\n",
    "                        intcpstor = 0.0\n",
    "\n",
    "                #                     print(\"block 19\", intcp_form[ii], z, intcpstor, intcpevap)\n",
    "                # ! block 20\n",
    "\n",
    "                else:\n",
    "                    d = intcpstor - evrn\n",
    "                    if d > 0.0:\n",
    "                        intcpstor = d\n",
    "                        intcpevap = evrn\n",
    "                    else:\n",
    "                        intcpevap = intcpstor\n",
    "                        intcpstor = 0.0\n",
    "\n",
    "        #                     print(\"block 20\", intcp_form[ii], d, intcpstor, intcpevap)\n",
    "        # ! block 21\n",
    "        if intcpevap * cov > potet[ii]:\n",
    "            last = intcpevap\n",
    "            if cov > 0.0:\n",
    "                intcpevap = potet[ii] / cov\n",
    "            else:\n",
    "                intcpevap = 0.0\n",
    "\n",
    "            intcpstor = intcpstor + last - intcpevap\n",
    "\n",
    "        #         print(\"block 22\", intcpevap, cov, potet[ii], intcpstor, intcpevap)\n",
    "\n",
    "        # ! block 22\n",
    "        intcp_evap[ii] = intcpevap\n",
    "        hru_intcpevap[ii] = intcpevap * cov\n",
    "        intcp_stor[ii] = intcpstor\n",
    "\n",
    "        if intcpstor > 0.0:\n",
    "            intcp_on[ii] = 1\n",
    "\n",
    "        intcp_changeover[ii] = changeover + extra_water\n",
    "        net_rain[ii] = netrain\n",
    "        net_snow[ii] = netsnow\n",
    "        net_ppt[ii] = netrain + netsnow\n",
    "        #         print(\"block 23\", intcp_evap[ii], hru_intcpevap[ii], intcp_stor[ii], intcp_on[ii], intcp_changeover[ii], net_rain[ii], net_snow[ii], net_ppt[ii])\n",
    "        # ! block 23\n",
    "        # ! block 24\n",
    "        # ! block 25\n",
    "        ii += 1\n",
    "\n",
    "    return (\n",
    "        canopy_covden,\n",
    "        intcp_form,\n",
    "        intcp_stor,\n",
    "        intcp_transp_on,\n",
    "        net_ppt,\n",
    "        net_rain,\n",
    "        net_snow,\n",
    "        hru_intcpevap,\n",
    "        hru_intcpstor,\n",
    "        intcp_evap,\n",
    "    )"
   ]
  },
  {
   "cell_type": "code",
   "execution_count": null,
   "metadata": {},
   "outputs": [],
   "source": []
  },
  {
   "cell_type": "code",
   "execution_count": 16,
   "metadata": {},
   "outputs": [],
   "source": [
    "transp_on = synced_vals[\"transp_on\"].values\n",
    "potet = synced_vals[\"potet\"].values\n",
    "dates = synced_vals[\"date\"].values\n",
    "hru_snow = synced_vals[\"hru_snow\"].values\n",
    "hru_rain = synced_vals[\"hru_rain\"].values\n",
    "hru_ppt = synced_vals[\"hru_ppt\"].values\n",
    "pkwater_equiv = synced_vals[\"pkwater_equiv\"].values\n",
    "\n",
    "params = read_param_file(pfn)\n",
    "v = params[1]\n",
    "covden_sum = v[\"covden_sum\"]\n",
    "covden_win = v[\"covden_win\"]\n",
    "hru_type = v[\"hru_type\"]\n",
    "cov_type = v[\"cov_type\"]\n",
    "srain_intcp = v[\"srain_intcp\"]\n",
    "wrain_intcp = v[\"wrain_intcp\"]\n",
    "potet_sublim = v[\"potet_sublim\"]\n",
    "epan_coef = v[\"epan_coef\"]\n",
    "hru_area = v[\"hru_area\"]\n",
    "\n",
    "(\n",
    "    canopy_covden,\n",
    "    intcp_form,\n",
    "    intcp_stor,\n",
    "    intcp_transp_on,\n",
    "    net_ppt,\n",
    "    net_rain,\n",
    "    net_snow,\n",
    "    hru_intcpevap,\n",
    "    hru_intcpstor,\n",
    "    intcp_evap,\n",
    ") = intcp(\n",
    "    dates,\n",
    "    transp_on,\n",
    "    potet,\n",
    "    hru_snow,\n",
    "    hru_rain,\n",
    "    hru_ppt,\n",
    "    pkwater_equiv,\n",
    "    covden_sum,\n",
    "    covden_win,\n",
    "    hru_type,\n",
    "    cov_type,\n",
    "    srain_intcp,\n",
    "    wrain_intcp,\n",
    "    potet_sublim,\n",
    "    epan_coef,\n",
    "    hru_area,\n",
    ")"
   ]
  },
  {
   "cell_type": "code",
   "execution_count": null,
   "metadata": {},
   "outputs": [],
   "source": []
  },
  {
   "cell_type": "code",
   "execution_count": 17,
   "metadata": {},
   "outputs": [],
   "source": [
    "dates = synced_vals[\"date\"].values"
   ]
  },
  {
   "cell_type": "code",
   "execution_count": 18,
   "metadata": {},
   "outputs": [
    {
     "name": "stdout",
     "output_type": "stream",
     "text": [
      "41.017299999999985 41.01744262081\n"
     ]
    }
   ],
   "source": [
    "err = synced_vals[\"net_ppt\"] - net_ppt\n",
    "print(sum(synced_vals[\"net_ppt\"].values), sum(net_ppt))"
   ]
  },
  {
   "cell_type": "code",
   "execution_count": 19,
   "metadata": {},
   "outputs": [],
   "source": [
    "ii = 0\n",
    "for date in dates:\n",
    "    #     jday = day_of_year(date)\n",
    "    imon = date.month - 1\n",
    "    if err[ii] < -0.001:\n",
    "        print(date, err[ii])\n",
    "    ii += 1"
   ]
  },
  {
   "cell_type": "code",
   "execution_count": 20,
   "metadata": {},
   "outputs": [
    {
     "data": {
      "text/plain": [
       "Text(0, 0.5, 'Error net_ppt (Inches per day)')"
      ]
     },
     "execution_count": 20,
     "metadata": {},
     "output_type": "execute_result"
    },
    {
     "data": {
      "image/png": "[encoded data removed]",
      "text/plain": [
       "<Figure size 432x288 with 1 Axes>"
      ]
     },
     "metadata": {
      "needs_background": "light"
     },
     "output_type": "display_data"
    }
   ],
   "source": [
    "plt.plot(dates, err)\n",
    "plt.xticks(rotation=30, ha=\"right\")\n",
    "plt.xlabel(\"Date\")\n",
    "plt.ylabel(\"Error net_ppt (Inches per day)\")"
   ]
  },
  {
   "cell_type": "code",
   "execution_count": 21,
   "metadata": {},
   "outputs": [
    {
     "data": {
      "text/plain": [
       "Text(0, 0.5, 'Python computed net_ppt (Inches per day)')"
      ]
     },
     "execution_count": 21,
     "metadata": {},
     "output_type": "execute_result"
    },
    {
     "data": {
      "image/png": "[encoded data removed]",
      "text/plain": [
       "<Figure size 432x288 with 1 Axes>"
      ]
     },
     "metadata": {
      "needs_background": "light"
     },
     "output_type": "display_data"
    }
   ],
   "source": [
    "plt.scatter(synced_vals[\"net_ppt\"].values, net_ppt)\n",
    "plt.xlabel(\"PRMS computed net_ppt (Inches per day)\")\n",
    "plt.ylabel(\"Python computed net_ppt (Inches per day)\")"
   ]
  },
  {
   "cell_type": "code",
   "execution_count": null,
   "metadata": {},
   "outputs": [],
   "source": []
  },
  {
   "cell_type": "code",
   "execution_count": 22,
   "metadata": {},
   "outputs": [
    {
     "name": "stdout",
     "output_type": "stream",
     "text": [
      "40.322299999999984 40.321284390555\n"
     ]
    }
   ],
   "source": [
    "err = synced_vals[\"net_rain\"] - net_rain\n",
    "print(sum(synced_vals[\"net_rain\"].values), sum(net_rain))"
   ]
  },
  {
   "cell_type": "code",
   "execution_count": 23,
   "metadata": {},
   "outputs": [
    {
     "data": {
      "text/plain": [
       "Text(0, 0.5, 'Error net_rain (Inches per day)')"
      ]
     },
     "execution_count": 23,
     "metadata": {},
     "output_type": "execute_result"
    },
    {
     "data": {
      "image/png": "[encoded data removed]",
      "text/plain": [
       "<Figure size 432x288 with 1 Axes>"
      ]
     },
     "metadata": {
      "needs_background": "light"
     },
     "output_type": "display_data"
    }
   ],
   "source": [
    "plt.plot(dates, err)\n",
    "plt.xticks(rotation=30, ha=\"right\")\n",
    "plt.xlabel(\"Date\")\n",
    "plt.ylabel(\"Error net_rain (Inches per day)\")"
   ]
  },
  {
   "cell_type": "code",
   "execution_count": 24,
   "metadata": {},
   "outputs": [
    {
     "data": {
      "text/plain": [
       "Text(0, 0.5, 'Python computed net_rain (Inches per day)')"
      ]
     },
     "execution_count": 24,
     "metadata": {},
     "output_type": "execute_result"
    },
    {
     "data": {
      "image/png": "[encoded data removed]",
      "text/plain": [
       "<Figure size 432x288 with 1 Axes>"
      ]
     },
     "metadata": {
      "needs_background": "light"
     },
     "output_type": "display_data"
    }
   ],
   "source": [
    "plt.scatter(synced_vals[\"net_rain\"].values, net_rain)\n",
    "plt.xlabel(\"PRMS computed net_rain (Inches per day)\")\n",
    "plt.ylabel(\"Python computed net_rain (Inches per day)\")"
   ]
  },
  {
   "cell_type": "code",
   "execution_count": 25,
   "metadata": {},
   "outputs": [
    {
     "name": "stdout",
     "output_type": "stream",
     "text": [
      "0.6950000000000001 0.696158230255\n"
     ]
    }
   ],
   "source": [
    "err = synced_vals[\"net_snow\"] - net_snow\n",
    "print(sum(synced_vals[\"net_snow\"].values), sum(net_snow))"
   ]
  },
  {
   "cell_type": "code",
   "execution_count": 26,
   "metadata": {},
   "outputs": [
    {
     "data": {
      "text/plain": [
       "Text(0, 0.5, 'Error net_snow (Inches per day)')"
      ]
     },
     "execution_count": 26,
     "metadata": {},
     "output_type": "execute_result"
    },
    {
     "data": {
      "image/png": "[encoded data removed]",
      "text/plain": [
       "<Figure size 432x288 with 1 Axes>"
      ]
     },
     "metadata": {
      "needs_background": "light"
     },
     "output_type": "display_data"
    }
   ],
   "source": [
    "plt.plot(dates, err)\n",
    "plt.xticks(rotation=30, ha=\"right\")\n",
    "plt.xlabel(\"Date\")\n",
    "plt.ylabel(\"Error net_snow (Inches per day)\")"
   ]
  },
  {
   "cell_type": "code",
   "execution_count": 27,
   "metadata": {},
   "outputs": [
    {
     "data": {
      "text/plain": [
       "Text(0, 0.5, 'Python computed net_snow (Inches per day)')"
      ]
     },
     "execution_count": 27,
     "metadata": {},
     "output_type": "execute_result"
    },
    {
     "data": {
      "image/png": "[encoded data removed]",
      "text/plain": [
       "<Figure size 432x288 with 1 Axes>"
      ]
     },
     "metadata": {
      "needs_background": "light"
     },
     "output_type": "display_data"
    }
   ],
   "source": [
    "plt.scatter(synced_vals[\"net_snow\"].values, net_snow)\n",
    "plt.xlabel(\"PRMS computed net_snow (Inches per day)\")\n",
    "plt.ylabel(\"Python computed net_snow (Inches per day)\")"
   ]
  },
  {
   "cell_type": "code",
   "execution_count": null,
   "metadata": {},
   "outputs": [],
   "source": []
  },
  {
   "cell_type": "code",
   "execution_count": 28,
   "metadata": {},
   "outputs": [
    {
     "name": "stdout",
     "output_type": "stream",
     "text": [
      "0.6081000000000023 0.6078260000000003\n"
     ]
    }
   ],
   "source": [
    "err = synced_vals[\"intcp_stor\"] - net_snow\n",
    "print(sum(synced_vals[\"intcp_stor\"].values), sum(intcp_stor))"
   ]
  },
  {
   "cell_type": "code",
   "execution_count": 29,
   "metadata": {},
   "outputs": [
    {
     "name": "stdout",
     "output_type": "stream",
     "text": [
      "1981-01-02 -0.0834\n",
      "1981-01-06 -0.0726\n",
      "1981-01-07 -0.2194\n",
      "1981-03-05 -0.1026\n"
     ]
    }
   ],
   "source": [
    "ii = 0\n",
    "for date in dates:\n",
    "    #     jday = day_of_year(date)\n",
    "    imon = date.month - 1\n",
    "    if err[ii] < -0.05:\n",
    "        print(date, err[ii])\n",
    "    ii += 1"
   ]
  },
  {
   "cell_type": "code",
   "execution_count": 30,
   "metadata": {},
   "outputs": [
    {
     "data": {
      "text/plain": [
       "Text(0, 0.5, 'Error intcp_stor (Inches)')"
      ]
     },
     "execution_count": 30,
     "metadata": {},
     "output_type": "execute_result"
    },
    {
     "data": {
      "image/png": "[encoded data removed]",
      "text/plain": [
       "<Figure size 432x288 with 1 Axes>"
      ]
     },
     "metadata": {
      "needs_background": "light"
     },
     "output_type": "display_data"
    }
   ],
   "source": [
    "plt.plot(dates, err)\n",
    "plt.xticks(rotation=30, ha=\"right\")\n",
    "plt.xlabel(\"Date\")\n",
    "plt.ylabel(\"Error intcp_stor (Inches)\")"
   ]
  },
  {
   "cell_type": "code",
   "execution_count": 31,
   "metadata": {},
   "outputs": [
    {
     "data": {
      "text/plain": [
       "Text(0, 0.5, 'Python computed intcp_stor (Inches)')"
      ]
     },
     "execution_count": 31,
     "metadata": {},
     "output_type": "execute_result"
    },
    {
     "data": {
      "image/png": "[encoded data removed]",
      "text/plain": [
       "<Figure size 432x288 with 1 Axes>"
      ]
     },
     "metadata": {
      "needs_background": "light"
     },
     "output_type": "display_data"
    }
   ],
   "source": [
    "plt.scatter(synced_vals[\"intcp_stor\"].values, intcp_stor)\n",
    "plt.xlabel(\"PRMS computed intcp_stor (Inches)\")\n",
    "plt.ylabel(\"Python computed intcp_stor (Inches)\")"
   ]
  },
  {
   "cell_type": "code",
   "execution_count": null,
   "metadata": {},
   "outputs": [],
   "source": []
  },
  {
   "cell_type": "code",
   "execution_count": 32,
   "metadata": {},
   "outputs": [
    {
     "name": "stdout",
     "output_type": "stream",
     "text": [
      "0.2349999999999999 0.23466699999999976\n"
     ]
    }
   ],
   "source": [
    "err = synced_vals[\"intcp_evap\"] - net_snow\n",
    "print(sum(synced_vals[\"intcp_evap\"].values), sum(intcp_evap))"
   ]
  },
  {
   "cell_type": "code",
   "execution_count": 33,
   "metadata": {},
   "outputs": [
    {
     "data": {
      "text/plain": [
       "Text(0, 0.5, 'Error intcp_evap (Inches)')"
      ]
     },
     "execution_count": 33,
     "metadata": {},
     "output_type": "execute_result"
    },
    {
     "data": {
      "image/png": "[encoded data removed]",
      "text/plain": [
       "<Figure size 432x288 with 1 Axes>"
      ]
     },
     "metadata": {
      "needs_background": "light"
     },
     "output_type": "display_data"
    }
   ],
   "source": [
    "plt.plot(dates, err)\n",
    "plt.xticks(rotation=30, ha=\"right\")\n",
    "plt.xlabel(\"Date\")\n",
    "plt.ylabel(\"Error intcp_evap (Inches)\")"
   ]
  },
  {
   "cell_type": "code",
   "execution_count": 34,
   "metadata": {},
   "outputs": [
    {
     "data": {
      "text/plain": [
       "Text(0, 0.5, 'Python computed intcp_evap (Inches)')"
      ]
     },
     "execution_count": 34,
     "metadata": {},
     "output_type": "execute_result"
    },
    {
     "data": {
      "image/png": "[encoded data removed]",
      "text/plain": [
       "<Figure size 432x288 with 1 Axes>"
      ]
     },
     "metadata": {
      "needs_background": "light"
     },
     "output_type": "display_data"
    }
   ],
   "source": [
    "plt.scatter(synced_vals[\"intcp_evap\"].values, intcp_evap)\n",
    "plt.xlabel(\"PRMS computed intcp_evap (Inches)\")\n",
    "plt.ylabel(\"Python computed intcp_evap (Inches)\")"
   ]
  },
  {
   "cell_type": "code",
   "execution_count": 35,
   "metadata": {},
   "outputs": [
    {
     "data": {
      "text/plain": [
       "Text(0, 0.5, 'running wb (Inches)')"
      ]
     },
     "execution_count": 35,
     "metadata": {},
     "output_type": "execute_result"
    },
    {
     "data": {
      "image/png": "[encoded data removed]",
      "text/plain": [
       "<Figure size 432x288 with 1 Axes>"
      ]
     },
     "metadata": {
      "needs_background": "light"
     },
     "output_type": "display_data"
    }
   ],
   "source": [
    "s1 = np.zeros(len(dates))\n",
    "s2 = np.zeros(len(dates))\n",
    "s1[0] = 0\n",
    "s2[0] = 0\n",
    "for ii in range(1, len(dates)):\n",
    "    s1[ii] = s1[ii - 1] + hru_ppt[ii] - net_ppt[ii] - intcp_evap[ii]\n",
    "    s2[ii] = (\n",
    "        s2[ii - 1]\n",
    "        + synced_vals[\"hru_ppt\"].values[ii]\n",
    "        - synced_vals[\"net_ppt\"].values[ii]\n",
    "        - synced_vals[\"intcp_evap\"].values[ii]\n",
    "    )\n",
    "    ii += 1\n",
    "\n",
    "\n",
    "plt.plot(dates, s1, c=\"green\")\n",
    "plt.plot(dates, s2, linestyle=\"dashed\", c=\"red\")\n",
    "plt.xticks(rotation=30, ha=\"right\")\n",
    "plt.xlabel(\"Date\")\n",
    "plt.ylabel(\"running wb (Inches)\")"
   ]
  },
  {
   "cell_type": "code",
   "execution_count": null,
   "metadata": {},
   "outputs": [],
   "source": []
  },
  {
   "cell_type": "code",
   "execution_count": null,
   "metadata": {},
   "outputs": [],
   "source": []
  }
 ],
 "metadata": {
  "kernelspec": {
   "display_name": "Python 3",
   "language": "python",
   "name": "python3"
  },
  "language_info": {
   "codemirror_mode": {
    "name": "ipython",
    "version": 3
   },
   "file_extension": ".py",
   "mimetype": "text/x-python",
   "name": "python",
   "nbconvert_exporter": "python",
   "pygments_lexer": "ipython3",
   "version": "3.8.3"
  }
 },
 "nbformat": 4,
 "nbformat_minor": 4
}
