{
 "cells": [
  {
   "cell_type": "markdown",
   "id": "08f842ce-586b-490c-9e9e-97321918e5b8",
   "metadata": {
    "editable": true,
    "slideshow": {
     "slide_type": ""
    },
    "tags": []
   },
   "source": [
    "# Multi-process models in pywatershed: PRMS-legacy instantiation\n",
    "\n",
    "Because `pywatershed` has its primary legacy in the Precipitation-Runoff Modeling System (PRMS, Regan et al., 2015), `pywatershed` supports PRMS-model instantation from legacy PRMS input files. THe traditional input files are the `control` file, the parameter file, and the CBH files. While the CBH files need to be pre-processed to NetCDF format, PRMS control and parameter files as supported. This changes the way the model is instantiated, as we will see below.\n",
    "\n",
    "**Show pre-processing of CBH files in another notebook***\n",
    "\n",
    "As in the previous notebooks, we'll look at running PRMS processes moels on the Delaware River Basin (DRB) subdomain of the NHM for a 2 year period using `pywatershed`.\n",
    "\n",
    "## Prerequisites\n"
   ]
  },
  {
   "cell_type": "code",
   "execution_count": null,
   "id": "7275fe95-8e0b-45f9-837c-ad6f7d38ced7",
   "metadata": {
    "editable": true,
    "slideshow": {
     "slide_type": ""
    },
    "tags": []
   },
   "outputs": [],
   "source": [
    "# auto-format the code in this notebook\n",
    "%load_ext jupyter_black"
   ]
  },
  {
   "cell_type": "code",
   "execution_count": null,
   "id": "816e410d-c806-4467-8d56-e6add8c7f516",
   "metadata": {
    "editable": true,
    "slideshow": {
     "slide_type": ""
    },
    "tags": []
   },
   "outputs": [],
   "source": [
    "import pathlib as pl\n",
    "from platform import processor\n",
    "from pprint import pprint\n",
    "from sys import platform\n",
    "\n",
    "import pydoc\n",
    "\n",
    "import hvplot.pandas  # noqa\n",
    "import numpy as np\n",
    "import pywatershed as pws\n",
    "import xarray as xr\n",
    "\n",
    "from helpers import gis_files\n",
    "\n",
    "gis_files.download()  # this downloads GIS files"
   ]
  },
  {
   "cell_type": "markdown",
   "id": "39abd69f-13a3-4f23-9678-a57c0b1f848d",
   "metadata": {},
   "source": [
    "The domain directory is where we have all the required inputs to run this model (among others) and `nb_output_dir` is where this notebook will write its output. "
   ]
  },
  {
   "cell_type": "code",
   "execution_count": null,
   "id": "4950eb10-25c0-403c-80ef-857cd003bc5c",
   "metadata": {},
   "outputs": [],
   "source": [
    "domain_dir = pws.constants.__pywatershed_root__ / \"data/drb_2yr\"\n",
    "nb_output_dir = pl.Path(\"./02_prms_legacy_models\")"
   ]
  },
  {
   "cell_type": "markdown",
   "id": "c19fa3d3-60b6-4c0e-9b12-817ce4daeda1",
   "metadata": {},
   "source": [
    "## An NHM multi-process model: PRMS-legacy instantation\n",
    "\n",
    "The 8 conceptual `Process` classes that comprise the NHM are, in order:"
   ]
  },
  {
   "cell_type": "code",
   "execution_count": null,
   "id": "529247fe-7f0b-4783-90a4-a4ddf55c1489",
   "metadata": {},
   "outputs": [],
   "source": [
    "nhm_processes = [\n",
    "    pws.PRMSSolarGeometry,\n",
    "    pws.PRMSAtmosphere,\n",
    "    pws.PRMSCanopy,\n",
    "    pws.PRMSSnow,\n",
    "    pws.PRMSRunoff,\n",
    "    pws.PRMSSoilzone,\n",
    "    pws.PRMSGroundwater,\n",
    "    pws.PRMSChannel,\n",
    "]"
   ]
  },
  {
   "cell_type": "markdown",
   "id": "c460bc54-bba5-4493-9d1f-e2fe6672b186",
   "metadata": {},
   "source": [
    "A multi-process model, comprised of the above `Processes` (see notebook 00), is assembled by the `Model` class. We can take a quick look at the first 22 lines of help on `Model`:"
   ]
  },
  {
   "cell_type": "code",
   "execution_count": null,
   "id": "eb40a716-cc0c-4645-b03c-e4e4c4294697",
   "metadata": {},
   "outputs": [],
   "source": [
    "# this is equivalent to help() but we get the multiline string and just look at part of it\n",
    "model_help = pydoc.render_doc(pws.Model, \"Help on %s\")\n",
    "# the first 22 lines of help(pws.Model)\n",
    "print(\"\\n\".join(model_help.splitlines()[0:22]))"
   ]
  },
  {
   "cell_type": "markdown",
   "id": "b63cb1e9-d954-4541-83d2-0d2613cb7d8d",
   "metadata": {},
   "source": [
    "The `help()` mentions that there are 2 distinct ways of instantiating a `Model` class. In this notebook, we focus on the PRMS-legacy instantiation (see previous notebook for the pywatershed-centric way).\n",
    "\n",
    "With the PRMS-legacy approach, the first argument is a \"process list\", which is what we defined with the 8 NHM classes above. In addition, we'll supply the `control` and `parameters` arguments. The full `help()` describes PRMS-legacy instantation and provides examples. Please use it for reference and more details. Here we'll give an extended concrete example. \n",
    "\n",
    "We load a `PrmsParameters` object from a PRMS-native file. We'll check that it is an instance/subclass of the `Parameters` class. Then we'll return the object (which invokes the `__repr__` method on the object, just giving information about it) to see what we got."
   ]
  },
  {
   "cell_type": "code",
   "execution_count": null,
   "id": "2488f925-fac2-4911-b474-2cb3c9b012b2",
   "metadata": {},
   "outputs": [],
   "source": [
    "params = pws.parameters.PrmsParameters.load(domain_dir / \"myparam.param\")\n",
    "print(isinstance(params, pws.Parameters))\n",
    "params"
   ]
  },
  {
   "cell_type": "markdown",
   "id": "360ac849-9093-4b34-af70-e5e56988f298",
   "metadata": {},
   "source": [
    "We got a `PrmsParameters` object which is a subclass of `Parameters`. We now load control file into a `Control` object, "
   ]
  },
  {
   "cell_type": "code",
   "execution_count": null,
   "id": "97cc606f-4d69-439f-84cb-00b78ae13605",
   "metadata": {},
   "outputs": [],
   "source": [
    "control = pws.Control.load(domain_dir / \"control.test\")\n",
    "control"
   ]
  },
  {
   "cell_type": "markdown",
   "id": "d5c4f386-9c31-438f-89d7-76241ca9ab69",
   "metadata": {},
   "source": [
    "Now we'll edit this control object. First we'll reduce the total simulation time to six months for the purposes of this demonstration (but feel free to increase this to the full 2 years available, if you like). Next we'll specify several global options, including the location of the atmospheric forcing/input data, the budget type, and the calculation method."
   ]
  },
  {
   "cell_type": "code",
   "execution_count": null,
   "id": "9153f49a-9848-48aa-a3ef-071713933b7b",
   "metadata": {
    "editable": true,
    "slideshow": {
     "slide_type": ""
    },
    "tags": []
   },
   "outputs": [],
   "source": [
    "control.edit_end_time(np.datetime64(\"1979-07-01T00:00:00\"))\n",
    "control.options = control.options | {\n",
    "    \"input_dir\": domain_dir,\n",
    "    \"budget_type\": \"warn\",\n",
    "    \"calc_method\": \"numba\",\n",
    "    \"netcdf_output_dir\": nb_output_dir / \"nhm\",\n",
    "}"
   ]
  },
  {
   "cell_type": "markdown",
   "id": "0b46e9ca-e84b-40b3-bdc5-179fd6c85555",
   "metadata": {},
   "source": [
    "Now we can initialize the NHM model."
   ]
  },
  {
   "cell_type": "code",
   "execution_count": null,
   "id": "a5b2ad91-9e4a-4b25-9510-d9d927f0acc5",
   "metadata": {},
   "outputs": [],
   "source": [
    "nhm = pws.Model(\n",
    "    nhm_processes,\n",
    "    control=control,\n",
    "    parameters=params,\n",
    ")"
   ]
  },
  {
   "cell_type": "markdown",
   "id": "86c69fc4-34c3-48bf-948f-0df7c5769c78",
   "metadata": {},
   "source": [
    "Numba is a Python package for just-in-time compiling. It takes code written using the `numpy` package and accelerates it by compiling at run time. The processes listed above compiled their code on initialization of the model. The processes that benefit from jit compiling are challenging to vectorize and have a loop over space which is accelerated by the compiling. The remaining processes, not jit compiled, are all vectorized (in space and time): PRMSSolarGeometry, PRMSAtmosphere. \n",
    "\n",
    "Now we can run the model, requesting it finalize at the end, and we'll time the result."
   ]
  },
  {
   "cell_type": "code",
   "execution_count": null,
   "id": "c33866b9-d490-4b80-b8ee-2f02eb86525b",
   "metadata": {
    "editable": true,
    "slideshow": {
     "slide_type": ""
    },
    "tags": []
   },
   "outputs": [],
   "source": [
    "%%time\n",
    "nhm.run(finalize=True)"
   ]
  },
  {
   "cell_type": "markdown",
   "id": "a19d528e-01f0-4cf0-855e-eea532672836",
   "metadata": {
    "editable": true,
    "slideshow": {
     "slide_type": ""
    },
    "tags": []
   },
   "source": [
    "Now that we've run our NHM model on the DRB, let's take a look at the simulated streamflow. Still in memory are the streamflow values from the final timestep, we'll plot those on the stream network overlaid on the watershed. "
   ]
  },
  {
   "cell_type": "code",
   "execution_count": null,
   "id": "8b7a3a1d-4f98-4f86-a25b-c53e44783b61",
   "metadata": {
    "editable": true,
    "slideshow": {
     "slide_type": ""
    },
    "tags": []
   },
   "outputs": [],
   "source": [
    "proc_plot = pws.analysis.ProcessPlot(gis_files.gis_dir / \"drb_2yr\")\n",
    "proc_name = \"PRMSChannel\"\n",
    "var_name = \"seg_outflow\"\n",
    "proc = nhm.processes[proc_name]\n",
    "display(proc_plot.plot(var_name, proc))"
   ]
  },
  {
   "cell_type": "markdown",
   "id": "83052466-f75f-41e0-9b6d-4982dbe2e338",
   "metadata": {},
   "source": [
    "Above we see the spatial domain, the outline of its extent, the network on which streamflow is calculated, and the final simulated values of streamflow. \n",
    "\n",
    "Let us turn towards the model structure in more detail: how do atmospheric inputs/forcings result in the simulated streamflow above? We will produce the model graph which shows the flow of information from the input files through all the process representations, all the way down to the channel streamflow. First we print a color legend for each represented process in the NHM. Each process is outlined by a box of this color and values/fluxes flowing from a process have the color of the originating process. Finally, a variable outlined (above and on the sides) participates in the mass budget of its process. This diagram gives some very specific information of the model conceptualization, how the processes relate to each other, and the complexity of the indivdual processes. (Note that the underlying graphviz/dot program that generates the plot is not fully working on Mac ARM/M1, so plots here and below are less detailed if you are are using such a machine, the notebooks in the repo will be complete for your reference.) Each process's data is placed into one of three categories: inputs(blue), parameters(orange), and variables(green). All of this information is public for each process (indeed in static methods) so we can produce these plots programatically without needing to run the Model. The Model object contains all the information needed to generate the plot when it is initialized."
   ]
  },
  {
   "cell_type": "code",
   "execution_count": null,
   "id": "95574d33-f8ff-42f4-ae9b-316dcc152a7b",
   "metadata": {},
   "outputs": [],
   "source": [
    "palette = pws.analysis.utils.colorbrewer.nhm_process_colors(nhm)\n",
    "pws.analysis.utils.colorbrewer.jupyter_palette(palette)\n",
    "show_params = not (platform == \"darwin\" and processor() == \"arm\")\n",
    "try:\n",
    "    pws.analysis.ModelGraph(\n",
    "        nhm,\n",
    "        hide_variables=False,\n",
    "        process_colors=palette,\n",
    "        show_params=show_params,\n",
    "    ).SVG(verbose=True, dpi=48)\n",
    "except:\n",
    "    print(\"In some cases, dot fails on Mac ARM machines.\")"
   ]
  },
  {
   "cell_type": "markdown",
   "id": "d6bf8b0f-5197-4467-8e2d-3c98060f8e68",
   "metadata": {
    "editable": true,
    "slideshow": {
     "slide_type": ""
    },
    "tags": []
   },
   "source": [
    "## NHM Submodel for the Delaware River Basin \n",
    "Suppose you wanted to change parameters or model process representation in the PRMSSoilzone to better predict streamflow. As the model is 1-way coupled, you can simply run a submodel starting with PRMSSoilzone and running through PRMSChannel."
   ]
  },
  {
   "cell_type": "code",
   "execution_count": null,
   "id": "18f20704-36e4-407b-a7a8-1964563cf79a",
   "metadata": {
    "editable": true,
    "slideshow": {
     "slide_type": ""
    },
    "tags": []
   },
   "outputs": [],
   "source": [
    "submodel_processes = [pws.PRMSSoilzone, pws.PRMSGroundwater, pws.PRMSChannel]"
   ]
  },
  {
   "cell_type": "code",
   "execution_count": null,
   "id": "e6c0ce51-937f-4dbe-8443-1857ed1be52a",
   "metadata": {
    "editable": true,
    "slideshow": {
     "slide_type": ""
    },
    "tags": []
   },
   "outputs": [],
   "source": [
    "# params = pws.parameters.PrmsParameters.load(domain_dir / \"myparam.param\")\n",
    "control = pws.Control.load(domain_dir / \"control.test\")\n",
    "control.edit_n_time_steps(90)\n",
    "control.options = control.options | {\n",
    "    \"input_dir\": nb_output_dir / \"nhm\",\n",
    "    \"budget_type\": \"warn\",\n",
    "    \"calc_method\": \"numba\",\n",
    "    \"netcdf_output_dir\": nb_output_dir / \"submodel\",\n",
    "}"
   ]
  },
  {
   "cell_type": "code",
   "execution_count": null,
   "id": "7ab0a561-8642-40a9-8638-36d380672cc8",
   "metadata": {
    "editable": true,
    "slideshow": {
     "slide_type": ""
    },
    "tags": []
   },
   "outputs": [],
   "source": [
    "submodel = pws.Model(\n",
    "    submodel_processes,\n",
    "    control=control,\n",
    "    parameters=params,\n",
    ")\n",
    "\n",
    "pws.analysis.ModelGraph(\n",
    "    submodel,\n",
    "    hide_variables=not show_params,\n",
    "    show_params=show_params,\n",
    "    process_colors=palette,\n",
    ").SVG(verbose=True, dpi=48)"
   ]
  },
  {
   "cell_type": "markdown",
   "id": "e6f7f4f3-12d4-4dda-a7c3-6e1a761b4a5a",
   "metadata": {},
   "source": [
    "Now we can initalize output and run the submodel."
   ]
  },
  {
   "cell_type": "code",
   "execution_count": null,
   "id": "35002e93-b777-472e-8899-36548c1ea923",
   "metadata": {},
   "outputs": [],
   "source": [
    "%%time\n",
    "submodel.run(finalize=True)"
   ]
  },
  {
   "cell_type": "code",
   "execution_count": null,
   "id": "bd25d1a7-3ca3-4d5e-9623-e5c0d3f20b53",
   "metadata": {},
   "outputs": [],
   "source": []
  }
 ],
 "metadata": {
  "kernelspec": {
   "display_name": "Python [conda env:pws2] *",
   "language": "python",
   "name": "conda-env-pws2-py"
  },
  "language_info": {
   "codemirror_mode": {
    "name": "ipython",
    "version": 3
   },
   "file_extension": ".py",
   "mimetype": "text/x-python",
   "name": "python",
   "nbconvert_exporter": "python",
   "pygments_lexer": "ipython3",
   "version": "3.10.12"
  }
 },
 "nbformat": 4,
 "nbformat_minor": 5
}
