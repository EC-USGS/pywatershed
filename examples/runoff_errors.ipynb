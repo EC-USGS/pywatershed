{
 "cells": [
  {
   "cell_type": "markdown",
   "id": "4bf60102-e977-4b2c-82b1-86780c283c71",
   "metadata": {},
   "source": [
    "# Runoff mass balance errors\n"
   ]
  },
  {
   "cell_type": "markdown",
   "id": "c7b84519-933d-4284-838d-f5a8d4ec01f7",
   "metadata": {},
   "source": [
    "## Setup"
   ]
  },
  {
   "cell_type": "code",
   "execution_count": null,
   "id": "d316a5de-19ef-4008-8c68-1e192c3f89d9",
   "metadata": {
    "editable": true,
    "slideshow": {
     "slide_type": ""
    }
   },
   "outputs": [],
   "source": [
    "import pathlib as pl\n",
    "from pprint import pprint\n",
    "from shutil import rmtree, copy2\n",
    "\n",
    "import hvplot.xarray  # noqa\n",
    "from IPython.display import display\n",
    "import jupyter_black\n",
    "import numpy as np\n",
    "import pywatershed as pws\n",
    "import xarray as xr\n",
    "\n",
    "jupyter_black.load()"
   ]
  },
  {
   "cell_type": "code",
   "execution_count": null,
   "id": "9c188b5b-fc91-480c-a1a2-ce1121f92915",
   "metadata": {},
   "outputs": [],
   "source": [
    "# Configuration\n",
    "domain_name = \"drb_2yr\"\n",
    "\n",
    "nb_output_dir = pl.Path(\"./runoff_errors\")"
   ]
  },
  {
   "cell_type": "code",
   "execution_count": null,
   "id": "b9e616a3-03a3-4a13-9a33-181af59f1c71",
   "metadata": {},
   "outputs": [],
   "source": [
    "pws_root = pws.constants.__pywatershed_root__\n",
    "domain_dir = pws_root / f\"../test_data/{domain_name}\"\n",
    "nb_output_dir.mkdir(exist_ok=True)\n",
    "\n",
    "zero = np.zeros([1])[0]\n",
    "epsilon64 = np.finfo(zero).eps\n",
    "epsilon32 = np.finfo(zero.astype(\"float32\")).eps"
   ]
  },
  {
   "cell_type": "markdown",
   "id": "0a05c33a-c86b-433a-a400-54c7f2df8eb9",
   "metadata": {},
   "source": [
    "## Run PRMS double precision runs and convert to netcdf"
   ]
  },
  {
   "cell_type": "code",
   "execution_count": null,
   "id": "daa94738-1c8b-4113-a529-c6dd0b4a0284",
   "metadata": {},
   "outputs": [],
   "source": [
    "bin_dir = pws_root / \"../bin/\"\n",
    "# bin_mixed = bin_dir / \"prms_mac_m1_ifort_mixed_prec\"\n",
    "bin_double = bin_dir / \"prms_mac_m1_ifort_dbl_prec\""
   ]
  },
  {
   "cell_type": "code",
   "execution_count": null,
   "id": "611c0d7a-7bfd-422d-ae53-3978b0c2eb83",
   "metadata": {},
   "outputs": [],
   "source": [
    "def run_prms(binary: pl.Path, run_dir: pl.Path, skip_if_exists=False):\n",
    "    import shlex\n",
    "    import subprocess\n",
    "\n",
    "    from pywatershed import CsvFile, Soltab\n",
    "    from pywatershed.parameters import PrmsParameters\n",
    "\n",
    "    if skip_if_exists and run_dir.exists():\n",
    "        print(\n",
    "            f\"Run ({run_dir}) already exists and skip_if_exists=True. Using existing run.\"\n",
    "        )\n",
    "        return None\n",
    "\n",
    "    run_dir.mkdir(parents=True)  # must not exist, on user to delete\n",
    "    copy2(binary, run_dir / binary.name)\n",
    "    for ff in [\n",
    "        \"nhm.control\",\n",
    "        \"myparam.param\",\n",
    "        \"tmax.cbh\",\n",
    "        \"tmin.cbh\",\n",
    "        \"prcp.cbh\",\n",
    "        \"sf_data\",\n",
    "    ]:\n",
    "        copy2(domain_dir / ff, run_dir / ff)\n",
    "\n",
    "    output_dir = run_dir / \"output\"\n",
    "    output_dir.mkdir()\n",
    "\n",
    "    exe_command = f\"time ./{binary.name} nhm.control -MAXDATALNLEN 60000 2>&1 | tee run.log\"\n",
    "    result = subprocess.run(\n",
    "        exe_command,\n",
    "        shell=True,\n",
    "        # stdout = subprocess.PIPE,\n",
    "        stderr=subprocess.STDOUT,\n",
    "        universal_newlines=True,\n",
    "        cwd=run_dir,\n",
    "    )\n",
    "\n",
    "    # these will be useful in what follows\n",
    "    params = pws.parameters.PrmsParameters.load(\n",
    "        domain_dir / \"myparam.param\"\n",
    "    ).parameters\n",
    "\n",
    "    # convert to netcdf\n",
    "    # could make these arguments\n",
    "    chunking = {\n",
    "        \"time\": 0,\n",
    "        \"doy\": 0,\n",
    "        \"nhm_id\": 0,\n",
    "        \"nhm_seg\": 0,\n",
    "    }\n",
    "\n",
    "    output_csvs = output_dir.glob(\"*.csv\")\n",
    "    for cc in output_csvs:\n",
    "        if cc.name in [\"stats.csv\"]:\n",
    "            continue\n",
    "        nc_path = cc.with_suffix(\".nc\")\n",
    "        CsvFile(cc).to_netcdf(nc_path, chunk_sizes=chunking)\n",
    "\n",
    "    # previous and change variables\n",
    "    for vv in [\n",
    "        \"pk_ice\",\n",
    "        \"freeh2o\",\n",
    "        \"soil_moist\",\n",
    "        \"hru_impervstor\",\n",
    "        \"dprst_stor_hru\",\n",
    "        \"soil_lower\",\n",
    "        \"soil_rechr\",\n",
    "    ]:\n",
    "        data = xr.open_dataset(output_dir / f\"{vv}.nc\")[vv]\n",
    "        prev_da = data.copy()\n",
    "        prev_da[:] = np.roll(prev_da.values, 1, axis=0)\n",
    "        assert (prev_da[1:, :].values == data[0:-1, :].values).all()\n",
    "        prev_da[0, :] = np.zeros(1)[\n",
    "            0\n",
    "        ]  # np.nan better but causes plotting to fail\n",
    "        change_da = data - prev_da\n",
    "        prev_da.rename(f\"{vv}_prev\").to_dataset().to_netcdf(\n",
    "            output_dir / f\"{vv}_prev.nc\"\n",
    "        )\n",
    "        data[f\"{vv}_prev\"] = xr.open_dataset(output_dir / f\"{vv}_prev.nc\")[\n",
    "            f\"{vv}_prev\"\n",
    "        ]\n",
    "\n",
    "        change_da.rename(f\"{vv}_change\").to_dataset().to_netcdf(\n",
    "            output_dir / f\"{vv}_change.nc\"\n",
    "        )\n",
    "        data[f\"{vv}_change\"] = xr.open_dataset(output_dir / f\"{vv}_change.nc\")[\n",
    "            f\"{vv}_change\"\n",
    "        ]\n",
    "\n",
    "    # through_rain\n",
    "    dep_vars = [\n",
    "        \"net_ppt\",\n",
    "        \"pptmix_nopack\",\n",
    "        \"snowmelt\",\n",
    "        \"pkwater_equiv\",\n",
    "        \"snow_evap\",\n",
    "        \"net_snow\",\n",
    "        \"net_rain\",\n",
    "    ]\n",
    "    data = {}\n",
    "    for vv in dep_vars:\n",
    "        data[vv] = xr.open_dataset(output_dir / f\"{vv}.nc\")[vv]\n",
    "\n",
    "    nearzero = 1.0e-6\n",
    "\n",
    "    cond1 = data[\"net_ppt\"] > zero\n",
    "    cond2 = data[\"pptmix_nopack\"] != 0\n",
    "    cond3 = data[\"snowmelt\"] < nearzero\n",
    "    cond4 = data[\"pkwater_equiv\"] < epsilon32\n",
    "    cond5 = data[\"snow_evap\"] < nearzero\n",
    "    cond6 = data[\"net_snow\"] < nearzero\n",
    "\n",
    "    through_rain = data[\"net_rain\"] * zero\n",
    "    # these are in reverse order\n",
    "    through_rain[:] = np.where(\n",
    "        cond1 & cond3 & cond4 & cond6, data[\"net_rain\"], zero\n",
    "    )\n",
    "    through_rain[:] = np.where(\n",
    "        cond1 & cond3 & cond4 & cond5, data[\"net_ppt\"], through_rain\n",
    "    )\n",
    "    through_rain[:] = np.where(cond1 & cond2, data[\"net_rain\"], through_rain)\n",
    "\n",
    "    through_rain.to_dataset(name=\"through_rain\").to_netcdf(\n",
    "        output_dir / \"through_rain.nc\"\n",
    "    )\n",
    "    through_rain.close()\n",
    "\n",
    "    # infil_hru\n",
    "    imperv_frac = params[\"hru_percent_imperv\"]\n",
    "    dprst_frac = params[\"dprst_frac\"]\n",
    "    perv_frac = 1.0 - imperv_frac - dprst_frac\n",
    "    da = xr.open_dataset(output_dir / \"infil.nc\")[\"infil\"].rename(\"infil_hru\")\n",
    "    da *= perv_frac\n",
    "    da.to_dataset().to_netcdf(output_dir / \"infil_hru.nc\")\n",
    "    da.close()"
   ]
  },
  {
   "cell_type": "code",
   "execution_count": null,
   "id": "e591db15-82cc-4843-a46b-87d037823700",
   "metadata": {},
   "outputs": [],
   "source": [
    "# run_prms(\n",
    "#     bin_mixed,\n",
    "#     nb_output_dir / f\"{domain_name}_prms_mixed_run\",\n",
    "#     skip_if_exists=skip_if_exists_prms_mixed,\n",
    "# )"
   ]
  },
  {
   "cell_type": "code",
   "execution_count": null,
   "id": "791f0f08-06fb-445f-b6bb-9262b9f9a6f0",
   "metadata": {},
   "outputs": [],
   "source": [
    "# %debug"
   ]
  },
  {
   "cell_type": "code",
   "execution_count": null,
   "id": "155fc8ac-da82-4df7-a33a-a744818d46d7",
   "metadata": {},
   "outputs": [],
   "source": [
    "prms_dbl_run_dir = nb_output_dir / f\"{domain_name}_prms_double_run\"\n",
    "skip_if_exists_prms_double = True\n",
    "run_prms(\n",
    "    bin_double, prms_dbl_run_dir, skip_if_exists=skip_if_exists_prms_double\n",
    ")"
   ]
  },
  {
   "cell_type": "markdown",
   "id": "34bcdb09-c0c2-45c4-ab5f-fc22f94e77ef",
   "metadata": {},
   "source": [
    "## Run pywatershed run forced with output from PRMS double precision run"
   ]
  },
  {
   "cell_type": "code",
   "execution_count": null,
   "id": "01d0f43f-30cd-480e-9200-7c9507d4b263",
   "metadata": {},
   "outputs": [],
   "source": [
    "process = [pws.PRMSRunoff]\n",
    "pws_run_dir = nb_output_dir / f\"{domain_name}_pws_run\"\n",
    "input_dir_cp = prms_dbl_run_dir / \"inputs\""
   ]
  },
  {
   "cell_type": "code",
   "execution_count": null,
   "id": "80bc300c-2779-497f-877f-6a502531ca4a",
   "metadata": {
    "editable": true,
    "slideshow": {
     "slide_type": ""
    }
   },
   "outputs": [],
   "source": [
    "skip_if_exists_pws = True\n",
    "control = pws.Control.load_prms(domain_dir / \"nhm.control\")\n",
    "output_dir = pws_run_dir / \"output\"\n",
    "control.options = control.options | {\n",
    "    \"input_dir\": input_dir_cp,\n",
    "    \"budget_type\": \"error\",\n",
    "    \"calc_method\": \"numpy\",\n",
    "    \"netcdf_output_dir\": output_dir,\n",
    "}\n",
    "del control.options[\"netcdf_output_var_names\"]\n",
    "params = pws.parameters.PrmsParameters.load(domain_dir / \"myparam.param\")"
   ]
  },
  {
   "cell_type": "code",
   "execution_count": null,
   "id": "4a0312cf-a286-4247-b4f0-ca8f424a09d2",
   "metadata": {
    "editable": true,
    "slideshow": {
     "slide_type": ""
    }
   },
   "outputs": [],
   "source": [
    "if output_dir.exists() and skip_if_exists_pws:\n",
    "    print(\n",
    "        f\"Output ({output_dir}) already exists and skip_if_exists=True. Using existing run.\"\n",
    "    )\n",
    "\n",
    "else:\n",
    "    input_dir_cp.mkdir(exist_ok=True, parents=True)\n",
    "    for ff in prms_dbl_run_dir.glob(\"*.nc\"):\n",
    "        copy2(ff, input_dir_cp / ff.name)\n",
    "    for ff in (prms_dbl_run_dir / \"output\").glob(\"*.nc\"):\n",
    "        copy2(ff, input_dir_cp / ff.name)\n",
    "\n",
    "    submodel = pws.Model(\n",
    "        process,\n",
    "        control=control,\n",
    "        parameters=params,\n",
    "    )\n",
    "\n",
    "    submodel.run(finalize=True)"
   ]
  },
  {
   "cell_type": "code",
   "execution_count": null,
   "id": "36d3958b-7c37-4e3e-9b46-cb29b9f75f0d",
   "metadata": {},
   "outputs": [],
   "source": []
  },
  {
   "cell_type": "code",
   "execution_count": null,
   "id": "e0e7d6ae-6502-4815-b534-1bcf9c2b948a",
   "metadata": {},
   "outputs": [],
   "source": [
    "for vv in process[0].get_variables():\n",
    "    print(vv)\n",
    "    assert (output_dir / f\"{vv}.nc\").exists()\n",
    "    try:\n",
    "        assert (input_dir_cp / f\"{vv}.nc\").exists()\n",
    "    except:\n",
    "        print(f\"********** {vv} not in input_dir_cp\")"
   ]
  },
  {
   "cell_type": "markdown",
   "id": "fa4ca04f-c639-479c-8832-8cea51fc79be",
   "metadata": {},
   "source": [
    "## Start by comparing the budget variables"
   ]
  },
  {
   "cell_type": "code",
   "execution_count": null,
   "id": "0f149cac-3343-4425-bddd-9e641245f3c9",
   "metadata": {},
   "outputs": [],
   "source": [
    "budget_terms = process[0].get_mass_budget_terms()"
   ]
  },
  {
   "cell_type": "code",
   "execution_count": null,
   "id": "d2cb23a3-38c3-488b-ace3-118d5fd1ae64",
   "metadata": {},
   "outputs": [],
   "source": [
    "# additional variables\n",
    "budget_terms[\"outputs\"] += [\n",
    "    \"dprst_insroff_hru\",\n",
    "    \"dprst_stor_hru\",\n",
    "    \"contrib_fraction\",\n",
    "    \"infil\",\n",
    "    \"infil_hru\",\n",
    "    \"sroff\",\n",
    "    \"hru_sroffp\",\n",
    "    \"hru_sroffi\",\n",
    "    # \"imperv_stor\",\n",
    "    # \"imperv_evap\",\n",
    "    \"hru_impervevap\",\n",
    "    \"hru_impervstor\",\n",
    "    # \"hru_impervstor_old\",\n",
    "    \"hru_impervstor_change\",\n",
    "    # \"dprst_vol_frac\",\n",
    "    # \"dprst_vol_clos\",\n",
    "    # \"dprst_vol_open\",\n",
    "    # \"dprst_vol_clos_frac\",\n",
    "    # \"dprst_vol_open_frac\",\n",
    "    # \"dprst_area_clos\",\n",
    "    # \"dprst_area_open\",\n",
    "    # \"dprst_area_clos_max\",\n",
    "    # \"dprst_area_open_max\",\n",
    "    \"dprst_sroff_hru\",\n",
    "    \"dprst_seep_hru\",\n",
    "    \"dprst_evap_hru\",\n",
    "    \"dprst_insroff_hru\",\n",
    "    \"dprst_stor_hru\",\n",
    "    # \"dprst_stor_hru_old\",\n",
    "    \"dprst_stor_hru_change\",\n",
    "]\n",
    "budget_terms[\"outputs\"] = list(set(budget_terms[\"outputs\"]))"
   ]
  },
  {
   "cell_type": "code",
   "execution_count": null,
   "id": "9b823fdf-e855-4263-b694-621c6b74005a",
   "metadata": {},
   "outputs": [],
   "source": [
    "comparisons = {}\n",
    "for term, vars in budget_terms.items():\n",
    "    if term == \"inputs\":\n",
    "        continue\n",
    "    print(term)\n",
    "    for vv in vars:\n",
    "        print(\"    \", vv)\n",
    "\n",
    "        pws_file = output_dir / f\"{vv}.nc\"\n",
    "        assert (pws_file).exists()\n",
    "        pws_ds = xr.open_dataset(pws_file)[vv].rename(\"pws\")\n",
    "\n",
    "        prms_file = input_dir_cp / f\"{vv}.nc\"\n",
    "        assert (prms_file).exists()\n",
    "        prms_ds = xr.open_dataset(prms_file)[vv].rename(\"prms\")\n",
    "\n",
    "        comparisons[vv] = xr.merge([pws_ds, prms_ds])"
   ]
  },
  {
   "cell_type": "code",
   "execution_count": null,
   "id": "ec5e0551-9d22-4522-b80e-4c2f54eedd28",
   "metadata": {},
   "outputs": [],
   "source": [
    "# comparisons"
   ]
  },
  {
   "cell_type": "code",
   "execution_count": null,
   "id": "66f80562-8679-4ef3-b007-470692de064a",
   "metadata": {},
   "outputs": [],
   "source": [
    "def plot_var(var_name, diff=False, nhm_id: list = None):\n",
    "    from textwrap import fill\n",
    "\n",
    "    # lines = textwrap.wrap(text, width, break_long_words=False)\n",
    "    meta = pws.meta.find_variables(var_name)[var_name]\n",
    "    ylabel = f\"{fill(meta['desc'], 40)}\\n({meta['units']})\"\n",
    "    title = var_name\n",
    "    ds = comparisons[var_name]\n",
    "\n",
    "    if diff:\n",
    "        ds = ds.copy()\n",
    "        ds[\"error\"] = ds[\"pws\"] - ds[\"prms\"]\n",
    "        ds[\"relative_error\"] = ds[\"error\"] / ds[\"prms\"]\n",
    "        del ds[\"pws\"], ds[\"prms\"]\n",
    "        ylabel = \"Difference PWS - PRMS\\n\" + ylabel\n",
    "        title = \"ERRORS: Difference in \" + title\n",
    "\n",
    "    if (nhm_id is not None) and (len(nhm_id) > 0):\n",
    "        ds = ds.where(ds.nhm_id.isin(nhm_id), drop=True)\n",
    "\n",
    "    display(\n",
    "        ds.hvplot(\n",
    "            frame_width=700,\n",
    "            groupby=\"nhm_id\",\n",
    "            title=title,\n",
    "            ylabel=ylabel,\n",
    "            # fontsize={\"ylabel\": \"9px\"},\n",
    "        )\n",
    "    )"
   ]
  },
  {
   "cell_type": "code",
   "execution_count": null,
   "id": "38a84f40-5684-4c73-a36f-027e3dc1bdbb",
   "metadata": {},
   "outputs": [],
   "source": [
    "def var_close(var_name):\n",
    "    print(var_name)\n",
    "    var_ds = comparisons[var_name]\n",
    "    abs_diff = abs(var_ds[\"pws\"] - var_ds[\"prms\"])\n",
    "    rel_abs_diff = abs_diff / var_ds[\"prms\"]\n",
    "    rtol = atol = 1.0e-7\n",
    "    close = (abs_diff < atol) | (rel_abs_diff < rtol)\n",
    "    if close.all():\n",
    "        plot_var(var_name, diff=False)\n",
    "\n",
    "    else:\n",
    "        wh_not_close = np.where(~close)\n",
    "        nhm_ids = abs_diff.nhm_id[wh_not_close[1]]\n",
    "        plot_var(var_name, diff=True, nhm_id=nhm_ids)\n",
    "\n",
    "    return"
   ]
  },
  {
   "cell_type": "code",
   "execution_count": null,
   "id": "68c77573-6c17-45a1-8730-6cba7e832958",
   "metadata": {},
   "outputs": [],
   "source": [
    "var_close(\"hru_impervstor_change\")"
   ]
  },
  {
   "cell_type": "code",
   "execution_count": null,
   "id": "b3b9d5ff-05e1-4468-bef6-54b3da7f5b0c",
   "metadata": {},
   "outputs": [],
   "source": [
    "for var_name in comparisons.keys():\n",
    "    var_close(var_name)"
   ]
  },
  {
   "cell_type": "markdown",
   "id": "62a7b9e8-5e95-4aa6-867c-1ad48f04b5a6",
   "metadata": {},
   "source": [
    "## Look at specific time and budget errors\n",
    "\n",
    "Runoff mass balance errors have been solved."
   ]
  },
  {
   "cell_type": "code",
   "execution_count": null,
   "id": "6ce47dd4-fc1d-4ba3-ba59-b69d8c692409",
   "metadata": {},
   "outputs": [],
   "source": [
    "budget_terms = process[0].get_mass_budget_terms()\n",
    "budget_terms[\"inputs\"] += [\n",
    "    \"net_ppt\",\n",
    "    \"net_rain\",\n",
    "    \"net_snow\",\n",
    "    \"pptmix_nopack\",\n",
    "    \"pk_ice_prev\",\n",
    "    \"freeh2o_prev\",\n",
    "    \"newsnow\",\n",
    "    \"snow_evap\",\n",
    "]"
   ]
  },
  {
   "cell_type": "code",
   "execution_count": null,
   "id": "5f52f1fb-585e-49bb-9db9-b2e87d62a973",
   "metadata": {},
   "outputs": [],
   "source": [
    "budget_cases = [\n",
    "    (\n",
    "        \"1979-01-11T00:00:00\",\n",
    "        [0, 1, 2, 3, 4, 5, 6, 9, 10, 11, 12, 13],\n",
    "    ),\n",
    "]\n",
    "\n",
    "case_ind = 0\n",
    "budget_time = np.datetime64(budget_cases[case_ind][0])\n",
    "budget_location_inds = budget_cases[case_ind][1]\n",
    "\n",
    "budget_comps = {}\n",
    "for term, vars in budget_terms.items():\n",
    "    print(term)\n",
    "\n",
    "    for vv in vars:\n",
    "        print(\"    \", vv)\n",
    "\n",
    "        if term == \"inputs\":\n",
    "            pws_file = input_dir_cp / f\"{vv}.nc\"\n",
    "        else:\n",
    "            pws_file = output_dir / f\"{vv}.nc\"\n",
    "\n",
    "        assert (pws_file).exists()\n",
    "        pws_ds = xr.open_dataset(pws_file)[vv].rename(\"pws\")\n",
    "\n",
    "        prms_file = input_dir_cp / f\"{vv}.nc\"\n",
    "        assert (prms_file).exists()\n",
    "        prms_ds = xr.open_dataset(prms_file)[vv].rename(\"prms\")\n",
    "\n",
    "        budget_comps[vv] = (\n",
    "            xr.merge([pws_ds, prms_ds])\n",
    "            .sel(time=budget_time)\n",
    "            .isel(nhm_id=budget_location_inds)\n",
    "        )"
   ]
  },
  {
   "cell_type": "code",
   "execution_count": null,
   "id": "0dad7836-6157-4982-a77e-f0f46210a27f",
   "metadata": {},
   "outputs": [],
   "source": [
    "bc = budget_comps\n",
    "inputs = bc[\"through_rain\"] + bc[\"snowmelt\"] + bc[\"intcp_changeover\"]\n",
    "outputs = (\n",
    "    bc[\"hru_sroffi\"]\n",
    "    + bc[\"hru_sroffp\"]\n",
    "    + bc[\"dprst_sroff_hru\"]\n",
    "    + bc[\"infil_hru\"]\n",
    "    + bc[\"hru_impervevap\"]\n",
    "    + bc[\"dprst_seep_hru\"]\n",
    "    + bc[\"dprst_evap_hru\"]\n",
    ")\n",
    "storage_changes = bc[\"hru_impervstor_change\"] + bc[\"dprst_stor_hru_change\"]\n",
    "balance = inputs - outputs - storage_changes"
   ]
  },
  {
   "cell_type": "code",
   "execution_count": null,
   "id": "127606d6-f28f-43c1-90f0-4f3c9bad3a5f",
   "metadata": {},
   "outputs": [],
   "source": [
    "print(f\"{budget_location_inds=}\")\n",
    "print(f\"{inputs.prms.values=}\")\n",
    "print(f\"{outputs.prms.values=}\")\n",
    "print(f\"{storage_changes.prms.values=}\")\n",
    "\n",
    "print(\"-----------\")\n",
    "\n",
    "print(f'{bc[\"through_rain\"].pws.values=}')\n",
    "\n",
    "print(f'{bc[\"snow_evap\"].prms.values=}')\n",
    "print(f'{bc[\"hru_impervstor_change\"].prms.values=}')\n",
    "print(f'{bc[\"hru_impervstor_change\"].pws.values=}')\n",
    "print(f'{bc[\"dprst_stor_hru_change\"].prms.values=}')\n",
    "print(f'{bc[\"dprst_stor_hru_change\"].pws.values=}')\n",
    "print(f\"{balance.prms.values=}\")\n",
    "\n",
    "# print(f\"{bc[\"hru_sroffi\"].prms.sum().values=}\")\n",
    "# print(f\"{bc[\"hru_sroffp\"].prms.sum().values=}\")\n",
    "# print(f\"{bc[\"dprst_sroff_hru\"].prms.sum().values=}\")\n",
    "# print(f\"{bc[\"infil_hru\"].prms.sum().values=}\")\n",
    "# print(f\"{bc[\"hru_impervevap\"].prms.sum().values=}\")\n",
    "# print(f\"{bc[\"dprst_seep_hru\"].prms.sum().values=}\")\n",
    "# print(f\"{bc[\"dprst_evap_hru\"].prms.sum().values=}\")\n",
    "\n",
    "# print(f\"{storage_changes.prms.values=}\")"
   ]
  },
  {
   "cell_type": "code",
   "execution_count": null,
   "id": "63297394-ec68-4645-babb-a46cd6b680bf",
   "metadata": {},
   "outputs": [],
   "source": [
    "print(f'{(balance - bc[\"through_rain\"]).pws.values=}')\n",
    "print(f'{(balance - bc[\"through_rain\"]).prms.values=}')"
   ]
  },
  {
   "cell_type": "code",
   "execution_count": null,
   "id": "52d6a2ed-d900-4f66-bf0b-e75c1d11fce9",
   "metadata": {},
   "outputs": [],
   "source": [
    "((balance.pws - balance.prms) < 1.0e-8).all().values"
   ]
  },
  {
   "cell_type": "code",
   "execution_count": null,
   "id": "c3b27604-a410-4e8c-ac77-a136aac554df",
   "metadata": {},
   "outputs": [],
   "source": [
    "balance.pws.sum()"
   ]
  },
  {
   "cell_type": "code",
   "execution_count": null,
   "id": "3f993bb1-7590-4e47-a2a7-b0bc10350ef3",
   "metadata": {},
   "outputs": [],
   "source": [
    "print(f'{bc[\"through_rain\"].pws.values=}')\n",
    "print(f'{bc[\"net_rain\"].pws.values=}')\n",
    "print(f'{bc[\"net_snow\"].pws.values=}')\n",
    "print(f'{bc[\"net_ppt\"].pws.values=}')\n",
    "print(f'{bc[\"pptmix_nopack\"].pws.values=}')\n",
    "print(f'{bc[\"newsnow\"].pws.values=}')\n",
    "print(\n",
    "    f'{(bc[\"pk_ice_prev\"].pws.values + bc[\"freeh2o_prev\"].pws.values) < epsilon32=}'\n",
    ")"
   ]
  },
  {
   "cell_type": "code",
   "execution_count": null,
   "id": "968ffe3e-a984-4b36-bc9e-7f6a360b245c",
   "metadata": {},
   "outputs": [],
   "source": [
    "input_max = max(\n",
    "    abs(bc[\"through_rain\"]), abs(bc[\"snowmelt\"]), +abs(bc[\"intcp_changeover\"])\n",
    ")\n",
    "output_max = max(\n",
    "    abs(bc[\"hru_sroffi\"]),\n",
    "    abs(bc[\"hru_sroffp\"]),\n",
    "    abs(bc[\"dprst_sroff_hru\"]),\n",
    "    abs(bc[\"infil_hru\"]),\n",
    "    abs(bc[\"hru_impervevap\"]),\n",
    "    abs(bc[\"dprst_seep_hru\"]),\n",
    "    abs(bc[\"dprst_evap_hru\"]),\n",
    ")"
   ]
  },
  {
   "cell_type": "code",
   "execution_count": null,
   "id": "203b6241-601f-4a4d-b2d7-d0358435be9c",
   "metadata": {},
   "outputs": [],
   "source": [
    "input_max.pws.values.tolist()"
   ]
  },
  {
   "cell_type": "code",
   "execution_count": null,
   "id": "7bfbe75c-a67e-4d7a-b29d-3c48d04cc53b",
   "metadata": {},
   "outputs": [],
   "source": [
    "output_max.prms.values.tolist()"
   ]
  },
  {
   "cell_type": "code",
   "execution_count": null,
   "id": "9a0e4a51-6794-4aae-b379-c658f7c73bce",
   "metadata": {},
   "outputs": [],
   "source": [
    "print((balance.pws / output_max.pws.max()).values)\n",
    "print((balance.prms / output_max.prms.max()).values)"
   ]
  },
  {
   "cell_type": "code",
   "execution_count": null,
   "id": "f1e738e0-2761-4d07-8b86-a2c8a5403c5c",
   "metadata": {},
   "outputs": [],
   "source": []
  }
 ],
 "metadata": {
  "language_info": {
   "codemirror_mode": {
    "name": "ipython"
   },
   "file_extension": ".py",
   "mimetype": "text/x-python",
   "name": "python",
   "nbconvert_exporter": "python"
  }
 },
 "nbformat": 4,
 "nbformat_minor": 5
}
