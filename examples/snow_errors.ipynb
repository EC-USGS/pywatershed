{
 "cells": [
  {
   "cell_type": "markdown",
   "id": "4bf60102-e977-4b2c-82b1-86780c283c71",
   "metadata": {},
   "source": [
    "# Snow mass balance errors\n"
   ]
  },
  {
   "cell_type": "code",
   "execution_count": null,
   "id": "6936fb48-fb5c-463e-8642-11287a578ab1",
   "metadata": {
    "editable": true,
    "slideshow": {
     "slide_type": ""
    }
   },
   "outputs": [],
   "source": [
    "# auto-format the code in this notebook\n",
    "%load_ext jupyter_black"
   ]
  },
  {
   "cell_type": "markdown",
   "id": "c7b84519-933d-4284-838d-f5a8d4ec01f7",
   "metadata": {},
   "source": [
    "## Setup"
   ]
  },
  {
   "cell_type": "code",
   "execution_count": null,
   "id": "d316a5de-19ef-4008-8c68-1e192c3f89d9",
   "metadata": {
    "editable": true,
    "slideshow": {
     "slide_type": ""
    }
   },
   "outputs": [],
   "source": [
    "import pathlib as pl\n",
    "from pprint import pprint\n",
    "from shutil import rmtree, copy2\n",
    "\n",
    "import hvplot.xarray  # noqa\n",
    "from IPython.display import display\n",
    "import numpy as np\n",
    "import pywatershed as pws\n",
    "import xarray as xr"
   ]
  },
  {
   "cell_type": "code",
   "execution_count": null,
   "id": "9c188b5b-fc91-480c-a1a2-ce1121f92915",
   "metadata": {},
   "outputs": [],
   "source": [
    "domain_name = \"drb_2yr\"\n",
    "pws_root = pws.constants.__pywatershed_root__\n",
    "domain_dir = pws_root / f\"../test_data/{domain_name}\"\n",
    "nb_output_dir = pl.Path(\"./snow_errors\")\n",
    "nb_output_dir.mkdir(exist_ok=True)"
   ]
  },
  {
   "cell_type": "markdown",
   "id": "0a05c33a-c86b-433a-a400-54c7f2df8eb9",
   "metadata": {},
   "source": [
    "## Run PRMS mixed and double precision runs and convert to netcdf"
   ]
  },
  {
   "cell_type": "code",
   "execution_count": null,
   "id": "daa94738-1c8b-4113-a529-c6dd0b4a0284",
   "metadata": {},
   "outputs": [],
   "source": [
    "bin_dir = pws_root / \"../prms_src/prms5.2.1/bin/\"\n",
    "bin_mixed = bin_dir / \"prms_521_mixed_mac_m1_intel\"\n",
    "bin_double = bin_dir / \"prms_521_double_mac_m1_intel\""
   ]
  },
  {
   "cell_type": "code",
   "execution_count": null,
   "id": "611c0d7a-7bfd-422d-ae53-3978b0c2eb83",
   "metadata": {},
   "outputs": [],
   "source": [
    "def run_prms(binary: pl.Path, run_dir: pl.Path):\n",
    "    import shlex\n",
    "    import subprocess\n",
    "\n",
    "    from pywatershed import CsvFile, Soltab\n",
    "\n",
    "    from pywatershed.parameters import PrmsParameters\n",
    "\n",
    "    run_dir.mkdir()  # must not exist, on user to delete\n",
    "    copy2(binary, run_dir / binary.name)\n",
    "    for ff in [\n",
    "        \"control.test\",\n",
    "        \"myparam.param\",\n",
    "        \"tmax.cbh\",\n",
    "        \"tmin.cbh\",\n",
    "        \"prcp.cbh\",\n",
    "        \"sf_data\",\n",
    "    ]:\n",
    "        copy2(domain_dir / ff, run_dir / ff)\n",
    "\n",
    "    output_dir = run_dir / \"output\"\n",
    "    output_dir.mkdir()\n",
    "\n",
    "    exe_command = f\"time ./{binary.name} control.test -MAXDATALNLEN 60000 2>&1 | tee run.log\"\n",
    "    result = subprocess.run(\n",
    "        exe_command,\n",
    "        shell=True,\n",
    "        # stdout = subprocess.PIPE,\n",
    "        stderr=subprocess.STDOUT,\n",
    "        universal_newlines=True,\n",
    "        cwd=run_dir,\n",
    "    )\n",
    "\n",
    "    # convert to netcdf\n",
    "    # could make these arguments\n",
    "    chunking = {\n",
    "        \"time\": 0,\n",
    "        \"doy\": 0,\n",
    "        \"nhm_id\": 100,\n",
    "        \"nhm_seg\": 100,\n",
    "    }\n",
    "\n",
    "    output_csvs = output_dir.glob(\"*.csv\")\n",
    "    for cc in output_csvs:\n",
    "        if cc.name in [\"stats.csv\"]:\n",
    "            continue\n",
    "        nc_path = cc.with_suffix(\".nc\")\n",
    "        CsvFile(cc).to_netcdf(nc_path, chunk_sizes=chunking)\n",
    "\n",
    "    soltab_file = run_dir / \"soltab_debug\"\n",
    "    # the nhm_ids are not available in the solta_debug file currently, so get\n",
    "    # them from the domain parameters\n",
    "    params = PrmsParameters.load(run_dir / \"myparam.param\")\n",
    "    nhm_ids = params.parameters[\"nhm_id\"]\n",
    "\n",
    "    soltab = Soltab(\n",
    "        soltab_file,\n",
    "        output_dir=output_dir,\n",
    "        nhm_ids=nhm_ids,\n",
    "        chunk_sizes=chunking,\n",
    "    )\n",
    "\n",
    "    for var in soltab.variables:\n",
    "        assert (output_dir / f\"{var}.nc\").exists()\n",
    "\n",
    "    # previous variables\n",
    "    for vv in [\"pk_ice\", \"freeh2o\", \"soil_moist\"]:\n",
    "        data = xr.open_dataset(output_dir / f\"{vv}.nc\")[vv]\n",
    "        prev_da = data.copy()\n",
    "        prev_da[:] = np.roll(prev_da.values, 1, axis=0)\n",
    "        assert (prev_da[1:, :].values == data[0:-1, :].values).all()\n",
    "        prev_da[0, :] = np.nan\n",
    "        prev_da.rename(f\"{vv}_prev\").to_dataset().to_netcdf(\n",
    "            output_dir / f\"{vv}_prev.nc\"\n",
    "        )\n",
    "        data[f\"{vv}_prev\"] = xr.open_dataset(output_dir / f\"{vv}_prev.nc\")[\n",
    "            f\"{vv}_prev\"\n",
    "        ]\n",
    "\n",
    "    # through_rain\n",
    "    dep_vars = [\n",
    "        \"pk_ice_prev\",\n",
    "        \"freeh2o_prev\",\n",
    "        \"newsnow\",\n",
    "        \"pptmix_nopack\",\n",
    "        \"net_rain\",\n",
    "    ]\n",
    "    data = {}\n",
    "    for vv in dep_vars:\n",
    "        data[vv] = xr.open_dataset(output_dir / f\"{vv}.nc\")[vv]\n",
    "\n",
    "    zero = np.zeros([1])[0]\n",
    "    epsilon64 = np.finfo(zero).eps\n",
    "    epsilon32 = np.finfo(zero.astype(\"float32\")).eps\n",
    "\n",
    "    wh_through = (\n",
    "        ((data[\"pk_ice_prev\"] + data[\"freeh2o_prev\"]) <= epsilon64)\n",
    "        & ~(data[\"newsnow\"] == 1)\n",
    "    ) | (data[\"pptmix_nopack\"] == 1)\n",
    "\n",
    "    through_rain = data[\"net_rain\"].copy()\n",
    "    through_rain[:] = np.where(wh_through, data[\"net_rain\"], zero)\n",
    "\n",
    "    through_rain.to_dataset(name=\"through_rain\").to_netcdf(\n",
    "        output_dir / \"through_rain.nc\"\n",
    "    )\n",
    "    through_rain.close()"
   ]
  },
  {
   "cell_type": "code",
   "execution_count": null,
   "id": "e591db15-82cc-4843-a46b-87d037823700",
   "metadata": {},
   "outputs": [],
   "source": [
    "run_prms(bin_mixed, nb_output_dir / \"prms_mixed_run\")"
   ]
  },
  {
   "cell_type": "code",
   "execution_count": null,
   "id": "155fc8ac-da82-4df7-a33a-a744818d46d7",
   "metadata": {},
   "outputs": [],
   "source": [
    "prms_dbl_run_dir = nb_output_dir / \"prms_double_run\"\n",
    "run_prms(bin_double, prms_dbl_run_dir)"
   ]
  },
  {
   "cell_type": "markdown",
   "id": "34bcdb09-c0c2-45c4-ab5f-fc22f94e77ef",
   "metadata": {},
   "source": [
    "## Run pywatershed run"
   ]
  },
  {
   "cell_type": "code",
   "execution_count": null,
   "id": "01d0f43f-30cd-480e-9200-7c9507d4b263",
   "metadata": {},
   "outputs": [],
   "source": [
    "process = [pws.PRMSSnow]"
   ]
  },
  {
   "cell_type": "code",
   "execution_count": null,
   "id": "7b918dcc-965b-4238-8832-f8a62bf75c6a",
   "metadata": {},
   "outputs": [],
   "source": [
    "pws_run_dir = nb_output_dir / \"pws_run\"\n",
    "input_dir = pws_run_dir / \"pws_input\"\n",
    "input_dir.mkdir(exist_ok=True, parents=True)\n",
    "for ff in prms_dbl_run_dir.glob(\"*.nc\"):\n",
    "    copy2(ff, input_dir / ff.name)\n",
    "for ff in (prms_dbl_run_dir / \"output\").glob(\"*.nc\"):\n",
    "    copy2(ff, input_dir / ff.name)"
   ]
  },
  {
   "cell_type": "code",
   "execution_count": null,
   "id": "80bc300c-2779-497f-877f-6a502531ca4a",
   "metadata": {
    "editable": true,
    "slideshow": {
     "slide_type": ""
    }
   },
   "outputs": [],
   "source": [
    "control = pws.Control.load(domain_dir / \"control.test\")\n",
    "output_dir = pws_run_dir / \"output\"\n",
    "control.options = control.options | {\n",
    "    \"input_dir\": input_dir,\n",
    "    \"budget_type\": \"warn\",\n",
    "    \"calc_method\": \"numpy\",\n",
    "    \"netcdf_output_dir\": output_dir,\n",
    "}\n",
    "params = pws.parameters.PrmsParameters.load(domain_dir / \"myparam.param\")"
   ]
  },
  {
   "cell_type": "code",
   "execution_count": null,
   "id": "4a0312cf-a286-4247-b4f0-ca8f424a09d2",
   "metadata": {
    "editable": true,
    "slideshow": {
     "slide_type": ""
    }
   },
   "outputs": [],
   "source": [
    "submodel = pws.Model(\n",
    "    process,\n",
    "    control=control,\n",
    "    parameters=params,\n",
    ")\n",
    "submodel.run(finalize=True)"
   ]
  },
  {
   "cell_type": "code",
   "execution_count": null,
   "id": "e0e7d6ae-6502-4815-b534-1bcf9c2b948a",
   "metadata": {},
   "outputs": [],
   "source": [
    "for vv in process[0].get_variables():\n",
    "    print(vv)\n",
    "    assert (output_dir / f\"{vv}.nc\").exists()\n",
    "    try:\n",
    "        assert (input_dir / f\"{vv}.nc\").exists()\n",
    "    except:\n",
    "        print(f\"********** {vv} not in input_dir\")"
   ]
  },
  {
   "cell_type": "markdown",
   "id": "fa4ca04f-c639-479c-8832-8cea51fc79be",
   "metadata": {},
   "source": [
    "## Start by comparing the budget variables"
   ]
  },
  {
   "cell_type": "code",
   "execution_count": null,
   "id": "0f149cac-3343-4425-bddd-9e641245f3c9",
   "metadata": {},
   "outputs": [],
   "source": [
    "budget_terms = pws.PRMSSnow.get_mass_budget_terms()"
   ]
  },
  {
   "cell_type": "code",
   "execution_count": null,
   "id": "d2cb23a3-38c3-488b-ace3-118d5fd1ae64",
   "metadata": {},
   "outputs": [],
   "source": [
    "# additional variables\n",
    "budget_terms[\"outputs\"] += [\n",
    "    \"pk_ice_prev\",\n",
    "    \"freeh2o_prev\",\n",
    "    \"newsnow\",\n",
    "    \"pptmix_nopack\",\n",
    "]"
   ]
  },
  {
   "cell_type": "code",
   "execution_count": null,
   "id": "9b823fdf-e855-4263-b694-621c6b74005a",
   "metadata": {},
   "outputs": [],
   "source": [
    "comparisons = {}\n",
    "for term, vars in budget_terms.items():\n",
    "    if term == \"inputs\":\n",
    "        continue\n",
    "    print(term)\n",
    "    for vv in vars:\n",
    "        print(\"    \", vv)\n",
    "\n",
    "        pws_file = output_dir / f\"{vv}.nc\"\n",
    "        assert (pws_file).exists()\n",
    "        pws_ds = xr.open_dataset(pws_file)[vv].rename(\"pws\")\n",
    "\n",
    "        prms_file = input_dir / f\"{vv}.nc\"\n",
    "        assert prms_file.exists()\n",
    "        prms_ds = xr.open_dataset(prms_file)[vv].rename(\"prms\")\n",
    "\n",
    "        comparisons[vv] = xr.merge([pws_ds, prms_ds])"
   ]
  },
  {
   "cell_type": "code",
   "execution_count": null,
   "id": "ec5e0551-9d22-4522-b80e-4c2f54eedd28",
   "metadata": {},
   "outputs": [],
   "source": [
    "# comparisons"
   ]
  },
  {
   "cell_type": "code",
   "execution_count": null,
   "id": "66f80562-8679-4ef3-b007-470692de064a",
   "metadata": {},
   "outputs": [],
   "source": [
    "def plot_var(var_name, diff=False, nhm_id: list = None):\n",
    "    ds = comparisons[var_name]\n",
    "    if diff:\n",
    "        ds = ds[\"pws\"] - ds[\"prms\"]\n",
    "    if nhm_id is not None:\n",
    "        ds = ds.where(ds.nhm_id.isin(nhm_id), drop=True)\n",
    "\n",
    "    display(ds.hvplot(frame_width=700, title=var_name, groupby=\"nhm_id\"))"
   ]
  },
  {
   "cell_type": "code",
   "execution_count": null,
   "id": "38a84f40-5684-4c73-a36f-027e3dc1bdbb",
   "metadata": {},
   "outputs": [],
   "source": [
    "def var_close(var_name):\n",
    "    var_ds = comparisons[var_name]\n",
    "    abs_diff = abs(var_ds[\"pws\"] - var_ds[\"prms\"])\n",
    "    rel_abs_diff = abs_diff / var_ds[\"prms\"]\n",
    "    rtol = atol = 1.0e-2\n",
    "    close = (abs_diff < atol) | (rel_abs_diff < rtol)\n",
    "    # assert close.all()\n",
    "    wh_not_close = np.where(~close)\n",
    "    if len(wh_not_close) == 0:\n",
    "        return ()\n",
    "    nhm_ids = abs_diff.nhm_id[wh_not_close[1]]\n",
    "    display(plot_var(var_name, diff=True, nhm_id=nhm_ids))\n",
    "    return"
   ]
  },
  {
   "cell_type": "code",
   "execution_count": null,
   "id": "b3b9d5ff-05e1-4468-bef6-54b3da7f5b0c",
   "metadata": {},
   "outputs": [],
   "source": [
    "for var_name in comparisons.keys():\n",
    "    var_close(var_name)"
   ]
  },
  {
   "cell_type": "code",
   "execution_count": null,
   "id": "ad662acf-fea6-4375-9408-d0714827a362",
   "metadata": {},
   "outputs": [],
   "source": []
  }
 ],
 "metadata": {
  "language_info": {
   "codemirror_mode": {
    "name": "ipython"
   },
   "file_extension": ".py",
   "mimetype": "text/x-python",
   "name": "python",
   "nbconvert_exporter": "python"
  }
 },
 "nbformat": 4,
 "nbformat_minor": 5
}
