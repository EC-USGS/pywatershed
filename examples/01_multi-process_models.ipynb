{
 "cells": [
  {
   "cell_type": "markdown",
   "id": "5e142cbc-9b4b-44d1-8991-f98a57243b08",
   "metadata": {},
   "source": [
    "# Multi-process models in pywatershed\n",
    "\n",
    "In notebook `00_processes.ipynb`, we looked at how and individual Process representations work and are designed. In this notebook we learn how to put multiple Processes together in to a composite model. \n",
    "\n",
    "The starting point for the development of `pywatershed` was the NHM configuration of the PRMS model. In this notebook, we'll first construct a full NHM configuration run. The spatial domain we'll use will again be the Delaware River Basin. Once we construct the full model, we'll look at how we can also construct sub-models of the full NHM configuration."
   ]
  },
  {
   "cell_type": "code",
   "execution_count": null,
   "id": "52ea5714-149a-44ed-8c66-7ef53aa2d9a8",
   "metadata": {},
   "outputs": [],
   "source": [
    "%load_ext jupyter_black"
   ]
  },
  {
   "cell_type": "code",
   "execution_count": null,
   "id": "09d5fb06-f73f-489b-9eb8-760e7f5fee57",
   "metadata": {},
   "outputs": [],
   "source": [
    "import pathlib as pl\n",
    "from pprint import pprint\n",
    "import yaml\n",
    "\n",
    "import pydoc\n",
    "\n",
    "# import hvplot.xarray  # noqa\n",
    "import numpy as np\n",
    "import pywatershed as pws\n",
    "\n",
    "# from tqdm.notebook import tqdm\n",
    "# import xarray as xr"
   ]
  },
  {
   "cell_type": "code",
   "execution_count": null,
   "id": "fb6a0f3d-4583-4a96-844d-bbbeb652d374",
   "metadata": {},
   "outputs": [],
   "source": [
    "domain_dir = pws.constants.__pywatershed_root__ / \"data/drb_2yr\"\n",
    "nb_output_dir = pl.Path(\"./01_multi-process_models\")"
   ]
  },
  {
   "cell_type": "markdown",
   "id": "5b8896bb-96bc-4879-a2d5-38d083b33edd",
   "metadata": {},
   "source": [
    "The 8 conceptual Process classes that comprise the NHM are, in order:"
   ]
  },
  {
   "cell_type": "code",
   "execution_count": null,
   "id": "529247fe-7f0b-4783-90a4-a4ddf55c1489",
   "metadata": {},
   "outputs": [],
   "source": [
    "nhm_processes = [\n",
    "    pws.PRMSSolarGeometry,\n",
    "    pws.PRMSAtmosphere,\n",
    "    pws.PRMSCanopy,\n",
    "    pws.PRMSSnow,\n",
    "    pws.PRMSRunoff,\n",
    "    pws.PRMSSoilzone,\n",
    "    pws.PRMSGroundwater,\n",
    "    pws.PRMSChannel,\n",
    "]"
   ]
  },
  {
   "cell_type": "markdown",
   "id": "8bdde067-5032-443d-9c7c-6fc0340f7be8",
   "metadata": {},
   "source": [
    "The basis of assembling a multi-process model from these is using the Model class. "
   ]
  },
  {
   "cell_type": "code",
   "execution_count": null,
   "id": "bc1bfbf7-00e0-4642-b7a6-dc06eee5722c",
   "metadata": {},
   "outputs": [],
   "source": [
    "# this is equivalent to help() but we get the multiline string and just look at part of it\n",
    "model_help = pydoc.render_doc(pws.Model, \"Help on %s\")\n",
    "print(\"\\n\".join(model_help.splitlines()[0:20]))  # the first 22 lines of help"
   ]
  },
  {
   "cell_type": "markdown",
   "id": "ddbfb5e1-adf4-4eef-949a-90476e00b9f2",
   "metadata": {},
   "source": [
    "The help mentions that there are 2 distinct ways of instantiation a Model class. In this notebook, we focus on the pywatershed-centric instatation and leave the PRMS-legacy instantiation to the following notebook. \n",
    "\n",
    "With the pywatershed-centric approach, the first argument is a \"model dictionary\" which does nearly all the work (the other arguments will be their default values). The help describes the model dictionary and provides examples. Please use it for reference and more details. Here we'll give an extended concrete example. The help also describes how a Model can be instantiated from a model dictionary in a yaml file. First we'll build a model dictionary in memory, then we'll write it out as a yaml file and build our model from it. \n",
    "\n",
    "## Model dictionary in memory\n",
    "\n",
    "Because our (pre-existing) parameter files and our Process classes are consistently named, we can begin to build the model dictionary quickly."
   ]
  },
  {
   "cell_type": "code",
   "execution_count": null,
   "id": "37bd5038-e0bd-4e8e-9020-00520f18b674",
   "metadata": {},
   "outputs": [],
   "source": [
    "model_dict = {}\n",
    "\n",
    "for proc in nhm_processes:\n",
    "    # this is the class name\n",
    "    proc_name = proc.__name__\n",
    "    # the processes can have arbitrary names in the model_dict and\n",
    "    # an instance should not have capitalized name anyway (according to\n",
    "    # python convention), so rename from the class name\n",
    "    proc_rename = \"prms_\" + proc_name[4:].lower()\n",
    "    # each process has a dictionary of information\n",
    "    model_dict[proc_rename] = {}\n",
    "    # alias to shorten lines below\n",
    "    proc_dict = model_dict[proc_rename]\n",
    "    # required key \"class\" specifys the class\n",
    "    proc_dict[\"class\"] = proc\n",
    "    # the \"parameters\" key provides an instance of Parameters\n",
    "    proc_param_file = domain_dir / f\"parameters_{proc_name}.nc\"\n",
    "    proc_dict[\"parameters\"] = pws.Parameters.from_netcdf(proc_param_file)\n",
    "    # the \"dis\" key provides the name of the discretizations\n",
    "    # which we'll supply shortly to the model dictionary\n",
    "    if proc_rename == \"prms_channel\":\n",
    "        proc_dict[\"dis\"] = \"dis_both\"\n",
    "    else:\n",
    "        proc_dict[\"dis\"] = \"dis_hru\""
   ]
  },
  {
   "cell_type": "markdown",
   "id": "70f649ef-2723-44b9-9c49-3f2db85a1010",
   "metadata": {},
   "source": [
    "Let's look at what we have so far in the model dict."
   ]
  },
  {
   "cell_type": "code",
   "execution_count": null,
   "id": "57647846-7159-4405-8e46-aab00594c9e9",
   "metadata": {},
   "outputs": [],
   "source": [
    "pprint(model_dict, sort_dicts=False)"
   ]
  },
  {
   "cell_type": "markdown",
   "id": "059641b6-8fbb-49b4-a95f-4e7fd29af3a6",
   "metadata": {},
   "source": [
    "We have given a name to each process and then supplied the class, its parameters, and its discretization for the full set of processes. Now we'll need to add the discretizations to the model dictionary. They are added at the top level and correspond to the names the processes used. "
   ]
  },
  {
   "cell_type": "code",
   "execution_count": null,
   "id": "a1c45a89-b394-4f90-af7d-7bfcf715b0bf",
   "metadata": {},
   "outputs": [],
   "source": [
    "model_dict = model_dict | {\n",
    "    \"dis_hru\": pws.Parameters.from_netcdf(\n",
    "        domain_dir / \"parameters_dis_hru.nc\"\n",
    "    ),\n",
    "    \"dis_both\": pws.Parameters.from_netcdf(\n",
    "        domain_dir / \"parameters_dis_both.nc\"\n",
    "    ),\n",
    "}\n",
    "pprint(model_dict, sort_dicts=False)"
   ]
  },
  {
   "cell_type": "markdown",
   "id": "b75b11ab-4c2c-4671-9127-1578d8a9cfe0",
   "metadata": {},
   "source": [
    "For the time being, PRMSChannel needs to know about both HRUs and segments, so `dis_both` is used. We plan to remove this requirement in the near future by implementing \"exchanges\" between processes into the model dictionary. Stay tuned.\n",
    "\n",
    "You may have noticed that we are missing a Control object to provide time information to the processes. We'll supply that and we'll also supply the order that the processes are executed."
   ]
  },
  {
   "cell_type": "code",
   "execution_count": null,
   "id": "0d4e38dc-f01c-4ffc-933e-d4c2a901a1db",
   "metadata": {},
   "outputs": [],
   "source": [
    "control = pws.Control(\n",
    "    start_time=np.datetime64(\"1979-01-01T00:00:00\"),\n",
    "    end_time=np.datetime64(\"1979-07-01T00:00:00\"),\n",
    "    time_step=np.timedelta64(24, \"h\"),\n",
    "    options={\n",
    "        \"input_dir\": domain_dir,\n",
    "        \"init_vars_from_file\": 0,\n",
    "        \"dprst_flag\": True,\n",
    "    },\n",
    ")\n",
    "model_order = [\"prms_\" + proc.__name__[4:].lower() for proc in nhm_processes]\n",
    "model_dict = model_dict | {\"control\": control, \"model_order\": model_order}\n",
    "pprint(model_dict, sort_dicts=False)"
   ]
  },
  {
   "cell_type": "markdown",
   "id": "546a7ac8-c23e-4632-b655-6dc8e884172d",
   "metadata": {},
   "source": [
    "The `model_dict` now specifies a complete model built from multiple processes. They way these processes are connected can be figured out by the Model class, because each process fully describes itself (as we saw in the previous notebook). So let's see what happens:"
   ]
  },
  {
   "cell_type": "code",
   "execution_count": null,
   "id": "707d6a26-3aa0-4064-b1ea-117fd2bff6d7",
   "metadata": {},
   "outputs": [],
   "source": [
    "model = pws.Model(model_dict)\n",
    "model.initialize_netcdf(nb_output_dir / \"nhm_memory\")\n",
    "model.run()"
   ]
  },
  {
   "cell_type": "markdown",
   "id": "2728d285-f0cd-43b0-96ff-9d019c7e0fda",
   "metadata": {},
   "source": [
    "## Model dictionary yaml file\n",
    "It may be preferable to have a model dictionary encoded in yaml file. Let's do that. First we'll need to write the control as a yaml file. To do that we need a serializable dictionary in python. "
   ]
  },
  {
   "cell_type": "code",
   "execution_count": null,
   "id": "bcbdca24-7347-4ae7-91de-cee896461e08",
   "metadata": {},
   "outputs": [],
   "source": [
    "run_dir = pl.Path(nb_output_dir / \"nhm_yaml\")\n",
    "run_dir.mkdir(exist_ok=True)\n",
    "control_dict = {\n",
    "    \"start_time\": str(control.start_time),\n",
    "    \"end_time\": str(control.end_time),\n",
    "    \"time_step\": str(control.time_step)[0:2],\n",
    "    \"time_step_units\": str(control.time_step)[3:4],\n",
    "    \"netcdf_output_dir\": run_dir,\n",
    "} | control.options\n",
    "\n",
    "pprint(control_dict, sort_dicts=False)"
   ]
  },
  {
   "cell_type": "markdown",
   "id": "0aaa0705-ac8d-455d-9f56-8ba7b7353c44",
   "metadata": {},
   "source": [
    "We add the option `netcdf_output_dir` to the control since we assume we wont be able to do so at run time. Note that this option and the `input_dir` option are `pathlib.Path` objects. These are not what we want to write to file. We want their string version. We could do `str()` on each one by hand, but it will be more handy to write a small, recursive function to do this on a supplied dictionary since this will be a recurring task with the model dictionary we are about to create."
   ]
  },
  {
   "cell_type": "code",
   "execution_count": null,
   "id": "e8e907ed-29e1-44f0-9960-98f70db6a578",
   "metadata": {},
   "outputs": [],
   "source": [
    "def dict_pl_to_str(the_dict):\n",
    "    for key, val in the_dict.items():\n",
    "        if isinstance(val, dict):\n",
    "            the_dict[key] = dict_pl_to_str(val)\n",
    "        elif isinstance(val, pl.Path):\n",
    "            the_dict[key] = str(val)\n",
    "\n",
    "    return the_dict\n",
    "\n",
    "\n",
    "control_dict = dict_pl_to_str(control_dict)\n",
    "pprint(control_dict, sort_dicts=False)"
   ]
  },
  {
   "cell_type": "markdown",
   "id": "a51538c2-6431-4866-adff-eb9e15acb15c",
   "metadata": {},
   "source": [
    "Next, we need to supply the model dictionary as above, but we need paths to parameter and discretization netcdf files instead of instantiated Parameter objects for both. "
   ]
  },
  {
   "cell_type": "code",
   "execution_count": null,
   "id": "1fe43720-4df3-4b34-b964-ba2af481c9a0",
   "metadata": {},
   "outputs": [],
   "source": [
    "control_yaml_file = run_dir / \"control.yml\"\n",
    "model_dict = {\n",
    "    \"control\": control_yaml_file.resolve(),\n",
    "    \"dis_hru\": domain_dir / \"parameters_dis_hru.nc\",\n",
    "    \"dis_both\": domain_dir / \"parameters_dis_both.nc\",\n",
    "    \"model_order\": model_order,\n",
    "}\n",
    "\n",
    "for proc in nhm_processes:\n",
    "    proc_name = proc.__name__\n",
    "    proc_rename = \"prms_\" + proc_name[4:].lower()\n",
    "    model_dict[proc_rename] = {}\n",
    "    proc_dict = model_dict[proc_rename]\n",
    "    proc_dict[\"class\"] = proc_name\n",
    "    proc_param_file = domain_dir / f\"parameters_{proc_name}.nc\"\n",
    "    proc_dict[\"parameters\"] = proc_param_file\n",
    "    if proc_rename == \"prms_channel\":\n",
    "        proc_dict[\"dis\"] = \"dis_both\"\n",
    "    else:\n",
    "        proc_dict[\"dis\"] = \"dis_hru\"\n",
    "\n",
    "model_dict = dict_pl_to_str(model_dict)\n",
    "pprint(model_dict, sort_dicts=False)"
   ]
  },
  {
   "cell_type": "markdown",
   "id": "a6fddaf2-d3d0-46b2-b463-9708c03ab6ac",
   "metadata": {},
   "source": [
    "A note on paths in the yaml file. Because we are using files in two different locations which are not easily described relative to the location of yaml file, we are using absolute paths. However, one can also describe all paths relative to the location of the yaml file if that is more suitable to your purposes. \n",
    "\n",
    "Finally, we have the control and model dictionaries ready to write to yaml."
   ]
  },
  {
   "cell_type": "code",
   "execution_count": null,
   "id": "7caddaf9-37f3-40a3-b054-6a275f0f3e2d",
   "metadata": {},
   "outputs": [],
   "source": [
    "model_dict_yaml_file = run_dir / \"model_dict.yml\"\n",
    "dump_dict = {control_yaml_file: control_dict, model_dict_yaml_file: model_dict}\n",
    "for key, val in dump_dict.items():\n",
    "    with open(key, \"w\") as file:\n",
    "        documents = yaml.dump(val, file)"
   ]
  },
  {
   "cell_type": "code",
   "execution_count": null,
   "id": "bcc2a81f-bac2-47a6-b161-07088c96e185",
   "metadata": {},
   "outputs": [],
   "source": [
    "! cat 01_multi-process_models/nhm_yaml/control.yml"
   ]
  },
  {
   "cell_type": "code",
   "execution_count": null,
   "id": "8901961b-527a-419d-82fc-a3cb16af04ec",
   "metadata": {},
   "outputs": [],
   "source": [
    "! cat 01_multi-process_models/nhm_yaml/model_dict.yml"
   ]
  },
  {
   "cell_type": "code",
   "execution_count": null,
   "id": "7891df03-efd2-44b5-9a9e-3ba61a72fa23",
   "metadata": {},
   "outputs": [],
   "source": [
    "model = pws.Model.from_yml(model_dict_yaml_file)\n",
    "model.run()"
   ]
  },
  {
   "cell_type": "code",
   "execution_count": null,
   "id": "db0d920e-0227-45ba-92c6-8ffacab9ca3c",
   "metadata": {},
   "outputs": [],
   "source": []
  },
  {
   "cell_type": "code",
   "execution_count": null,
   "id": "9b62835b-0634-4c74-8cf7-b138b75607c5",
   "metadata": {},
   "outputs": [],
   "source": []
  }
 ],
 "metadata": {
  "language_info": {
   "codemirror_mode": {
    "name": "ipython"
   },
   "file_extension": ".py",
   "mimetype": "text/x-python",
   "name": "python",
   "nbconvert_exporter": "python"
  }
 },
 "nbformat": 4,
 "nbformat_minor": 5
}
