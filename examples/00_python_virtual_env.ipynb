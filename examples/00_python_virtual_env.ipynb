{
 "cells": [
  {
   "cell_type": "markdown",
   "id": "c55c7fb2-2dce-4c17-b01e-ff166c8d336d",
   "metadata": {},
   "source": [
    "# 00 - pynhm Python Virtual Environments\n",
    "\n",
    "*James McCreight, September 2022*\n",
    "\n",
    "---\n",
    "\n",
    "This is the first notebook to get started. We'll clone the git repository and setup the python virtual environment we need. __This notebook it is to be run with a bash kernel__ in jupyterlab (or jupyter notebook).\n",
    "\n",
    "## Requirements: Git and Anaconda (or pip)\n",
    "To follow this notebook, you'll need git and conda (Anaconda or Miniconda). You may elect to use pip instead of conda for installing dependencies, and there is a note below on this. However [installing Anaconda or Miniconda](https://docs.anaconda.com/anaconda/install/) is recommended. \n",
    "\n",
    "In fact, if you have installed conda, you bootstrap everything else you need to run this notebook (including git and jupyter) with the following code block:\n",
    "\n",
    "```bash\n",
    "env_name=git_jupyter\n",
    "env_file=${env_name}.yml\n",
    "\n",
    "echo \"name: git_jupyter\n",
    "channels:\n",
    "  - conda-forge\n",
    "dependencies:\n",
    "  - git\n",
    "  - bash_kernel\n",
    "  - ipython\n",
    "  - jupyter\n",
    "  - jupyterlab  \n",
    "\" > $env_file\n",
    "\n",
    "conda remove -y --name $env_name --all || exit 2\n",
    "conda create -y --name $env_name || exit 3\n",
    "conda env update --name $env_name --file $env_file --prune  || exit 4\n",
    "rm $env_file || exit 5\n",
    "```\n",
    "\n",
    "In general, conda installs can take some time (which is the downpayment on headaches saved, i guess), so please be prepared to wait when running this and subsequent conda commands. \n",
    "\n",
    "In creating this notebook, the above code was run and then followed by\n",
    "\n",
    "```bash\n",
    "conda activate git_jupyter\n",
    "jupyter-lab\n",
    "```\n",
    "\n",
    "From there, this notebook was opened and the rest of the code run interactively. You should be able to replicate this.\n",
    "\n",
    "Once you have git, conda, pip, and Python, installed versions of this software should be \"reasonably\" close to what is printed below. "
   ]
  },
  {
   "cell_type": "code",
   "execution_count": 1,
   "id": "b54c7adc-9a8b-4fd7-959d-c1122296a1c6",
   "metadata": {},
   "outputs": [
    {
     "name": "stdout",
     "output_type": "stream",
     "text": [
      "git version 2.37.3\n",
      "conda 4.14.0\n",
      "pip 22.2.2 from /Users/jamesmcc/opt/anaconda3/envs/git_jupyter/lib/python3.10/site-packages/pip (python 3.10)\n",
      "Python 3.10.6\n"
     ]
    }
   ],
   "source": [
    "git --version\n",
    "conda --version\n",
    "pip --version\n",
    "python --version"
   ]
  },
  {
   "cell_type": "markdown",
   "id": "a7b94cf4-c6e8-429c-bf38-1a04176684c0",
   "metadata": {},
   "source": [
    "The Python version installed by conda should be in the range 3.8 - 3.10. "
   ]
  },
  {
   "cell_type": "markdown",
   "id": "88c85549-4768-4e6c-8b50-3c19a5b57369",
   "metadata": {},
   "source": [
    "## Set pynhm_repo_root\n",
    "Specify the root of the pynhm repository (still yet to be cloned below) here."
   ]
  },
  {
   "cell_type": "code",
   "execution_count": 2,
   "id": "abca2f2c-b785-4d2a-9f97-a1f20438c114",
   "metadata": {},
   "outputs": [],
   "source": [
    "# pynhm_repo_root=/your/path/to/pynhm\n",
    "pynhm_repo_root=/Users/jamesmcc/usgs/pynhm"
   ]
  },
  {
   "cell_type": "markdown",
   "id": "1a21e4f7-b97e-4dc3-b052-14b7b83fb72e",
   "metadata": {},
   "source": [
    "## Clone the pynhm repository"
   ]
  },
  {
   "cell_type": "code",
   "execution_count": 3,
   "id": "0857c7aa-caf9-422c-84f8-c9d9a7bd7101",
   "metadata": {},
   "outputs": [],
   "source": [
    "cd $(dirname $pynhm_repo_root)\n",
    "if [ ! -e pynhm ]; then\n",
    "    git clone https://github.com/EC-USGS/pynhm\n",
    "fi"
   ]
  },
  {
   "cell_type": "markdown",
   "id": "32c7bfe0-5589-4108-94c9-7fece6042e47",
   "metadata": {},
   "source": [
    "If you'd like to have your own fork, please fork the repository on github and then clone your fork instead of the upstream (as above). \n",
    "\n",
    "## Download the GIS files\n",
    "You can choose to put these elsewhere, but the location used here will be assumed in the subsequent notebooks."
   ]
  },
  {
   "cell_type": "code",
   "execution_count": null,
   "id": "77e63928-5b67-4a78-803a-012a0e8acc59",
   "metadata": {},
   "outputs": [],
   "source": []
  },
  {
   "cell_type": "markdown",
   "id": "2692de0b-fda7-4c9c-943e-a231f1775fed",
   "metadata": {},
   "source": [
    "## Setup the virtual environment\n",
    "\n",
    "What are virtual environments? Virtual environments are like separate python toolboxes for different specific projects or tasks. When you need to work on a specific task, you load the associated virtual environment and use the specific tools (packages and versions) contained therein. You load and unload the virtual environments (from the command line or in jupyter) before or when starting Python. \n",
    "\n",
    "There are three virtual environments listed in the pynhm repository."
   ]
  },
  {
   "cell_type": "code",
   "execution_count": 4,
   "id": "e15d58f5-01a7-43d7-bbc7-b9869d052de2",
   "metadata": {},
   "outputs": [
    {
     "name": "stdout",
     "output_type": "stream",
     "text": [
      "pynhm_root = /Users/jamesmcc/usgs/pynhm\n",
      "/Users/jamesmcc/usgs/pynhm/ci/requirements/environment.yml\n",
      "/Users/jamesmcc/usgs/pynhm/ci/requirements/doc.yml\n"
     ]
    }
   ],
   "source": [
    "echo \"pynhm_repo_root = $pynhm_repo_root\"\n",
    "ls ${pynhm_repo_root}/ci/requirements/environment.yml || echo \"environment.yml not found, please check pynhm_repo_root\"\n",
    "ls ${pynhm_repo_root}/ci/requirements/doc.yml || echo \"docs.yml not found, please check pynhm_repo_root\"\n",
    "ls ${pynhm_repo_root}/examples/examples_env.yml || echo \"examples_env.yml not found, please check pynhm_repo_root\""
   ]
  },
  {
   "cell_type": "markdown",
   "id": "9a914555-987f-4508-adbe-cc93ed917358",
   "metadata": {},
   "source": [
    "These YAML files are read by Anaconda to setup an environment with a requested name (as we will do below). Note that if you wanted to use pip instead of conda, you can use the `.txt` equivalents of these files. \n",
    "\n",
    "We install the `examples_env.yaml` below. The `environment.yml` environment is the minimal set of dependences for CI. If you are interested in building the documentation for the repository, you would want to install and use the `doc.yml` to do so. \n",
    "\n",
    "We take a look at `envionment.yml`"
   ]
  },
  {
   "cell_type": "code",
   "execution_count": 5,
   "id": "b8f6c78c-c5cb-4392-a9ec-dc407f846b50",
   "metadata": {},
   "outputs": [
    {
     "name": "stdout",
     "output_type": "stream",
     "text": [
      "name: pynhm-tests\n",
      "channels:\n",
      "  - conda-forge\n",
      "  - nodefaults\n",
      "dependencies:\n",
      "  - netCDF4\n",
      "  - networkx\n",
      "  - numpy\n",
      "  - numba\n",
      "  - pandas\n",
      "  - pip\n",
      "  - pytest\n",
      "  - pytest-cov\n",
      "  - pytest-env\n",
      "  - pytest-xdist\n",
      "  - pyyaml\n",
      "  - xarray\n",
      "  - flopy\n",
      "  - pip:\n",
      "      - click != 8.1.0\n",
      "      - black\n",
      "      - isort\n",
      "      - flake8\n",
      "      - pylint\n"
     ]
    }
   ],
   "source": [
    "cat ${pynhm_repo_root}/examples/examples_env.yml"
   ]
  },
  {
   "cell_type": "markdown",
   "id": "461aee67-ca3f-43cc-9cc9-dbcfc1052159",
   "metadata": {},
   "source": [
    "We see that Anaconda will create an environment named \"pynhm-tests\", what conda channels it will search for dependencies, the dependencies themselves, and what dependencies are only available from pip. \n",
    "\n",
    "Conda allows us to install these into an environment of a different name, and we'll create the environment \"pynhm_nb\". We name it this because we'll also want to install IPython and jupyter, so we can run notebooks and pynhm. The `environment.yml` file tries to keep a minimal listing of pynhm dependencies. We may consider creating a `notebooks.yml` file which would contain the additional dependencies to run our notebooks in the future. \n",
    "\n",
    "When installing environments from conda, I prefer to delete and recreate from scratch. So the following code will completely delete the named environment (\"pynhm_nb\"). (Note the following will not succeed if the named environment is active). "
   ]
  },
  {
   "cell_type": "code",
   "execution_count": 6,
   "id": "20541777-0ada-428e-8210-8f16f4daffa9",
   "metadata": {},
   "outputs": [],
   "source": [
    "env_name=pynhm_nb"
   ]
  },
  {
   "cell_type": "code",
   "execution_count": 7,
   "id": "80c6b6da-7b03-4bec-841d-612e86c8c0a4",
   "metadata": {},
   "outputs": [
    {
     "name": "stdout",
     "output_type": "stream",
     "text": [
      "Removing pynhm_plus...\n",
      "\n",
      "Remove all packages in environment /Users/jamesmcc/opt/anaconda3/envs/pynhm_plus:\n",
      "\n",
      "No packages found in /Users/jamesmcc/opt/anaconda3/envs/pynhm_plus. Continuing environment removal\n",
      "\n",
      "Creating pynhm_plus...\n",
      "Collecting package metadata (current_repodata.json): done\n",
      "Solving environment: done\n",
      "\n",
      "## Package Plan ##\n",
      "\n",
      "  environment location: /Users/jamesmcc/opt/anaconda3/envs/pynhm_plus\n",
      "\n",
      "\n",
      "\n",
      "Preparing transaction: done\n",
      "Verifying transaction: done\n",
      "Executing transaction: done\n",
      "#\n",
      "# To activate this environment, use\n",
      "#\n",
      "#     $ conda activate pynhm_plus\n",
      "#\n",
      "# To deactivate an active environment, use\n",
      "#\n",
      "#     $ conda deactivate\n",
      "\n",
      "Retrieving notices: ...working... done\n",
      "\n",
      "Installing pynhm_plus from /Users/jamesmcc/usgs/pynhm/examples/examples.yml\n",
      "Collecting package metadata (repodata.json): done\n",
      "Solving environment: done\n",
      "\n",
      "Downloading and Extracting Packages\n",
      "hvplot-0.8.1         | 3.0 MB    | ##################################### | 100% \n",
      "pyviz_comms-2.2.1    | 31 KB     | ##################################### | 100% \n",
      "datashader-0.14.2    | 16.6 MB   | ##################################### | 100% \n",
      "Preparing transaction: done\n",
      "Verifying transaction: done\n",
      "Executing transaction: / \n",
      "/ Enabling nb_conda_kernels...\n",
      "CONDA_PREFIX: /Users/jamesmcc/opt/anaconda3/envs/pynhm_plus\n",
      "Status: enabled\n",
      "\n",
      "/ \n",
      "done\n",
      "Installing pip dependencies: \\ Ran pip subprocess with arguments:\n",
      "['/Users/jamesmcc/opt/anaconda3/envs/pynhm_plus/bin/python', '-m', 'pip', 'install', '-U', '-r', '/Users/jamesmcc/usgs/pynhm/examples/condaenv.az60p3_k.requirements.txt']\n",
      "Pip subprocess output:\n",
      "Requirement already satisfied: click!=8.1.0 in /Users/jamesmcc/opt/anaconda3/envs/pynhm_plus/lib/python3.10/site-packages (from -r /Users/jamesmcc/usgs/pynhm/examples/condaenv.az60p3_k.requirements.txt (line 1)) (8.1.3)\n",
      "Collecting black\n",
      "  Using cached black-22.8.0-cp310-cp310-macosx_10_9_x86_64.whl (1.4 MB)\n",
      "Collecting isort\n",
      "  Using cached isort-5.10.1-py3-none-any.whl (103 kB)\n",
      "Collecting flake8\n",
      "  Using cached flake8-5.0.4-py2.py3-none-any.whl (61 kB)\n",
      "Collecting pylint\n",
      "  Using cached pylint-2.15.0-py3-none-any.whl (505 kB)\n",
      "Collecting mypy-extensions>=0.4.3\n",
      "  Using cached mypy_extensions-0.4.3-py2.py3-none-any.whl (4.5 kB)\n",
      "Collecting platformdirs>=2\n",
      "  Using cached platformdirs-2.5.2-py3-none-any.whl (14 kB)\n",
      "Requirement already satisfied: tomli>=1.1.0 in /Users/jamesmcc/opt/anaconda3/envs/pynhm_plus/lib/python3.10/site-packages (from black->-r /Users/jamesmcc/usgs/pynhm/examples/condaenv.az60p3_k.requirements.txt (line 2)) (2.0.1)\n",
      "Collecting pathspec>=0.9.0\n",
      "  Using cached pathspec-0.10.0-py3-none-any.whl (27 kB)\n",
      "Collecting pycodestyle<2.10.0,>=2.9.0\n",
      "  Using cached pycodestyle-2.9.1-py2.py3-none-any.whl (41 kB)\n",
      "Collecting mccabe<0.8.0,>=0.7.0\n",
      "  Using cached mccabe-0.7.0-py2.py3-none-any.whl (7.3 kB)\n",
      "Collecting pyflakes<2.6.0,>=2.5.0\n",
      "  Using cached pyflakes-2.5.0-py2.py3-none-any.whl (66 kB)\n",
      "Collecting dill>=0.2\n",
      "  Using cached dill-0.3.5.1-py2.py3-none-any.whl (95 kB)\n",
      "Collecting astroid<=2.14.0-dev0,>=2.12.4\n",
      "  Using cached astroid-2.12.5-py3-none-any.whl (262 kB)\n",
      "Collecting tomlkit>=0.10.1\n",
      "  Using cached tomlkit-0.11.4-py3-none-any.whl (35 kB)\n",
      "Collecting wrapt<2,>=1.11\n",
      "  Using cached wrapt-1.14.1-cp310-cp310-macosx_10_9_x86_64.whl (35 kB)\n",
      "Collecting lazy-object-proxy>=1.4.0\n",
      "  Using cached lazy_object_proxy-1.7.1-cp310-cp310-macosx_10_9_x86_64.whl (22 kB)\n",
      "Installing collected packages: mypy-extensions, wrapt, tomlkit, pyflakes, pycodestyle, platformdirs, pathspec, mccabe, lazy-object-proxy, isort, dill, flake8, black, astroid, pylint\n",
      "Successfully installed astroid-2.12.5 black-22.8.0 dill-0.3.5.1 flake8-5.0.4 isort-5.10.1 lazy-object-proxy-1.7.1 mccabe-0.7.0 mypy-extensions-0.4.3 pathspec-0.10.0 platformdirs-2.5.2 pycodestyle-2.9.1 pyflakes-2.5.0 pylint-2.15.0 tomlkit-0.11.4 wrapt-1.14.1\n",
      "\n",
      "done\n",
      "#\n",
      "# To activate this environment, use\n",
      "#\n",
      "#     $ conda activate pynhm_plus\n",
      "#\n",
      "# To deactivate an active environment, use\n",
      "#\n",
      "#     $ conda deactivate\n",
      "\n",
      "Retrieving notices: ...working... done\n",
      "\n",
      "real\t5m43.328s\n",
      "user\t5m0.703s\n",
      "sys\t0m35.583s\n"
     ]
    }
   ],
   "source": [
    "env_file=${pynhm_repo_root}/examples/examples.yml\n",
    "\n",
    "echo \"Removing $env_name...\"\n",
    "conda remove -y --name $env_name --all || exit 2\n",
    "\n",
    "echo\n",
    "echo \"Creating $env_name...\"\n",
    "conda create -y --name $env_name || exit 3\n",
    "\n",
    "echo\n",
    "echo \"Installing $env_name from $env_file\"\n",
    "time conda env update --name $env_name --file $env_file --prune  || exit 4"
   ]
  },
  {
   "cell_type": "markdown",
   "id": "d5aea0bd-9db9-41d4-863e-61287a7352fd",
   "metadata": {},
   "source": [
    "Now we need to install pynhm. "
   ]
  },
  {
   "cell_type": "code",
   "execution_count": 8,
   "id": "10d984a0-5642-43da-ba5b-bbf7a8bb4e8b",
   "metadata": {},
   "outputs": [
    {
     "name": "stdout",
     "output_type": "stream",
     "text": [
      "Obtaining file:///Users/jamesmcc/usgs/pynhm\n",
      "  Installing build dependencies ... \u001b[?25ldone\n",
      "\u001b[?25h  Checking if build backend supports build_editable ... \u001b[?25ldone\n",
      "\u001b[?25h  Getting requirements to build editable ... \u001b[?25ldone\n",
      "\u001b[?25h  Preparing editable metadata (pyproject.toml) ... \u001b[?25ldone\n",
      "\u001b[?25hRequirement already satisfied: pyyaml in /Users/jamesmcc/opt/anaconda3/envs/pynhm_plus/lib/python3.10/site-packages (from pynhm==0.1.dev479+g4a1ecbe.d20220902) (6.0)\n",
      "Requirement already satisfied: pandas in /Users/jamesmcc/opt/anaconda3/envs/pynhm_plus/lib/python3.10/site-packages (from pynhm==0.1.dev479+g4a1ecbe.d20220902) (1.4.4)\n",
      "Requirement already satisfied: numba in /Users/jamesmcc/opt/anaconda3/envs/pynhm_plus/lib/python3.10/site-packages (from pynhm==0.1.dev479+g4a1ecbe.d20220902) (0.55.2)\n",
      "Requirement already satisfied: networkx in /Users/jamesmcc/opt/anaconda3/envs/pynhm_plus/lib/python3.10/site-packages (from pynhm==0.1.dev479+g4a1ecbe.d20220902) (2.8.6)\n",
      "Requirement already satisfied: numpy in /Users/jamesmcc/opt/anaconda3/envs/pynhm_plus/lib/python3.10/site-packages (from pynhm==0.1.dev479+g4a1ecbe.d20220902) (1.22.4)\n",
      "Requirement already satisfied: netCDF4 in /Users/jamesmcc/opt/anaconda3/envs/pynhm_plus/lib/python3.10/site-packages (from pynhm==0.1.dev479+g4a1ecbe.d20220902) (1.6.0)\n",
      "Requirement already satisfied: cftime in /Users/jamesmcc/opt/anaconda3/envs/pynhm_plus/lib/python3.10/site-packages (from netCDF4->pynhm==0.1.dev479+g4a1ecbe.d20220902) (1.6.1)\n",
      "Requirement already satisfied: setuptools in /Users/jamesmcc/opt/anaconda3/envs/pynhm_plus/lib/python3.10/site-packages (from numba->pynhm==0.1.dev479+g4a1ecbe.d20220902) (65.3.0)\n",
      "Requirement already satisfied: llvmlite<0.39,>=0.38.0rc1 in /Users/jamesmcc/opt/anaconda3/envs/pynhm_plus/lib/python3.10/site-packages (from numba->pynhm==0.1.dev479+g4a1ecbe.d20220902) (0.38.1)\n",
      "Requirement already satisfied: python-dateutil>=2.8.1 in /Users/jamesmcc/opt/anaconda3/envs/pynhm_plus/lib/python3.10/site-packages (from pandas->pynhm==0.1.dev479+g4a1ecbe.d20220902) (2.8.2)\n",
      "Requirement already satisfied: pytz>=2020.1 in /Users/jamesmcc/opt/anaconda3/envs/pynhm_plus/lib/python3.10/site-packages (from pandas->pynhm==0.1.dev479+g4a1ecbe.d20220902) (2022.2.1)\n",
      "Requirement already satisfied: six>=1.5 in /Users/jamesmcc/opt/anaconda3/envs/pynhm_plus/lib/python3.10/site-packages (from python-dateutil>=2.8.1->pandas->pynhm==0.1.dev479+g4a1ecbe.d20220902) (1.16.0)\n",
      "Building wheels for collected packages: pynhm\n",
      "  Building editable for pynhm (pyproject.toml) ... \u001b[?25ldone\n",
      "\u001b[?25h  Created wheel for pynhm: filename=pynhm-0.1.dev479+g4a1ecbe.d20220902-0.editable-py3-none-any.whl size=3175 sha256=0bd0107830fe06d7499ea05bd7f8df5eda44244102b327c60d341fb659a3028d\n",
      "  Stored in directory: /private/var/folders/rf/pj_9dt9x55b9gfnv34f3xktc0000gn/T/pip-ephem-wheel-cache-s15o8aa_/wheels/9a/f7/d8/7f6c6f238417a40f9afa97b355c56d869742bc25a749b3e278\n",
      "Successfully built pynhm\n",
      "Installing collected packages: pynhm\n",
      "Successfully installed pynhm-0.1.dev479+g4a1ecbe.d20220902\n"
     ]
    }
   ],
   "source": [
    "# You cant activate conda in this bash shell, so use the CONDA_PATH to get around installing\n",
    "conda_env_path=$(dirname $CONDA_PREFIX)\n",
    "cd $pynhm_repo_root\n",
    "${conda_env_path}/${env_name}/bin/pip install -e ."
   ]
  },
  {
   "cell_type": "markdown",
   "id": "3283995e-2b04-4f2b-91f3-5efa9622a390",
   "metadata": {},
   "source": [
    "We are now ready to use pynhm. If you're in a jupyter notebook in the git_jupyter kernel, shut down that notebook and that jupyter instance. In your shell, activate the new \"pynhm_nb\" environment and start jupyter-lab:\n",
    "\n",
    "```bash\n",
    "conda activate pynhm_nb\n",
    "jupyter-lab\n",
    "```\n",
    "\n",
    "Once in jupyter-lab, open notebook 01 with the bash kernel \"conda env: pynhm_nb\"."
   ]
  },
  {
   "cell_type": "code",
   "execution_count": null,
   "id": "5fb50f77-0a9a-49ea-b1cc-9c50d2aedca5",
   "metadata": {},
   "outputs": [],
   "source": []
  }
 ],
 "metadata": {
  "kernelspec": {
   "display_name": "Bash",
   "language": "bash",
   "name": "bash"
  },
  "language_info": {
   "codemirror_mode": "shell",
   "file_extension": ".sh",
   "mimetype": "text/x-sh",
   "name": "bash"
  }
 },
 "nbformat": 4,
 "nbformat_minor": 5
}
