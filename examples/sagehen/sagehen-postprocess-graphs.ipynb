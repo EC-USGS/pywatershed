{
 "cells": [
  {
   "cell_type": "markdown",
   "metadata": {},
   "source": [
    "# pynhm sagehen\n",
    "\n",
    "## Coupling of MODFLOW to pynhm\n",
    "\n",
    "## Supported operating systems\n",
    "This example can be run on the following operating systems:\n",
    "\n",
    "* linux\n",
    "* macOS\n",
    "* Windows\n",
    "\n",
    "## Prerequisites\n",
    "To process the results, the following publicly available software are required:\n",
    "\n",
    "* __flopy__ is a python package that can be used to build, run, and post-process MODFLOW 6 models. The source is available at https://github.com/modflowpy/flopy and the package can be installed from PyPI using `pip install flopy` or conda using `conda install flopy`.\n",
    "* __pandas__ which can be installed using PyPI (`pip install pandas`) or conda (`conda install pandas`).\n",
    "* __geopandas__ which can be installed using PyPI (`pip install geopandas`) or conda (`conda install geopandas`).\n",
    "* __fiona__ which can be installed using PyPI (`pip install fiona`) or conda (`conda install fiona`).\n",
    "* __netCDF4__ which can be installed using PyPI (`pip install netCDF4`) or conda (`conda install netCDF4`).\n",
    "* __hydrofunctions__ which can be installed using PyPI (`pip install hydrofunctions`) or conda (`conda install hydrofunctions`).\n",
    "\n",
    "## Post-processing the results\n",
    "\n",
    "We start by importing the necessary packages:"
   ]
  },
  {
   "cell_type": "code",
   "execution_count": null,
   "metadata": {},
   "outputs": [],
   "source": [
    "import os\n",
    "import sys\n",
    "import datetime\n",
    "import pathlib as pl\n",
    "import numpy as np\n",
    "import matplotlib as mpl\n",
    "from matplotlib import gridspec\n",
    "import matplotlib.ticker as mticker\n",
    "import matplotlib.dates as mdates\n",
    "import matplotlib.pyplot as plt\n",
    "import flopy\n",
    "import geopandas as gpd\n",
    "import fiona\n",
    "import netCDF4 as nc\n",
    "import pandas as pd\n",
    "import hydrofunctions as hf\n",
    "\n",
    "%matplotlib inline"
   ]
  },
  {
   "cell_type": "code",
   "execution_count": null,
   "metadata": {},
   "outputs": [],
   "source": [
    "# Set this to your location for the mf6bmipaper repo\n",
    "root_dir = pl.Path(\"/Users/jamesmcc/usgs/mf6bmipaper/models/ModflowPynhm/\")\n",
    "os.chdir(root_dir)"
   ]
  },
  {
   "cell_type": "code",
   "execution_count": null,
   "metadata": {},
   "outputs": [],
   "source": [
    "sys.path.append(os.path.join(\"..\", \"common\"))\n",
    "from figspecs import USGSFigure"
   ]
  },
  {
   "cell_type": "markdown",
   "metadata": {},
   "source": [
    "#### Figure dimensions and figure type"
   ]
  },
  {
   "cell_type": "code",
   "execution_count": null,
   "metadata": {},
   "outputs": [],
   "source": [
    "figwidth = 85  # mm\n",
    "figwidth = figwidth / 10 / 2.54  # inches\n",
    "\n",
    "fs = USGSFigure(figure_type=\"graph\")"
   ]
  },
  {
   "cell_type": "markdown",
   "metadata": {},
   "source": [
    "#### Process the geodatabase"
   ]
  },
  {
   "cell_type": "code",
   "execution_count": null,
   "metadata": {},
   "outputs": [],
   "source": [
    "file = \"../ModflowPRMS/Sagehen.gdb\"\n",
    "hru = gpd.read_file(file, driver=\"FileGDB\", layer=\"HRU\")\n",
    "river = gpd.read_file(file, driver=\"FileGDB\", layer=\"stream\")"
   ]
  },
  {
   "cell_type": "code",
   "execution_count": null,
   "metadata": {},
   "outputs": [],
   "source": [
    "ws = \"sagehenmodel\"\n",
    "sim = flopy.mf6.MFSimulation().load(sim_ws=ws)\n",
    "gwf = sim.get_model(\"sagehenmodel\")"
   ]
  },
  {
   "cell_type": "markdown",
   "metadata": {},
   "source": [
    "##### Set coordinate information for model grid"
   ]
  },
  {
   "cell_type": "code",
   "execution_count": null,
   "metadata": {},
   "outputs": [],
   "source": [
    "gwf.modelgrid.set_coord_info(\n",
    "    xoff=214860, yoff=4365620, epsg=26911, angrot=12.013768668935385975\n",
    ")"
   ]
  },
  {
   "cell_type": "markdown",
   "metadata": {},
   "source": [
    "##### Print model discretization shape"
   ]
  },
  {
   "cell_type": "code",
   "execution_count": null,
   "metadata": {},
   "outputs": [],
   "source": [
    "gwf.modelgrid.shape, gwf.modelgrid.nnodes"
   ]
  },
  {
   "cell_type": "markdown",
   "metadata": {},
   "source": [
    "#### Get PRMS output from stand-alone run"
   ]
  },
  {
   "cell_type": "code",
   "execution_count": null,
   "metadata": {},
   "outputs": [],
   "source": [
    "fpth = \"sagehenmodel/output/pynhm_output.npz\"\n",
    "prms_out = np.load(fpth)"
   ]
  },
  {
   "cell_type": "markdown",
   "metadata": {},
   "source": [
    "#### Get prms output times"
   ]
  },
  {
   "cell_type": "code",
   "execution_count": null,
   "metadata": {},
   "outputs": [],
   "source": [
    "idx0 = 730  # 365\n",
    "times = prms_out[\"time\"]\n",
    "ndays = times.shape[0]\n",
    "print(\"Number of PRMS days to process {}\".format(ndays))"
   ]
  },
  {
   "cell_type": "markdown",
   "metadata": {},
   "source": [
    "#### Get MODFLOW output times"
   ]
  },
  {
   "cell_type": "code",
   "execution_count": null,
   "metadata": {},
   "outputs": [],
   "source": [
    "tobj = flopy.utils.CellBudgetFile(\n",
    "    \"sagehenmodel/output/gwf_sagehen-gsf.sfr.cbc\", precision=\"double\"\n",
    ")\n",
    "times = np.array(tobj.get_times())\n",
    "ndays = times.shape[0]\n",
    "print(\"Number of MODFLOW days to process {}\".format(ndays))"
   ]
  },
  {
   "cell_type": "markdown",
   "metadata": {},
   "source": [
    "##### Calculate cell area and conversion factors"
   ]
  },
  {
   "cell_type": "code",
   "execution_count": null,
   "metadata": {},
   "outputs": [],
   "source": [
    "cell_area = 90.0 * 90.0\n",
    "cum2m = 1.0 / cell_area\n",
    "m2mm = 1000.0\n",
    "cum2mpd = cum2m / ndays\n",
    "cum2mmpd = cum2mpd * m2mm\n",
    "\n",
    "m2ft = 3.28081\n",
    "in2m = 1.0 / (12.0 * m2ft)\n",
    "\n",
    "d2sec = 60.0 * 60.0 * 24.0"
   ]
  },
  {
   "cell_type": "markdown",
   "metadata": {},
   "source": [
    "#### Get observed streamflow data"
   ]
  },
  {
   "cell_type": "code",
   "execution_count": null,
   "metadata": {},
   "outputs": [],
   "source": [
    "start = \"1980-10-01\"\n",
    "start_dt = datetime.datetime.strptime(start, \"%Y-%m-%d\")\n",
    "end_dt = start_dt + datetime.timedelta(days=ndays - 1)\n",
    "end = end_dt.strftime(\"%Y-%m-%d\")\n",
    "start_dt, end_dt, start, end"
   ]
  },
  {
   "cell_type": "code",
   "execution_count": null,
   "metadata": {},
   "outputs": [],
   "source": [
    "site = \"10343500\"\n",
    "site_name = \"Site {}\".format(site)\n",
    "sagehen = hf.NWIS(site, \"dv\", start, end)\n",
    "sagehen"
   ]
  },
  {
   "cell_type": "code",
   "execution_count": null,
   "metadata": {},
   "outputs": [],
   "source": [
    "sagehenStreamFlow = (sagehen.df()[\"USGS:10343500:00060:00003\"] / (m2ft**3)).to_frame()\n",
    "sagehenStreamFlow.rename(columns={\"USGS:10343500:00060:00003\": site_name}, inplace=True)"
   ]
  },
  {
   "cell_type": "markdown",
   "metadata": {},
   "source": [
    "#### Get simulated stream flow"
   ]
  },
  {
   "cell_type": "code",
   "execution_count": null,
   "metadata": {},
   "outputs": [],
   "source": [
    "sobj = flopy.utils.CellBudgetFile(\n",
    "    \"sagehenmodel/output/gwf_sagehen-gsf.sfr.cbc\", precision=\"double\"\n",
    ")\n",
    "sagehenSimQ_lst = []\n",
    "for idx, totim in enumerate(times):\n",
    "    sagehenSimQ_lst.append(\n",
    "        -sobj.get_data(totim=totim, text=\"EXT-OUTFLOW\")[0][\"q\"][-1] / d2sec\n",
    "    )"
   ]
  },
  {
   "cell_type": "code",
   "execution_count": null,
   "metadata": {},
   "outputs": [],
   "source": [
    "sagehenSimQ = pd.DataFrame(\n",
    "    sagehenSimQ_lst, index=sagehenStreamFlow.index, columns=(\"Simulated\",)\n",
    ")\n",
    "sagehenSimQ"
   ]
  },
  {
   "cell_type": "markdown",
   "metadata": {},
   "source": [
    "##### Add simulate streamflow to dataframe"
   ]
  },
  {
   "cell_type": "code",
   "execution_count": null,
   "metadata": {},
   "outputs": [],
   "source": [
    "sagehenStreamFlow[\"Simulated\"] = sagehenSimQ[\"Simulated\"]"
   ]
  },
  {
   "cell_type": "markdown",
   "metadata": {},
   "source": [
    "#### Set the plot times"
   ]
  },
  {
   "cell_type": "code",
   "execution_count": null,
   "metadata": {},
   "outputs": [],
   "source": [
    "plt_times = sagehenStreamFlow.index[idx0:]\n",
    "\n",
    "plt_times.shape"
   ]
  },
  {
   "cell_type": "markdown",
   "metadata": {},
   "source": [
    "#### Create streamflow figure"
   ]
  },
  {
   "cell_type": "code",
   "execution_count": null,
   "metadata": {},
   "outputs": [],
   "source": [
    "figheight = figwidth * 0.5\n",
    "fig, ax = plt.subplots(\n",
    "    figsize=(figwidth, figheight),\n",
    "    ncols=1,\n",
    "    nrows=1,\n",
    "    constrained_layout=True,\n",
    ")\n",
    "fig.set_constrained_layout_pads(\n",
    "    w_pad=4 / 72,\n",
    "    h_pad=4 / 72,\n",
    "    hspace=0,\n",
    "    wspace=0,\n",
    ")\n",
    "\n",
    "for name, color in zip(\n",
    "    (\n",
    "        site_name,\n",
    "        \"Simulated\",\n",
    "    ),\n",
    "    (\n",
    "        \"blue\",\n",
    "        \"black\",\n",
    "    ),\n",
    "):\n",
    "    ax.plot(\n",
    "        plt_times,\n",
    "        sagehenStreamFlow[name][idx0:],\n",
    "        linewidth=0.75,\n",
    "        color=color,\n",
    "        label=name,\n",
    "    )\n",
    "leg = fs.graph_legend(ax)\n",
    "\n",
    "ax.set_xlim(plt_times[0], plt_times[-1])\n",
    "# ax.set_ylim(0, 10)\n",
    "\n",
    "ax.set_xlabel(\"Date\")\n",
    "ax.set_ylabel(r\"Streamflow (m$^3$/s)\");\n",
    "\n",
    "# fpth = os.path.join(\"..\", \"..\", \"doc\", \"figures\", \"sagehen_streamflow_pywatershed.png\")\n",
    "# plt.savefig(fpth, dpi=600);"
   ]
  },
  {
   "cell_type": "markdown",
   "metadata": {},
   "source": [
    "##### Save dataframe index"
   ]
  },
  {
   "cell_type": "code",
   "execution_count": null,
   "metadata": {},
   "outputs": [],
   "source": [
    "df_index = sagehenStreamFlow.index"
   ]
  },
  {
   "cell_type": "markdown",
   "metadata": {},
   "source": [
    "##### Get idomain for mapping"
   ]
  },
  {
   "cell_type": "code",
   "execution_count": null,
   "metadata": {},
   "outputs": [],
   "source": [
    "idomain = gwf.dis.idomain.array"
   ]
  },
  {
   "cell_type": "markdown",
   "metadata": {},
   "source": [
    "#### Get HRU areas and convert to square meters"
   ]
  },
  {
   "cell_type": "code",
   "execution_count": null,
   "metadata": {},
   "outputs": [],
   "source": [
    "param_file = \"sagehen_params.pkl\"\n",
    "import pickle\n",
    "\n",
    "with open(param_file, \"rb\") as input_file:\n",
    "    param_dict = pickle.load(input_file)\n",
    "import pywatershed\n",
    "\n",
    "params = pywatershed.PrmsParameters(param_dict)\n",
    "\n",
    "hru_area = params.parameters[\"hru_area\"][:]  # m2\n",
    "acre2m2 = 43560.0 / (m2ft * m2ft)\n",
    "hru_area *= acre2m2"
   ]
  },
  {
   "cell_type": "markdown",
   "metadata": {},
   "source": [
    "##### Calculate model area"
   ]
  },
  {
   "cell_type": "code",
   "execution_count": null,
   "metadata": {},
   "outputs": [],
   "source": [
    "nactive_cells = idomain[0, :, :].sum()\n",
    "active_area = cell_area * nactive_cells\n",
    "nactive_cells, active_area"
   ]
  },
  {
   "cell_type": "markdown",
   "metadata": {},
   "source": [
    "#### Process SFR, CBC, UZF budget output"
   ]
  },
  {
   "cell_type": "code",
   "execution_count": null,
   "metadata": {},
   "outputs": [],
   "source": [
    "fpth = \"sagehenmodel/output/gwf_sagehen-gsf.sfr.cbc\"\n",
    "sfrobj = flopy.utils.CellBudgetFile(fpth, precision=\"double\")\n",
    "sfrobj.get_unique_record_names(0)"
   ]
  },
  {
   "cell_type": "code",
   "execution_count": null,
   "metadata": {},
   "outputs": [],
   "source": [
    "cbcobj = flopy.utils.CellBudgetFile(\n",
    "    \"sagehenmodel/output/gwf_sagehen-gsf.cbc\", precision=\"double\"\n",
    ")\n",
    "cbcobj.get_unique_record_names()"
   ]
  },
  {
   "cell_type": "code",
   "execution_count": null,
   "metadata": {},
   "outputs": [],
   "source": [
    "uzfobj = flopy.utils.CellBudgetFile(\n",
    "    \"sagehenmodel/output/gwf_sagehen-gsf.uzf.cbc\", precision=\"double\"\n",
    ")\n",
    "uzfobj.get_unique_record_names()"
   ]
  },
  {
   "cell_type": "markdown",
   "metadata": {},
   "source": [
    "#### Map PRMS data to MODFLOW grid"
   ]
  },
  {
   "cell_type": "code",
   "execution_count": null,
   "metadata": {},
   "outputs": [],
   "source": [
    "list(prms_out.keys())"
   ]
  },
  {
   "cell_type": "code",
   "execution_count": null,
   "metadata": {},
   "outputs": [],
   "source": [
    "prms_out[\"ppt\"].shape"
   ]
  },
  {
   "cell_type": "markdown",
   "metadata": {},
   "source": [
    "#### Function to sum MODFLOW 6 terms"
   ]
  },
  {
   "cell_type": "code",
   "execution_count": null,
   "metadata": {},
   "outputs": [],
   "source": [
    "def sum_terms(bobj, text=\"UZET\", vmult=1.0, gridBased=False):\n",
    "    v = np.zeros(times.shape[0], dtype=float)\n",
    "    for idx, totim in enumerate(times):\n",
    "        if gridBased:\n",
    "            v[idx] = vmult * bobj.get_data(totim=totim, text=text)[0].sum()\n",
    "        else:\n",
    "            v[idx] = vmult * bobj.get_data(totim=totim, text=text)[0][\"q\"].sum()\n",
    "    return v"
   ]
  },
  {
   "cell_type": "markdown",
   "metadata": {},
   "source": [
    "##### Create empty data frame for summation arrays"
   ]
  },
  {
   "cell_type": "code",
   "execution_count": null,
   "metadata": {},
   "outputs": [],
   "source": [
    "dfObj = pd.DataFrame(\n",
    "    columns=(\n",
    "        \"ppt\",\n",
    "        \"prms_actet\",\n",
    "        \"uzf_actet\",\n",
    "        \"gwf_actet\",\n",
    "        \"prms_infil\",\n",
    "        \"runoff\",\n",
    "        \"interflow\",\n",
    "        \"gwf_sto\",\n",
    "        \"uzf_sto\",\n",
    "        \"tot_sto\",\n",
    "        \"underflow\",\n",
    "        \"sfr_runoff\",\n",
    "        \"seepage\",\n",
    "        \"baseflow\",\n",
    "    ),\n",
    "    index=df_index,\n",
    ")"
   ]
  },
  {
   "cell_type": "markdown",
   "metadata": {},
   "source": [
    "#### Add PRMS flows to the data frame"
   ]
  },
  {
   "cell_type": "code",
   "execution_count": null,
   "metadata": {},
   "outputs": [],
   "source": [
    "dfObj[\"ppt\"] = np.sum(prms_out[\"ppt\"][:ndays], axis=1) / active_area\n",
    "dfObj[\"prms_actet\"] = np.sum(prms_out[\"actet\"][:ndays], axis=1) / active_area\n",
    "dfObj[\"prms_infil\"] = np.sum(prms_out[\"infil\"][:ndays], axis=1) / active_area\n",
    "dfObj[\"runoff\"] = np.sum(prms_out[\"runoff\"][:ndays], axis=1) / active_area\n",
    "dfObj[\"interflow\"] = np.sum(prms_out[\"interflow\"][:ndays], axis=1) / active_area"
   ]
  },
  {
   "cell_type": "markdown",
   "metadata": {},
   "source": [
    "#### Add evapotranspiration flows to the data frame"
   ]
  },
  {
   "cell_type": "code",
   "execution_count": null,
   "metadata": {},
   "outputs": [],
   "source": [
    "dfObj[\"uzf_actet\"] = sum_terms(uzfobj, text=\"UZET\", vmult=-1) / active_area\n",
    "dfObj[\"gwf_actet\"] = sum_terms(cbcobj, text=\"UZF-GWET\", vmult=-1) / active_area"
   ]
  },
  {
   "cell_type": "markdown",
   "metadata": {},
   "source": [
    "#### Add storage flows to the data frame"
   ]
  },
  {
   "cell_type": "code",
   "execution_count": null,
   "metadata": {},
   "outputs": [],
   "source": [
    "dfObj[\"uzf_sto\"] = sum_terms(uzfobj, text=\"STORAGE\") / active_area\n",
    "dfObj[\"gwf_sto\"] = sum_terms(cbcobj, text=\"STO-SS\", gridBased=True) / active_area\n",
    "dfObj[\"gwf_sto\"] += sum_terms(cbcobj, text=\"STO-SY\", gridBased=True) / active_area\n",
    "dfObj[\"tot_sto\"] = dfObj[\"uzf_sto\"] + dfObj[\"gwf_sto\"]"
   ]
  },
  {
   "cell_type": "markdown",
   "metadata": {},
   "source": [
    "#### Add streamflows to the data frame"
   ]
  },
  {
   "cell_type": "code",
   "execution_count": null,
   "metadata": {},
   "outputs": [],
   "source": [
    "dfObj[\"baseflow\"] = sum_terms(sfrobj, text=\"GWF\") / active_area\n",
    "dfObj[\"sfr_runoff\"] = sum_terms(sfrobj, text=\"RUNOFF\") / active_area\n",
    "dfObj[\"interflow\"] += sum_terms(uzfobj, text=\"REJ-INF-TO-MVR\", vmult=-1.0) / active_area\n",
    "dfObj[\"seepage\"] = sum_terms(cbcobj, text=\"DRN-TO-MVR\", vmult=-1.0) / active_area\n",
    "dfObj[\"underflow\"] = sum_terms(cbcobj, text=\"CHD\", vmult=-1.0) / active_area"
   ]
  },
  {
   "cell_type": "markdown",
   "metadata": {},
   "source": [
    "##### Function to calculate cumulative values"
   ]
  },
  {
   "cell_type": "code",
   "execution_count": null,
   "metadata": {},
   "outputs": [],
   "source": [
    "def cum_calc(v, i0=idx0):\n",
    "    return v[i0:].cumsum()"
   ]
  },
  {
   "cell_type": "markdown",
   "metadata": {},
   "source": [
    "#### Plot evapotranspiration terms with soil infiltration and precipitation"
   ]
  },
  {
   "cell_type": "code",
   "execution_count": null,
   "metadata": {},
   "outputs": [],
   "source": [
    "vtot = np.zeros(plt_times.shape, dtype=float)\n",
    "colors = (\"#c36f31\", \"#cab39f\", \"#b7bf5e\")\n",
    "for name, color in zip(dfObj.columns[1:4], colors):\n",
    "    v = cum_calc(dfObj[name])\n",
    "    plt.fill_between(plt_times, vtot + v, y2=vtot, color=color, label=name)\n",
    "    vtot += v\n",
    "cum_et = vtot.copy()\n",
    "plt.plot(plt_times, cum_calc(dfObj[\"ppt\"]), lw=1, color=\"cyan\", label=\"ppt\")\n",
    "plt.plot(\n",
    "    plt_times, cum_calc(dfObj[\"prms_infil\"]), lw=1, color=\"green\", label=\"soil recharge\"\n",
    ")\n",
    "plt.legend(loc=\"upper left\");"
   ]
  },
  {
   "cell_type": "code",
   "execution_count": null,
   "metadata": {},
   "outputs": [],
   "source": [
    "print(\n",
    "    \"total Rainfall {:.4g}\".format(cum_calc(dfObj[\"ppt\"])[-1]),\n",
    "    \"total ET {:.4g}\".format(vtot[-1]),\n",
    "    \"prms_actet {:.4g} ({:.4%})\".format(\n",
    "        cum_calc(dfObj[\"prms_actet\"])[-1], (cum_calc(dfObj[\"prms_actet\"]) / vtot)[-1]\n",
    "    ),\n",
    "    \"uzf_actet {:.4g} ({:.4%})\".format(\n",
    "        cum_calc(dfObj[\"uzf_actet\"])[-1], (cum_calc(dfObj[\"uzf_actet\"]) / vtot)[-1]\n",
    "    ),\n",
    "    \"gwf_actet {:.4g} ({:.4%})\".format(\n",
    "        cum_calc(dfObj[\"gwf_actet\"])[-1], (cum_calc(dfObj[\"gwf_actet\"]) / vtot)[-1]\n",
    "    ),\n",
    ")"
   ]
  },
  {
   "cell_type": "markdown",
   "metadata": {},
   "source": [
    "#### Plot cumulative storage change values"
   ]
  },
  {
   "cell_type": "code",
   "execution_count": null,
   "metadata": {},
   "outputs": [],
   "source": [
    "plt.plot(df_index, dfObj[\"uzf_sto\"], color=\"red\")\n",
    "plt.plot(df_index, dfObj[\"gwf_sto\"], color=\"blue\")\n",
    "plt.plot(df_index, dfObj[\"tot_sto\"], color=\"black\")"
   ]
  },
  {
   "cell_type": "code",
   "execution_count": null,
   "metadata": {},
   "outputs": [],
   "source": [
    "vtot = np.zeros(plt_times.shape, dtype=float)\n",
    "colors = (\"#c36f31\", \"#cab39f\", \"#b7bf5e\")\n",
    "for name, color in zip(\n",
    "    (\n",
    "        \"uzf_sto\",\n",
    "        \"gwf_sto\",\n",
    "    ),\n",
    "    colors,\n",
    "):\n",
    "    v = cum_calc(dfObj[name])\n",
    "    plt.fill_between(plt_times, vtot + v, y2=vtot, color=color, label=name)\n",
    "    vtot += v\n",
    "plt.legend(loc=\"upper left\")"
   ]
  },
  {
   "cell_type": "code",
   "execution_count": null,
   "metadata": {},
   "outputs": [],
   "source": [
    "plt.fill_between(plt_times, cum_calc(dfObj[\"tot_sto\"]), y2=0, color=\"blue\")\n",
    "ax = plt.gca()\n",
    "ax.get_ylim()"
   ]
  },
  {
   "cell_type": "markdown",
   "metadata": {},
   "source": [
    "#### Plot cumulative stream flow values"
   ]
  },
  {
   "cell_type": "code",
   "execution_count": null,
   "metadata": {},
   "outputs": [],
   "source": [
    "vtot = np.zeros(plt_times.shape, dtype=float)\n",
    "colors = (\n",
    "    \"#FF9AA2\",\n",
    "    \"#FFB7B2\",\n",
    "    \"#FFDAC1\",\n",
    "    \"#E2F0CB\",\n",
    "    \"#B5EAD7\",\n",
    "    \"#C7CEEA\",\n",
    ")[::-1]\n",
    "for name, color in zip(\n",
    "    (\n",
    "        \"underflow\",\n",
    "        \"runoff\",\n",
    "        \"interflow\",\n",
    "        \"seepage\",\n",
    "        \"baseflow\",\n",
    "        \"underflow\",\n",
    "    ),\n",
    "    colors,\n",
    "):\n",
    "    v = cum_calc(dfObj[name])\n",
    "    plt.fill_between(plt_times, vtot + v, y2=vtot, color=color, label=name)\n",
    "    vtot += v\n",
    "    print(vtot[-1])\n",
    "\n",
    "plt.legend(loc=\"upper left\");"
   ]
  },
  {
   "cell_type": "code",
   "execution_count": null,
   "metadata": {},
   "outputs": [],
   "source": [
    "vtot = cum_calc(dfObj[\"runoff\"])[-1]\n",
    "vtot += cum_calc(dfObj[\"interflow\"])[-1]\n",
    "vtot += cum_calc(dfObj[\"baseflow\"])[-1]\n",
    "vtot += cum_calc(dfObj[\"seepage\"])[-1]\n",
    "print(\n",
    "    \" total observed streamflow {:.4g}\\n\".format(\n",
    "        cum_calc(sagehenStreamFlow[site_name])[-1] * d2sec / active_area\n",
    "    ),\n",
    "    \"total simulated streamflow {:.4g}\\n\".format(vtot),\n",
    "    \"runoff {:.4g} ({:.4%})\".format(\n",
    "        cum_calc(dfObj[\"runoff\"])[-1], cum_calc(dfObj[\"runoff\"])[-1] / vtot\n",
    "    ),\n",
    "    \"interflow {:.4g} ({:.4%})\".format(\n",
    "        cum_calc(dfObj[\"interflow\"])[-1], cum_calc(dfObj[\"interflow\"])[-1] / vtot\n",
    "    ),\n",
    "    \"baseflow {:.4g} ({:.4%})\".format(\n",
    "        cum_calc(dfObj[\"baseflow\"])[-1], cum_calc(dfObj[\"baseflow\"])[-1] / vtot\n",
    "    ),\n",
    "    \"seepage {:.4g} ({:.4%})\".format(\n",
    "        cum_calc(dfObj[\"seepage\"])[-1], cum_calc(dfObj[\"seepage\"])[-1] / vtot\n",
    "    ),\n",
    ")"
   ]
  },
  {
   "cell_type": "code",
   "execution_count": null,
   "metadata": {},
   "outputs": [],
   "source": [
    "Qsim = sagehenStreamFlow[\"Simulated\"][idx0:]\n",
    "Qobs = sagehenStreamFlow[site_name][idx0:]\n",
    "me = (Qsim - Qobs).mean()\n",
    "Qmean = Qobs.mean()\n",
    "numer = ((Qsim - Qobs) ** 2).sum()\n",
    "denom = ((Qsim - Qmean) ** 2).sum()\n",
    "nse = 1 - numer / denom\n",
    "me, nse"
   ]
  },
  {
   "cell_type": "code",
   "execution_count": null,
   "metadata": {},
   "outputs": [],
   "source": [
    "figheight = figwidth * 1.25\n",
    "fig, axes = plt.subplots(\n",
    "    figsize=(figwidth, figheight),\n",
    "    ncols=1,\n",
    "    nrows=3,\n",
    "    sharex=True,\n",
    "    constrained_layout=True,\n",
    ")\n",
    "fig.set_constrained_layout_pads(\n",
    "    w_pad=4 / 72,\n",
    "    h_pad=4 / 72,\n",
    "    hspace=0,\n",
    "    wspace=0,\n",
    ")\n",
    "\n",
    "handletextpad = 0.1\n",
    "markerscale = 1\n",
    "handlelength = 1.25\n",
    "columnspacing = 0.5\n",
    "labelspacing = 0.25\n",
    "\n",
    "for idx, ax in enumerate(axes):\n",
    "    ax.set_xlim(plt_times[0], plt_times[-1])\n",
    "    if idx == 0:\n",
    "        ax.set_ylabel(r\"Streamflow (m$^3$/s)\")\n",
    "    else:\n",
    "        ax.set_ylabel(\"Cumulative flow (m)\")\n",
    "    ax.get_yaxis().set_label_coords(-0.05, 0.5)\n",
    "\n",
    "ax = axes[0]\n",
    "ax.set_ylim(0, 35)\n",
    "zorder = 100\n",
    "for name, color, linestyle in zip(\n",
    "    (\n",
    "        site_name,\n",
    "        \"Simulated\",\n",
    "    ),\n",
    "    (\n",
    "        \"blue\",\n",
    "        \"black\",\n",
    "    ),\n",
    "    (\n",
    "        \":\",\n",
    "        \"-\",\n",
    "    ),\n",
    "):\n",
    "    ax.plot(\n",
    "        plt_times,\n",
    "        sagehenStreamFlow[name][idx0:],\n",
    "        linewidth=0.75,\n",
    "        linestyle=linestyle,\n",
    "        color=color,\n",
    "        zorder=zorder,\n",
    "        label=name,\n",
    "    )\n",
    "    zorder -= 10\n",
    "# ax.set_ylim(0, ax.get_ylim()[1])\n",
    "leg = fs.graph_legend(\n",
    "    ax,\n",
    "    ncol=2,\n",
    "    loc=\"upper right\",\n",
    "    handletextpad=handletextpad,\n",
    "    handlelength=handlelength,\n",
    "    columnspacing=columnspacing,\n",
    "    labelspacing=labelspacing,\n",
    ")\n",
    "fs.heading(ax=ax, idx=0)\n",
    "fs.remove_edge_ticks()\n",
    "\n",
    "ax = axes[1]\n",
    "ax.set_ylim(0, 9)\n",
    "vtot = np.zeros(plt_times.shape, dtype=float)\n",
    "colors = (\n",
    "    \"#FF9AA2\",\n",
    "    \"#FFB7B2\",\n",
    "    \"#FFDAC1\",\n",
    "    \"#E2F0CB\",\n",
    "    \"#B5EAD7\",\n",
    "    \"#C7CEEA\",\n",
    ")[::-1]\n",
    "labels = (\n",
    "    \"Runoff\",\n",
    "    \"Interflow\",\n",
    "    \"Groundwater\\nSeepage\",\n",
    "    \"Baseflow\",\n",
    "    \"Basin\\nUnderflow\",\n",
    ")\n",
    "names = (\n",
    "    \"runoff\",\n",
    "    \"interflow\",\n",
    "    \"seepage\",\n",
    "    \"baseflow\",\n",
    ")\n",
    "for name, color, label in zip(names, colors, labels):\n",
    "    v = cum_calc(dfObj[name])\n",
    "    ax.fill_between(plt_times, vtot + v, y2=vtot, color=color)\n",
    "    ax.plot(\n",
    "        [-1],\n",
    "        [-1],\n",
    "        lw=0,\n",
    "        marker=\"s\",\n",
    "        markerfacecolor=color,\n",
    "        markeredgecolor=color,\n",
    "        label=label,\n",
    "    )\n",
    "    vtot += v\n",
    "# ax.set_ylim(0, ax.get_ylim()[1])\n",
    "fs.graph_legend(\n",
    "    ax=ax,\n",
    "    loc=\"upper left\",\n",
    "    ncol=2,\n",
    "    handletextpad=handletextpad,\n",
    "    markerscale=markerscale,\n",
    "    handlelength=handlelength,\n",
    "    columnspacing=columnspacing,\n",
    "    labelspacing=labelspacing,\n",
    ")\n",
    "\n",
    "ax = axes[2]\n",
    "ax.set_ylim(0, 9)\n",
    "vtot = np.zeros(plt_times.shape, dtype=float)\n",
    "colors_met = (\n",
    "    \"#FF6962\",\n",
    "    \"#FFE08E\",\n",
    "    \"#FFB346\",\n",
    ")\n",
    "names_met = (\n",
    "    \"prms_actet\",\n",
    "    \"uzf_actet\",\n",
    "    \"gwf_actet\",\n",
    ")\n",
    "labels_met = (\n",
    "    \"PRMS ET\",\n",
    "    \"Unsaturated zone ET\",\n",
    "    \"Groundwater ET\",\n",
    ")\n",
    "# ax.plot(plt_times, cum_calc(dfObj[\"ppt\"]), lw=1.25, color=\"cyan\", label=\"Rainfall\")\n",
    "for name, color, label in zip(names_met, colors_met, labels_met):\n",
    "    v = cum_calc(dfObj[name])\n",
    "    ax.fill_between(plt_times, vtot + v, y2=vtot, color=color)\n",
    "    ax.plot(\n",
    "        [-1],\n",
    "        [-1],\n",
    "        lw=0,\n",
    "        marker=\"s\",\n",
    "        markerfacecolor=color,\n",
    "        markeredgecolor=color,\n",
    "        label=label,\n",
    "    )\n",
    "    vtot += v\n",
    "# ax.set_ylim(0, ax.get_ylim()[1])\n",
    "fs.graph_legend(\n",
    "    ax=ax,\n",
    "    loc=\"upper left\",\n",
    "    ncol=1,\n",
    "    handletextpad=handletextpad,\n",
    "    markerscale=markerscale,\n",
    "    handlelength=handlelength,\n",
    "    columnspacing=columnspacing,\n",
    "    labelspacing=labelspacing,\n",
    ")\n",
    "fs.heading(ax=ax, idx=1)\n",
    "fs.remove_edge_ticks()\n",
    "\n",
    "ax.set_xlabel(\"Date\")\n",
    "ax.xaxis.set_major_formatter(mdates.DateFormatter(\"%-m/%Y\"))\n",
    "ax.xaxis.set_tick_params(rotation=45)\n",
    "fs.heading(ax=ax, idx=2)\n",
    "fs.remove_edge_ticks()\n",
    "\n",
    "fpth = os.path.join(\"..\", \"..\", \"doc\", \"figures\", \"sagehen_graphs_pywatershed.png\")\n",
    "plt.savefig(fpth, dpi=600);"
   ]
  },
  {
   "cell_type": "code",
   "execution_count": null,
   "metadata": {},
   "outputs": [],
   "source": []
  }
 ],
 "metadata": {
  "kernelspec": {
   "display_name": "Python [conda env:pynhmf6_nb]",
   "language": "python",
   "name": "conda-env-pynhmf6_nb-py"
  },
  "language_info": {
   "codemirror_mode": {
    "name": "ipython",
    "version": 3
   },
   "file_extension": ".py",
   "mimetype": "text/x-python",
   "name": "python",
   "nbconvert_exporter": "python",
   "pygments_lexer": "ipython3",
   "version": "3.9.13"
  }
 },
 "nbformat": 4,
 "nbformat_minor": 4
}
