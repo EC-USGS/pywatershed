{
 "cells": [
  {
   "cell_type": "code",
   "execution_count": null,
   "id": "b449f2f4-ca8f-4c8b-9960-40c5dfeaf6d4",
   "metadata": {},
   "outputs": [],
   "source": [
    "import pathlib as pl\n",
    "import pywatershed as pws"
   ]
  },
  {
   "cell_type": "code",
   "execution_count": null,
   "id": "4fbe74df-01ff-4bb4-9daa-999364323cb8",
   "metadata": {},
   "outputs": [],
   "source": [
    "output_dir = pl.Path(\"./07_cascading_flow/output\")\n",
    "domain_dir = pl.Path(\"../test_data/sagehen_5yr/\")"
   ]
  },
  {
   "cell_type": "code",
   "execution_count": null,
   "id": "013de7f9-9acb-416a-910e-4e7dc59da2bd",
   "metadata": {},
   "outputs": [],
   "source": [
    "control_file = domain_dir / \"sagehen_no_gw_cascades.control\"\n",
    "control = pws.Control.load_prms(control_file)\n",
    "control.options[\"parameter_file\"] = domain_dir / control.options[\"parameter_file\"][2:]\n",
    "control.options[\"input_dir\"] = domain_dir / \"output\"\n",
    "control.options[\"budget_type\"] = None\n",
    "control.options['netcdf_output_dir'] = output_dir\n",
    "control.options['netcdf_output_var_names'] = [\n",
    "    *pws.PRMSRunoffCascadesNoDprst.get_variables(),\n",
    "    *pws.PRMSSoilzoneCascadesNoDprst.get_variables(),\n",
    "    *pws.PRMSGroundwaterNoDprst.get_variables(),\n",
    "]"
   ]
  },
  {
   "cell_type": "code",
   "execution_count": null,
   "id": "822aa9a8-8ae1-4ee3-9edf-3cbf21ded426",
   "metadata": {},
   "outputs": [],
   "source": [
    "parameters = pws.parameters.PrmsParameters.load(control.options[\"parameter_file\"])"
   ]
  },
  {
   "cell_type": "code",
   "execution_count": null,
   "id": "23017235-da67-4268-b72d-8ac661440ee2",
   "metadata": {},
   "outputs": [],
   "source": [
    "# add the cascading parameters via pre-processing\n",
    "parameters = pws.utils.preprocess_cascades.preprocess_cascade_params(control, parameters)"
   ]
  },
  {
   "cell_type": "code",
   "execution_count": null,
   "id": "f754d6c5-227e-4201-900d-9c04ec4b41a3",
   "metadata": {},
   "outputs": [],
   "source": [
    "test_data_dir = pl.Path(\"../test_data\")\n",
    "domain_dir = test_data_dir / \"drb_2yr\"\n",
    "dis_hru = None\n",
    "\n",
    "model_dict = {\n",
    "    \"control\": control,\n",
    "    \"dis_hru\": dis_hru,\n",
    "    \"model_order\": [\n",
    "        \"runoff\",\n",
    "        \"soilzone\",\n",
    "        \"groundwater\",\n",
    "    ],\n",
    "    \"runoff\": {\n",
    "        \"class\": pws.PRMSRunoffCascadesNoDprst,\n",
    "        \"parameters\": parameters,\n",
    "        \"dis\": \"dis_hru\",\n",
    "    },\n",
    "    \"soilzone\": {\n",
    "        \"class\": pws.PRMSSoilzoneCascadesNoDprst,\n",
    "        \"parameters\": parameters,\n",
    "        \"dis\": \"dis_hru\",\n",
    "    },\n",
    "    \"groundwater\": {\n",
    "        \"class\": pws.PRMSGroundwaterNoDprst,\n",
    "        \"parameters\": parameters,\n",
    "        \"dis\": \"dis_hru\",\n",
    "    },\n",
    "}"
   ]
  },
  {
   "cell_type": "code",
   "execution_count": null,
   "id": "1e2e3ca8-4316-494a-ada3-5d83273c9e30",
   "metadata": {},
   "outputs": [],
   "source": [
    "model = pws.Model(model_dict)"
   ]
  },
  {
   "cell_type": "code",
   "execution_count": null,
   "id": "a5029e51-2d20-4ca0-86ea-a664576d94fd",
   "metadata": {},
   "outputs": [],
   "source": [
    "# model.run(netcdf_dir=output_dir, finalize=True)"
   ]
  },
  {
   "cell_type": "code",
   "execution_count": null,
   "id": "4683a9ad-856f-4bb3-b7c0-4d5dd5cf6ed6",
   "metadata": {},
   "outputs": [],
   "source": [
    "import xarray as xr\n",
    "horton_casc = xr.open_dataarray(output_dir / \"hru_horton_cascflow.nc\")\n",
    "sz_casc = xr.open_dataarray(output_dir / \"hru_sz_cascadeflow.nc\")"
   ]
  },
  {
   "cell_type": "code",
   "execution_count": null,
   "id": "c33c9d33-9622-49e1-b28e-fdbfc911e531",
   "metadata": {},
   "outputs": [],
   "source": [
    "proc_plot = pws.analysis.process_plot.ProcessPlot(\n",
    "    \"/Users/jmccreight/usgs/data/sagehen_pws_domain/GIS/\", \n",
    "    hru_shp_file_name = \"HRUs.shp\",\n",
    "    seg_shp_file_name = None,\n",
    ")\n",
    "proc_plot.plot_hru_var(\n",
    "    var_name=\"hru_horton_cascflow\",\n",
    "    process=pws.PRMSRunoffCascadesNoDprst,\n",
    "    data=horton_casc.mean(dim=\"time\"),\n",
    "    # data=horton_casc,  # make this a move in the underlying code\n",
    "    data_units=horton_casc.attrs[\"units\"],\n",
    "    nhm_id=horton_casc[\"nhm_id\"],\n",
    "    clim = (0.0, 1.0e-2)\n",
    ")"
   ]
  },
  {
   "cell_type": "code",
   "execution_count": null,
   "id": "33c9bea6-3f02-47f8-979e-91bee4375863",
   "metadata": {},
   "outputs": [],
   "source": [
    "proc_plot.plot_hru_var(\n",
    "    var_name=var,\n",
    "    process=pws.PRMSRunoffCascadesNoDprst,\n",
    "    # data=horton_casc.mean(dim=\"time\"),\n",
    "    data=sz_casc[30, :],\n",
    "    data_units=horton_casc.attrs[\"units\"],\n",
    "    nhm_id=horton_casc[\"nhm_id\"],\n",
    ")"
   ]
  },
  {
   "cell_type": "code",
   "execution_count": null,
   "id": "e2cc8cc3-d5c8-49ac-b312-6b5ca2c5ed11",
   "metadata": {},
   "outputs": [],
   "source": [
    "proc_plot.plot_hru_var(\n",
    "    var_name=var,\n",
    "    process=pws.PRMSRunoffCascadesNoDprst,\n",
    "    # data=horton_casc.mean(dim=\"time\"),\n",
    "    data=sz_casc[135, :],\n",
    "    data_units=horton_casc.attrs[\"units\"],\n",
    "    nhm_id=horton_casc[\"nhm_id\"],\n",
    ")"
   ]
  },
  {
   "cell_type": "code",
   "execution_count": null,
   "id": "7dd278ec-4e56-4154-8a5b-a6d304951404",
   "metadata": {},
   "outputs": [],
   "source": []
  }
 ],
 "metadata": {
  "language_info": {
   "codemirror_mode": {
    "name": "ipython"
   },
   "file_extension": ".py",
   "mimetype": "text/x-python",
   "name": "python",
   "nbconvert_exporter": "python"
  }
 },
 "nbformat": 4,
 "nbformat_minor": 5
}
