{
 "cells": [
  {
   "cell_type": "markdown",
   "id": "04177eca-95db-484a-9153-701f5a50adc7",
   "metadata": {},
   "source": [
    "# Processes\n",
    "\n",
    "The atomic unit of modeling in `pywatershed` is the process representation. `Process` is the class that provides the basis for process modeling. The design of `Process` supports `pywatershed` goals of providing modular, concise, and self-describing models.\n",
    "\n",
    "In this notebook, we'll take a look at an example `Process`. First we'll examine \n",
    "\n",
    "*How does a process work?*  How does a processes manage:\n",
    "* time\n",
    "* parameters\n",
    "* inputs\n",
    "* variables\n",
    "* options\n",
    "* initialization\n",
    "* advancing\n",
    "* calculation\n",
    "* outputting to disk\n",
    "* mass balance/budget tracking\n",
    "* finalization\n",
    "\n",
    "Second, we'll look at \n",
    "\n",
    "*Process design features*:\n",
    "* Self-describing\n",
    "    * dimensions, coords, parameters, inputs, variables, init_values,\n",
    "      restart_variables\n",
    "* Process and ConservativeProcess: budget\n",
    "\n",
    "## Prerequisites"
   ]
  },
  {
   "cell_type": "code",
   "execution_count": null,
   "id": "96eb8530-3fd7-45db-ac3c-8aa2900261f3",
   "metadata": {},
   "outputs": [],
   "source": [
    "# auto-format the code in this notebook\n",
    "%load_ext jupyter_black"
   ]
  },
  {
   "cell_type": "code",
   "execution_count": null,
   "id": "d351cbbc-e18d-4682-8f49-374777499b8e",
   "metadata": {
    "editable": true,
    "slideshow": {
     "slide_type": ""
    },
    "tags": []
   },
   "outputs": [],
   "source": [
    "import pathlib as pl\n",
    "from pprint import pprint\n",
    "import pydoc\n",
    "\n",
    "import hvplot.xarray  # noqa\n",
    "import numpy as np\n",
    "import pywatershed as pws\n",
    "from tqdm.notebook import tqdm\n",
    "import xarray as xr\n",
    "\n",
    "from helpers import gis_files\n",
    "\n",
    "gis_files.download()  # this downloads GIS files"
   ]
  },
  {
   "cell_type": "markdown",
   "id": "26ee3f38-5032-4b97-80b5-5925b4023fc0",
   "metadata": {},
   "source": [
    "## How a Process works\n",
    "\n",
    "We'll pick a simple, conceptual groundwater representation from PRMS as a case study. We'll simulate groundwater on the Delaware River Basin. \n",
    "\n",
    "To get started, we can ask for `help()`. At the moment `help` a bit too verbose, so we'll look at just its first 22 lines describing how this PRMSGroundwater is instantiated."
   ]
  },
  {
   "cell_type": "code",
   "execution_count": null,
   "id": "8ea1cb29-7ab5-44d8-9f63-5db925cf4c60",
   "metadata": {},
   "outputs": [],
   "source": [
    "# this is equivalent to help() but we get the multiline string and just look at part of it\n",
    "prms_gw_help = pydoc.render_doc(pws.PRMSGroundwater, \"Help on %s\")\n",
    "# the first 22 lines of help(pws.PRMSGroundwater)\n",
    "print(\"\\n\".join(prms_gw_help.splitlines()[0:22]))"
   ]
  },
  {
   "cell_type": "markdown",
   "id": "74ebb9e6-a341-470a-b65d-779ec0b1e0eb",
   "metadata": {},
   "source": [
    "The first line describes the module in which this class lives. The next line says that this class' parent class is `ConservativeProcess`. Next the signature for instantiating PRMSGroundwater is given, detailing its argument names, types, and defaults. Below this, more descriptive documentation is provided. \n",
    "\n",
    "A `ConservativeProcess` is a special `Process` that tracks mass conservation. That is to say that the `PRMSGroundwater` is a `ConservativeProcess`, which is itself a `Process`. So `PRMSGroundwater` is a concrete example we can investigate in more detail.\n",
    "\n",
    "To get a PRMS groundwater reservoir representation, we need to supply the arguments. We'll discuss each of the arguments as we go.\n",
    "\n",
    "*`control`:*\n",
    "An instance of the Control class. According to `help(pws.Control)`, \"Control manages global time and options, and provides metadata\". Hydrologic processes are generally prognostic, meaning that the next state depends on the current state ($X_{t+1}(X_t)$). The fundamental progression of time in a `pywatershed` model simulation is managed by an instance of the `Control` object.\n",
    "\n",
    "We'll create a Control object, it will just handle time."
   ]
  },
  {
   "cell_type": "code",
   "execution_count": null,
   "id": "dd285ea0-dd67-4a06-a7c7-0a2a00b14e9b",
   "metadata": {},
   "outputs": [],
   "source": [
    "control = pws.Control(\n",
    "    start_time=np.datetime64(\"1979-01-01T00:00:00\"),\n",
    "    end_time=np.datetime64(\"1979-07-01T00:00:00\"),\n",
    "    time_step=np.timedelta64(24, \"h\"),\n",
    ")"
   ]
  },
  {
   "cell_type": "markdown",
   "id": "026a3733-891f-4db1-8350-3a8296c3372d",
   "metadata": {},
   "source": [
    "*`discretization`:*\n",
    "From the signature we see that a discretization is of class `Parameters`. These are the static data that describe the spatial aspect of the this Process. We'll load these from an existing file. "
   ]
  },
  {
   "cell_type": "code",
   "execution_count": null,
   "id": "ff5410d2-0bf5-42db-bd58-714a0a64b49b",
   "metadata": {},
   "outputs": [],
   "source": [
    "pws_root = pws.constants.__pywatershed_root__\n",
    "domain_dir = pws_root / \"data/drb_2yr\"\n",
    "\n",
    "dis_file = domain_dir / \"parameters_dis_hru.nc\"\n",
    "assert dis_file.exists()\n",
    "dis = pws.Parameters.from_netcdf(dis_file)\n",
    "assert isinstance(dis, pws.Parameters)"
   ]
  },
  {
   "cell_type": "markdown",
   "id": "1046cf34-5551-4eb8-8585-e82615db8045",
   "metadata": {},
   "source": [
    "*`parameters`:*\n",
    "Of class `Parameters`, this argument provides the static/parameter values that model uses (beyond those in the discretization). They typically do not vary with the state of the model. We'll load these from an existing file."
   ]
  },
  {
   "cell_type": "code",
   "execution_count": null,
   "id": "387a2223-06c8-46d8-95ce-2a5478c49da0",
   "metadata": {},
   "outputs": [],
   "source": [
    "param_file = domain_dir / \"parameters_PRMSGroundwater.nc\"\n",
    "assert param_file.exists()\n",
    "params = pws.Parameters.from_netcdf(param_file)\n",
    "assert isinstance(params, pws.Parameters)"
   ]
  },
  {
   "cell_type": "markdown",
   "id": "60dbce41-5bf7-443f-b990-e19e10b94092",
   "metadata": {},
   "source": [
    "The remaining arguments we can supply in the call to `PRMSGroundwater`. \n",
    "\n",
    "*`soil_to_gw`, `ssr_to_gw`, and `dprst_seep_hru`:*\n",
    "These are the time-varying variables that are the inputs or forcings of this Process. Note that the type to be supplied is `Union[str, pl.Path, numpy.ndarray, pywatershed.base.adapter.Adapter]`. We'll choose to provide `pl.Path` object to pass static files for input. These files have the required timeseries of inputs and `Process` knows how to adapt this kind of netcdf input.\n",
    "\n",
    "*`budget_type`:*\n",
    "The `PRMSGroundwater` process computes a mass-balance or mass budget because it is a special subclass of `Process` \n",
    "called a `ConservativeProcess`. This option describes what to do when the budget does not balance. We'll elect to `error`.\n",
    "\n",
    "*`calc_method`:*\n",
    "The numerics behind the core calculations in this process. This proces has 3 options. We'll take \"numpy\".\n",
    "\n",
    "*`verbose`:* \n",
    "How much extra information do we want printed to the screen?\n",
    "\n",
    "Putting it all together:"
   ]
  },
  {
   "cell_type": "code",
   "execution_count": null,
   "id": "52232bc4-1ff8-4f1a-981e-420e9b88bb3c",
   "metadata": {},
   "outputs": [],
   "source": [
    "prms_gw = pws.PRMSGroundwater(\n",
    "    control=control,\n",
    "    discretization=dis,\n",
    "    parameters=params,\n",
    "    soil_to_gw=domain_dir / \"soil_to_gw.nc\",\n",
    "    ssr_to_gw=domain_dir / \"ssr_to_gw.nc\",\n",
    "    dprst_seep_hru=domain_dir / \"dprst_seep_hru.nc\",\n",
    "    budget_type=\"error\",\n",
    "    calc_method=\"numpy\",\n",
    "    verbose=False,\n",
    ")"
   ]
  },
  {
   "cell_type": "markdown",
   "id": "3497e883-457e-4897-b742-798ea02a2512",
   "metadata": {},
   "source": [
    "Now we have an instance of a `PRMSGroundwater`. "
   ]
  },
  {
   "cell_type": "code",
   "execution_count": null,
   "id": "29f24665-fbc7-43c5-8efb-fef6cc66266b",
   "metadata": {},
   "outputs": [],
   "source": [
    "prms_gw"
   ]
  },
  {
   "cell_type": "markdown",
   "id": "f715045a-443a-41db-a761-bdfadb3a4929",
   "metadata": {},
   "source": [
    "If we want output, we can initialize it by passing the desired directory for output."
   ]
  },
  {
   "cell_type": "code",
   "execution_count": null,
   "id": "15d6e123-5fea-4994-8402-1cec1b6f6d1a",
   "metadata": {},
   "outputs": [],
   "source": [
    "run_dir = pl.Path(\"./00_processes\")\n",
    "run_dir.mkdir(exist_ok=True)\n",
    "prms_gw.initialize_netcdf(run_dir)"
   ]
  },
  {
   "cell_type": "markdown",
   "id": "644b0a21-18b1-458a-aa27-d5fe174f67eb",
   "metadata": {},
   "source": [
    "Now we are ready to simulate. This sequence is the convention for advancing and calculating `Processes` in `pywatershed`. "
   ]
  },
  {
   "cell_type": "code",
   "execution_count": null,
   "id": "7a2670ca-39c2-4b34-9302-0b6e9dbe72f8",
   "metadata": {},
   "outputs": [],
   "source": [
    "for tt in tqdm(range(control.n_times)):\n",
    "    control.advance()\n",
    "    prms_gw.advance()\n",
    "    prms_gw.calculate(control.time_step)\n",
    "    prms_gw.output()"
   ]
  },
  {
   "cell_type": "markdown",
   "id": "61f4c00a-c9f9-4862-bdd9-bff3b75d9e7f",
   "metadata": {},
   "source": [
    "No errors arose, we we assume that mass balance was maintained for the entire run. Before we finalize the process we can print out the budget at the current time."
   ]
  },
  {
   "cell_type": "code",
   "execution_count": null,
   "id": "1095ede5-1f46-4827-bcf2-bd58da2c4ff3",
   "metadata": {},
   "outputs": [],
   "source": [
    "prms_gw.budget"
   ]
  },
  {
   "cell_type": "markdown",
   "id": "e4e096ab-7045-476b-bca0-813a3d840b8d",
   "metadata": {},
   "source": [
    "If the the budget did not balance, an error would be thrown and the `=` would be `!=!` in the summary.\n",
    "\n",
    "We can see from the summary that we reached the end time, 1979-07-01. \n",
    "\n",
    "Now we can finalize the process. "
   ]
  },
  {
   "cell_type": "code",
   "execution_count": null,
   "id": "72e4ac5f-9700-491e-b961-4206c2859a11",
   "metadata": {},
   "outputs": [],
   "source": [
    "prms_gw.finalize()"
   ]
  },
  {
   "cell_type": "markdown",
   "id": "be6ef988-78f1-4e18-ac70-5775e693555c",
   "metadata": {},
   "source": [
    "Let's take a look at the output that was written to file. "
   ]
  },
  {
   "cell_type": "code",
   "execution_count": null,
   "id": "b951cdee-1f50-4390-8c89-4bc61e0791f9",
   "metadata": {},
   "outputs": [],
   "source": [
    "output_files = sorted(run_dir.glob(\"*\"))\n",
    "pprint(output_files)"
   ]
  },
  {
   "cell_type": "markdown",
   "id": "cde78824-a691-482d-ad13-c924549717d5",
   "metadata": {},
   "source": [
    "We could look at the `PRMSGroundwater_budget.nc` file if we wanted more information on the budget throught time. Let's try it out. "
   ]
  },
  {
   "cell_type": "code",
   "execution_count": null,
   "id": "a869bf6f-856f-4b54-a213-a53c3230bfe0",
   "metadata": {},
   "outputs": [],
   "source": [
    "budget_ds = xr.open_dataset(\"00_processes/PRMSGroundwater_budget.nc\")\n",
    "display(budget_ds)"
   ]
  },
  {
   "cell_type": "markdown",
   "id": "3f600818-a623-4eb5-b870-763a31d0d552",
   "metadata": {},
   "source": [
    "Note that it dosent keep all the terms, but just the aggregate inputs, outputs and storage change (which is indeed output, in this case with `gwres_stor_change.nc`, when the calculation is on individual spatial units). We can easily plot with a slider for selecting HRUs."
   ]
  },
  {
   "cell_type": "code",
   "execution_count": null,
   "id": "7f8ec19f-d741-400e-9a17-20bf6e05f6ce",
   "metadata": {},
   "outputs": [],
   "source": [
    "budget_ds.storage_changes_sum.hvplot(groupby=\"nhm_id\")"
   ]
  },
  {
   "cell_type": "markdown",
   "id": "6d260ce5-f578-4b38-97a0-ab42cfc899b5",
   "metadata": {},
   "source": [
    "Let's take a look at the output flux variable from its own file. "
   ]
  },
  {
   "cell_type": "code",
   "execution_count": null,
   "id": "0a80fa53-2478-40ea-9d4f-4e8d5c00f501",
   "metadata": {},
   "outputs": [],
   "source": [
    "var = \"gwres_flow\"\n",
    "# There is only one variable per file, so bring this into a xr.DataArray\n",
    "var_da = xr.open_dataset(f\"00_processes/{var}.nc\")[var]\n",
    "display(var_da)\n",
    "var_da.hvplot(groupby=\"nhm_id\")"
   ]
  },
  {
   "cell_type": "markdown",
   "id": "75b3f7d0-38b8-4743-b59f-b5d4660557ad",
   "metadata": {},
   "source": [
    "We can also generate a map of `gwres_flow` on the HRUs. Here we'll plot the mean `gwres_flow` for the simulation period."
   ]
  },
  {
   "cell_type": "code",
   "execution_count": null,
   "id": "5549f6ff-0537-489a-b66d-457a0137a117",
   "metadata": {},
   "outputs": [],
   "source": [
    "proc_plot = pws.analysis.process_plot.ProcessPlot(gis_files.gis_dir / \"drb_2yr\")\n",
    "proc_plot.plot_hru_var(\n",
    "    var_name=\"gwres_flow\",\n",
    "    process=prms_gw,\n",
    "    data=var_da.mean(dim=\"time\"),\n",
    "    data_units=var_da.attrs[\"units\"],\n",
    "    nhm_id=var_da[\"nhm_id\"],\n",
    ")"
   ]
  },
  {
   "cell_type": "markdown",
   "id": "fea912fc-2030-428f-8e4a-3f9a94df3e7a",
   "metadata": {},
   "source": [
    "## Process design\n",
    "\n",
    "That's great! But you may have a few questions.\n",
    "* Why did we get those output variables?\n",
    "* How were the terms in the mass budget decided or known?\n",
    "* What are the parameters that were in that parameter file?\n",
    "* What are the units of the inputs?\n",
    "\n",
    "The answer is that Processes (and ConservativeProcesses) are self describing in code. For example: "
   ]
  },
  {
   "cell_type": "code",
   "execution_count": null,
   "id": "43fa3107-1786-4e28-b884-b2e14d2a38c2",
   "metadata": {},
   "outputs": [],
   "source": [
    "pws.PRMSGroundwater.get_dimensions()"
   ]
  },
  {
   "cell_type": "code",
   "execution_count": null,
   "id": "1e8ac8f5",
   "metadata": {},
   "outputs": [],
   "source": [
    "pws.PRMSGroundwater.get_parameters()"
   ]
  },
  {
   "cell_type": "code",
   "execution_count": null,
   "id": "c0a95c0d-a35e-4020-8835-6835c66c7b71",
   "metadata": {},
   "outputs": [],
   "source": [
    "pws.PRMSGroundwater.get_mass_budget_terms()"
   ]
  },
  {
   "cell_type": "markdown",
   "id": "e9e1c4d5-52df-4da8-a7a6-f131a74836a5",
   "metadata": {},
   "source": [
    "In this case, this code exactly specifies how the budget is calculated and is like what the developer of any `Process` would have to specify."
   ]
  },
  {
   "cell_type": "code",
   "execution_count": null,
   "id": "a8405a32-f658-47fe-b252-1b9dc59b365f",
   "metadata": {},
   "outputs": [],
   "source": [
    "pws.PRMSGroundwater.get_variables()"
   ]
  },
  {
   "cell_type": "markdown",
   "id": "1c7c4d85-9b78-4c0c-9989-d0307d00285d",
   "metadata": {},
   "source": [
    "These are the public variables that the `Process` maintains and, by default, it writes all of these out when output is requested. This list can be subset or output turned not turned on at all. However, `pywwatershed` only maintains the current time in memory (and the previous time for some, prognostic variables)."
   ]
  },
  {
   "cell_type": "markdown",
   "id": "b4483704-a539-4fed-bb03-5dcbeb42ed86",
   "metadata": {},
   "source": [
    "Moreover, all public variables are required to have metadata. Parameters also have metadata. The `meta` module (which control provides easy access to), can give metadata for requested variables. "
   ]
  },
  {
   "cell_type": "code",
   "execution_count": null,
   "id": "70f5709a-dc87-48d6-b43a-08cb386f6574",
   "metadata": {},
   "outputs": [],
   "source": [
    "control.meta.find_variables(pws.PRMSGroundwater.get_variables())"
   ]
  },
  {
   "cell_type": "markdown",
   "id": "80858d70-fb6f-4d19-bd58-67a61f99c029",
   "metadata": {},
   "source": [
    "When put all these functionalities together, we get the following function which deeply documents the internals of the `Process`:"
   ]
  },
  {
   "cell_type": "code",
   "execution_count": null,
   "id": "1fdc07d9-f7e3-4f13-973c-67d6cf6335ad",
   "metadata": {},
   "outputs": [],
   "source": [
    "pws.PRMSGroundwater.description()"
   ]
  },
  {
   "cell_type": "markdown",
   "id": "f030caaa-c8ce-4360-a0eb-70fd9ca7a969",
   "metadata": {},
   "source": [
    "These self-describing capabilities help users and programmers get answers about `Processes`. The self-describing design also helps supports generic code that connects multiple processes. Multiple process models will be explored in the next notebook.\n",
    "\n",
    "More, in-depth details about the design of the `Process` class are available in the documentation (e.g. `help(pws.Process)` or [online](https://pywatershed.readthedocs.io/en/latest/api/generated/pywatershed.base.Process.html))."
   ]
  }
 ],
 "metadata": {
  "kernelspec": {
   "display_name": "Python [conda env:pws2] *",
   "language": "python",
   "name": "conda-env-pws2-py"
  },
  "language_info": {
   "codemirror_mode": {
    "name": "ipython",
    "version": 3
   },
   "file_extension": ".py",
   "mimetype": "text/x-python",
   "name": "python",
   "nbconvert_exporter": "python",
   "pygments_lexer": "ipython3",
   "version": "3.10.12"
  }
 },
 "nbformat": 4,
 "nbformat_minor": 5
}
