{
 "cells": [
  {
   "cell_type": "code",
   "execution_count": null,
   "id": "1972a3da-a5c3-4d8f-8f85-d317956255c3",
   "metadata": {},
   "outputs": [],
   "source": [
    "# Plot the hru_1, drb_2yr, ucb_2yr, and conus_2yr domains spatially"
   ]
  },
  {
   "cell_type": "code",
   "execution_count": null,
   "id": "e5d674ed-b1e7-4346-a26f-333af639c722",
   "metadata": {},
   "outputs": [],
   "source": [
    "%matplotlib inline\n",
    "\n",
    "import matplotlib.pyplot as plt\n",
    "import geopandas as gpd\n",
    "import contextily as cx"
   ]
  },
  {
   "cell_type": "code",
   "execution_count": null,
   "id": "b8d3978f-f507-44e9-9861-6ef44ee3f1e8",
   "metadata": {},
   "outputs": [],
   "source": [
    "shp_dict = {\n",
    "    \"hru_1\": \"/Users/jamesmcc/usgs/data/pynhm/nhm_subsets/hru_1/GIS_simple/HRU_subset.shp\",\n",
    "    \"drb_2yr\": \"/Users/jamesmcc/usgs/data/pynhm/nhm_subsets/drb/GIS/HRU_subset.shp\",\n",
    "    \"ucb_2yr\": \"/Users/jamesmcc/usgs/data/pynhm/nhm_subsets/ucb/GIS/HRU_subset.shp\",\n",
    "    \"conus_2yr\": \"/Users/jamesmcc/usgs/data/pynhm/20220209_gm_byHWobs_CONUS/GIS_simple/HRU_subset.shp\",\n",
    "}"
   ]
  },
  {
   "cell_type": "code",
   "execution_count": null,
   "id": "f434149d-d63f-4e76-bf66-71b0cfe29790",
   "metadata": {},
   "outputs": [],
   "source": [
    "dom = \"hru_1\"\n",
    "shp = gpd.read_file(shp_dict[dom]).to_crs(epsg=3857)"
   ]
  },
  {
   "cell_type": "code",
   "execution_count": null,
   "id": "1416116b-4f94-49ff-b372-96029b0a1b64",
   "metadata": {},
   "outputs": [],
   "source": [
    "ax = shp.plot(figsize=(10, 10), edgecolor=\"black\", linewidth=0.1, facecolor=\"white\")\n",
    "minx, miny, maxx, maxy = shp.total_bounds\n",
    "deltax = 1 * (maxx - minx)\n",
    "deltay = 0.5 * (maxy - miny)\n",
    "ax.set_xlim(minx - deltax, maxx + deltax)\n",
    "ax.set_ylim(miny - deltay, maxy + deltay)\n",
    "cx.add_basemap(ax, zoom=13)\n",
    "plt.savefig(\"hru_1_domain.png\", dpi=600)"
   ]
  },
  {
   "cell_type": "code",
   "execution_count": null,
   "id": "5584b8f5-d9ea-4eaf-bf97-60c0b39bfe1c",
   "metadata": {},
   "outputs": [],
   "source": [
    "ax = shp.plot(figsize=(10, 10), edgecolor=\"black\", linewidth=0.1, facecolor=\"white\")\n",
    "minx, miny, maxx, maxy = shp.total_bounds\n",
    "deltax = 45 * (maxx - minx)\n",
    "deltay = 25 * (maxy - miny)\n",
    "ax.set_xlim(minx - deltax, maxx + 2 * deltax)\n",
    "ax.set_ylim(miny - 2 * deltay, maxy + deltay)\n",
    "cx.add_basemap(ax, zoom=8)\n",
    "plt.savefig(\"hru_1_domain_zoom_out.png\", dpi=600)"
   ]
  },
  {
   "cell_type": "code",
   "execution_count": null,
   "id": "e447d570-9c1e-4e80-9462-87115e38bd4b",
   "metadata": {},
   "outputs": [],
   "source": [
    "dom = \"drb_2yr\"\n",
    "shp = gpd.read_file(shp_dict[dom]).to_crs(epsg=3857)"
   ]
  },
  {
   "cell_type": "code",
   "execution_count": null,
   "id": "732ac99b-6736-4847-a190-048a96803508",
   "metadata": {},
   "outputs": [],
   "source": [
    "ax = shp.plot(figsize=(10, 10), edgecolor=\"black\", linewidth=0.1, facecolor=\"white\")\n",
    "minx, miny, maxx, maxy = shp.total_bounds\n",
    "deltax = 1.9 * (maxx - minx)\n",
    "deltay = 0.75 * (maxy - miny)\n",
    "ax.set_xlim(minx - deltax, maxx + deltax)\n",
    "ax.set_ylim(miny - deltay, maxy + deltay)\n",
    "cx.add_basemap(ax, zoom=6)\n",
    "# cx.add_basemap(ax, source=cx.providers.OpenTopoMap, zoom=5)\n",
    "plt.savefig(\"drb_2yr_domain.png\", dpi=600)"
   ]
  },
  {
   "cell_type": "code",
   "execution_count": null,
   "id": "ae6ce73c-f5bb-4154-9320-b5c2ea43f8c3",
   "metadata": {},
   "outputs": [],
   "source": [
    "dom = \"ucb_2yr\"\n",
    "shp = gpd.read_file(shp_dict[dom]).to_crs(epsg=3857)"
   ]
  },
  {
   "cell_type": "code",
   "execution_count": null,
   "id": "e824d41a-ed0e-4aaa-817c-1e935d501135",
   "metadata": {},
   "outputs": [],
   "source": [
    "ax = shp.plot(figsize=(10, 10), edgecolor=\"black\", linewidth=0.1, facecolor=\"white\")\n",
    "minx, miny, maxx, maxy = shp.total_bounds\n",
    "deltax = 0.75 * (maxx - minx)\n",
    "deltay = 0.25 * (maxy - miny)\n",
    "ax.set_xlim(minx - deltax, maxx + deltax)\n",
    "ax.set_ylim(miny - deltay, maxy + deltay)\n",
    "cx.add_basemap(ax, zoom=6)\n",
    "# cx.add_basemap(ax, source=cx.providers.OpenTopoMap, zoom=5)\n",
    "plt.savefig(\"ucb_2yr_domain.png\", dpi=600)"
   ]
  },
  {
   "cell_type": "code",
   "execution_count": null,
   "id": "284bb11b-0cc7-468e-ab53-70c204176de4",
   "metadata": {},
   "outputs": [],
   "source": [
    "dom = \"conus_2yr\"\n",
    "shp = gpd.read_file(shp_dict[dom]).to_crs(epsg=3857)"
   ]
  },
  {
   "cell_type": "code",
   "execution_count": null,
   "id": "d6b845a9-247f-4d25-8d48-638a0f0fbbe0",
   "metadata": {},
   "outputs": [],
   "source": [
    "ax = shp.plot(figsize=(10, 10), edgecolor=\"black\", linewidth=0.1, facecolor=\"white\")\n",
    "minx, miny, maxx, maxy = shp.total_bounds\n",
    "deltax = 0.02 * (maxx - minx)\n",
    "deltay = 0.02 * (maxy - miny)\n",
    "ax.set_xlim(minx - deltax, maxx + deltax)\n",
    "ax.set_ylim(miny - deltay, maxy + deltay)\n",
    "cx.add_basemap(ax, zoom=6)\n",
    "# cx.add_basemap(ax, source=cx.providers.OpenTopoMap, zoom=5)\n",
    "plt.savefig(\"conus_2yr_domain.png\", dpi=600)"
   ]
  },
  {
   "cell_type": "code",
   "execution_count": null,
   "id": "9b2fdca9-51f8-4490-a7fb-f381a3b3c53e",
   "metadata": {},
   "outputs": [],
   "source": []
  }
 ],
 "metadata": {
  "kernelspec": {
   "display_name": "Python [conda env:pyws_nb2] *",
   "language": "python",
   "name": "conda-env-pyws_nb2-py"
  },
  "language_info": {
   "codemirror_mode": {
    "name": "ipython",
    "version": 3
   },
   "file_extension": ".py",
   "mimetype": "text/x-python",
   "name": "python",
   "nbconvert_exporter": "python",
   "pygments_lexer": "ipython3",
   "version": "3.10.6"
  }
 },
 "nbformat": 4,
 "nbformat_minor": 5
}
