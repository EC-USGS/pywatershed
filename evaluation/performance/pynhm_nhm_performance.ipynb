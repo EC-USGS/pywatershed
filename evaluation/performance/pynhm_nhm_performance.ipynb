{
 "cells": [
  {
   "cell_type": "code",
   "execution_count": null,
   "id": "fd1857a0-9811-4101-9c4c-761576d7a4a5",
   "metadata": {},
   "outputs": [],
   "source": [
    "# Run NHM from pywatershed to generate performance metrics"
   ]
  },
  {
   "cell_type": "code",
   "execution_count": null,
   "id": "9c628482-a09c-428d-af82-1779e25fb439",
   "metadata": {},
   "outputs": [],
   "source": [
    "# %env NUMBA_NUM_THREADS=\n",
    "# %env NUMBA_THREADING_LAYER=tbb"
   ]
  },
  {
   "cell_type": "code",
   "execution_count": null,
   "id": "0af24726-60de-4033-9e0c-412545bae7dd",
   "metadata": {},
   "outputs": [],
   "source": [
    "import pathlib as pl\n",
    "import shutil\n",
    "\n",
    "import pywatershed\n",
    "from pywatershed.base.control import Control\n",
    "from pywatershed.base.model import Model\n",
    "from pywatershed.utils.parameters import PrmsParameters\n",
    "\n",
    "output_vars = [\n",
    "    \"albedo\",\n",
    "    \"gwres_flow\",\n",
    "    \"gwres_sink\",\n",
    "    \"hru_actet\",\n",
    "    \"hru_impervstor\",\n",
    "    \"hru_intcpevap\",\n",
    "    \"hru_rain\",\n",
    "    \"hru_snow\",\n",
    "    \"infil\",\n",
    "    \"pkwater_equiv\",\n",
    "    \"potet\",\n",
    "    \"snowcov_area\",\n",
    "    \"soil_moist\",\n",
    "    \"sroff\",\n",
    "    \"ssres_flow\",\n",
    "    \"swrad\",\n",
    "    \"tavgc\",\n",
    "    \"tmaxc\",\n",
    "    \"tminc\",\n",
    "    \"seg_outflow\",\n",
    "]\n",
    "\n",
    "\n",
    "def time_run_nhm(domain_dir, control_file, calc_method=\"numba\", output_dir=None):\n",
    "    def run_nhm():\n",
    "        params = PrmsParameters.load(domain_dir / \"myparam.param\")\n",
    "        control = Control.load(control_file, params=params)\n",
    "\n",
    "        budget_type = None\n",
    "        processes = [\n",
    "            pywatershed.PRMSSolarGeometry,\n",
    "            pywatershed.PRMSAtmosphere,\n",
    "            pywatershed.PRMSCanopy,\n",
    "            pywatershed.PRMSSnow,\n",
    "            pywatershed.PRMSRunoff,\n",
    "            pywatershed.PRMSSoilzone,\n",
    "            pywatershed.PRMSGroundwater,\n",
    "            pywatershed.PRMSChannel,\n",
    "        ]\n",
    "\n",
    "        model = Model(\n",
    "            *processes,\n",
    "            control=control,\n",
    "            input_dir=domain_dir,\n",
    "            budget_type=budget_type,\n",
    "            calc_method=calc_method\n",
    "            # load_n_time_batches=3,\n",
    "        )\n",
    "\n",
    "        # not sure this is necessary but to be sure\n",
    "        if \"yes\" in control_file.name:\n",
    "            model.run(netcdf_dir=output_dir, output_vars=output_vars)\n",
    "        else:\n",
    "            model.run()\n",
    "\n",
    "        return\n",
    "\n",
    "    if \"conus\" in str(domain_dir):\n",
    "        result = %timeit -o -n1 -r1 run_nhm()\n",
    "    else:\n",
    "        result = %timeit -o run_nhm()\n",
    "\n",
    "    return result"
   ]
  },
  {
   "cell_type": "code",
   "execution_count": null,
   "id": "b382095f-fe31-4678-9176-ae3b96fb88da",
   "metadata": {},
   "outputs": [],
   "source": [
    "pynhm_run_dir = pl.Path(\n",
    "    \"/Users/jamesmcc/usgs/data/pynhm/performance_runs/pynhm\"\n",
    ")  # just for output\n",
    "test_dom_dir = pl.Path(\"/Users/jamesmcc/usgs/pynhm/test_data/\")\n",
    "conus_dom_dir = pl.Path(\"/Users/jamesmcc/usgs/data/pynhm/conus_2yr\")\n",
    "\n",
    "dom_dirs = [\n",
    "    # test_dom_dir / 'hru_1',\n",
    "    # test_dom_dir / 'drb_2yr',\n",
    "    # test_dom_dir / 'ucb_2yr',\n",
    "    conus_dom_dir,\n",
    "]"
   ]
  },
  {
   "cell_type": "code",
   "execution_count": null,
   "id": "58afe4ed-428e-4f6f-b06f-2c7bdb0dc7cb",
   "metadata": {},
   "outputs": [],
   "source": [
    "# Actually passing the control file is moot since it dosent control output\n",
    "# for pynhm, but... we'll use the control file name to key io in the model setup.\n",
    "control_dir = pl.Path(\n",
    "    \"/Users/jamesmcc/usgs/data/pynhm/performance_runs/PRMS/control_files\"\n",
    ")\n",
    "\n",
    "run_dict = {}\n",
    "for dom in dom_dirs:\n",
    "    for meth in [\"numpy\", \"numba\"]:\n",
    "        if dom == conus_dom_dir and meth == \"numpy\":\n",
    "            continue\n",
    "        for io in [\"yes\", \"no\"]:\n",
    "            run_dir = pynhm_run_dir / f\"{dom.name}_io_{io}_method_{meth}\"\n",
    "            if io == \"yes\":\n",
    "                if run_dir.exists():\n",
    "                    shutil.rmtree(run_dir)\n",
    "                run_dir.mkdir(parents=True)\n",
    "            src_dir = f\"{dom}\"\n",
    "\n",
    "            n_hru_desc = \"multi\"\n",
    "            if \"hru_1\" in dom.name:\n",
    "                n_hru_desc = \"single\"\n",
    "            control_file = control_dir / f\"control.{n_hru_desc}_hru_{io}_io\"\n",
    "            assert control_file.exists()\n",
    "\n",
    "            run_dict[f\"{run_dir}\"] = {\n",
    "                \"src\": src_dir,\n",
    "                \"io\": io,\n",
    "                \"method\": meth,\n",
    "                \"control_file\": control_file,\n",
    "            }"
   ]
  },
  {
   "cell_type": "code",
   "execution_count": null,
   "id": "b0c7264d-39b0-4337-8fc1-74ab9156905a",
   "metadata": {
    "tags": []
   },
   "outputs": [],
   "source": [
    "run_dict"
   ]
  },
  {
   "cell_type": "code",
   "execution_count": null,
   "id": "cba80311-36ba-40bd-b490-30c796bad26d",
   "metadata": {},
   "outputs": [],
   "source": [
    "results = {}\n",
    "for run_dir, run_info in run_dict.items():\n",
    "    print(run_dir)\n",
    "    output_dir = None\n",
    "    if run_info[\"io\"] == \"yes\":\n",
    "        output_dir = pl.Path(run_dir)\n",
    "        continue\n",
    "    else:\n",
    "        # continue\n",
    "        pass\n",
    "\n",
    "    results[run_dir] = time_run_nhm(\n",
    "        domain_dir=pl.Path(run_info[\"src\"]),\n",
    "        control_file=run_info[\"control_file\"],\n",
    "        calc_method=run_info[\"method\"],\n",
    "        output_dir=output_dir,\n",
    "    )"
   ]
  },
  {
   "cell_type": "code",
   "execution_count": null,
   "id": "cfc4dcef-af00-44de-b863-6fee6eaa6123",
   "metadata": {},
   "outputs": [],
   "source": [
    "results"
   ]
  },
  {
   "cell_type": "code",
   "execution_count": null,
   "id": "4a5eb6e2-2038-4e67-a88c-fff680d188e5",
   "metadata": {},
   "outputs": [],
   "source": [
    "import pickle\n",
    "\n",
    "for path, result in results.items():\n",
    "    path = pl.Path(path)\n",
    "    pkl_path = path.parent.parent / (f\"results/{path.parent.name}_{path.name}.pkl\")\n",
    "    print(pkl_path)\n",
    "\n",
    "    with open(pkl_path, \"wb\") as output_file:\n",
    "        pickle.dump(result, output_file)"
   ]
  },
  {
   "cell_type": "code",
   "execution_count": null,
   "id": "77c8be6d-79e7-4eaa-ad05-0f8f886eaa0b",
   "metadata": {},
   "outputs": [],
   "source": [
    "results2 = {}\n",
    "files = pl.Path(\"/Users/jamesmcc/usgs/data/pynhm/performance_runs/results/\").glob(\n",
    "    \"*.pkl\"\n",
    ")\n",
    "for ff in files:\n",
    "    print(ff)\n",
    "    with open(ff, \"rb\") as input_file:\n",
    "        results2[ff.name[0:-4]] = pickle.load(input_file)"
   ]
  },
  {
   "cell_type": "code",
   "execution_count": null,
   "id": "f587c284-c67a-4b8a-879a-edd8246cdb06",
   "metadata": {},
   "outputs": [],
   "source": [
    "results2"
   ]
  },
  {
   "cell_type": "code",
   "execution_count": null,
   "id": "24783184-26cd-45ce-afa0-963d6e430d4d",
   "metadata": {},
   "outputs": [],
   "source": []
  }
 ],
 "metadata": {
  "kernelspec": {
   "display_name": "Python [conda env:pyws_nb2] *",
   "language": "python",
   "name": "conda-env-pyws_nb2-py"
  },
  "language_info": {
   "codemirror_mode": {
    "name": "ipython",
    "version": 3
   },
   "file_extension": ".py",
   "mimetype": "text/x-python",
   "name": "python",
   "nbconvert_exporter": "python",
   "pygments_lexer": "ipython3",
   "version": "3.10.6"
  }
 },
 "nbformat": 4,
 "nbformat_minor": 5
}
