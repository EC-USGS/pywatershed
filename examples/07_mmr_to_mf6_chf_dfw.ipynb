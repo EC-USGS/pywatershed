{
 "cells": [
  {
   "cell_type": "markdown",
   "id": "035f97a9-3c25-4cbb-a419-c40fc2c4f278",
   "metadata": {},
   "source": [
    "# MMR To MF6 DFW\n",
    "\n",
    "This notebook performs 1-D diffussive wave (DFW) routing in MODFLOW 6 using the CHF (channel flow) model. The static and time-varying boundary conditions, come from PRMS. Specifically, PRMS's MMR (Muskingum-Mann Routing) parameters and its channel inflows calculated during a pywatershed run. We'll compare and contrast the MF6 CHF-DFW and PRMS MMR simulations and delve into their differences at the largest gaged flows in the domain (that are not affected by tides). \n",
    "\n",
    "This notebook requries the develop branch of MF6 and a flopy upto date with this branch by running `python update_flopy.py` in modflow6/autotest. You will also need to add the MF6 executable to your path below. \n",
    "\n",
    "## User configuration"
   ]
  },
  {
   "cell_type": "code",
   "execution_count": null,
   "id": "efe6a07c-9226-4783-abb7-8053f853b56b",
   "metadata": {},
   "outputs": [],
   "source": [
    "# Set YOUR path to MF6 in this block\n",
    "import pathlib as pl\n",
    "\n",
    "mf6_bin = pl.Path(\"../../modflow6/bin/mf6\")\n",
    "# double check\n",
    "msg = \"A build of mf6/develop branch required for DFW simulation\"\n",
    "assert mf6_bin.exists, msg\n",
    "\n",
    "# Rerun MF6 model below or use an existing run?\n",
    "rerun_mf6 = True\n",
    "rerun_prms = True\n",
    "\n",
    "# Perform the full, 2 year run period or just the first 45 days?\n",
    "full_run_period = False"
   ]
  },
  {
   "cell_type": "markdown",
   "id": "e54de0f4-5c35-4fde-ab36-97d633de0f98",
   "metadata": {},
   "source": [
    "## Preparation"
   ]
  },
  {
   "cell_type": "code",
   "execution_count": null,
   "id": "e7e2b8db-dc8c-4eae-b185-4181ff05490c",
   "metadata": {},
   "outputs": [],
   "source": [
    "import os\n",
    "import shutil\n",
    "\n",
    "import contextily as cx\n",
    "import flopy\n",
    "import geopandas as gpd\n",
    "import jupyter_black\n",
    "import numpy as np\n",
    "import pandas as pd\n",
    "import pint\n",
    "import pywatershed as pws\n",
    "import xarray as xr\n",
    "\n",
    "import hvplot.xarray  # noqa\n",
    "\n",
    "import pywatershed as pws\n",
    "from pywatershed.utils.mmr_to_mf6_dfw import MmrToMf6Dfw\n",
    "\n",
    "jupyter_black.load()\n",
    "\n",
    "pws.utils.gis_files.download()  # make sure we have the GIS files\n",
    "\n",
    "os.environ[\"PATH\"] += os.pathsep + str(mf6_bin.parent)\n",
    "\n",
    "plot_height = 350\n",
    "plot_width = 900"
   ]
  },
  {
   "cell_type": "code",
   "execution_count": null,
   "id": "a4327dd4-94e1-4423-9868-878ca43dce91",
   "metadata": {},
   "outputs": [],
   "source": [
    "repo_root_dir = pws.constants.__pywatershed_root__.parent\n",
    "data_dir = repo_root_dir / \"pywatershed/data\"\n",
    "\n",
    "domain = \"drb_2yr\"\n",
    "domain_dir = data_dir / f\"{domain}\"\n",
    "gis_dir = repo_root_dir / \"pywatershed/data/pywatershed_gis/drb_2yr\""
   ]
  },
  {
   "cell_type": "markdown",
   "id": "e6a36353-3a61-4b57-8db5-e48293ffc0d1",
   "metadata": {},
   "source": [
    "## Run PRMS NHM configuration using pywatershed\n",
    "Running PRMS gives the boundary conditions for the MF6 DFW run and it also produces its own streamflow simulation with its Muskingum-Mann routing method. "
   ]
  },
  {
   "cell_type": "code",
   "execution_count": null,
   "id": "c41e5fdf-747d-44d9-ba89-f22173d8010a",
   "metadata": {},
   "outputs": [],
   "source": [
    "prms_run_dir = repo_root_dir / \"examples/07_mmr_to_mf6_chf_dfw/prms_run\"\n",
    "\n",
    "if rerun_prms and prms_run_dir.exists():\n",
    "    shutil.rmtree(prms_run_dir)\n",
    "\n",
    "if not prms_run_dir.exists():\n",
    "    prms_run_dir.mkdir(parents=True)\n",
    "\n",
    "    nhm_processes = [\n",
    "        pws.PRMSSolarGeometry,\n",
    "        pws.PRMSAtmosphere,\n",
    "        pws.PRMSCanopy,\n",
    "        pws.PRMSSnow,\n",
    "        pws.PRMSRunoff,\n",
    "        pws.PRMSSoilzone,\n",
    "        pws.PRMSGroundwater,\n",
    "        pws.PRMSChannel,\n",
    "    ]\n",
    "\n",
    "    control = pws.Control.load_prms(\n",
    "        domain_dir / \"nhm.control\", warn_unused_options=False\n",
    "    )\n",
    "    control.options = control.options | {\n",
    "        \"input_dir\": domain_dir,\n",
    "        \"budget_type\": \"error\",\n",
    "        \"calc_method\": \"numba\",\n",
    "        \"netcdf_output_dir\": prms_run_dir,\n",
    "    }\n",
    "    params = pws.parameters.PrmsParameters.load(\n",
    "        domain_dir / control.options[\"parameter_file\"]\n",
    "    )\n",
    "\n",
    "    nhm = pws.Model(\n",
    "        nhm_processes,\n",
    "        control=control,\n",
    "        parameters=params,\n",
    "    )\n",
    "    nhm.run(finalize=True)"
   ]
  },
  {
   "cell_type": "markdown",
   "id": "ea0e468d-7db7-4556-9850-e45cd56b1c5e",
   "metadata": {},
   "source": [
    "## Setup and run MF6 DFW on the Delaware river basin using PRMS parameters and influxes"
   ]
  },
  {
   "cell_type": "markdown",
   "id": "6a5ef57b-0a7a-4afb-a3e1-3c0276d2c05f",
   "metadata": {},
   "source": [
    "This is where the inflows from PRMS live in PRMS output files:"
   ]
  },
  {
   "cell_type": "code",
   "execution_count": null,
   "id": "b60f1f77-194d-4e30-b313-f28d5e6ea545",
   "metadata": {},
   "outputs": [],
   "source": [
    "inflow_dir = prms_run_dir\n",
    "run_dir = repo_root_dir / \"examples/mmr_to_mf6_dfw/mf6_run\""
   ]
  },
  {
   "cell_type": "code",
   "execution_count": null,
   "id": "1d15c524-f3fe-4783-9f13-df3defc70acc",
   "metadata": {},
   "outputs": [],
   "source": [
    "control_file = domain_dir / \"nhm.control\"\n",
    "control = pws.Control.load_prms(control_file)\n",
    "ndays_run = control.n_times\n",
    "\n",
    "if not full_run_period:\n",
    "    ndays_run = 45\n",
    "    control.edit_n_time_steps(ndays_run)"
   ]
  },
  {
   "cell_type": "code",
   "execution_count": null,
   "id": "a4494e7f-8a6c-4c9e-b1b3-e6e0153e066a",
   "metadata": {},
   "outputs": [],
   "source": [
    "dis_both_file = domain_dir / \"parameters_dis_both.nc\"\n",
    "dis_both = pws.Parameters.from_netcdf(dis_both_file)\n",
    "dis_both_ds = xr.open_dataset(dis_both_file)\n",
    "seg_params = pws.Parameters.from_netcdf(\n",
    "    domain_dir / \"parameters_PRMSChannel.nc\"\n",
    ")\n",
    "params = pws.Parameters.merge(dis_both, seg_params)\n",
    "\n",
    "seg_shp_file = (\n",
    "    repo_root_dir\n",
    "    / \"pywatershed/data/pywatershed_gis/drb_2yr/Segments_subset.shp\"\n",
    ")"
   ]
  },
  {
   "cell_type": "code",
   "execution_count": null,
   "id": "50bca0cb-c010-437c-83cb-bc4dee0d3615",
   "metadata": {},
   "outputs": [],
   "source": [
    "# IMS options\n",
    "nouter, ninner = 100, 50\n",
    "hclose, rclose, relax = 1e-5, 1.0, 0.97\n",
    "\n",
    "ims_options = {\n",
    "    \"print_option\": \"SUMMARY\",\n",
    "    \"outer_dvclose\": hclose,\n",
    "    \"outer_maximum\": nouter,\n",
    "    \"under_relaxation\": \"DBD\",\n",
    "    \"under_relaxation_theta\": 0.95,\n",
    "    \"under_relaxation_kappa\": 0.0001,\n",
    "    \"under_relaxation_gamma\": 0.0,\n",
    "    \"under_relaxation_momentum\": 0.0,\n",
    "    \"inner_maximum\": ninner,\n",
    "    \"inner_dvclose\": hclose,\n",
    "    \"linear_acceleration\": \"BICGSTAB\",\n",
    "    \"scaling_method\": \"NONE\",\n",
    "    \"reordering_method\": \"NONE\",\n",
    "    \"relaxation_factor\": relax,\n",
    "    \"filename\": \"drb.ims\",\n",
    "}\n",
    "\n",
    "dfw_options = {\n",
    "    \"print_flows\": True,\n",
    "    \"save_flows\": True,\n",
    "    \"idcxs\": None,  # zero based in flopy, None for hydraulically wide\n",
    "}\n",
    "\n",
    "sto_options = {\"save_flows\": True}\n",
    "\n",
    "oc_options = {\n",
    "    \"saverecord\": [\n",
    "        (\"STAGE\", \"ALL\"),\n",
    "        (\"BUDGET\", \"ALL\"),\n",
    "    ],\n",
    "    \"printrecord\": [\n",
    "        (\"STAGE\", \"LAST\"),\n",
    "        (\"BUDGET\", \"ALL\"),\n",
    "    ],\n",
    "}\n",
    "\n",
    "# Initial water depth, units of meters\n",
    "ic_options = {\"strt\": 0.5}\n",
    "\n",
    "chd_options = {\n",
    "    \"print_input\": True,\n",
    "    \"print_flows\": False,\n",
    "}\n",
    "\n",
    "bc_binary_files = True\n",
    "bc_flows_combined = True"
   ]
  },
  {
   "cell_type": "code",
   "execution_count": null,
   "id": "93161682-03bc-483a-af1b-d3bf88dbc7e4",
   "metadata": {},
   "outputs": [],
   "source": [
    "%%time\n",
    "# This takes about 11 minutes on my Mac\n",
    "\n",
    "tdis_perlen = 2 * 3600  # stress period length\n",
    "tdis_nstp = 3  # substeps per stress period\n",
    "\n",
    "if rerun_mf6:\n",
    "    if run_dir.exists():\n",
    "        shutil.rmtree(run_dir)\n",
    "    run_dir.mkdir(parents=True)\n",
    "\n",
    "    dfw = MmrToMf6Dfw(\n",
    "        control=control,\n",
    "        segment_shp_file=seg_shp_file,\n",
    "        params=params,\n",
    "        tdis_perlen=tdis_perlen,\n",
    "        tdis_nstp=tdis_nstp,\n",
    "        output_dir=run_dir,\n",
    "        sim_name=\"drb_dfw\",\n",
    "        ims_options=ims_options,\n",
    "        dfw_options=dfw_options,\n",
    "        sto_options=sto_options,\n",
    "        oc_options=oc_options,\n",
    "        ic_options=ic_options,\n",
    "        chd_options=chd_options,\n",
    "        bc_binary_files=bc_binary_files,\n",
    "        bc_flows_combined=bc_flows_combined,\n",
    "        inflow_dir=inflow_dir,\n",
    "    )\n",
    "\n",
    "    dfw.write()\n",
    "    success, buff = dfw.run(silent=False, report=True)\n",
    "    assert success"
   ]
  },
  {
   "cell_type": "markdown",
   "id": "9a661d7f-9ad1-46e7-9965-a83916574562",
   "metadata": {},
   "source": [
    "## Get DFW stage and flow for plotting"
   ]
  },
  {
   "cell_type": "code",
   "execution_count": null,
   "id": "4f45e021-d883-4fb7-ab42-7f740cb0a239",
   "metadata": {},
   "outputs": [],
   "source": [
    "sim = flopy.mf6.MFSimulation.load(\n",
    "    \"drb_dfw\",\n",
    "    sim_ws=str(run_dir),\n",
    "    exe_name=\"mf6\",\n",
    "    load_only=[\"disv1d\"],\n",
    ")\n",
    "sim.model_names\n",
    "model = sim.get_model(\"drb_dfw\")"
   ]
  },
  {
   "cell_type": "code",
   "execution_count": null,
   "id": "865bba4a-88dc-457b-9f63-d25a95d6d03b",
   "metadata": {},
   "outputs": [],
   "source": [
    "# time\n",
    "tdis = sim.tdis\n",
    "sim_start_time = np.datetime64(tdis.start_date_time.get_data().upper()[0:19])\n",
    "n_substeps = int(ndays_run * 24 * 60 * 60 / tdis_perlen * tdis_nstp)\n",
    "substep_len = np.timedelta64(int(tdis_perlen / tdis_nstp), \"s\")\n",
    "sim_end_time = sim_start_time + n_substeps * substep_len\n",
    "sim_times = np.arange(sim_start_time, sim_end_time, substep_len).astype(\n",
    "    \"datetime64[ns]\"\n",
    ")  # ns to avoid xarray warnings\n",
    "perioddata = tdis.perioddata.get_data()\n",
    "assert len(sim_times) == len(perioddata) * perioddata[0][1]"
   ]
  },
  {
   "cell_type": "code",
   "execution_count": null,
   "id": "180037a4-7270-4350-aaa1-b482c6640c2b",
   "metadata": {},
   "outputs": [],
   "source": [
    "# stage\n",
    "stage_file = run_dir / \"drb_dfw.stage\"\n",
    "sobj = flopy.utils.HeadFile(stage_file, text=\"STAGE\", verbose=False)\n",
    "stage_all = sobj.get_alldata().squeeze()\n",
    "disv1d = model.get_package(\"disv1d\")\n",
    "bottom_ele = disv1d.bottom.get_data()\n",
    "stage_all = np.maximum(stage_all - bottom_ele, 0)"
   ]
  },
  {
   "cell_type": "code",
   "execution_count": null,
   "id": "f687656b-b19b-498d-b59d-7aa2774c6167",
   "metadata": {},
   "outputs": [],
   "source": [
    "# getting flow is more complicated and could be improved/refined\n",
    "budget_file = run_dir / \"drb_dfw.bud\"\n",
    "budobj = flopy.utils.binaryfile.CellBudgetFile(budget_file)\n",
    "flowja = budobj.get_data(text=\"FLOW-JA-FACE\")\n",
    "# qstorage = budobj.get_data(text=\"STORAGE\")\n",
    "# qflw = budobj.get_data(text=\"FLW\")\n",
    "# qextoutflow = budobj.get_data(text=\"EXT-OUTFLOW\")\n",
    "\n",
    "grb_file = run_dir / \"drb_dfw.disv1d.grb\"\n",
    "grb = flopy.mf6.utils.MfGrdFile(grb_file)\n",
    "ia = grb.ia\n",
    "ja = grb.ja\n",
    "\n",
    "\n",
    "def get_outflow(itime):\n",
    "    outflow = np.zeros(ia.shape[0] - 1)\n",
    "    flowjaflat = flowja[itime].flatten()\n",
    "    for n in range(grb.nodes):\n",
    "        for ipos in range(ia[n] + 1, ia[n + 1]):\n",
    "            q = flowjaflat[ipos]\n",
    "            if q < 0:\n",
    "                outflow[n] += -q\n",
    "    # <<<\n",
    "    return outflow\n",
    "\n",
    "\n",
    "flow_all = stage_all.copy() * np.nan\n",
    "for tt in range(flow_all.shape[0]):\n",
    "    flow_all[tt, :] = get_outflow(tt)"
   ]
  },
  {
   "cell_type": "code",
   "execution_count": null,
   "id": "9d56e441-ef95-448b-9a5f-4bed03de27ac",
   "metadata": {},
   "outputs": [],
   "source": [
    "# Create an xarray dataset with MF6 DFW stage and flow\n",
    "mf6_ds = (\n",
    "    xr.DataArray(\n",
    "        flow_all,\n",
    "        dims=[\"time\", \"nhm_seg\"],\n",
    "        coords={\"time\": sim_times, \"nhm_seg\": dis_both_ds.nhm_seg.values},\n",
    "    )\n",
    "    .rename(\"dfw_flow\")\n",
    "    .to_dataset()\n",
    ")\n",
    "mf6_ds[\"dfw_stage\"] = xr.DataArray(\n",
    "    stage_all * 100,\n",
    "    dims=[\"time\", \"nhm_seg\"],\n",
    "    coords={\"time\": sim_times, \"nhm_seg\": dis_both_ds.nhm_seg.values},\n",
    ")"
   ]
  },
  {
   "cell_type": "markdown",
   "id": "47a69fae-5fb1-40f1-b6c6-9c2639932aa6",
   "metadata": {},
   "source": [
    "## Make a spatial plot of flow"
   ]
  },
  {
   "cell_type": "code",
   "execution_count": null,
   "id": "6018ce55-5377-415a-9a2c-0c4f6dcb5b69",
   "metadata": {},
   "outputs": [],
   "source": [
    "# sorting on model index is critical to plotting output in linewidth argument\n",
    "shp_df = gpd.read_file(seg_shp_file).sort_values(\n",
    "    \"model_idx\", axis=0, ignore_index=True\n",
    ")"
   ]
  },
  {
   "cell_type": "code",
   "execution_count": null,
   "id": "b529e78a-8ea1-4e67-bc99-609b251f890e",
   "metadata": {},
   "outputs": [],
   "source": [
    "# take the flow from the shp_df to ensure correct order?\n",
    "flow_log = np.maximum(np.log(flow_all + 1.0e-4), 1)  # filter out flows below 1\n",
    "\n",
    "width_max = 6\n",
    "width_min = 0.2\n",
    "flow_log_lw = (width_max - width_min) * (\n",
    "    flow_log - np.min(flow_log, axis=0)\n",
    ") / (np.max(flow_log, axis=0) - np.min(flow_log, axis=0)) + width_min"
   ]
  },
  {
   "cell_type": "code",
   "execution_count": null,
   "id": "919aea00-0a56-4c0c-8fdc-aec8379207f9",
   "metadata": {},
   "outputs": [],
   "source": [
    "if ndays_run < 3000:\n",
    "    tt = ndays_run\n",
    "else:\n",
    "    tt = 3000\n",
    "zoom = 1.0\n",
    "figsize = (7 * zoom, 10 * zoom)\n",
    "dt = tdis_perlen / tdis_nstp\n",
    "current_time = sim_times[tt]\n",
    "ax = shp_df.plot(\n",
    "    column=\"model_idx\",\n",
    "    figsize=figsize,\n",
    "    linewidth=flow_log_lw[tt, :],\n",
    "    edgecolor=\"darkblue\",\n",
    ")\n",
    "\n",
    "cx.add_basemap(ax=ax, crs=shp_df.crs, source=cx.providers.CartoDB.Positron)\n",
    "ax.set_axis_off()\n",
    "_ = ax.set_title(f\"{current_time}\")"
   ]
  },
  {
   "cell_type": "markdown",
   "id": "266e0b5c-4c6b-4015-b60e-0e5d82053e45",
   "metadata": {},
   "source": [
    "## Compare PRMS MMR and MF6 DFW solutions with observations"
   ]
  },
  {
   "cell_type": "code",
   "execution_count": null,
   "id": "cec356ea-c773-4cf6-97ca-3cb099bcc9fb",
   "metadata": {},
   "outputs": [],
   "source": [
    "# bing in PRMS flows and convert units\n",
    "prms_flow_da = xr.open_dataarray(prms_run_dir / \"seg_outflow.nc\")\n",
    "prms_flow_da = prms_flow_da.reset_index(\"time\")\n",
    "\n",
    "# The PRMS flows are \"daily\" so we'll center them on the day then interpolate\n",
    "# to the the same times as MF6 DFW\n",
    "prms_flow_da[\"time\"] = prms_flow_da[\"time\"] + np.timedelta64(12, \"h\")\n",
    "prms_flow_da = prms_flow_da.where(prms_flow_da.time.isin(sim_times), drop=True)\n",
    "flow_ds = (\n",
    "    prms_flow_da.resample(time=f\"{int(tdis_perlen/tdis_nstp)}s\")\n",
    "    .interpolate(\"nearest\")\n",
    "    .to_dataset(name=\"prms\")\n",
    ")\n",
    "\n",
    "# Convert units using pint\n",
    "units = pint.UnitRegistry()\n",
    "flow_ds[\"prms\"][:, :] = (\n",
    "    (flow_ds[\"prms\"].values * units(\"feet ** 3 / second\")).to(\n",
    "        \"meters ** 3 / second\"\n",
    "    )\n",
    ").m"
   ]
  },
  {
   "cell_type": "code",
   "execution_count": null,
   "id": "658fc090-5d30-4a76-974e-db91ce266aa9",
   "metadata": {},
   "outputs": [],
   "source": [
    "# This dataset is at 40 minute resolution\n",
    "prms_mf6_ds = xr.merge([mf6_ds, flow_ds])[\n",
    "    [\"prms\", \"dfw_flow\", \"dfw_stage\"]\n",
    "].rename(\n",
    "    {\n",
    "        \"prms\": \"prms streamflow\",\n",
    "        \"dfw_flow\": \"dfw streamflow\",\n",
    "        \"dfw_stage\": \"dfw stage\",\n",
    "    }\n",
    ")"
   ]
  },
  {
   "cell_type": "code",
   "execution_count": null,
   "id": "4c428902-0b85-4b1a-a9b6-dd60837d02e5",
   "metadata": {},
   "outputs": [],
   "source": [
    "# Subset to points of interest (poi), known flow gages\n",
    "empty_str = \" \" * 15\n",
    "poi_id = np.full(\n",
    "    prms_mf6_ds[\"prms streamflow\"].nhm_seg.shape, empty_str, dtype=\"<U15\"\n",
    ")\n",
    "\n",
    "poi_id[:] = empty_str\n",
    "for ii, jj in enumerate(params.parameters[\"poi_gage_segment\"].tolist()):\n",
    "    poi_id[jj] = params.parameters[\"poi_gage_id\"][ii]\n",
    "\n",
    "prms_mf6_ds[\"poi_id\"] = xr.DataArray(poi_id, dims=[\"nhm_seg\"])\n",
    "\n",
    "prms_mf6_poi_ds = (\n",
    "    prms_mf6_ds[[\"prms streamflow\", \"dfw streamflow\", \"poi_id\"]]\n",
    "    .where(prms_mf6_ds.poi_id != empty_str, drop=True)\n",
    "    .set_coords(\"poi_id\")\n",
    "    .swap_dims(nhm_seg=\"poi_id\")\n",
    ")"
   ]
  },
  {
   "cell_type": "code",
   "execution_count": null,
   "id": "5929d41a-fc75-416c-b070-4e0f6153f2e0",
   "metadata": {},
   "outputs": [],
   "source": [
    "observations_nc_file = domain_dir / \"drb_2yr_gage_poi_obs.nc\"\n",
    "obs_da = xr.open_dataset(observations_nc_file)[\"discharge\"].rename(\"observed\")\n",
    "obs_da[:] = (\n",
    "    (obs_da.values * units(\"feet ** 3 / second\"))\n",
    "    .to(\"meters ** 3 / second\")\n",
    "    .magnitude\n",
    ")\n",
    "obs_ds = obs_da.to_dataset()\n",
    "obs_all_na = np.isnan(obs_ds.observed).sum(dim=\"time\") == len(obs_ds.time)\n",
    "obs_ds = obs_ds.where(~obs_all_na, drop=True)\n",
    "# make it 40 minute resolution\n",
    "obs_ds = obs_ds.resample(time=f\"{int(tdis_perlen/tdis_nstp)}s\").interpolate(\n",
    "    \"nearest\"\n",
    ")"
   ]
  },
  {
   "cell_type": "code",
   "execution_count": null,
   "id": "c7bdfc61-6a38-48c4-92b4-8c6e7611467c",
   "metadata": {},
   "outputs": [],
   "source": [
    "eval_ds = xr.merge([obs_ds, prms_mf6_poi_ds], join=\"inner\").set_xindex(\n",
    "    \"nhm_seg\"\n",
    ")\n",
    "eval_ds"
   ]
  },
  {
   "cell_type": "markdown",
   "id": "8dfae277-e87e-4cae-9d7a-474428e4e806",
   "metadata": {},
   "source": [
    "There were 103 gages with observations at some times. Let's take a look at the first three."
   ]
  },
  {
   "cell_type": "code",
   "execution_count": null,
   "id": "6ab98b3e-b834-4251-a3d7-94338477e7fd",
   "metadata": {},
   "outputs": [],
   "source": [
    "eval_plot_ds = eval_ds[\n",
    "    [\n",
    "        \"observed\",\n",
    "        \"dfw streamflow\",\n",
    "        \"prms streamflow\",\n",
    "    ]\n",
    "]\n",
    "\n",
    "\n",
    "def plot_eval_ds(poi_id):\n",
    "    display(\n",
    "        eval_plot_ds.sel(poi_id=poi_id).hvplot(\n",
    "            x=\"time\",\n",
    "            # groupby=\"poi_id\",  # not working for me currently, just looping over some instead\n",
    "            ylabel=\"streamflow (m^3/s)\",\n",
    "            xlabel=\"\",\n",
    "            height=350,\n",
    "            width=800,\n",
    "        )\n",
    "    )\n",
    "\n",
    "\n",
    "for ii in eval_ds.poi_id[0:3]:\n",
    "    plot_eval_ds(ii)"
   ]
  },
  {
   "cell_type": "markdown",
   "id": "3a10fce4-3a4f-4a15-a499-f94af1c2184d",
   "metadata": {},
   "source": [
    "## Trenton Gage\n",
    "Which observered point has the largest mean flow?"
   ]
  },
  {
   "cell_type": "code",
   "execution_count": null,
   "id": "b71a818c-fe5c-4c4e-afc9-4ad9915f77ba",
   "metadata": {},
   "outputs": [],
   "source": [
    "wh_max_flow = eval_ds.observed.mean(dim=\"time\").argmax(dim=\"poi_id\")\n",
    "poi_id_max_flow = str(eval_ds.poi_id[wh_max_flow].values[()])"
   ]
  },
  {
   "cell_type": "code",
   "execution_count": null,
   "id": "4411b711-51f2-44da-b3b7-0d5a961fe5de",
   "metadata": {},
   "outputs": [],
   "source": [
    "plot_eval_ds(poi_id_max_flow)"
   ]
  },
  {
   "cell_type": "markdown",
   "id": "420a464a-dda0-4ca4-b0cd-d9b20281a2dd",
   "metadata": {},
   "source": [
    "Hold on. Someting looks really wrong at this gage. PRMS and MF6 dont match and PRMS is much lower than the observations. What is going on?\n",
    "\n",
    "What we'll find is that the gage has been registered to the wrong segment in PRMS. We'll also see that DFW models this more close to the observations because this \"wrong\" reach is hydraulically connected in DFW to where the gage is actually located.\n",
    "\n",
    "Where is this going on?"
   ]
  },
  {
   "cell_type": "code",
   "execution_count": null,
   "id": "3e73c333-8a97-40cd-aba5-69cae4f6058e",
   "metadata": {},
   "outputs": [],
   "source": [
    "import dataretrieval.nwis as nwis\n",
    "\n",
    "trenton_meta = nwis.get_record(sites=poi_id_max_flow, service=\"site\")\n",
    "print(trenton_meta[\"station_nm\"][0])"
   ]
  },
  {
   "cell_type": "code",
   "execution_count": null,
   "id": "e92352c0-ddd8-4a69-9059-055855c40599",
   "metadata": {},
   "outputs": [],
   "source": [
    "_ = pws.plot.DomainPlot(\n",
    "    hru_shp_file=gis_dir / \"HRU_subset.shp\",\n",
    "    segment_shp_file=gis_dir / \"Segments_subset.shp\",\n",
    "    hru_parameters=domain_dir / \"parameters_dis_hru.nc\",\n",
    "    hru_parameter_names=[\n",
    "        \"nhm_id\",\n",
    "        \"hru_lat\",\n",
    "        \"hru_lon\",\n",
    "        \"hru_area\",\n",
    "    ],\n",
    "    segment_parameters=domain_dir / \"parameters_dis_seg.nc\",\n",
    "    segment_parameter_names=[\n",
    "        \"nhm_seg\",\n",
    "        \"seg_cum_area\",\n",
    "        \"seg_length\",\n",
    "        \"seg_slope\",\n",
    "        \"tosegment_nhm\",\n",
    "    ],\n",
    "    start_lat=trenton_meta.dec_lat_va[0],\n",
    "    start_lon=trenton_meta.dec_long_va[0],\n",
    "    start_zoom=12,\n",
    "    display_plot=True,\n",
    ")"
   ]
  },
  {
   "cell_type": "markdown",
   "id": "6d0eccfd-54f4-46ac-8c13-1da6bcc2599b",
   "metadata": {},
   "source": [
    "Exploring the above plot with the cursor, the segments that flow to `nhm_seg` 1766 are 1498 and 1499. The segment 1499 is a very short segment, into which 1493 flows. The Trenton gage is actually shown on the map by a circle with a black hourglass inside of it, Northwest of the confluence, close to the Thomas Edison State University - George Pruitt Hall. The gage should seemingly be registered to `nhm_seg` 1498.\n",
    "We can also see that the short connector segment, 1499, inside HRU with `nhm_id` 5667, is only 117 meters long and is somewhat flatter compared to the other segments. It makes sense that in DFW, some of the flow coming from 1498 could flow to into 1499 so that the heads at the confluence of 1493, 1499 and 1766 match. This will not happen at all with PRMS Muskingum-Mann routing because it does not have a head term and the flow directions are strictly prescribed *a priori* in the parameters. In summary, this short connector segment highlights differences between the two flow solutions and happens to have the Trenton gage mistakenly registered to it. "
   ]
  },
  {
   "cell_type": "code",
   "execution_count": null,
   "id": "527c3e74-eaee-406c-977f-868a419ecbc5",
   "metadata": {},
   "outputs": [],
   "source": [
    "def plot_modeled_location(\n",
    "    nhm_seg,\n",
    "    logy=False,\n",
    "    plot_vars=[\"prms streamflow\", \"dfw streamflow\"],\n",
    "):\n",
    "\n",
    "    ylabel = \"\"\n",
    "    any_flow = [True for ss in plot_vars if \"streamflow\" in ss]\n",
    "    if len(any_flow):\n",
    "        ylabel += \"streamflow (m^3/s)\"\n",
    "    if \"dfw stage\" in plot_vars:\n",
    "        if len(any_flow):\n",
    "            ylabel += \"\\n\"\n",
    "        ylabel += \"stage (cm)\"\n",
    "\n",
    "    display(\n",
    "        prms_mf6_ds[plot_vars]\n",
    "        .sel(nhm_seg=nhm_seg)\n",
    "        .hvplot(\n",
    "            x=\"time\",\n",
    "            ylabel=ylabel,\n",
    "            xlabel=\"\",\n",
    "            height=plot_height,\n",
    "            width=plot_width,\n",
    "            logy=logy,\n",
    "        )\n",
    "    )"
   ]
  },
  {
   "cell_type": "code",
   "execution_count": null,
   "id": "e0a774be-9e1e-4dba-87e1-4d2893a7c975",
   "metadata": {},
   "outputs": [],
   "source": [
    "plot_modeled_location(nhm_seg=1498)\n",
    "plot_modeled_location(nhm_seg=1493)\n",
    "plot_modeled_location(nhm_seg=1499)\n",
    "plot_modeled_location(nhm_seg=1766)"
   ]
  },
  {
   "cell_type": "markdown",
   "id": "68cb078f-5080-4a73-bd39-c9832f522699",
   "metadata": {},
   "source": [
    "Put the observed flows on the seemingly more appropriate, upstream segment with `nhm_seg=1498`."
   ]
  },
  {
   "cell_type": "code",
   "execution_count": null,
   "id": "47d57fc4-ca1b-4e18-86d5-6df40fc4742d",
   "metadata": {},
   "outputs": [],
   "source": [
    "seg_1498_ds = prms_mf6_ds.where(prms_mf6_ds.nhm_seg.isin([1498]), drop=True)\n",
    "seg_1498_ds[\"poi_id\"] = xr.DataArray(\n",
    "    np.array([poi_id_max_flow]), dims=[\"nhm_seg\"]\n",
    ")\n",
    "seg_1498_ds = seg_1498_ds.swap_dims(nhm_seg=\"poi_id\")\n",
    "trenton_gage_eval_ds = xr.merge([obs_ds, seg_1498_ds], join=\"inner\")"
   ]
  },
  {
   "cell_type": "code",
   "execution_count": null,
   "id": "24b799c5-0110-4469-8f96-c048f0efd45e",
   "metadata": {},
   "outputs": [],
   "source": [
    "display(\n",
    "    trenton_gage_eval_ds[[\"observed\", \"dfw streamflow\", \"prms streamflow\"]]\n",
    "    .sel(poi_id=poi_id_max_flow)\n",
    "    .hvplot(\n",
    "        x=\"time\",\n",
    "        ylabel=\"streamflow (m^3/s)\",\n",
    "        xlabel=\"\",\n",
    "        height=plot_height,\n",
    "        width=plot_width,\n",
    "    )\n",
    ")"
   ]
  },
  {
   "cell_type": "markdown",
   "id": "e09f7c67-cfd5-4b8f-9a5d-a98fddb95be5",
   "metadata": {},
   "source": [
    "Let's consider the river stages modeled by DFW in the 4 links including and connecting to the one with `nhm_seg=1499` where the gage was erroneously placed, to verify that they have very similar heads as this is what makes DFW more realistic on this wrong reach. "
   ]
  },
  {
   "cell_type": "code",
   "execution_count": null,
   "id": "b788da3f-25c0-4715-8d8c-fbc8239b398a",
   "metadata": {},
   "outputs": [],
   "source": [
    "plot_modeled_location(nhm_seg=1498, plot_vars=[\"dfw stage\"])\n",
    "plot_modeled_location(nhm_seg=1493, plot_vars=[\"dfw stage\"])\n",
    "plot_modeled_location(nhm_seg=1499, plot_vars=[\"dfw stage\"])\n",
    "plot_modeled_location(nhm_seg=1766, plot_vars=[\"dfw stage\"])"
   ]
  },
  {
   "cell_type": "code",
   "execution_count": null,
   "id": "a6c06cdc-76ba-4338-9e64-1384282c7e5e",
   "metadata": {},
   "outputs": [],
   "source": []
  }
 ],
 "metadata": {
  "language_info": {
   "codemirror_mode": {
    "name": "ipython"
   },
   "file_extension": ".py",
   "mimetype": "text/x-python",
   "name": "python",
   "nbconvert_exporter": "python"
  }
 },
 "nbformat": 4,
 "nbformat_minor": 5
}
