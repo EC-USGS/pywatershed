{
 "cells": [
  {
   "cell_type": "markdown",
   "id": "2aa72049-ae70-41ca-8720-5c7091b4dcf0",
   "metadata": {},
   "source": [
    "# Preprocess CBH forcing files, solar geometry output, and climate adjustments.\n",
    "\n",
    "This notebook demonstrates  \n",
    "1) Conversion of PRMS CBH files to NetCDF for use with pywatershed,\n",
    "2) Writing out variables of solar geometry\n",
    "3) Applying parameter adjustments to get static atmospheric forcings used by the hydrology. If you are not varying parameters to PRMSAtmosphere, your atmosphere does not change between runs and this can save considerable time. We show how to do this with solar variables on file (from step 2) or using a PRMSSolarGeom instance. \n",
    "\n",
    "This notebook assumes you have an editable install of pywatershed (`pip install -e .` from the root of\n",
    "the cloned repository), to get necessary domain information."
   ]
  },
  {
   "cell_type": "code",
   "execution_count": null,
   "id": "7275fe95-8e0b-45f9-837c-ad6f7d38ced7",
   "metadata": {
    "editable": true,
    "slideshow": {
     "slide_type": ""
    }
   },
   "outputs": [],
   "source": [
    "# auto-format the code in this notebook\n",
    "%load_ext jupyter_black"
   ]
  },
  {
   "cell_type": "code",
   "execution_count": null,
   "id": "b4d1ec1c-2526-4ccd-a8e5-3169c898cf68",
   "metadata": {},
   "outputs": [],
   "source": [
    "from copy import deepcopy\n",
    "import pathlib as pl\n",
    "from pprint import pprint\n",
    "import shutil\n",
    "\n",
    "import numpy as np\n",
    "import pywatershed as pws\n",
    "import xarray as xr\n",
    "\n",
    "pws_repo_root = pws.constants.__pywatershed_root__.parent"
   ]
  },
  {
   "cell_type": "code",
   "execution_count": null,
   "id": "19fda9b4-d194-4b47-a4c5-03f732a8d909",
   "metadata": {},
   "outputs": [],
   "source": [
    "nb_output_dir = pl.Path(\"./preprocess_cbh_adj\")\n",
    "if nb_output_dir.exists():\n",
    "    shutil.rmtree(nb_output_dir)\n",
    "nb_output_dir.mkdir()\n",
    "\n",
    "# This works with domains in the pywatershed repository\n",
    "# you can configure for your domain.\n",
    "dom_name = \"drb_2yr\"\n",
    "dom_dir = pws_repo_root / f\"test_data/{dom_name}\"\n",
    "param_file = dom_dir / \"myparam.param\"\n",
    "control_file = dom_dir / \"control.test\"\n",
    "dis_file = dom_dir / \"parameters_dis_hru.nc\""
   ]
  },
  {
   "cell_type": "markdown",
   "id": "e368cfc8-3a1d-4810-9a29-44dc3740c5ef",
   "metadata": {},
   "source": [
    "## Convert CBH files to netcdf"
   ]
  },
  {
   "cell_type": "code",
   "execution_count": null,
   "id": "6333def3-918c-412a-9a0d-a3732fdbcc05",
   "metadata": {},
   "outputs": [],
   "source": [
    "params = pws.parameters.PrmsParameters.load(param_file)\n",
    "\n",
    "cbh_files = {\n",
    "    \"prcp\": dom_dir / \"prcp.cbh\",\n",
    "    \"tmax\": dom_dir / \"tmax.cbh\",\n",
    "    \"tmin\": dom_dir / \"tmin.cbh\",\n",
    "}\n",
    "\n",
    "cbh_dir = nb_output_dir / f\"cbh\"\n",
    "cbh_dir.mkdir(exist_ok=True)\n",
    "\n",
    "for kk, vv in cbh_files.items():\n",
    "    out_file = cbh_dir / f\"{kk}.nc\"\n",
    "    pws.utils.cbh_file_to_netcdf({kk: vv}, params, out_file)"
   ]
  },
  {
   "cell_type": "markdown",
   "id": "3733421a-652e-46b7-aa9e-c8967ef32f6b",
   "metadata": {},
   "source": [
    "## Write solar geometry files"
   ]
  },
  {
   "cell_type": "code",
   "execution_count": null,
   "id": "d25797be-2a7a-4a98-9fd2-c953f48d482c",
   "metadata": {},
   "outputs": [],
   "source": [
    "solar_geom_dir = nb_output_dir / \"solar_geom\"\n",
    "solar_geom_dir.mkdir(exist_ok=True)\n",
    "\n",
    "solar_geom_output_vars = [\"soltab_horad_potsw\", \"soltab_potsw\"]\n",
    "\n",
    "control = pws.Control.load_prms(control_file, warn_unused_options=False)\n",
    "\n",
    "# FIX this not working\n",
    "# control.options = control.options | {\n",
    "#     \"netcdf_output_dir\": solar_geom_dir,\n",
    "#     \"netcdf_output_var_names\": [\n",
    "#         \"soltab_horad_potsw\",\n",
    "#         \"soltab_potsw\",\n",
    "#     ],\n",
    "# }\n",
    "\n",
    "solar_geom = pws.PRMSSolarGeometry(\n",
    "    control,\n",
    "    None,\n",
    "    params,\n",
    "    # netcdf_output_dir=solar_geom_dir,\n",
    "    # netcdf_output_vars=solar_geom_output_vars,  ## this is apparently not working either\n",
    ")\n",
    "solar_geom.initialize_netcdf(\n",
    "    output_dir=solar_geom_dir,\n",
    "    # output_vars=solar_geom_output_vars,  ## this is apparently not working either, no output\n",
    ")\n",
    "control.advance()\n",
    "solar_geom.advance()\n",
    "solar_geom.output()\n",
    "# why is it outputing soltab_sunhrs?"
   ]
  },
  {
   "cell_type": "code",
   "execution_count": null,
   "id": "4b290462-4bfb-4297-be8e-88b496442c01",
   "metadata": {},
   "outputs": [],
   "source": [
    "var = \"soltab_potsw\"\n",
    "da = xr.open_dataarray(solar_geom_dir / f\"{var}.nc\", decode_timedelta=False)\n",
    "display(da)\n",
    "print(da[-1, 0:100].values)\n",
    "da.close()"
   ]
  },
  {
   "cell_type": "markdown",
   "id": "1e5fa092-7623-4ef2-8907-d9f0597f8271",
   "metadata": {},
   "source": [
    "## Preprocess atmospheric forcings without solar geometry files present\n",
    "\n",
    "When a `PRMSAtmosphere` object is initalized with a `netcdf_output_dir` argument, the adjusted forcings \n",
    "are written to this location. Unless one requests specific variables only, all variables are written. \n",
    "\n",
    "Typically, the `soltab_potsw.nc` and `soltab_horad_potsw.nc` input files are not available as inputs. \n",
    "(These are only output in a fixed width format by a version of PRMS5.2.1 in the pynhm repository\n",
    "that is translated to netCDF when setting up test data). Here we show how to get the CBH adjustments\n",
    "to output files using PRMSSolarGeometry instead of soltab files. The next section will show how to use available soltab files we created above."
   ]
  },
  {
   "cell_type": "code",
   "execution_count": null,
   "id": "b86c8a5c-1d61-4961-804f-009dad45c7c4",
   "metadata": {},
   "outputs": [],
   "source": [
    "cbh_files_dict = {ff.with_suffix(\"\").name: ff for ff in cbh_dir.glob(\"*.nc\")}"
   ]
  },
  {
   "cell_type": "code",
   "execution_count": null,
   "id": "b8a12348-378d-45e8-928b-bc938cf430c3",
   "metadata": {},
   "outputs": [],
   "source": [
    "atm_dir = nb_output_dir / \"atm_without_solar_files\"\n",
    "atm_dir.mkdir(exist_ok=True)\n",
    "\n",
    "control = pws.Control.load_prms(control_file, warn_unused_options=False)\n",
    "solar_geom = pws.PRMSSolarGeometry(control, None, params)\n",
    "\n",
    "atm = pws.PRMSAtmosphere(\n",
    "    control,\n",
    "    None,\n",
    "    params,\n",
    "    **cbh_files_dict,\n",
    "    soltab_horad_potsw=solar_geom.soltab_horad_potsw,\n",
    "    soltab_potsw=solar_geom.soltab_potsw,\n",
    ")\n",
    "atm.initialize_netcdf(atm_dir)\n",
    "control.advance()\n",
    "solar_geom.advance()\n",
    "atm.advance()\n",
    "atm.calculate(1)\n",
    "atm.output()"
   ]
  },
  {
   "cell_type": "code",
   "execution_count": null,
   "id": "a318e7da-f904-4312-9e7a-aff5b2991043",
   "metadata": {},
   "outputs": [],
   "source": [
    "var = \"potet\"\n",
    "da = xr.open_dataarray(atm_dir / f\"{var}.nc\")\n",
    "display(da)\n",
    "print(da[-1, 0:100].values)\n",
    "da.close()"
   ]
  },
  {
   "cell_type": "markdown",
   "id": "d72cfda1-9957-4283-a35d-f3f8f595a139",
   "metadata": {},
   "source": [
    "## Preprocess atmospheric forcings with solar geometry files present\n",
    "We repeat the above, dropping the `PRMSSolarGeometry` object as its information is now coming from the soltab files. "
   ]
  },
  {
   "cell_type": "code",
   "execution_count": null,
   "id": "e1696ae3-28e4-4a20-a811-68b58158f09c",
   "metadata": {},
   "outputs": [],
   "source": [
    "cbh_files_dict = {ff.with_suffix(\"\").name: ff for ff in cbh_dir.glob(\"*.nc\")}\n",
    "solar_files_dict = {\n",
    "    ff.with_suffix(\"\").name: ff for ff in solar_geom_dir.glob(\"*.nc\")\n",
    "}\n",
    "del solar_files_dict[\"soltab_sunhrs\"]\n",
    "atm_input_files_dict = cbh_files_dict | solar_files_dict"
   ]
  },
  {
   "cell_type": "code",
   "execution_count": null,
   "id": "9836e071-2754-4230-b880-f2ea8dca3eb0",
   "metadata": {},
   "outputs": [],
   "source": [
    "atm_solar_files_dir = nb_output_dir / \"atm_without_solar_files\"\n",
    "atm_solar_files_dir.mkdir(exist_ok=True)\n",
    "\n",
    "control = pws.Control.load_prms(control_file, warn_unused_options=False)\n",
    "solar_geom = pws.PRMSSolarGeometry(control, None, params)\n",
    "\n",
    "atm = pws.PRMSAtmosphere(\n",
    "    control,\n",
    "    None,\n",
    "    params,\n",
    "    **atm_input_files_dict,\n",
    ")\n",
    "atm.initialize_netcdf(atm_solar_files_dir)\n",
    "control.advance()\n",
    "atm.advance()\n",
    "atm.calculate(1)\n",
    "atm.output()"
   ]
  },
  {
   "cell_type": "code",
   "execution_count": null,
   "id": "386822e6-c13d-4203-afb1-baa6cd2501ab",
   "metadata": {},
   "outputs": [],
   "source": [
    "var = \"potet\"\n",
    "da = xr.open_dataarray(atm_dir / f\"{var}.nc\")\n",
    "display(da)\n",
    "print(da[-1, 0:100].values)\n",
    "da.close()"
   ]
  }
 ],
 "metadata": {
  "language_info": {
   "codemirror_mode": {
    "name": "ipython"
   },
   "file_extension": ".py",
   "mimetype": "text/x-python",
   "name": "python",
   "nbconvert_exporter": "python"
  }
 },
 "nbformat": 4,
 "nbformat_minor": 5
}
