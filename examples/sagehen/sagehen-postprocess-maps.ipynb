{
 "cells": [
  {
   "cell_type": "markdown",
   "metadata": {
    "tags": []
   },
   "source": [
    "# pynhm sagehen\n",
    "\n",
    "## Coupling of MODFLOW to pynhm\n",
    "\n",
    "## Supported operating systems\n",
    "This example can be run on the following operating systems:\n",
    "\n",
    "* linux\n",
    "* macOS\n",
    "* Windows\n",
    "\n",
    "## Prerequisites\n",
    "To process the results, the following publicly available software are required:\n",
    "\n",
    "* __flopy__ is a python package that can be used to build, run, and post-process MODFLOW 6 models. The source is available at https://github.com/modflowpy/flopy and the package can be installed from PyPI using `pip install flopy` or conda using `conda install flopy`.\n",
    "* __geopandas__ which can be installed using PyPI (`pip install geopandas`) or conda (`conda install geopandas`).\n",
    "* __fiona__ which can be installed using PyPI (`pip install fiona`) or conda (`conda install fiona`).\n",
    "* __netCDF4__ which can be installed using PyPI (`pip install netCDF4`) or conda (`conda install netCDF4`).\n",
    "\n",
    "## Post-processing the results\n",
    "\n",
    "We start by importing the necessary packages:"
   ]
  },
  {
   "cell_type": "code",
   "execution_count": null,
   "metadata": {
    "tags": []
   },
   "outputs": [],
   "source": [
    "import os\n",
    "import sys\n",
    "import pathlib as pl\n",
    "\n",
    "import numpy as np\n",
    "import matplotlib as mpl\n",
    "from matplotlib import gridspec\n",
    "import matplotlib.ticker as mticker\n",
    "import matplotlib.pyplot as plt\n",
    "import flopy\n",
    "import geopandas as gpd\n",
    "import fiona\n",
    "import netCDF4 as nc"
   ]
  },
  {
   "cell_type": "code",
   "execution_count": null,
   "metadata": {},
   "outputs": [],
   "source": [
    "# Set this to your location for the mf6bmipaper repo\n",
    "root_dir = pl.Path(\"/Users/jamesmcc/usgs/mf6bmipaper/models/ModflowPynhm/\")\n",
    "os.chdir(root_dir)\n",
    "\n",
    "sys.path.append(os.path.join(\"..\", \"common\"))\n",
    "from figspecs import USGSFigure"
   ]
  },
  {
   "cell_type": "markdown",
   "metadata": {},
   "source": [
    "#### Set figure width and set figure specifications"
   ]
  },
  {
   "cell_type": "code",
   "execution_count": null,
   "metadata": {},
   "outputs": [],
   "source": [
    "figwidth = 90  # mm\n",
    "figwidth = figwidth / 10 / 2.54  # inches\n",
    "\n",
    "fs = USGSFigure(figure_type=\"map\")"
   ]
  },
  {
   "cell_type": "markdown",
   "metadata": {},
   "source": [
    "#### Function to map HRU values to MODFLOW 6 values"
   ]
  },
  {
   "cell_type": "code",
   "execution_count": null,
   "metadata": {},
   "outputs": [],
   "source": [
    "def hru2mf6(weights, values):\n",
    "    return weights.dot(values)"
   ]
  },
  {
   "cell_type": "markdown",
   "metadata": {},
   "source": [
    "#### Functions to map cell-by-cell data to the grid"
   ]
  },
  {
   "cell_type": "code",
   "execution_count": null,
   "metadata": {},
   "outputs": [],
   "source": [
    "def CellBudgetSum(shape, idx, v, mask=False):\n",
    "    v_unique = np.zeros(shape, dtype=v.dtype)\n",
    "    np.add.at(v_unique, idx, v)\n",
    "    if mask:\n",
    "        mask_arr = np.ones(shape, dtype=bool)\n",
    "        mask_arr[np.unique(idx)] = False\n",
    "        v_unique = np.ma.masked_where(mask_arr, v_unique)\n",
    "    return v_unique"
   ]
  },
  {
   "cell_type": "code",
   "execution_count": null,
   "metadata": {},
   "outputs": [],
   "source": [
    "def CellBudgetReshape(modelgrid, idx, v, mask=False):\n",
    "    return CellBudgetSum(modelgrid.nnodes, idx, v, mask=mask).reshape(modelgrid.shape)"
   ]
  },
  {
   "cell_type": "markdown",
   "metadata": {},
   "source": [
    "#### Process the geodatabase"
   ]
  },
  {
   "cell_type": "code",
   "execution_count": null,
   "metadata": {},
   "outputs": [],
   "source": [
    "file = \"../ModflowPRMS/Sagehen.gdb\"\n",
    "hru = gpd.read_file(file, driver=\"FileGDB\", layer=\"HRU\")\n",
    "river = gpd.read_file(file, driver=\"FileGDB\", layer=\"stream\")"
   ]
  },
  {
   "cell_type": "code",
   "execution_count": null,
   "metadata": {},
   "outputs": [],
   "source": [
    "ws = \"sagehenmodel\"\n",
    "sim = flopy.mf6.MFSimulation().load(sim_ws=ws)\n",
    "gwf = sim.get_model(\"sagehenmodel\")"
   ]
  },
  {
   "cell_type": "markdown",
   "metadata": {},
   "source": [
    "##### Set coordinate information for model grid"
   ]
  },
  {
   "cell_type": "code",
   "execution_count": null,
   "metadata": {},
   "outputs": [],
   "source": [
    "gwf.modelgrid.set_coord_info(\n",
    "    xoff=214860, yoff=4365620, epsg=26911, angrot=12.013768668935385975\n",
    ")"
   ]
  },
  {
   "cell_type": "markdown",
   "metadata": {},
   "source": [
    "##### Print model discretization shape"
   ]
  },
  {
   "cell_type": "code",
   "execution_count": null,
   "metadata": {},
   "outputs": [],
   "source": [
    "gwf.modelgrid.shape, gwf.modelgrid.nnodes"
   ]
  },
  {
   "cell_type": "markdown",
   "metadata": {},
   "source": [
    "#### Get PRMS output"
   ]
  },
  {
   "cell_type": "code",
   "execution_count": null,
   "metadata": {},
   "outputs": [],
   "source": [
    "fpth = \"sagehenmodel/output/pynhm_output.npz\"\n",
    "prms_out = np.load(fpth)"
   ]
  },
  {
   "cell_type": "markdown",
   "metadata": {},
   "source": [
    "#### Get prms output times"
   ]
  },
  {
   "cell_type": "code",
   "execution_count": null,
   "metadata": {},
   "outputs": [],
   "source": [
    "# the infiltration and recharge maps show WY 1993 - 1996\n",
    "# or is this a typo and it's supposed to be 1982- instead of 1992-?\n",
    "from datetime import datetime\n",
    "\n",
    "time_end = datetime(1996, 10, 1)\n",
    "time_start = datetime(1980, 10, 1)\n",
    "print(time_end - time_start)\n",
    "\n",
    "map_endish_idx0 = datetime(1992, 10, 1)\n",
    "print(map_endish_idx0 - time_start)\n",
    "\n",
    "idx0 = 4383  # 0 #730 #365\n",
    "times = prms_out[\"time\"][idx0:]\n",
    "ndays = times.shape[0]\n",
    "print(\"Number of PRMS days to process {}\".format(ndays))"
   ]
  },
  {
   "cell_type": "markdown",
   "metadata": {},
   "source": [
    "#### Get MODFLOW output times"
   ]
  },
  {
   "cell_type": "code",
   "execution_count": null,
   "metadata": {},
   "outputs": [],
   "source": [
    "tobj = flopy.utils.CellBudgetFile(\n",
    "    \"sagehenmodel/output/gwf_sagehen-gsf.sfr.cbc\", precision=\"double\"\n",
    ")\n",
    "times = np.array(tobj.get_times())[idx0:]\n",
    "ndays = times.shape[0]\n",
    "print(\"Number of MODFLOW days to process {}\".format(ndays))"
   ]
  },
  {
   "cell_type": "markdown",
   "metadata": {},
   "source": [
    "##### Calculate cell area and conversion factors"
   ]
  },
  {
   "cell_type": "code",
   "execution_count": null,
   "metadata": {},
   "outputs": [],
   "source": [
    "cell_area = 90.0 * 90.0\n",
    "cum2m = 1.0 / cell_area\n",
    "m2mm = 1000.0\n",
    "cum2mpd = cum2m / ndays\n",
    "cum2mmpd = cum2mpd * m2mm\n",
    "\n",
    "m2ft = 3.28081\n",
    "in2m = 1.0 / (12.0 * m2ft)"
   ]
  },
  {
   "cell_type": "markdown",
   "metadata": {},
   "source": [
    "##### Get idomain for mapping"
   ]
  },
  {
   "cell_type": "code",
   "execution_count": null,
   "metadata": {},
   "outputs": [],
   "source": [
    "idomain = gwf.dis.idomain.array"
   ]
  },
  {
   "cell_type": "markdown",
   "metadata": {},
   "source": [
    "#### Get HRU areas and convert to square meters"
   ]
  },
  {
   "cell_type": "code",
   "execution_count": null,
   "metadata": {},
   "outputs": [],
   "source": [
    "param_file = \"sagehen_params.pkl\"\n",
    "import pickle\n",
    "\n",
    "with open(param_file, \"rb\") as input_file:\n",
    "    param_dict = pickle.load(input_file)\n",
    "import pywatershed\n",
    "\n",
    "params = pywatershed.PrmsParameters(param_dict)\n",
    "\n",
    "hru_area = params.parameters[\"hru_area\"][:]  # m2\n",
    "acre2m2 = 43560.0 / (m2ft * m2ft)\n",
    "hru_area *= acre2m2"
   ]
  },
  {
   "cell_type": "markdown",
   "metadata": {},
   "source": [
    "##### Calculate model area"
   ]
  },
  {
   "cell_type": "code",
   "execution_count": null,
   "metadata": {},
   "outputs": [],
   "source": [
    "active_area = cell_area * idomain[0, :, :].sum()\n",
    "active_area"
   ]
  },
  {
   "cell_type": "markdown",
   "metadata": {},
   "source": [
    "##### Get uzf mapping arrays"
   ]
  },
  {
   "cell_type": "code",
   "execution_count": null,
   "metadata": {},
   "outputs": [],
   "source": [
    "tobj = flopy.utils.CellBudgetFile(\n",
    "    \"sagehenmodel/output/gwf_sagehen-gsf.uzf.cbc\", precision=\"double\"\n",
    ")\n",
    "v = tobj.get_data(totim=times[0], text=\"GWF\")[0]\n",
    "uzf_nodes = v[\"node\"] - 1\n",
    "uzf_gwfnodes = v[\"node2\"] - 1"
   ]
  },
  {
   "cell_type": "code",
   "execution_count": null,
   "metadata": {},
   "outputs": [],
   "source": [
    "print(uzf_nodes, \"\\n\", uzf_gwfnodes)"
   ]
  },
  {
   "cell_type": "markdown",
   "metadata": {},
   "source": [
    "#### Read weights\n",
    "\n",
    "The weight matrix should have columns equal to the number of HRUs and rows equal to the number of UZF cells or number of SFR reaches.\n",
    "\n",
    "_UZF weights_"
   ]
  },
  {
   "cell_type": "code",
   "execution_count": null,
   "metadata": {},
   "outputs": [],
   "source": [
    "uz2 = np.load(\"weights.npz\")\n",
    "print(uz2[\"uzfw\"].shape, uz2[\"sfrw\"].shape)\n",
    "uzfw = uz2[\"uzfw\"]"
   ]
  },
  {
   "cell_type": "markdown",
   "metadata": {},
   "source": [
    "_Number of UZF cells at the top of the model_"
   ]
  },
  {
   "cell_type": "code",
   "execution_count": null,
   "metadata": {},
   "outputs": [],
   "source": [
    "nuzf_infilt = uzfw.shape[0]\n",
    "print(\"number of UZF cells at the top of the model {}\".format(nuzf_infilt))"
   ]
  },
  {
   "cell_type": "markdown",
   "metadata": {},
   "source": [
    "#### Process sfr budget output"
   ]
  },
  {
   "cell_type": "code",
   "execution_count": null,
   "metadata": {},
   "outputs": [],
   "source": [
    "fpth = \"sagehenmodel/output/gwf_sagehen-gsf.sfr.cbc\"\n",
    "sfrobj = flopy.utils.CellBudgetFile(fpth, precision=\"double\")\n",
    "sfrobj.get_unique_record_names(0)"
   ]
  },
  {
   "cell_type": "code",
   "execution_count": null,
   "metadata": {},
   "outputs": [],
   "source": [
    "ext_outflow = 0.0\n",
    "for totim in times:\n",
    "    ext_outflow -= sfrobj.get_data(totim=totim, text=\"EXT-OUTFLOW\")[0][\"q\"][-1]\n",
    "ext_outflow"
   ]
  },
  {
   "cell_type": "markdown",
   "metadata": {},
   "source": [
    "#### Plot the model grid with the HRUs"
   ]
  },
  {
   "cell_type": "code",
   "execution_count": null,
   "metadata": {},
   "outputs": [],
   "source": [
    "mm = flopy.plot.PlotMapView(model=gwf)\n",
    "mm.plot_inactive(zorder=70)\n",
    "mm.plot_grid(lw=0.25, color=\"0.5\", zorder=10)\n",
    "river.plot(ax=mm.ax, color=\"cyan\", lw=1, zorder=101)\n",
    "hru.plot(ax=mm.ax, edgecolor=\"green\", facecolor=\"none\", lw=0.5, zorder=100)\n",
    "fpth = os.path.join(\n",
    "    \"..\", \"..\", \"doc\", \"figures\", \"sagehen_pynhm_all_discretization.png\"\n",
    ")\n",
    "plt.savefig(fpth, dpi=600);"
   ]
  },
  {
   "cell_type": "code",
   "execution_count": null,
   "metadata": {},
   "outputs": [],
   "source": [
    "mm = flopy.plot.PlotMapView(model=gwf)\n",
    "hru.plot(ax=mm.ax, edgecolor=\"green\", facecolor=\"none\", lw=0.5, zorder=100)\n",
    "fpth = os.path.join(\"..\", \"..\", \"doc\", \"figures\", \"sagehen_pynhm_hrus.png\")\n",
    "plt.savefig(fpth, dpi=600);"
   ]
  },
  {
   "cell_type": "code",
   "execution_count": null,
   "metadata": {},
   "outputs": [],
   "source": [
    "mm = flopy.plot.PlotMapView(model=gwf)\n",
    "mm.plot_inactive(zorder=70)\n",
    "river.plot(ax=mm.ax, color=\"cyan\", lw=1, zorder=101)\n",
    "fpth = os.path.join(\"..\", \"..\", \"doc\", \"figures\", \"sagehen_pynhm_sfr_network.png\")\n",
    "plt.savefig(fpth, dpi=600);"
   ]
  },
  {
   "cell_type": "code",
   "execution_count": null,
   "metadata": {},
   "outputs": [],
   "source": [
    "mm = flopy.plot.PlotMapView(model=gwf)\n",
    "mm.plot_inactive(zorder=70)\n",
    "mm.plot_grid(lw=0.25, color=\"0.5\", zorder=10)\n",
    "fpth = os.path.join(\"..\", \"..\", \"doc\", \"figures\", \"sagehen_pynhm_gw_grid.png\")\n",
    "plt.savefig(fpth, dpi=600);"
   ]
  },
  {
   "cell_type": "markdown",
   "metadata": {},
   "source": [
    "#### Process the GWF cbc file"
   ]
  },
  {
   "cell_type": "code",
   "execution_count": null,
   "metadata": {},
   "outputs": [],
   "source": [
    "cbcobj = flopy.utils.CellBudgetFile(\n",
    "    \"sagehenmodel/output/gwf_sagehen-gsf.cbc\", precision=\"double\"\n",
    ")\n",
    "cbcobj.get_unique_record_names()"
   ]
  },
  {
   "cell_type": "markdown",
   "metadata": {},
   "source": [
    "##### Groundwater recharge, evapotranspiration, and storage changes"
   ]
  },
  {
   "cell_type": "code",
   "execution_count": null,
   "metadata": {},
   "outputs": [],
   "source": [
    "for idx, totim in enumerate(times):\n",
    "    v = cbcobj.get_data(totim=totim, text=\"UZF-GWRCH\")[0]\n",
    "    u = cbcobj.get_data(totim=totim, text=\"UZF-GWET\")[0]\n",
    "    sy = cbcobj.get_data(totim=totim, text=\"STO-SY\")[0]\n",
    "    ss = cbcobj.get_data(totim=totim, text=\"STO-SS\")[0]\n",
    "    if idx == 0:\n",
    "        gwrch_gwfnodes = v[\"node\"] - 1\n",
    "        gwrch_uzfnodes = v[\"node2\"] - 1\n",
    "        gwrch_tot = np.zeros(v[\"q\"].shape, dtype=v[\"q\"].dtype)\n",
    "        gwet_tot = np.zeros(u[\"q\"].shape, dtype=u[\"q\"].dtype)\n",
    "        gwsto_tot = np.zeros(sy.shape, dtype=sy.dtype)\n",
    "    gwrch_tot += v[\"q\"]\n",
    "    gwet_tot -= u[\"q\"]\n",
    "    gwsto_tot -= sy\n",
    "    gwsto_tot -= ss\n",
    "gwrch_tot *= cum2mmpd\n",
    "gwet_tot *= cum2mmpd\n",
    "gwsto_tot *= cum2mmpd"
   ]
  },
  {
   "cell_type": "code",
   "execution_count": null,
   "metadata": {},
   "outputs": [],
   "source": [
    "gwrch_tot = CellBudgetReshape(gwf.modelgrid, gwrch_gwfnodes, gwrch_tot, mask=True)\n",
    "gwrch_tot = np.ma.masked_where(idomain == 0, gwrch_tot)"
   ]
  },
  {
   "cell_type": "code",
   "execution_count": null,
   "metadata": {},
   "outputs": [],
   "source": [
    "mm = flopy.plot.PlotMapView(model=gwf)\n",
    "v = mm.plot_array(gwrch_tot)\n",
    "river.plot(ax=mm.ax, color=\"cyan\", lw=1)\n",
    "hru.plot(ax=mm.ax, edgecolor=\"white\", facecolor=\"none\", lw=0.5)\n",
    "plt.colorbar(v);"
   ]
  },
  {
   "cell_type": "markdown",
   "metadata": {},
   "source": [
    "#### Groundwater evapotranspiration"
   ]
  },
  {
   "cell_type": "code",
   "execution_count": null,
   "metadata": {},
   "outputs": [],
   "source": [
    "gwet_tot = CellBudgetReshape(gwf.modelgrid, gwrch_gwfnodes, gwet_tot, mask=True)\n",
    "gwet_tot = np.ma.masked_where(idomain == 0, gwet_tot)"
   ]
  },
  {
   "cell_type": "code",
   "execution_count": null,
   "metadata": {},
   "outputs": [],
   "source": [
    "mm = flopy.plot.PlotMapView(model=gwf)\n",
    "v = mm.plot_array(gwet_tot)\n",
    "river.plot(ax=mm.ax, color=\"cyan\", lw=1)\n",
    "hru.plot(ax=mm.ax, edgecolor=\"white\", facecolor=\"none\", lw=0.5)\n",
    "plt.colorbar(v);"
   ]
  },
  {
   "cell_type": "markdown",
   "metadata": {},
   "source": [
    "##### Groundwater discharge to the surface"
   ]
  },
  {
   "cell_type": "code",
   "execution_count": null,
   "metadata": {},
   "outputs": [],
   "source": [
    "for idx, totim in enumerate(times):\n",
    "    v = cbcobj.get_data(totim=totim, text=\"DRN-TO-MVR\")[0]\n",
    "    if idx == 0:\n",
    "        gwd_tot = np.zeros(v[\"q\"].shape, dtype=v[\"q\"].dtype)\n",
    "        gwd_gwfnodes = v[\"node\"] - 1\n",
    "        gwd_nodes2 = v[\"node2\"] - 1\n",
    "    gwd_tot -= v[\"q\"]\n",
    "gwd_tot *= cum2mmpd"
   ]
  },
  {
   "cell_type": "code",
   "execution_count": null,
   "metadata": {},
   "outputs": [],
   "source": [
    "gwd_tot = CellBudgetReshape(gwf.modelgrid, gwd_gwfnodes, gwd_tot, mask=True)\n",
    "gwd_tot = np.ma.masked_where(gwd_tot == 0.0, gwd_tot)"
   ]
  },
  {
   "cell_type": "code",
   "execution_count": null,
   "metadata": {},
   "outputs": [],
   "source": [
    "mm = flopy.plot.PlotMapView(model=gwf)\n",
    "v = mm.plot_array(gwd_tot, vmax=0.08)\n",
    "river.plot(ax=mm.ax, color=\"cyan\", lw=1)\n",
    "hru.plot(ax=mm.ax, edgecolor=\"green\", facecolor=\"none\", lw=0.5)\n",
    "plt.colorbar(v)"
   ]
  },
  {
   "cell_type": "markdown",
   "metadata": {},
   "source": [
    "##### Boundary conditions"
   ]
  },
  {
   "cell_type": "code",
   "execution_count": null,
   "metadata": {},
   "outputs": [],
   "source": [
    "for idx, totim in enumerate(times):\n",
    "    v = cbcobj.get_data(totim=totim, text=\"CHD\")[0]\n",
    "    if idx == 0:\n",
    "        gwchd_gwfnodes = v[\"node\"] - 1\n",
    "        print(gwchd_gwfnodes)\n",
    "        gwchd_tot = np.zeros(v[\"q\"].shape, dtype=v[\"q\"].dtype)\n",
    "    gwchd_tot += v[\"q\"]\n",
    "gwchd_tot *= cum2mmpd"
   ]
  },
  {
   "cell_type": "code",
   "execution_count": null,
   "metadata": {},
   "outputs": [],
   "source": [
    "gwchd_tot = CellBudgetReshape(gwf.modelgrid, gwchd_gwfnodes, gwchd_tot, mask=True)\n",
    "gwchd_tot = np.ma.masked_where(gwchd_tot == 0.0, gwchd_tot)"
   ]
  },
  {
   "cell_type": "code",
   "execution_count": null,
   "metadata": {},
   "outputs": [],
   "source": [
    "mm = flopy.plot.PlotMapView(model=gwf)\n",
    "v = mm.plot_array(gwchd_tot, vmax=0.08)\n",
    "river.plot(ax=mm.ax, color=\"cyan\", lw=1)\n",
    "hru.plot(ax=mm.ax, edgecolor=\"green\", facecolor=\"none\", lw=0.5)\n",
    "plt.colorbar(v)"
   ]
  },
  {
   "cell_type": "markdown",
   "metadata": {},
   "source": [
    "#### Groundwater storage changes"
   ]
  },
  {
   "cell_type": "code",
   "execution_count": null,
   "metadata": {},
   "outputs": [],
   "source": [
    "gwsto_tot = np.ma.masked_where(idomain == 0, gwsto_tot)"
   ]
  },
  {
   "cell_type": "code",
   "execution_count": null,
   "metadata": {},
   "outputs": [],
   "source": [
    "mm = flopy.plot.PlotMapView(model=gwf)\n",
    "v = mm.plot_array(gwsto_tot)\n",
    "river.plot(ax=mm.ax, color=\"cyan\", lw=1)\n",
    "hru.plot(ax=mm.ax, edgecolor=\"green\", facecolor=\"none\", lw=0.5)\n",
    "plt.colorbar(v)"
   ]
  },
  {
   "cell_type": "markdown",
   "metadata": {},
   "source": [
    "#### Process the UZF cbc file"
   ]
  },
  {
   "cell_type": "code",
   "execution_count": null,
   "metadata": {},
   "outputs": [],
   "source": [
    "uzfobj = flopy.utils.CellBudgetFile(\n",
    "    \"sagehenmodel/output/gwf_sagehen-gsf.uzf.cbc\", precision=\"double\"\n",
    ")\n",
    "uzfobj.get_unique_record_names()"
   ]
  },
  {
   "cell_type": "code",
   "execution_count": null,
   "metadata": {},
   "outputs": [],
   "source": [
    "for idx, totim in enumerate(times):\n",
    "    v = uzfobj.get_data(totim=totim, text=\"GWF\")[0]\n",
    "    v2 = uzfobj.get_data(totim=totim, text=\"INFILTRATION\")[0]\n",
    "    v3 = uzfobj.get_data(totim=totim, text=\"REJ-INF-TO-MVR\")[0]\n",
    "    u = uzfobj.get_data(totim=totim, text=\"UZET\")[0]\n",
    "    s = uzfobj.get_data(totim=totim, text=\"STORAGE\")[0]\n",
    "    if idx == 0:\n",
    "        uzfinf_tot = np.zeros(v2[\"q\"].shape, dtype=v2[\"q\"].dtype)\n",
    "        uzfrinf_tot = np.zeros(v3[\"q\"].shape, dtype=v3[\"q\"].dtype)\n",
    "        uzfrch_tot = np.zeros(v[\"q\"].shape, dtype=v[\"q\"].dtype)\n",
    "        uzfet_tot = np.zeros(u[\"q\"].shape, dtype=u[\"q\"].dtype)\n",
    "        uzfsto_tot = np.zeros(s[\"q\"].shape, dtype=s[\"q\"].dtype)\n",
    "    uzfinf_tot += v2[\"q\"] + v3[\"q\"]\n",
    "    uzfrinf_tot -= v3[\"q\"]\n",
    "    uzfrch_tot -= v[\"q\"]\n",
    "    uzfet_tot -= u[\"q\"]\n",
    "    uzfsto_tot -= s[\"q\"]\n",
    "uzfrch_tot *= cum2mmpd\n",
    "uzfinf_tot *= cum2mmpd\n",
    "uzfrinf_tot *= cum2mmpd\n",
    "uzfet_tot *= cum2mmpd\n",
    "uzfsto_tot *= cum2mmpd"
   ]
  },
  {
   "cell_type": "markdown",
   "metadata": {},
   "source": [
    "##### Create 2d idomain array"
   ]
  },
  {
   "cell_type": "code",
   "execution_count": null,
   "metadata": {},
   "outputs": [],
   "source": [
    "idomain_2d = np.sum(idomain, axis=0)"
   ]
  },
  {
   "cell_type": "markdown",
   "metadata": {},
   "source": [
    "##### Create 2d infiltration array"
   ]
  },
  {
   "cell_type": "code",
   "execution_count": null,
   "metadata": {},
   "outputs": [],
   "source": [
    "v = CellBudgetReshape(gwf.modelgrid, uzf_gwfnodes, uzfinf_tot, mask=True)\n",
    "uzf_inf2d = np.sum(v, axis=0)\n",
    "uzf_inf2d = np.ma.masked_where(idomain_2d == 0, uzf_inf2d)"
   ]
  },
  {
   "cell_type": "code",
   "execution_count": null,
   "metadata": {},
   "outputs": [],
   "source": [
    "uzf_inf2d.shape, uzf_inf2d.min(), uzf_inf2d.mean(), uzf_inf2d.max()"
   ]
  },
  {
   "cell_type": "markdown",
   "metadata": {},
   "source": [
    "##### Create 2d recharge array"
   ]
  },
  {
   "cell_type": "code",
   "execution_count": null,
   "metadata": {},
   "outputs": [],
   "source": [
    "v = CellBudgetReshape(gwf.modelgrid, uzf_gwfnodes, uzfrch_tot, mask=True)\n",
    "# uzf_rch2d = v[0, :, :] + v[1, : , :]\n",
    "uzf_rch2d = np.sum(v, axis=0)\n",
    "print(uzf_rch2d.shape)\n",
    "uzf_rch2d = np.ma.masked_where(idomain_2d == 0, uzf_rch2d)"
   ]
  },
  {
   "cell_type": "code",
   "execution_count": null,
   "metadata": {},
   "outputs": [],
   "source": [
    "uzf_rch2d.shape, uzf_rch2d.min(), uzf_rch2d.mean(), uzf_rch2d.max()"
   ]
  },
  {
   "cell_type": "code",
   "execution_count": null,
   "metadata": {},
   "outputs": [],
   "source": [
    "idomain.shape"
   ]
  },
  {
   "cell_type": "markdown",
   "metadata": {},
   "source": [
    "##### Groundwater recharge from UZF cell-by-cell"
   ]
  },
  {
   "cell_type": "code",
   "execution_count": null,
   "metadata": {},
   "outputs": [],
   "source": [
    "uzfrch_tot = CellBudgetReshape(gwf.modelgrid, uzf_gwfnodes, uzfrch_tot, mask=True)\n",
    "uzfrch_tot = np.ma.masked_where(idomain == 0, uzfrch_tot)"
   ]
  },
  {
   "cell_type": "code",
   "execution_count": null,
   "metadata": {},
   "outputs": [],
   "source": [
    "mm = flopy.plot.PlotMapView(model=gwf)\n",
    "v = mm.plot_array(uzfrch_tot)\n",
    "river.plot(ax=mm.ax, color=\"cyan\", lw=1)\n",
    "hru.plot(ax=mm.ax, edgecolor=\"green\", facecolor=\"none\", lw=0.5)\n",
    "plt.colorbar(v);"
   ]
  },
  {
   "cell_type": "markdown",
   "metadata": {},
   "source": [
    "##### UZF infiltration from UZF cell-by-cell"
   ]
  },
  {
   "cell_type": "code",
   "execution_count": null,
   "metadata": {},
   "outputs": [],
   "source": [
    "uzfinf_tot = CellBudgetReshape(gwf.modelgrid, uzf_gwfnodes, uzfinf_tot, mask=True)\n",
    "uzfinf_tot = np.ma.masked_where(idomain == 0, uzfinf_tot)"
   ]
  },
  {
   "cell_type": "code",
   "execution_count": null,
   "metadata": {},
   "outputs": [],
   "source": [
    "mm = flopy.plot.PlotMapView(model=gwf)\n",
    "v = mm.plot_array(uzfinf_tot)\n",
    "river.plot(ax=mm.ax, color=\"cyan\", lw=1)\n",
    "hru.plot(ax=mm.ax, edgecolor=\"white\", facecolor=\"none\", lw=0.5)\n",
    "plt.colorbar(v);"
   ]
  },
  {
   "cell_type": "markdown",
   "metadata": {},
   "source": [
    "##### UZF rejected infiltration"
   ]
  },
  {
   "cell_type": "code",
   "execution_count": null,
   "metadata": {},
   "outputs": [],
   "source": [
    "uzfrinf_tot = CellBudgetReshape(gwf.modelgrid, uzf_gwfnodes, uzfrinf_tot, mask=True)\n",
    "uzfrinf_tot = np.ma.masked_where(uzfrinf_tot == 0.0, uzfrinf_tot)"
   ]
  },
  {
   "cell_type": "code",
   "execution_count": null,
   "metadata": {},
   "outputs": [],
   "source": [
    "mm = flopy.plot.PlotMapView(model=gwf)\n",
    "v = mm.plot_array(uzfrinf_tot, vmax=0.08)\n",
    "river.plot(ax=mm.ax, color=\"cyan\", lw=1)\n",
    "hru.plot(ax=mm.ax, edgecolor=\"green\", facecolor=\"none\", lw=0.5)\n",
    "plt.colorbar(v);"
   ]
  },
  {
   "cell_type": "markdown",
   "metadata": {},
   "source": [
    "##### Rejected infiltration and drainage"
   ]
  },
  {
   "cell_type": "code",
   "execution_count": null,
   "metadata": {},
   "outputs": [],
   "source": [
    "for idx, totim in enumerate(times):\n",
    "    v = cbcobj.get_data(totim=totim, text=\"DRN-TO-MVR\")[0]\n",
    "    if idx == 0:\n",
    "        gwd_tot = np.zeros(v[\"q\"].shape, dtype=v[\"q\"].dtype)\n",
    "        gwd_gwfnodes = v[\"node\"] - 1\n",
    "        gwd_nodes2 = v[\"node2\"] - 1\n",
    "    gwd_tot -= v[\"q\"]\n",
    "    v2 = uzfobj.get_data(totim=totim, text=\"REJ-INF-TO-MVR\")[0]\n",
    "    if idx == 0:\n",
    "        uzfrinf_tot = np.zeros(v2[\"q\"].shape, dtype=v2[\"q\"].dtype)\n",
    "        vv = uzfobj.get_data(totim=totim, text=\"GWF\")[0]\n",
    "    uzfrinf_tot -= v2[\"q\"]\n",
    "gwd_tot *= cum2mmpd\n",
    "uzfrinf_tot *= cum2mmpd"
   ]
  },
  {
   "cell_type": "code",
   "execution_count": null,
   "metadata": {},
   "outputs": [],
   "source": [
    "gwd_tot = CellBudgetReshape(gwf.modelgrid, gwd_gwfnodes, gwd_tot, mask=True)\n",
    "uzfrinf_tot = CellBudgetReshape(gwf.modelgrid, uzf_gwfnodes, uzfrinf_tot, mask=True)\n",
    "gwfro_tot = gwd_tot + uzfrinf_tot\n",
    "gwfro_tot = np.ma.masked_where(gwfro_tot == 0.0, gwfro_tot)"
   ]
  },
  {
   "cell_type": "code",
   "execution_count": null,
   "metadata": {},
   "outputs": [],
   "source": [
    "mm = flopy.plot.PlotMapView(model=gwf)\n",
    "v = mm.plot_array(gwfro_tot, vmax=0.16)\n",
    "river.plot(ax=mm.ax, color=\"cyan\", lw=1)\n",
    "hru.plot(ax=mm.ax, edgecolor=\"green\", facecolor=\"none\", lw=0.5)\n",
    "plt.colorbar(v);"
   ]
  },
  {
   "cell_type": "markdown",
   "metadata": {},
   "source": [
    "#### Unsaturated zone ET"
   ]
  },
  {
   "cell_type": "code",
   "execution_count": null,
   "metadata": {},
   "outputs": [],
   "source": [
    "uzfet_tot = CellBudgetReshape(gwf.modelgrid, uzf_gwfnodes, uzfet_tot, mask=True)\n",
    "uzfet_tot = np.ma.masked_where(idomain == 0, uzfet_tot)"
   ]
  },
  {
   "cell_type": "code",
   "execution_count": null,
   "metadata": {},
   "outputs": [],
   "source": [
    "mm = flopy.plot.PlotMapView(model=gwf)\n",
    "v = mm.plot_array(uzfet_tot)\n",
    "river.plot(ax=mm.ax, color=\"cyan\", lw=1)\n",
    "hru.plot(ax=mm.ax, edgecolor=\"green\", facecolor=\"none\", lw=0.5)\n",
    "plt.colorbar(v);"
   ]
  },
  {
   "cell_type": "markdown",
   "metadata": {},
   "source": [
    "#### Unsaturated zone storage changes"
   ]
  },
  {
   "cell_type": "code",
   "execution_count": null,
   "metadata": {},
   "outputs": [],
   "source": [
    "uzfsto_tot = CellBudgetReshape(gwf.modelgrid, uzf_gwfnodes, uzfsto_tot, mask=True)\n",
    "uzfsto_tot = np.ma.masked_where(idomain == 0, uzfsto_tot)"
   ]
  },
  {
   "cell_type": "code",
   "execution_count": null,
   "metadata": {},
   "outputs": [],
   "source": [
    "mm = flopy.plot.PlotMapView(model=gwf)\n",
    "v = mm.plot_array(uzfsto_tot)\n",
    "river.plot(ax=mm.ax, color=\"cyan\", lw=1)\n",
    "hru.plot(ax=mm.ax, edgecolor=\"green\", facecolor=\"none\", lw=0.5)\n",
    "plt.colorbar(v);"
   ]
  },
  {
   "cell_type": "markdown",
   "metadata": {},
   "source": [
    "#### Map PRMS data to MODFLOW grid"
   ]
  },
  {
   "cell_type": "code",
   "execution_count": null,
   "metadata": {},
   "outputs": [],
   "source": [
    "list(prms_out.keys())"
   ]
  },
  {
   "cell_type": "code",
   "execution_count": null,
   "metadata": {},
   "outputs": [],
   "source": [
    "prms_out[\"ppt\"].shape"
   ]
  },
  {
   "cell_type": "markdown",
   "metadata": {},
   "source": [
    "#### Function to map PRMS data to the MODFLOW 6 grid"
   ]
  },
  {
   "cell_type": "code",
   "execution_count": null,
   "metadata": {},
   "outputs": [],
   "source": [
    "def prmstomf6(v_prms):\n",
    "    v_prms /= hru_area\n",
    "    v_map = hru2mf6(uzfw, v_prms) * cell_area * cum2mmpd\n",
    "    v_mf6 = np.zeros((v_map.shape[0] + v_map.shape[0]), dtype=v_map.dtype)\n",
    "    v_mf6[: v_map.shape[0]] = v_map\n",
    "    v_mf6 = CellBudgetReshape(gwf.modelgrid, uzf_gwfnodes, v_mf6, mask=True)\n",
    "    return np.ma.masked_where(gwf.dis.idomain.array == 0, v_mf6)"
   ]
  },
  {
   "cell_type": "markdown",
   "metadata": {},
   "source": [
    "#### Map PRMS data to the MODFLOW 6 grid"
   ]
  },
  {
   "cell_type": "code",
   "execution_count": null,
   "metadata": {},
   "outputs": [],
   "source": [
    "ppt_mf6 = prmstomf6(np.sum(prms_out[\"ppt\"], axis=0))\n",
    "potet_mf6 = prmstomf6(np.sum(prms_out[\"potet\"], axis=0))\n",
    "actet_mf6 = prmstomf6(np.sum(prms_out[\"actet\"], axis=0))\n",
    "soil_mf6 = prmstomf6(np.sum(prms_out[\"infil\"], axis=0))"
   ]
  },
  {
   "cell_type": "markdown",
   "metadata": {},
   "source": [
    "##### PRMS Plot Precipitation"
   ]
  },
  {
   "cell_type": "code",
   "execution_count": null,
   "metadata": {},
   "outputs": [],
   "source": [
    "mm = flopy.plot.PlotMapView(model=gwf)\n",
    "v = mm.plot_array(ppt_mf6)\n",
    "river.plot(ax=mm.ax, color=\"cyan\", lw=1)\n",
    "hru.plot(ax=mm.ax, edgecolor=\"green\", facecolor=\"none\", lw=0.5)\n",
    "plt.colorbar(v);"
   ]
  },
  {
   "cell_type": "code",
   "execution_count": null,
   "metadata": {},
   "outputs": [],
   "source": [
    "mm = flopy.plot.PlotMapView(model=gwf)\n",
    "v = mm.plot_array(potet_mf6)\n",
    "river.plot(ax=mm.ax, color=\"cyan\", lw=1)\n",
    "hru.plot(ax=mm.ax, edgecolor=\"green\", facecolor=\"none\", lw=0.5)\n",
    "plt.colorbar(v);"
   ]
  },
  {
   "cell_type": "code",
   "execution_count": null,
   "metadata": {},
   "outputs": [],
   "source": [
    "mm = flopy.plot.PlotMapView(model=gwf)\n",
    "v = mm.plot_array(actet_mf6)\n",
    "river.plot(ax=mm.ax, color=\"cyan\", lw=1)\n",
    "hru.plot(ax=mm.ax, edgecolor=\"green\", facecolor=\"none\", lw=0.5)\n",
    "plt.colorbar(v);"
   ]
  },
  {
   "cell_type": "code",
   "execution_count": null,
   "metadata": {},
   "outputs": [],
   "source": [
    "mm = flopy.plot.PlotMapView(model=gwf)\n",
    "v = mm.plot_array(ppt_mf6 - actet_mf6)\n",
    "river.plot(ax=mm.ax, color=\"cyan\", lw=1)\n",
    "hru.plot(ax=mm.ax, edgecolor=\"green\", facecolor=\"none\", lw=0.5)\n",
    "plt.colorbar(v);"
   ]
  },
  {
   "cell_type": "code",
   "execution_count": null,
   "metadata": {},
   "outputs": [],
   "source": [
    "mm = flopy.plot.PlotMapView(model=gwf)\n",
    "v = mm.plot_array(soil_mf6)\n",
    "river.plot(ax=mm.ax, color=\"cyan\", lw=1)\n",
    "hru.plot(ax=mm.ax, edgecolor=\"green\", facecolor=\"none\", lw=0.5)\n",
    "plt.colorbar(v);"
   ]
  },
  {
   "cell_type": "markdown",
   "metadata": {},
   "source": [
    "#### Make report figure"
   ]
  },
  {
   "cell_type": "code",
   "execution_count": null,
   "metadata": {},
   "outputs": [],
   "source": [
    "def add_colorbar(ax, v, label, vmax=16, vscale=1000.0):\n",
    "    cbar = plt.colorbar(v, orientation=\"horizontal\", ax=ax, shrink=0.7)\n",
    "    ticks = np.linspace(0, vmax, 5)\n",
    "    cbar.set_ticks(ticks)\n",
    "    ticks_loc = cbar.ax.get_xticks().tolist()\n",
    "    cbar.ax.xaxis.set_major_locator(mticker.FixedLocator(ticks_loc))\n",
    "    cbar.ax.set_xticklabels([\"{:g}\".format(x / vscale) for x in ticks])\n",
    "    cbar.set_label(label)\n",
    "    return cbar"
   ]
  },
  {
   "cell_type": "code",
   "execution_count": null,
   "metadata": {},
   "outputs": [],
   "source": [
    "def add_legend(ax):\n",
    "    # add dummy data to axis\n",
    "    ax.plot([0, 0], [1, 0], lw=1, color=\"cyan\", label=\"Sagehen Creek\")\n",
    "    ax.plot(\n",
    "        [0],\n",
    "        [0],\n",
    "        lw=0.0,\n",
    "        marker=\"s\",\n",
    "        markeredgecolor=colors[0],\n",
    "        markerfacecolor=\"none\",\n",
    "        label=\"Hydrologic\\nResponse\\nUnit\",\n",
    "    )\n",
    "    leg = fs.graph_legend(ax=ax, loc=\"upper left\")\n",
    "    return leg"
   ]
  },
  {
   "cell_type": "code",
   "execution_count": null,
   "metadata": {},
   "outputs": [],
   "source": [
    "figheight = figwidth * 2\n",
    "# vmax, vscale = .016, 1.\n",
    "fig, axes = plt.subplots(\n",
    "    figsize=(figwidth, figheight),\n",
    "    ncols=1,\n",
    "    nrows=2,\n",
    "    constrained_layout=True,\n",
    ")\n",
    "\n",
    "colors = (\"#c36f31\", \"#cab39f\", \"#b7bf5e\")\n",
    "\n",
    "ax = axes[0]\n",
    "vmax, vscale = 0.04, 1.0\n",
    "mm = flopy.plot.PlotMapView(model=gwf, ax=ax)\n",
    "v = mm.plot_array(uzf_inf2d * vscale, vmax=vmax, cmap=\"viridis_r\")\n",
    "river.plot(ax=ax, color=\"cyan\", lw=1)\n",
    "hru.plot(ax=ax, edgecolor=colors[0], facecolor=\"none\", lw=0.5)\n",
    "ax.yaxis.offsetText.set_visible(False)\n",
    "offset = r\"$\\times$ 10$^6$\"  # ax.yaxis.get_major_formatter().get_offset()\n",
    "ax.set_xlabel(\"x-coordinate (m)\")\n",
    "ax.set_ylabel(\"y-coordinate ({} m)\".format(offset))\n",
    "fs.heading(ax=ax, idx=0)\n",
    "cbar = add_colorbar(ax, v, \"Average infiltration rate (mm/d)\", vmax=vmax, vscale=vscale)\n",
    "leg = add_legend(ax)\n",
    "\n",
    "ax = axes[1]\n",
    "vmax, vscale = 0.16, 1.0\n",
    "mm = flopy.plot.PlotMapView(model=gwf, ax=ax)\n",
    "v = mm.plot_array(uzf_rch2d * vscale, vmax=vmax, cmap=\"viridis_r\")\n",
    "river.plot(ax=ax, color=\"cyan\", lw=1)\n",
    "hru.plot(ax=ax, edgecolor=colors[0], facecolor=\"none\", lw=0.5)\n",
    "ax.yaxis.offsetText.set_visible(False)\n",
    "# offset = ax.yaxis.get_major_formatter().get_offset()\n",
    "ax.set_xlabel(\"x-coordinate (m)\")\n",
    "ax.set_ylabel(\"y-coordinate ({} m)\".format(offset))\n",
    "fs.heading(ax=ax, idx=1)\n",
    "cbar = add_colorbar(\n",
    "    ax, v, \"Average groundwater recharge rate (mm/d)\", vmax=vmax, vscale=vscale\n",
    ")\n",
    "leg = add_legend(ax)\n",
    "\n",
    "\n",
    "fpth = os.path.join(\"..\", \"..\", \"doc\", \"figures\", \"sagehen_maps_pywatershed.png\")\n",
    "plt.savefig(fpth, dpi=600);"
   ]
  },
  {
   "cell_type": "code",
   "execution_count": null,
   "metadata": {},
   "outputs": [],
   "source": [
    "v = uzf_inf2d.mean() / m2mm\n",
    "print(\n",
    "    \"Infiltration {} m/d {} m/y {:,.4f} m3\".format(\n",
    "        v,\n",
    "        v * 365.25,\n",
    "        v * ndays * active_area,\n",
    "    )\n",
    ")"
   ]
  },
  {
   "cell_type": "code",
   "execution_count": null,
   "metadata": {},
   "outputs": [],
   "source": [
    "v = uzf_rch2d.mean() / m2mm\n",
    "print(\n",
    "    \"Groundwater recharge {} m/d {} m/y {:,.4f} m3\".format(\n",
    "        v,\n",
    "        v * 365.25,\n",
    "        v * ndays * active_area,\n",
    "    )\n",
    ")"
   ]
  },
  {
   "cell_type": "code",
   "execution_count": null,
   "metadata": {},
   "outputs": [],
   "source": []
  }
 ],
 "metadata": {
  "kernelspec": {
   "display_name": "Python [conda env:pyws_nb] *",
   "language": "python",
   "name": "conda-env-pyws_nb-py"
  },
  "language_info": {
   "codemirror_mode": {
    "name": "ipython",
    "version": 3
   },
   "file_extension": ".py",
   "mimetype": "text/x-python",
   "name": "python",
   "nbconvert_exporter": "python",
   "pygments_lexer": "ipython3",
   "version": "3.10.6"
  }
 },
 "nbformat": 4,
 "nbformat_minor": 4
}
