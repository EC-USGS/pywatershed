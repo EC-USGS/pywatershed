{
 "cells": [
  {
   "cell_type": "markdown",
   "id": "ec384e1a-f8d9-455b-a59a-a484a9c3fe00",
   "metadata": {},
   "source": [
    "# 01 - Automated Testing\n",
    "\n",
    "*James McCreight, September 2022*\n",
    "\n",
    "---\n",
    "\n",
    "The pynhm automated testing is the basis for continuous integration (CI). Coupled with good coverage, CI allows for peace of mind and more rapid and robust code development. The tests themselves also provide a window into how to use the code base in many cases. \n",
    "\n",
    "However, the main reason to start with testing as the first notebook (after establishing the pynhm environment) is that the test data are used as input to many of the examples that will follow. This notebook gives a quick overview of generating the test data and running the pynhm tests but does not go into detail on the contents of the tests. \n",
    "\n",
    "Automated testing is typically performed on the command line as shown here (though it could be done from within python) and this notebook is to be run in the bash kernel in the pynhm_nb conda environment installed in notebook 00.\n",
    "\n",
    "The automated testing uses pytest. Pytest is an executable called from the command line which has many of its own options. Bear in mind that you can see the full listing of options by typing `pytest --help`. I will highlight several of these here that we will use below.\n",
    "\n",
    "\n",
    "```\n",
    "pytest --help\n",
    "\n",
    "...\n",
    "  --pdb                 start the interactive Python debugger on errors or KeyboardInterrupt.\n",
    "  \n",
    "...\n",
    "  \n",
    "  --capture=method      per-test capturing method: one of fd|sys|no|tee-sys.\n",
    "  -s                    shortcut for --capture=no.\n",
    "  \n",
    "...\n",
    "  \n",
    "  -v, --verbose         increase verbosity.  \n",
    "  \n",
    "...\n",
    "\n",
    "  -n numprocesses, --numprocesses=numprocesses\n",
    "                        Shortcut for '--dist=load --tx=NUM*popen'. With 'auto', attempt to detect physical CPU\n",
    "                        count. With 'logical', detect logical CPU count. If physical CPU count cannot be found,\n",
    "                        falls back to logical count. This will be 0 when used with --pdb.\n",
    "```\n",
    "\n",
    "Pytest generally likes to suppress output to the terminal and keep reporting to a minimum. The assumption is that typically every tests passes. It will report what tests fail at the end of the test and those can be run individually with terminal output (`-s`), increased pytest verbosity (`-v`) and even interactive debugging (`--pdb`). The option to parallelize the tests it helpful as it can dramatically reduce wait time (`-n=auto`). \n",
    "\n",
    "## Requirements: pynhm_nb virtual env\n",
    "The pynhm virtual environment was installed in notebook 00. You need this environment to proceed. __This notebook is to be run with a bash kernel using the conda env: pynhm_nb.__\n",
    "\n",
    "\n",
    "## pynhm_root variable\n",
    "Define the location of the pynhm repository."
   ]
  },
  {
   "cell_type": "code",
   "execution_count": 1,
   "id": "1d8b48ef-760d-4ce5-94a0-0dade7e68bc9",
   "metadata": {},
   "outputs": [],
   "source": [
    "pynhm_root=/Users/jamesmcc/usgs/demo/pynhm"
   ]
  },
  {
   "cell_type": "markdown",
   "id": "c260088d-1982-485f-9257-b24bf3a8a101",
   "metadata": {},
   "source": [
    "## Run PRMS to generate test answers and pynhm inputs\n",
    "\n",
    "By default, the \"tests\" which run PRMS to generate answers and inputs for pynhm run for all 3 test domains, unless otherwise specified. One can actually see options (specific to this conftest.py) in `pytest --help` output, under \"custom options\" as will be shown later in this notebook (for the pynhm tests).\n",
    "\n",
    "The three test domains have their basic data in these folders:"
   ]
  },
  {
   "cell_type": "code",
   "execution_count": 2,
   "id": "443afa28-a9c4-4aa9-8b21-59d25c7e714a",
   "metadata": {},
   "outputs": [
    {
     "name": "stdout",
     "output_type": "stream",
     "text": [
      "Cloning into 'pynhm'...\n",
      "remote: Enumerating objects: 4350, done.\u001b[K\n",
      "remote: Counting objects: 100% (4350/4350), done.\u001b[K\n",
      "remote: Compressing objects: 100% (1453/1453), done.\u001b[K\n",
      "remote: Total 4350 (delta 2880), reused 4199 (delta 2760), pack-reused 0\u001b[K\n",
      "Receiving objects: 100% (4350/4350), 172.11 MiB | 12.00 MiB/s, done.\n",
      "Resolving deltas: 100% (2880/2880), done.\n",
      "Updating files: 100% (450/450), done.\n",
      "\n",
      "\n",
      "/Users/jamesmcc/usgs/demo/pynhm/test_data/hru_1\n",
      "cbh.nc\t\tmyparam.param\truntest.sh\ttmax.cbh\ttmin.nc\n",
      "control.test\tprcp.cbh\tscripts\t\ttmax.nc\n",
      "hru_1.yaml\tprcp.nc\t\tsf_data\t\ttmin.cbh\n",
      "\n",
      "\n",
      "/Users/jamesmcc/usgs/demo/pynhm/test_data/drb_2yr\n",
      "cbh.nc\t\tmyparam.param\trhavg.cbh\ttmax.nc\n",
      "control.test\tprcp.cbh\tsf_data\t\ttmin.cbh\n",
      "drb_2yr.yaml\tprcp.nc\t\ttmax.cbh\ttmin.nc\n",
      "\n",
      "\n",
      "/Users/jamesmcc/usgs/demo/pynhm/test_data/ucb_2yr\n",
      "cbh.nc\t\tprcp.cbh\truntest.sh\ttmax.cbh\ttmin.nc\n",
      "control.test\tprcp.nc\t\tscripts\t\ttmax.nc\t\tucb_2yr.yaml\n",
      "myparam.param\trhavg.cbh\tsf_data\t\ttmin.cbh\n",
      "\n",
      "\n"
     ]
    }
   ],
   "source": [
    "cd $(dirname $pynhm_root)\n",
    "rm -rf $pynhm_root  # get a clean set of test data for illustration purposes\n",
    "git clone https://github.com/EC-USGS/pynhm # not really sure git should be available here\n",
    "echo \n",
    "echo\n",
    "for domain in hru_1 drb_2yr ucb_2yr; do\n",
    "    ls -d ${pynhm_root}/test_data/${domain}\n",
    "    ls -C ${pynhm_root}/test_data/${domain}\n",
    "    echo\n",
    "    echo\n",
    "done"
   ]
  },
  {
   "cell_type": "markdown",
   "id": "a69a70b2-9f81-48a4-b717-3841b55a6654",
   "metadata": {},
   "source": [
    "If your repository is not freshly cloned, the above results may not look the same as other files have already been generated (as we will generate below).\n",
    "\n",
    "Note that on windows, symlinks for control.test will be broken in the locations shown above (though somehow they are not broken in CI Windows environment). To fix this, until we find a better solution, please run the following code block."
   ]
  },
  {
   "cell_type": "code",
   "execution_count": 3,
   "id": "6c86cf2a-903f-4aa9-bb67-09284e94f73e",
   "metadata": {},
   "outputs": [],
   "source": [
    "# *** ONLY NECESSARY TO RUN ON WINDOWS IF YOUR SYMLINKS ARE BROKEN ***\n",
    "# is there a way to test for broken symlinks... in windows?\n",
    "if [ 0 == 1 ]; then\n",
    "    cp /Users/jamesmcc/usgs/demo/pynhm/test_data/common/control.single_hru /Users/jamesmcc/usgs/demo/pynhm/test_data/hru_1/control.test\n",
    "    cp /Users/jamesmcc/usgs/demo/pynhm/test_data/common/control.multi_hru /Users/jamesmcc/usgs/demo/pynhm/test_data/drb_2yr_1/control.test\n",
    "    cp /Users/jamesmcc/usgs/demo/pynhm/test_data/common/control.multi_hru /Users/jamesmcc/usgs/demo/pynhm/test_data/drb_2yr_1/control.test\n",
    "fi"
   ]
  },
  {
   "cell_type": "markdown",
   "id": "40ac2341-8b1e-487f-b58d-3d51ce8c5ed3",
   "metadata": {},
   "source": [
    "The files listed above in each domain directory represent the data needed to run PRMS in an NHM configuration on each of the domains for 2 years in the case of the Delaware River and the Upper Colorado Basins. The inputs for hru_1 allow a 40 year run on a single HRU. More details about these domains will be provided in subsequent notebooks. \n",
    "\n",
    "Now we will run PRMS for each of these domains and generate output in an `output/` subdirectory of each domain directory listed above. "
   ]
  },
  {
   "cell_type": "code",
   "execution_count": 4,
   "id": "e875df15-6817-4998-8eab-8c99a9bbf88c",
   "metadata": {},
   "outputs": [
    {
     "name": "stdout",
     "output_type": "stream",
     "text": [
      "\u001b[1m============================= test session starts ==============================\u001b[0m\n",
      "platform darwin -- Python 3.10.6, pytest-7.1.2, pluggy-1.0.0\n",
      "rootdir: /Users/jamesmcc/usgs/demo/pynhm\n",
      "plugins: anyio-3.6.1, xdist-2.5.0, forked-1.4.0, env-0.6.2, cov-3.0.0\n",
      "gw0 [4] / gw1 [4] / gw2 [4] / gw3 [4] / gw4 [4] / gw5 [4]\u001b[0m[1m\n",
      "\u001b[32m.\u001b[0m\u001b[32m.\u001b[0m\u001b[32m.\u001b[0m\u001b[32m.\u001b[0m\u001b[32m                                                                     [100%]\u001b[0m\n",
      "\u001b[32m========================= \u001b[32m\u001b[1m4 passed\u001b[0m\u001b[32m in 80.55s (0:01:20)\u001b[0m\u001b[32m =========================\u001b[0m\n"
     ]
    }
   ],
   "source": [
    "cd ${pynhm_root}/test_data/scripts\n",
    "pytest -n=auto test_run_domains.py"
   ]
  },
  {
   "cell_type": "markdown",
   "id": "6f6936ae-94a1-4c87-99b5-7b9a3bf105ac",
   "metadata": {},
   "source": [
    "## Convert PRMS outputs to netcdf\n",
    "\n",
    "PRMS generates CSV output files. For example, for the DRB the file listing is:"
   ]
  },
  {
   "cell_type": "code",
   "execution_count": 5,
   "id": "9cdb0824-d0e6-416f-aeb9-6c47bd53e831",
   "metadata": {},
   "outputs": [
    {
     "name": "stdout",
     "output_type": "stream",
     "text": [
      "albedo.csv\t\tiso.csv\t\t\tseginc_ssflow.csv\n",
      "cap_infil_tot.csv\tnet_ppt.csv\t\tslow_flow.csv\n",
      "contrib_fraction.csv\tnet_rain.csv\t\tslow_stor.csv\n",
      "dprst_evap_hru.csv\tnet_snow.csv\t\tsnow_evap.csv\n",
      "dprst_seep_hru.csv\tnewsnow.csv\t\tsnowcov_area.csv\n",
      "dprst_sroff_hru.csv\torad_hru.csv\t\tsnowmelt.csv\n",
      "dprst_stor_hru.csv\tperv_actet.csv\t\tsoil_lower.csv\n",
      "freeh2o.csv\t\tpk_ice.csv\t\tsoil_lower_ratio.csv\n",
      "gwres_flow.csv\t\tpkwater_ante.csv\tsoil_moist.csv\n",
      "gwres_in.csv\t\tpkwater_equiv.csv\tsoil_moist_tot.csv\n",
      "gwres_sink.csv\t\tpotet.csv\t\tsoil_rechr.csv\n",
      "gwres_stor.csv\t\tpotet_lower.csv\t\tsoil_to_gw.csv\n",
      "hru_actet.csv\t\tpotet_rechr.csv\t\tsoil_to_ssr.csv\n",
      "hru_impervevap.csv\tpptmix.csv\t\tsroff.csv\n",
      "hru_impervstor.csv\tpptmix_nopack.csv\tssr_to_gw.csv\n",
      "hru_intcpevap.csv\tpref_flow.csv\t\tssres_flow.csv\n",
      "hru_intcpstor.csv\tpref_flow_infil.csv\tssres_in.csv\n",
      "hru_lateral_flow.csv\tpref_flow_stor.csv\tssres_stor.csv\n",
      "hru_outflow.csv\t\tprmx.csv\t\tstats.csv\n",
      "hru_ppt.csv\t\tpst.csv\t\t\tswrad.csv\n",
      "hru_rain.csv\t\trecharge.csv\t\ttavgc.csv\n",
      "hru_snow.csv\t\tsalb.csv\t\ttavgf.csv\n",
      "hru_sroffi.csv\t\tseg_gwflow.csv\t\ttcal.csv\n",
      "hru_sroffp.csv\t\tseg_lateral_inflow.csv\ttmaxc.csv\n",
      "hru_storage.csv\t\tseg_outflow.csv\t\ttmaxf.csv\n",
      "hru_streamflow_out.csv\tseg_sroff.csv\t\ttminc.csv\n",
      "infil.csv\t\tseg_ssflow.csv\t\ttminf.csv\n",
      "intcp_changeover.csv\tseg_upstream_inflow.csv\ttransp_on.csv\n",
      "intcp_evap.csv\t\tseginc_gwflow.csv\n",
      "intcp_stor.csv\t\tseginc_sroff.csv\n",
      "Number of files:       88\n"
     ]
    }
   ],
   "source": [
    "ls -C ${pynhm_root}/test_data/drb_2yr/output\n",
    "echo \"Number of files: $(ls -1 ${pynhm_root}/test_data/drb_2yr/output | wc -l)\""
   ]
  },
  {
   "cell_type": "markdown",
   "id": "632685c7-070a-4493-9c53-f1145eb954aa",
   "metadata": {},
   "source": [
    "We convert these files to netcdf and generate a hand full of extra, derivative files as well in the next step."
   ]
  },
  {
   "cell_type": "code",
   "execution_count": 6,
   "id": "93252236-1f71-4749-b9a6-2a5e2ca12a75",
   "metadata": {},
   "outputs": [
    {
     "name": "stdout",
     "output_type": "stream",
     "text": [
      "\u001b[1m============================= test session starts ==============================\u001b[0m\n",
      "platform darwin -- Python 3.10.6, pytest-7.1.2, pluggy-1.0.0\n",
      "rootdir: /Users/jamesmcc/usgs/demo/pynhm\n",
      "plugins: anyio-3.6.1, xdist-2.5.0, forked-1.4.0, env-0.6.2, cov-3.0.0\n",
      "gw0 [307] / gw1 [307] / gw2 [307] / gw3 [307] / gw4 [307] / gw5 [307]\u001b[0mm\n",
      "\u001b[32m.\u001b[0m\u001b[32m.\u001b[0m\u001b[32m.\u001b[0m\u001b[32m.\u001b[0m\u001b[32m.\u001b[0m\u001b[32m.\u001b[0m\u001b[32m.\u001b[0m\u001b[32m.\u001b[0m\u001b[32m.\u001b[0m\u001b[32m.\u001b[0m\u001b[32m.\u001b[0m\u001b[32m.\u001b[0m\u001b[32m.\u001b[0m\u001b[32m.\u001b[0m\u001b[32m.\u001b[0m\u001b[32m.\u001b[0m\u001b[32m.\u001b[0m\u001b[32m.\u001b[0m\u001b[32m.\u001b[0m\u001b[32m.\u001b[0m\u001b[32m.\u001b[0m\u001b[32m.\u001b[0m\u001b[32m.\u001b[0m\u001b[32m.\u001b[0m\u001b[32m.\u001b[0m\u001b[32m.\u001b[0m\u001b[32m.\u001b[0m\u001b[32m.\u001b[0m\u001b[32m.\u001b[0m\u001b[32m.\u001b[0m\u001b[32m.\u001b[0m\u001b[32m.\u001b[0m\u001b[32m.\u001b[0m\u001b[32m.\u001b[0m\u001b[32m.\u001b[0m\u001b[32m.\u001b[0m\u001b[32m.\u001b[0m\u001b[32m.\u001b[0m\u001b[32m.\u001b[0m\u001b[32m.\u001b[0m\u001b[32m.\u001b[0m\u001b[32m.\u001b[0m\u001b[32m.\u001b[0m\u001b[32m.\u001b[0m\u001b[32m.\u001b[0m\u001b[32m.\u001b[0m\u001b[32m.\u001b[0m\u001b[32m.\u001b[0m\u001b[32m.\u001b[0m\u001b[32m.\u001b[0m\u001b[32m.\u001b[0m\u001b[32m.\u001b[0m\u001b[32m.\u001b[0m\u001b[32m.\u001b[0m\u001b[32m.\u001b[0m\u001b[32m.\u001b[0m\u001b[32m.\u001b[0m\u001b[32m.\u001b[0m\u001b[32m.\u001b[0m\u001b[32m.\u001b[0m\u001b[32m.\u001b[0m\u001b[32m.\u001b[0m\u001b[32m.\u001b[0m\u001b[32m.\u001b[0m\u001b[32m.\u001b[0m\u001b[32m.\u001b[0m\u001b[32m.\u001b[0m\u001b[32m.\u001b[0m\u001b[32m.\u001b[0m\u001b[32m.\u001b[0m\u001b[32m.\u001b[0m\u001b[32m.\u001b[0m\u001b[32m [ 23%]\n",
      "\u001b[0m\u001b[32m.\u001b[0m\u001b[32m.\u001b[0m\u001b[32m.\u001b[0m\u001b[32m.\u001b[0m\u001b[32m.\u001b[0m\u001b[32m.\u001b[0m\u001b[32m.\u001b[0m\u001b[32m.\u001b[0m\u001b[32m.\u001b[0m\u001b[32m.\u001b[0m\u001b[32m.\u001b[0m\u001b[32m.\u001b[0m\u001b[32m.\u001b[0m\u001b[32m.\u001b[0m\u001b[32m.\u001b[0m\u001b[32m.\u001b[0m\u001b[32m.\u001b[0m\u001b[32m.\u001b[0m\u001b[32m.\u001b[0m\u001b[32m.\u001b[0m\u001b[32m.\u001b[0m\u001b[32m.\u001b[0m\u001b[32m.\u001b[0m\u001b[32m.\u001b[0m\u001b[32m.\u001b[0m\u001b[32m.\u001b[0m\u001b[32m.\u001b[0m\u001b[32m.\u001b[0m\u001b[32m.\u001b[0m\u001b[32m.\u001b[0m\u001b[32m.\u001b[0m\u001b[32m.\u001b[0m\u001b[32m.\u001b[0m\u001b[32m.\u001b[0m\u001b[32m.\u001b[0m\u001b[32m.\u001b[0m\u001b[32m.\u001b[0m\u001b[32m.\u001b[0m\u001b[32m.\u001b[0m\u001b[32m.\u001b[0m\u001b[32m.\u001b[0m\u001b[32m.\u001b[0m\u001b[32m.\u001b[0m\u001b[32m.\u001b[0m\u001b[32m.\u001b[0m\u001b[32m.\u001b[0m\u001b[32m.\u001b[0m\u001b[32m.\u001b[0m\u001b[32m.\u001b[0m\u001b[32m.\u001b[0m\u001b[32m.\u001b[0m\u001b[32m.\u001b[0m\u001b[32m.\u001b[0m\u001b[32m.\u001b[0m\u001b[32m.\u001b[0m\u001b[32m.\u001b[0m\u001b[32m.\u001b[0m\u001b[32m.\u001b[0m\u001b[32m.\u001b[0m\u001b[32m.\u001b[0m\u001b[32m.\u001b[0m\u001b[32m.\u001b[0m\u001b[32m.\u001b[0m\u001b[32m.\u001b[0m\u001b[32m.\u001b[0m\u001b[32m.\u001b[0m\u001b[32m.\u001b[0m\u001b[32m.\u001b[0m\u001b[32m.\u001b[0m\u001b[32m.\u001b[0m\u001b[32m.\u001b[0m\u001b[32m.\u001b[0m\u001b[32m [ 46%]\n",
      "\u001b[0m\u001b[32m.\u001b[0m\u001b[32m.\u001b[0m\u001b[32m.\u001b[0m\u001b[32m.\u001b[0m\u001b[32m.\u001b[0m\u001b[32m.\u001b[0m\u001b[32m.\u001b[0m\u001b[32m.\u001b[0m\u001b[32m.\u001b[0m\u001b[32m.\u001b[0m\u001b[32m.\u001b[0m\u001b[32m.\u001b[0m\u001b[32m.\u001b[0m\u001b[32m.\u001b[0m\u001b[32m.\u001b[0m\u001b[32m.\u001b[0m\u001b[32m.\u001b[0m\u001b[32m.\u001b[0m\u001b[32m.\u001b[0m\u001b[32m.\u001b[0m\u001b[32m.\u001b[0m\u001b[32m.\u001b[0m\u001b[32m.\u001b[0m\u001b[32m.\u001b[0m\u001b[32m.\u001b[0m\u001b[32m.\u001b[0m\u001b[32m.\u001b[0m\u001b[32m.\u001b[0m\u001b[32m.\u001b[0m\u001b[32m.\u001b[0m\u001b[32m.\u001b[0m\u001b[32m.\u001b[0m\u001b[32m.\u001b[0m\u001b[32m.\u001b[0m\u001b[32m.\u001b[0m\u001b[32m.\u001b[0m\u001b[32m.\u001b[0m\u001b[32m.\u001b[0m\u001b[32m.\u001b[0m\u001b[32m.\u001b[0m\u001b[32m.\u001b[0m\u001b[32m.\u001b[0m\u001b[32m.\u001b[0m\u001b[32m.\u001b[0m\u001b[32m.\u001b[0m\u001b[32m.\u001b[0m\u001b[32m.\u001b[0m\u001b[32m.\u001b[0m\u001b[32m.\u001b[0m\u001b[32m.\u001b[0m\u001b[32m.\u001b[0m\u001b[32m.\u001b[0m\u001b[32m.\u001b[0m\u001b[32m.\u001b[0m\u001b[32m.\u001b[0m\u001b[32m.\u001b[0m\u001b[32m.\u001b[0m\u001b[32m.\u001b[0m\u001b[32m.\u001b[0m\u001b[32m.\u001b[0m\u001b[32m.\u001b[0m\u001b[32m.\u001b[0m\u001b[32m.\u001b[0m\u001b[32m.\u001b[0m\u001b[32m.\u001b[0m\u001b[32m.\u001b[0m\u001b[32m.\u001b[0m\u001b[32m.\u001b[0m\u001b[32m.\u001b[0m\u001b[32m.\u001b[0m\u001b[32m.\u001b[0m\u001b[32m.\u001b[0m\u001b[32m [ 70%]\n",
      "\u001b[0m\u001b[32m.\u001b[0m\u001b[32m.\u001b[0m\u001b[32m.\u001b[0m\u001b[32m.\u001b[0m\u001b[32m.\u001b[0m\u001b[32m.\u001b[0m\u001b[32m.\u001b[0m\u001b[32m.\u001b[0m\u001b[32m.\u001b[0m\u001b[32m.\u001b[0m\u001b[32m.\u001b[0m\u001b[32m.\u001b[0m\u001b[32m.\u001b[0m\u001b[32m.\u001b[0m\u001b[32m.\u001b[0m\u001b[32m.\u001b[0m\u001b[32m.\u001b[0m\u001b[32m.\u001b[0m\u001b[32m.\u001b[0m\u001b[32m.\u001b[0m\u001b[32m.\u001b[0m\u001b[32m.\u001b[0m\u001b[32m.\u001b[0m\u001b[32m.\u001b[0m\u001b[32m.\u001b[0m\u001b[32m.\u001b[0m\u001b[32m.\u001b[0m\u001b[32m.\u001b[0m\u001b[32m.\u001b[0m\u001b[32m.\u001b[0m\u001b[32m.\u001b[0m\u001b[32m.\u001b[0m\u001b[32m.\u001b[0m\u001b[32m.\u001b[0m\u001b[32m.\u001b[0m\u001b[32m.\u001b[0m\u001b[32m.\u001b[0m\u001b[32m.\u001b[0m\u001b[32m.\u001b[0m\u001b[32m.\u001b[0m\u001b[32m.\u001b[0m\u001b[32m.\u001b[0m\u001b[32m.\u001b[0m\u001b[32m.\u001b[0m\u001b[32m.\u001b[0m\u001b[32m.\u001b[0m\u001b[32m.\u001b[0m\u001b[32m.\u001b[0m\u001b[32m.\u001b[0m\u001b[32m.\u001b[0m\u001b[32m.\u001b[0m\u001b[32m.\u001b[0m\u001b[32m.\u001b[0m\u001b[32m.\u001b[0m\u001b[32m.\u001b[0m\u001b[32m.\u001b[0m\u001b[32m.\u001b[0m\u001b[32m.\u001b[0m\u001b[32m.\u001b[0m\u001b[32m.\u001b[0m\u001b[32m.\u001b[0m\u001b[32m.\u001b[0m\u001b[32m.\u001b[0m\u001b[32m.\u001b[0m\u001b[32m.\u001b[0m\u001b[32m.\u001b[0m\u001b[32m.\u001b[0m\u001b[32m.\u001b[0m\u001b[32m.\u001b[0m\u001b[32m.\u001b[0m\u001b[32m.\u001b[0m\u001b[32m.\u001b[0m\u001b[32m [ 93%]\n",
      "\u001b[0m\u001b[32m.\u001b[0m\u001b[32m.\u001b[0m\u001b[32m.\u001b[0m\u001b[32m.\u001b[0m\u001b[32m.\u001b[0m\u001b[32m.\u001b[0m\u001b[32m.\u001b[0m\u001b[32m.\u001b[0m\u001b[32m.\u001b[0m\u001b[32m.\u001b[0m\u001b[32m.\u001b[0m\u001b[32m.\u001b[0m\u001b[32m.\u001b[0m\u001b[32m.\u001b[0m\u001b[32m.\u001b[0m\u001b[32m.\u001b[0m\u001b[32m.\u001b[0m\u001b[32m.\u001b[0m\u001b[32m.\u001b[0m\u001b[32m                                                      [100%]\u001b[0m\n",
      "\u001b[32m======================= \u001b[32m\u001b[1m307 passed\u001b[0m\u001b[32m in 100.18s (0:01:40)\u001b[0m\u001b[32m ========================\u001b[0m\n"
     ]
    }
   ],
   "source": [
    "cd ${pynhm_root}/test_data/scripts\n",
    "# currently there is a race condition in one test that may happen when run in parallel. just rerun for now\n",
    "pytest -n=auto test_nc_domains.py  "
   ]
  },
  {
   "cell_type": "code",
   "execution_count": 7,
   "id": "34ffe5b0-8695-4ba5-9ef7-8b07acfaaae5",
   "metadata": {},
   "outputs": [
    {
     "name": "stdout",
     "output_type": "stream",
     "text": [
      "albedo.nc\t\tiso.nc\t\t\tslow_stor_prev.nc\n",
      "cap_infil_tot.nc\tnet_ppt.nc\t\tsnow_evap.nc\n",
      "contrib_fraction.nc\tnet_rain.nc\t\tsnowcov_area.nc\n",
      "dprst_evap_hru.nc\tnet_snow.nc\t\tsnowmelt.nc\n",
      "dprst_seep_hru.nc\tnewsnow.nc\t\tsoil_lower.nc\n",
      "dprst_sroff_hru.nc\torad_hru.nc\t\tsoil_lower_prev.nc\n",
      "dprst_stor_hru.nc\tperv_actet.nc\t\tsoil_lower_ratio.nc\n",
      "dprst_stor_hru_prev.nc\tpk_ice.nc\t\tsoil_moist.nc\n",
      "freeh2o.nc\t\tpk_ice_prev.nc\t\tsoil_moist_prev.nc\n",
      "freeh2o_prev.nc\t\tpkwater_ante.nc\t\tsoil_moist_tot.nc\n",
      "gwres_flow.nc\t\tpkwater_equiv.nc\tsoil_rechr.nc\n",
      "gwres_flow_vol.nc\tpotet.nc\t\tsoil_rechr_prev.nc\n",
      "gwres_in.nc\t\tpotet_lower.nc\t\tsoil_to_gw.nc\n",
      "gwres_sink.nc\t\tpotet_rechr.nc\t\tsoil_to_ssr.nc\n",
      "gwres_stor.nc\t\tpptmix.nc\t\tsoltab_horad_potsw.nc\n",
      "hru_actet.nc\t\tpptmix_nopack.nc\tsoltab_potsw.nc\n",
      "hru_impervevap.nc\tpref_flow.nc\t\tsoltab_sunhrs.nc\n",
      "hru_impervstor.nc\tpref_flow_infil.nc\tsroff.nc\n",
      "hru_impervstor_prev.nc\tpref_flow_stor.nc\tsroff_vol.nc\n",
      "hru_intcpevap.nc\tpref_flow_stor_prev.nc\tssr_to_gw.nc\n",
      "hru_intcpstor.nc\tprmx.nc\t\t\tssres_flow.nc\n",
      "hru_lateral_flow.nc\tpst.nc\t\t\tssres_flow_vol.nc\n",
      "hru_outflow.nc\t\trecharge.nc\t\tssres_in.nc\n",
      "hru_ppt.nc\t\tsalb.nc\t\t\tssres_stor.nc\n",
      "hru_rain.nc\t\tseg_gwflow.nc\t\tssres_stor_prev.nc\n",
      "hru_snow.nc\t\tseg_lateral_inflow.nc\tswrad.nc\n",
      "hru_sroffi.nc\t\tseg_outflow.nc\t\ttavgc.nc\n",
      "hru_sroffp.nc\t\tseg_sroff.nc\t\ttavgf.nc\n",
      "hru_storage.nc\t\tseg_ssflow.nc\t\ttcal.nc\n",
      "hru_streamflow_out.nc\tseg_upstream_inflow.nc\tthrough_rain.nc\n",
      "infil.nc\t\tseginc_gwflow.nc\ttmaxc.nc\n",
      "infil_hru.nc\t\tseginc_sroff.nc\t\ttmaxf.nc\n",
      "intcp_changeover.nc\tseginc_ssflow.nc\ttminc.nc\n",
      "intcp_evap.nc\t\tslow_flow.nc\t\ttminf.nc\n",
      "intcp_stor.nc\t\tslow_stor.nc\t\ttransp_on.nc\n",
      "Number of files:      105\n"
     ]
    }
   ],
   "source": [
    "cd ${pynhm_root}/test_data/drb_2yr/output\n",
    "ls -C *.nc\n",
    "echo \"Number of files: $(ls -1 ${pynhm_root}/test_data/drb_2yr/output/*.nc | wc -l)\""
   ]
  },
  {
   "cell_type": "markdown",
   "id": "386decb6-9a56-47e3-9255-978164225c12",
   "metadata": {},
   "source": [
    "These netcdf files are the results of running PRMS 5.2.1. These files are used for evaluating the results/simulations of pynhm and also as inputs to individual process models (e.g. PRMSRunoff) in pynhm. Netcdf files can be inspected on the command line with the ncdump utility. For example, the time durations and number of HRUs is evident by looking at the surface runoff variable (sroff) for each domain. "
   ]
  },
  {
   "cell_type": "code",
   "execution_count": 8,
   "id": "a3582778-71d5-4369-b663-e9dbf703d995",
   "metadata": {},
   "outputs": [
    {
     "name": "stdout",
     "output_type": "stream",
     "text": [
      "hru_1\n",
      "netcdf sroff {\n",
      "dimensions:\n",
      "\ttime = 14975 ;\n",
      "\tnhm_id = 1 ;\n",
      "variables:\n",
      "\tfloat time(time) ;\n",
      "\t\ttime:units = \"days since 1979-01-01 00:00:00\" ;\n",
      "\tint nhm_id(nhm_id) ;\n",
      "\tdouble sroff(time, nhm_id) ;\n",
      "\t\tsroff:_FillValue = 9.96920996838687e+36 ;\n",
      "\t\tsroff:desc = \"Surface runoff to the stream network for each HRU\" ;\n",
      "\t\tsroff:type = \"float64\" ;\n",
      "\t\tsroff:units = \"inches\" ;\n",
      "\t\tsroff:var_category = \"mass flux\" ;\n",
      "\n",
      "// global attributes:\n",
      "\t\t:Description = \"PRMS output data\" ;\n",
      "}\n",
      "\n",
      "\n",
      "drb_2yr\n",
      "netcdf sroff {\n",
      "dimensions:\n",
      "\ttime = 731 ;\n",
      "\tnhm_id = 765 ;\n",
      "variables:\n",
      "\tfloat time(time) ;\n",
      "\t\ttime:units = \"days since 1979-01-01 00:00:00\" ;\n",
      "\tint nhm_id(nhm_id) ;\n",
      "\tdouble sroff(time, nhm_id) ;\n",
      "\t\tsroff:_FillValue = 9.96920996838687e+36 ;\n",
      "\t\tsroff:desc = \"Surface runoff to the stream network for each HRU\" ;\n",
      "\t\tsroff:type = \"float64\" ;\n",
      "\t\tsroff:units = \"inches\" ;\n",
      "\t\tsroff:var_category = \"mass flux\" ;\n",
      "\n",
      "// global attributes:\n",
      "\t\t:Description = \"PRMS output data\" ;\n",
      "}\n",
      "\n",
      "\n",
      "ucb_2yr\n",
      "netcdf sroff {\n",
      "dimensions:\n",
      "\ttime = 731 ;\n",
      "\tnhm_id = 3851 ;\n",
      "variables:\n",
      "\tfloat time(time) ;\n",
      "\t\ttime:units = \"days since 1979-01-01 00:00:00\" ;\n",
      "\tint nhm_id(nhm_id) ;\n",
      "\tdouble sroff(time, nhm_id) ;\n",
      "\t\tsroff:_FillValue = 9.96920996838687e+36 ;\n",
      "\t\tsroff:desc = \"Surface runoff to the stream network for each HRU\" ;\n",
      "\t\tsroff:type = \"float64\" ;\n",
      "\t\tsroff:units = \"inches\" ;\n",
      "\t\tsroff:var_category = \"mass flux\" ;\n",
      "\n",
      "// global attributes:\n",
      "\t\t:Description = \"PRMS output data\" ;\n",
      "}\n",
      "\n",
      "\n"
     ]
    }
   ],
   "source": [
    "for domain in hru_1 drb_2yr ucb_2yr; do\n",
    "    echo $domain\n",
    "    ncdump -h ${pynhm_root}/test_data/${domain}/output/sroff.nc\n",
    "    echo\n",
    "    echo\n",
    "done"
   ]
  },
  {
   "cell_type": "markdown",
   "id": "53008603-cb49-418c-80b2-fd716c4ba45d",
   "metadata": {},
   "source": [
    "## pynhm autotest\n",
    "Now we can run the suite of pynhm tests, as we just genereated all the answers and input data. This verifies that your pynhm code base and your virtual environment are copacetic (assuming the commit being tested passed CI). First, I will point out that `pytest --help` even returns options for the test in the current directory under \"custom options\":"
   ]
  },
  {
   "cell_type": "code",
   "execution_count": 9,
   "id": "bec1ad28-fd21-4e83-b77c-b1986f35297f",
   "metadata": {},
   "outputs": [
    {
     "name": "stdout",
     "output_type": "stream",
     "text": [
      "custom options:\n",
      "  --domain_yaml=DOMAIN_YAML\n",
      "                        YAML file(s) for indiv domain tests. You can pass\n",
      "                        multiples of this argument. Default value (not shown\n",
      "                        here) is --domain_yaml=../test_data/drb_2yr/drb_2yr.yaml\n",
      "  --print_ans           Print results and assert False for all domain tests\n",
      "  --all_domains         Run all test domains\n",
      "\n"
     ]
    }
   ],
   "source": [
    "cd ${pynhm_root}/autotest\n",
    "pytest --help | grep -A7 \"custom options\""
   ]
  },
  {
   "cell_type": "code",
   "execution_count": 10,
   "id": "2799da40-1a65-4a03-adc6-3ee9e4bf9e56",
   "metadata": {},
   "outputs": [
    {
     "name": "stdout",
     "output_type": "stream",
     "text": [
      "\u001b[1m============================= test session starts ==============================\u001b[0m\n",
      "platform darwin -- Python 3.10.6, pytest-7.1.2, pluggy-1.0.0\n",
      "rootdir: /Users/jamesmcc/usgs/demo/pynhm\n",
      "plugins: anyio-3.6.1, xdist-2.5.0, forked-1.4.0, env-0.6.2, cov-3.0.0\n",
      "gw0 [80] / gw1 [80] / gw2 [80] / gw3 [80] / gw4 [80] / gw5 [80]\u001b[0m1m\n",
      "\u001b[32m.\u001b[0m\u001b[32m.\u001b[0m\u001b[32m.\u001b[0m\u001b[32m.\u001b[0m\u001b[32m.\u001b[0m\u001b[32m.\u001b[0m\u001b[32m.\u001b[0m\u001b[32m.\u001b[0m\u001b[32m.\u001b[0m\u001b[32m.\u001b[0m\u001b[32m.\u001b[0m\u001b[32m.\u001b[0m\u001b[32m.\u001b[0m\u001b[32m.\u001b[0m\u001b[32m.\u001b[0m\u001b[32m.\u001b[0m\u001b[32m.\u001b[0m\u001b[32m.\u001b[0m\u001b[32m.\u001b[0m\u001b[32m.\u001b[0m\u001b[32m.\u001b[0m\u001b[32m.\u001b[0m\u001b[32m.\u001b[0m\u001b[32m.\u001b[0m\u001b[32m.\u001b[0m\u001b[32m.\u001b[0m\u001b[32m.\u001b[0m\u001b[32m.\u001b[0m\u001b[32m.\u001b[0m\u001b[32m.\u001b[0m\u001b[32m.\u001b[0m\u001b[32m.\u001b[0m\u001b[32m.\u001b[0m\u001b[32m.\u001b[0m\u001b[32m.\u001b[0m\u001b[32m.\u001b[0m\u001b[32m.\u001b[0m\u001b[32m.\u001b[0m\u001b[32m.\u001b[0m\u001b[32m.\u001b[0m\u001b[32m.\u001b[0m\u001b[32m.\u001b[0m\u001b[32m.\u001b[0m\u001b[32m.\u001b[0m\u001b[32m.\u001b[0m\u001b[32m.\u001b[0m\u001b[32m.\u001b[0m\u001b[32m.\u001b[0m\u001b[32m.\u001b[0m\u001b[32m.\u001b[0m\u001b[32m.\u001b[0m\u001b[32m.\u001b[0m\u001b[32m.\u001b[0m\u001b[32m.\u001b[0m\u001b[32m.\u001b[0m\u001b[32m.\u001b[0m\u001b[32m.\u001b[0m\u001b[32m.\u001b[0m\u001b[32m.\u001b[0m\u001b[32m.\u001b[0m\u001b[32m.\u001b[0m\u001b[32m.\u001b[0m\u001b[32m.\u001b[0m\u001b[32m.\u001b[0m\u001b[32m.\u001b[0m\u001b[32m.\u001b[0m\u001b[32m.\u001b[0m\u001b[33mX\u001b[0m\u001b[33mX\u001b[0m\u001b[33mx\u001b[0m\u001b[33mx\u001b[0m\u001b[32m.\u001b[0m\u001b[33m [ 90%]\n",
      "\u001b[0m\u001b[33mX\u001b[0m\u001b[33mX\u001b[0m\u001b[32m.\u001b[0m\u001b[33mx\u001b[0m\u001b[33mX\u001b[0m\u001b[32m.\u001b[0m\u001b[33mX\u001b[0m\u001b[32m.\u001b[0m\u001b[33m                                                                 [100%]\u001b[0m\n",
      "\u001b[33m=============================== warnings summary ===============================\u001b[0m\n",
      "autotest/test_atmosphere.py::TestPRMSAtmosphere::test_init[drb_2yr]\n",
      "autotest/test_atmosphere.py::TestPRMSAtmosphere::test_init[ucb_2yr]\n",
      "autotest/test_atmosphere.py::TestPRMSAtmosphere::test_init[hru_1]\n",
      "  /Users/jamesmcc/usgs/demo/pynhm/autotest/test_atmosphere.py:85: UserWarning: using tol = 0.0005 for variable swrad\n",
      "    warn(f\"using tol = {tol} for variable {key}\")\n",
      "\n",
      "autotest/test_atmosphere.py::TestPRMSAtmosphere::test_init[drb_2yr]\n",
      "autotest/test_atmosphere.py::TestPRMSAtmosphere::test_init[ucb_2yr]\n",
      "autotest/test_atmosphere.py::TestPRMSAtmosphere::test_init[hru_1]\n",
      "  /Users/jamesmcc/usgs/demo/pynhm/autotest/test_atmosphere.py:88: UserWarning: using tol = 1e-05 for variable tavgc\n",
      "    warn(f\"using tol = {tol} for variable {key}\")\n",
      "\n",
      "autotest/test_model.py::test_model[ucb_2yr-nhm]\n",
      "autotest/test_solar_geom.py::test_solar_geom[ucb_2yr-compute]\n",
      "autotest/test_solar_geom.py::test_solar_geom[ucb_2yr-from_prms_file]\n",
      "  /Users/jamesmcc/usgs/pynhm/pynhm/atmosphere/PRMSSolarGeometry.py:335: UserWarning: 275/1409466 locations-times with negative potential solar radiation.\n",
      "    warnings.warn(\n",
      "\n",
      "autotest/test_runoff.py::TestPRMSRunoffDomain::test_init[drb_2yr]\n",
      "autotest/test_snow.py::TestPRMSSnow::test_init[ucb_2yr]\n",
      "autotest/test_snow.py::TestPRMSSnow::test_init[hru_1]\n",
      "autotest/test_runoff.py::TestPRMSRunoffDomain::test_init[ucb_2yr]\n",
      "autotest/test_snow.py::TestPRMSSnow::test_init[drb_2yr]\n",
      "  /Users/jamesmcc/usgs/pynhm/pynhm/base/budget.py:268: UserWarning: The flux unit balance not equal to the change in unit storage\n",
      "    warn(msg, UserWarning)\n",
      "\n",
      "-- Docs: https://docs.pytest.org/en/stable/how-to/capture-warnings.html\n",
      "\u001b[33m====== \u001b[32m71 passed\u001b[0m, \u001b[33m\u001b[1m3 xfailed\u001b[0m, \u001b[33m\u001b[1m6 xpassed\u001b[0m, \u001b[33m\u001b[1m14 warnings\u001b[0m\u001b[33m in 357.74s (0:05:57)\u001b[0m\u001b[33m =======\u001b[0m\n"
     ]
    }
   ],
   "source": [
    "cd ${pynhm_root}/autotest\n",
    "pytest -n=auto --all_domains"
   ]
  },
  {
   "cell_type": "markdown",
   "id": "d27086c0-cc72-4b46-bf10-a6a2fb4e155e",
   "metadata": {},
   "source": [
    "We see that some tests are marked \"x\" for \"expected failure\". Some of these fail (x) and some pass (X) as the expected failures are typically just for one of the three domains. We also see generated warnings and the time taken. "
   ]
  },
  {
   "cell_type": "code",
   "execution_count": null,
   "id": "41aa8d2f-bda7-4ec6-b337-3fe02ec13dd7",
   "metadata": {},
   "outputs": [],
   "source": []
  }
 ],
 "metadata": {
  "kernelspec": {
   "display_name": "Bash",
   "language": "bash",
   "name": "bash"
  },
  "language_info": {
   "codemirror_mode": "shell",
   "file_extension": ".sh",
   "mimetype": "text/x-sh",
   "name": "bash"
  }
 },
 "nbformat": 4,
 "nbformat_minor": 5
}
