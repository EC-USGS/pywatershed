{
 "cells": [
  {
   "cell_type": "markdown",
   "id": "f932e1c0-24ac-4be8-a886-8554cd1e4412",
   "metadata": {},
   "source": [
    "# Parameter Editing\n",
    "This notebook gives a quick recipe for how to do calibration or sensitivity analysis with pywatershed. \n",
    "It is a design feature that parameters, more specifically the Parameter class, are read-only because \n",
    "it should be the case that parameters supplied are used and the code is not opaquely modifying these.\n",
    "\n",
    "As a consequence, one has to make the Parameter class editable. Below this is accomplished by doing\n",
    "`the_parameters.to_dd()` which returns a DatasetDict which is editable. One has to know something about\n",
    "how DatasetDicts are constructed to edit effectively, information can be found in the [documentation](https://pywatershed.readthedocs.io/en/main/api/generated/pywatershed.base.DatasetDict.html#pywatershed.base.DatasetDict). \n",
    "The edited DatasetDict can be made a Parameters object again by `Parameters(**param_dict.data)`, as shown below. "
   ]
  },
  {
   "cell_type": "code",
   "execution_count": null,
   "id": "73380b42-3336-4c6c-99cb-f797841a132a",
   "metadata": {
    "editable": true,
    "slideshow": {
     "slide_type": ""
    }
   },
   "outputs": [],
   "source": [
    "# auto-format the code in this notebook\n",
    "%load_ext jupyter_black"
   ]
  },
  {
   "cell_type": "code",
   "execution_count": null,
   "id": "769aa543-dfa5-43e9-84f6-0830ad0cb1d0",
   "metadata": {
    "editable": true,
    "slideshow": {
     "slide_type": ""
    }
   },
   "outputs": [],
   "source": [
    "import pathlib as pl\n",
    "from pprint import pprint\n",
    "\n",
    "import numpy as np\n",
    "import pywatershed as pws\n",
    "import xarray as xr"
   ]
  },
  {
   "cell_type": "code",
   "execution_count": null,
   "id": "01da8dca-622f-44c2-9041-8a43826d5d6f",
   "metadata": {},
   "outputs": [],
   "source": [
    "domain_dir = pws.constants.__pywatershed_root__ / \"data/drb_2yr\"\n",
    "nb_output_dir = pl.Path(\"./param_edits\")\n",
    "nb_output_dir.mkdir(exist_ok=True)"
   ]
  },
  {
   "cell_type": "code",
   "execution_count": null,
   "id": "8b08b96b-9bcc-4b1b-a2e9-231949b2dd0c",
   "metadata": {},
   "outputs": [],
   "source": [
    "# A legacy PRMS parameter file\n",
    "params = pws.parameters.PrmsParameters.load(domain_dir / \"myparam.param\")"
   ]
  },
  {
   "cell_type": "code",
   "execution_count": null,
   "id": "cd179039-a91d-4057-8e11-4ba49cb387bd",
   "metadata": {},
   "outputs": [],
   "source": [
    "param_list = []\n",
    "param_files = []\n",
    "for ii in range(11):\n",
    "    param_dict = params.to_dd()  # copies by default\n",
    "    multiplier = ii * 0.05 + 0.75\n",
    "    print(\"multiplier = \", multiplier)\n",
    "    param_dict.data_vars[\"K_coef\"] *= multiplier\n",
    "    param_file_name = nb_output_dir / f\"perturbed_params_{str(ii).zfill(3)}.nc\"\n",
    "    param_files += [param_file_name]\n",
    "    # These could avoid export to netcdf4 if just using in memory\n",
    "    # could store in a list like: param_list.append(pws.Parameters(**param_dict.data))\n",
    "    pws.Parameters(**param_dict.data).to_netcdf(\n",
    "        param_file_name, use_xr=True\n",
    "    )  # using xarray, more work necessary for nc4 export"
   ]
  },
  {
   "cell_type": "code",
   "execution_count": null,
   "id": "04cb7d5a-4979-4859-872c-6ccd6f6f1fc3",
   "metadata": {},
   "outputs": [],
   "source": [
    "# this provides a check that the values from file are what we expect\n",
    "for ff in param_files:\n",
    "    # the problem arises on the read with xarray default decoding\n",
    "    # but we can just open the netcdf file as Parameters\n",
    "    # ds = xr.open_dataset(ff, decode_times=False, decode_timedelta=False)\n",
    "    # k_coef = ds[\"K_coef\"]\n",
    "    new_params = pws.Parameters.from_netcdf(ff)\n",
    "    k_coef = new_params.data_vars[\"K_coef\"]\n",
    "    multipliers = k_coef / params.data_vars[\"K_coef\"]\n",
    "    assert (multipliers - multipliers[0] < 1e-15).all()\n",
    "    print(multipliers[0])"
   ]
  },
  {
   "cell_type": "code",
   "execution_count": null,
   "id": "8dc58917-2b29-474a-bb56-1d401c68b4ef",
   "metadata": {},
   "outputs": [],
   "source": []
  }
 ],
 "metadata": {
  "language_info": {
   "codemirror_mode": {
    "name": "ipython"
   },
   "file_extension": ".py",
   "mimetype": "text/x-python",
   "name": "python",
   "nbconvert_exporter": "python"
  }
 },
 "nbformat": 4,
 "nbformat_minor": 5
}
