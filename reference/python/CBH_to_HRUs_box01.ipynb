{
 "cells": [
  {
   "cell_type": "code",
   "execution_count": 1,
   "metadata": {},
   "outputs": [],
   "source": [
    "# 1/24/2022\n",
    "# markstro\n",
    "#\n",
    "# This notebook demos: (1) how to read the CBH file and adjust the values for the HRUS; (2) determine the\n",
    "# form of the precip' (3) read values from the parameter file and use them in calculations."
   ]
  },
  {
   "cell_type": "code",
   "execution_count": 2,
   "metadata": {},
   "outputs": [],
   "source": [
    "import pandas as pd\n",
    "import numpy as np\n",
    "import gc\n",
    "import sys\n",
    "import os\n",
    "import matplotlib.pyplot as plt\n",
    "from datetime import datetime\n",
    "from datetime import date\n",
    "import math"
   ]
  },
  {
   "cell_type": "code",
   "execution_count": 3,
   "metadata": {},
   "outputs": [],
   "source": [
    "pfn = \"../prms_models/box01/input/box01.params\"\n",
    "outdir = \"../prms_models/box01/output/\"\n",
    "indir = \"../prms_models/box01/input/\""
   ]
  },
  {
   "cell_type": "code",
   "execution_count": null,
   "metadata": {},
   "outputs": [],
   "source": []
  },
  {
   "cell_type": "markdown",
   "metadata": {},
   "source": [
    "# Utility functions"
   ]
  },
  {
   "cell_type": "code",
   "execution_count": 4,
   "metadata": {},
   "outputs": [],
   "source": [
    "# Function that will read PRMS parameter file\n",
    "# Returns the contents of param file in python data structures\n",
    "def read_param_file(pfn):\n",
    "    line_num = 0\n",
    "    vals = {}\n",
    "    dims = {}\n",
    "    param_dims = {}\n",
    "    param_type = {}\n",
    "\n",
    "    with open(pfn) as f:\n",
    "        reading_dims = False\n",
    "        for line in f:\n",
    "            try:\n",
    "                line = line.rstrip()  # remove '\\n' at end of line\n",
    "                line_num += 1\n",
    "                if line == \"** Dimensions **\":\n",
    "                    reading_dims = True\n",
    "                    line = f.readline().rstrip()\n",
    "                    line_num += 1\n",
    "\n",
    "                if line == \"** Parameters **\":\n",
    "                    reading_dims = False\n",
    "                    break\n",
    "\n",
    "                if reading_dims:\n",
    "                    line = f.readline().rstrip()\n",
    "                    line_num += 1\n",
    "                    dim_name = line\n",
    "\n",
    "                    line = f.readline().rstrip()\n",
    "                    line_num += 1\n",
    "                    size = line\n",
    "\n",
    "                    if dim_name in dims.keys():\n",
    "                        pass\n",
    "                    else:\n",
    "                        dims[dim_name] = int(size)\n",
    "            except:\n",
    "                print(\"**** read parameters exception line = \", line)\n",
    "                print(\"**** read parameters exception line_num = \", str(line_num))\n",
    "                print(\"**** Unexpected error:\", sys.exc_info()[0])\n",
    "\n",
    "        #        read params\n",
    "        for line in f:\n",
    "            try:\n",
    "                line = line.rstrip()  # remove '\\n' at end of line\n",
    "                line_num += 1\n",
    "\n",
    "                if line == \"####\":\n",
    "                    line = f.readline().rstrip()\n",
    "                    line = line.split(\" \", 1)[\n",
    "                        0\n",
    "                    ]  # old format parameter files have a blank (' ') and then a width format value. Strip this off.\n",
    "                    param_name = line\n",
    "                    line_num += 1\n",
    "\n",
    "                    line = f.readline().rstrip()\n",
    "                    line_num += 1\n",
    "                    num_dims = int(line)\n",
    "                    pd = [None] * num_dims\n",
    "                    for ii in range(num_dims):\n",
    "                        line = f.readline().rstrip()\n",
    "                        pd[ii] = line\n",
    "                        line_num += 1\n",
    "\n",
    "                    param_dims[param_name] = pd\n",
    "\n",
    "                    line = f.readline().rstrip()\n",
    "                    line_num += 1\n",
    "                    num_vals = int(line)\n",
    "                    line = f.readline().rstrip()\n",
    "                    line_num += 1\n",
    "                    tp = int(line)\n",
    "                    param_type[param_name] = tp\n",
    "\n",
    "                    if tp == 2:\n",
    "                        vs = np.zeros(num_vals, dtype=float)\n",
    "                        for jj in range(num_vals):\n",
    "                            line = f.readline().rstrip()\n",
    "                            line_num += 1\n",
    "                            vs[jj] = float(line.split()[0])\n",
    "\n",
    "                    elif tp == 1:\n",
    "                        vs = np.zeros(num_vals, dtype=int)\n",
    "                        for jj in range(num_vals):\n",
    "                            line = f.readline().rstrip()\n",
    "                            line_num += 1\n",
    "                            vs[jj] = int(line.split()[0])\n",
    "\n",
    "                    else:\n",
    "                        vs = np.zeros(num_vals, dtype=np.chararray)\n",
    "                        for jj in range(num_vals):\n",
    "                            line = f.readline().rstrip()\n",
    "                            line_num += 1\n",
    "                            vs[jj] = line\n",
    "\n",
    "                    if num_dims == 2:\n",
    "                        vs.shape = (dims[pd[1]], dims[pd[0]])\n",
    "\n",
    "                    if param_name in vals.keys():\n",
    "                        print(\"parameter \", param_name, \" is already in \", pfn)\n",
    "                    else:\n",
    "                        vals[param_name] = vs\n",
    "\n",
    "            except:\n",
    "                print(\"read parameters exception line_num = \", str(line_num))\n",
    "                print(\"Unexpected error:\", sys.exc_info()[0])\n",
    "\n",
    "    gc.collect()\n",
    "\n",
    "    return (dims, vals, param_dims, param_type)"
   ]
  },
  {
   "cell_type": "code",
   "execution_count": 5,
   "metadata": {},
   "outputs": [],
   "source": [
    "# I don't understand why I needed to write this function myself\n",
    "# Input: datetime.Date\n",
    "# Output: day of the year (aka \"Julian date\")\n",
    "def day_of_year(d):\n",
    "    N1 = math.floor(275 * d.month / 9)\n",
    "    N2 = math.floor((d.month + 9) / 12)\n",
    "    N3 = 1 + math.floor((d.year - 4 * math.floor(d.year / 4) + 2) / 3)\n",
    "    N = N1 - (N2 * N3) + d.day - 30\n",
    "    return N"
   ]
  },
  {
   "cell_type": "code",
   "execution_count": null,
   "metadata": {},
   "outputs": [],
   "source": []
  },
  {
   "cell_type": "markdown",
   "metadata": {},
   "source": [
    "# Read the simulated output into a dataframe"
   ]
  },
  {
   "cell_type": "code",
   "execution_count": 6,
   "metadata": {},
   "outputs": [],
   "source": [
    "# This loops over all of the csv files in the output directory\n",
    "\n",
    "sim_vals = None\n",
    "for filename in os.listdir(outdir):\n",
    "    f = os.path.join(outdir, filename)\n",
    "    if os.path.isfile(f) and f.endswith(\".csv\"):\n",
    "        varname = filename.split(\".\")[0]\n",
    "\n",
    "        if sim_vals is None:\n",
    "            sim_vals = pd.read_csv(f, names=[\"datestr\", varname], skiprows=1)\n",
    "\n",
    "        else:\n",
    "            if varname != \"stats\":\n",
    "                df = pd.read_csv(f, names=[\"datestr\", varname], skiprows=1)\n",
    "                sim_vals = pd.merge(\n",
    "                    sim_vals, df[[\"datestr\", varname]], on=\"datestr\", how=\"left\"\n",
    "                )\n",
    "\n",
    "sim_vals[\"date\"] = [\n",
    "    datetime.strptime(date, \"%Y-%m-%d\").date() for date in sim_vals[\"datestr\"]\n",
    "]\n",
    "del sim_vals[\"datestr\"]"
   ]
  },
  {
   "cell_type": "code",
   "execution_count": 7,
   "metadata": {},
   "outputs": [
    {
     "data": {
      "text/html": [
       "<div>\n",
       "<style scoped>\n",
       "    .dataframe tbody tr th:only-of-type {\n",
       "        vertical-align: middle;\n",
       "    }\n",
       "\n",
       "    .dataframe tbody tr th {\n",
       "        vertical-align: top;\n",
       "    }\n",
       "\n",
       "    .dataframe thead th {\n",
       "        text-align: right;\n",
       "    }\n",
       "</style>\n",
       "<table border=\"1\" class=\"dataframe\">\n",
       "  <thead>\n",
       "    <tr style=\"text-align: right;\">\n",
       "      <th></th>\n",
       "      <th>soil_moist_tot</th>\n",
       "      <th>hru_impervstor</th>\n",
       "      <th>net_snow</th>\n",
       "      <th>net_ppt</th>\n",
       "      <th>hru_sroffp</th>\n",
       "      <th>hru_snow</th>\n",
       "      <th>tmaxf</th>\n",
       "      <th>hortonian_flow</th>\n",
       "      <th>tminf</th>\n",
       "      <th>intcp_stor</th>\n",
       "      <th>canopy_covden</th>\n",
       "      <th>net_rain</th>\n",
       "      <th>intcp_evap</th>\n",
       "      <th>hru_ppt</th>\n",
       "      <th>hru_sroffi</th>\n",
       "      <th>hru_rain</th>\n",
       "      <th>hru_impervevap</th>\n",
       "      <th>date</th>\n",
       "    </tr>\n",
       "  </thead>\n",
       "  <tbody>\n",
       "    <tr>\n",
       "      <th>0</th>\n",
       "      <td>0.0000</td>\n",
       "      <td>0.0</td>\n",
       "      <td>0.0</td>\n",
       "      <td>0.0000</td>\n",
       "      <td>0.0000</td>\n",
       "      <td>0.0</td>\n",
       "      <td>78.5987</td>\n",
       "      <td>0.0000</td>\n",
       "      <td>49.7339</td>\n",
       "      <td>0.0000</td>\n",
       "      <td>0.2308</td>\n",
       "      <td>0.0000</td>\n",
       "      <td>0.0000</td>\n",
       "      <td>0.0000</td>\n",
       "      <td>0.0</td>\n",
       "      <td>0.0000</td>\n",
       "      <td>0.0</td>\n",
       "      <td>1980-10-01</td>\n",
       "    </tr>\n",
       "    <tr>\n",
       "      <th>1</th>\n",
       "      <td>0.0926</td>\n",
       "      <td>0.0</td>\n",
       "      <td>0.0</td>\n",
       "      <td>0.1030</td>\n",
       "      <td>0.0000</td>\n",
       "      <td>0.0</td>\n",
       "      <td>77.5987</td>\n",
       "      <td>0.0000</td>\n",
       "      <td>51.5339</td>\n",
       "      <td>0.0038</td>\n",
       "      <td>0.2308</td>\n",
       "      <td>0.1030</td>\n",
       "      <td>0.0000</td>\n",
       "      <td>0.1039</td>\n",
       "      <td>0.0</td>\n",
       "      <td>0.1039</td>\n",
       "      <td>0.0</td>\n",
       "      <td>1980-10-02</td>\n",
       "    </tr>\n",
       "    <tr>\n",
       "      <th>2</th>\n",
       "      <td>0.3290</td>\n",
       "      <td>0.0</td>\n",
       "      <td>0.0</td>\n",
       "      <td>0.2629</td>\n",
       "      <td>0.0001</td>\n",
       "      <td>0.0</td>\n",
       "      <td>66.2987</td>\n",
       "      <td>0.0001</td>\n",
       "      <td>51.1339</td>\n",
       "      <td>0.0038</td>\n",
       "      <td>0.2308</td>\n",
       "      <td>0.2629</td>\n",
       "      <td>0.0000</td>\n",
       "      <td>0.2629</td>\n",
       "      <td>0.0</td>\n",
       "      <td>0.2629</td>\n",
       "      <td>0.0</td>\n",
       "      <td>1980-10-03</td>\n",
       "    </tr>\n",
       "    <tr>\n",
       "      <th>3</th>\n",
       "      <td>0.3684</td>\n",
       "      <td>0.0</td>\n",
       "      <td>0.0</td>\n",
       "      <td>0.0672</td>\n",
       "      <td>0.0000</td>\n",
       "      <td>0.0</td>\n",
       "      <td>66.2987</td>\n",
       "      <td>0.0000</td>\n",
       "      <td>45.0339</td>\n",
       "      <td>0.0038</td>\n",
       "      <td>0.2308</td>\n",
       "      <td>0.0672</td>\n",
       "      <td>0.0000</td>\n",
       "      <td>0.0672</td>\n",
       "      <td>0.0</td>\n",
       "      <td>0.0672</td>\n",
       "      <td>0.0</td>\n",
       "      <td>1980-10-04</td>\n",
       "    </tr>\n",
       "    <tr>\n",
       "      <th>4</th>\n",
       "      <td>0.3468</td>\n",
       "      <td>0.0</td>\n",
       "      <td>0.0</td>\n",
       "      <td>0.0000</td>\n",
       "      <td>0.0000</td>\n",
       "      <td>0.0</td>\n",
       "      <td>63.0987</td>\n",
       "      <td>0.0000</td>\n",
       "      <td>42.9339</td>\n",
       "      <td>0.0000</td>\n",
       "      <td>0.2308</td>\n",
       "      <td>0.0000</td>\n",
       "      <td>0.0038</td>\n",
       "      <td>0.0000</td>\n",
       "      <td>0.0</td>\n",
       "      <td>0.0000</td>\n",
       "      <td>0.0</td>\n",
       "      <td>1980-10-05</td>\n",
       "    </tr>\n",
       "  </tbody>\n",
       "</table>\n",
       "</div>"
      ],
      "text/plain": [
       "   soil_moist_tot  hru_impervstor  net_snow  net_ppt  hru_sroffp  hru_snow  \\\n",
       "0          0.0000             0.0       0.0   0.0000      0.0000       0.0   \n",
       "1          0.0926             0.0       0.0   0.1030      0.0000       0.0   \n",
       "2          0.3290             0.0       0.0   0.2629      0.0001       0.0   \n",
       "3          0.3684             0.0       0.0   0.0672      0.0000       0.0   \n",
       "4          0.3468             0.0       0.0   0.0000      0.0000       0.0   \n",
       "\n",
       "     tmaxf  hortonian_flow    tminf  intcp_stor  canopy_covden  net_rain  \\\n",
       "0  78.5987          0.0000  49.7339      0.0000         0.2308    0.0000   \n",
       "1  77.5987          0.0000  51.5339      0.0038         0.2308    0.1030   \n",
       "2  66.2987          0.0001  51.1339      0.0038         0.2308    0.2629   \n",
       "3  66.2987          0.0000  45.0339      0.0038         0.2308    0.0672   \n",
       "4  63.0987          0.0000  42.9339      0.0000         0.2308    0.0000   \n",
       "\n",
       "   intcp_evap  hru_ppt  hru_sroffi  hru_rain  hru_impervevap        date  \n",
       "0      0.0000   0.0000         0.0    0.0000             0.0  1980-10-01  \n",
       "1      0.0000   0.1039         0.0    0.1039             0.0  1980-10-02  \n",
       "2      0.0000   0.2629         0.0    0.2629             0.0  1980-10-03  \n",
       "3      0.0000   0.0672         0.0    0.0672             0.0  1980-10-04  \n",
       "4      0.0038   0.0000         0.0    0.0000             0.0  1980-10-05  "
      ]
     },
     "execution_count": 7,
     "metadata": {},
     "output_type": "execute_result"
    }
   ],
   "source": [
    "sim_vals.head()"
   ]
  },
  {
   "cell_type": "code",
   "execution_count": 8,
   "metadata": {},
   "outputs": [
    {
     "data": {
      "text/html": [
       "<div>\n",
       "<style scoped>\n",
       "    .dataframe tbody tr th:only-of-type {\n",
       "        vertical-align: middle;\n",
       "    }\n",
       "\n",
       "    .dataframe tbody tr th {\n",
       "        vertical-align: top;\n",
       "    }\n",
       "\n",
       "    .dataframe thead th {\n",
       "        text-align: right;\n",
       "    }\n",
       "</style>\n",
       "<table border=\"1\" class=\"dataframe\">\n",
       "  <thead>\n",
       "    <tr style=\"text-align: right;\">\n",
       "      <th></th>\n",
       "      <th>soil_moist_tot</th>\n",
       "      <th>hru_impervstor</th>\n",
       "      <th>net_snow</th>\n",
       "      <th>net_ppt</th>\n",
       "      <th>hru_sroffp</th>\n",
       "      <th>hru_snow</th>\n",
       "      <th>tmaxf</th>\n",
       "      <th>hortonian_flow</th>\n",
       "      <th>tminf</th>\n",
       "      <th>intcp_stor</th>\n",
       "      <th>canopy_covden</th>\n",
       "      <th>net_rain</th>\n",
       "      <th>intcp_evap</th>\n",
       "      <th>hru_ppt</th>\n",
       "      <th>hru_sroffi</th>\n",
       "      <th>hru_rain</th>\n",
       "      <th>hru_impervevap</th>\n",
       "      <th>date</th>\n",
       "    </tr>\n",
       "  </thead>\n",
       "  <tbody>\n",
       "    <tr>\n",
       "      <th>14331</th>\n",
       "      <td>2.0748</td>\n",
       "      <td>0.0</td>\n",
       "      <td>0.0</td>\n",
       "      <td>0.0000</td>\n",
       "      <td>0.0000</td>\n",
       "      <td>0.0</td>\n",
       "      <td>49.9269</td>\n",
       "      <td>0.0000</td>\n",
       "      <td>34.6239</td>\n",
       "      <td>0.0000</td>\n",
       "      <td>0.2308</td>\n",
       "      <td>0.0000</td>\n",
       "      <td>0.0</td>\n",
       "      <td>0.0000</td>\n",
       "      <td>0.0</td>\n",
       "      <td>0.0000</td>\n",
       "      <td>0.0</td>\n",
       "      <td>2019-12-27</td>\n",
       "    </tr>\n",
       "    <tr>\n",
       "      <th>14332</th>\n",
       "      <td>2.0376</td>\n",
       "      <td>0.0</td>\n",
       "      <td>0.0</td>\n",
       "      <td>0.0000</td>\n",
       "      <td>0.0000</td>\n",
       "      <td>0.0</td>\n",
       "      <td>47.6269</td>\n",
       "      <td>0.0000</td>\n",
       "      <td>29.5239</td>\n",
       "      <td>0.0000</td>\n",
       "      <td>0.2308</td>\n",
       "      <td>0.0000</td>\n",
       "      <td>0.0</td>\n",
       "      <td>0.0000</td>\n",
       "      <td>0.0</td>\n",
       "      <td>0.0000</td>\n",
       "      <td>0.0</td>\n",
       "      <td>2019-12-28</td>\n",
       "    </tr>\n",
       "    <tr>\n",
       "      <th>14333</th>\n",
       "      <td>2.4328</td>\n",
       "      <td>0.0</td>\n",
       "      <td>0.0</td>\n",
       "      <td>0.7713</td>\n",
       "      <td>0.2080</td>\n",
       "      <td>0.0</td>\n",
       "      <td>41.1269</td>\n",
       "      <td>0.2080</td>\n",
       "      <td>30.0239</td>\n",
       "      <td>0.0038</td>\n",
       "      <td>0.2308</td>\n",
       "      <td>0.7713</td>\n",
       "      <td>0.0</td>\n",
       "      <td>0.7722</td>\n",
       "      <td>0.0</td>\n",
       "      <td>0.7722</td>\n",
       "      <td>0.0</td>\n",
       "      <td>2019-12-29</td>\n",
       "    </tr>\n",
       "    <tr>\n",
       "      <th>14334</th>\n",
       "      <td>2.5656</td>\n",
       "      <td>0.0</td>\n",
       "      <td>0.0</td>\n",
       "      <td>0.8332</td>\n",
       "      <td>0.3527</td>\n",
       "      <td>0.0</td>\n",
       "      <td>38.9269</td>\n",
       "      <td>0.3527</td>\n",
       "      <td>35.0239</td>\n",
       "      <td>0.0038</td>\n",
       "      <td>0.2308</td>\n",
       "      <td>0.8332</td>\n",
       "      <td>0.0</td>\n",
       "      <td>0.8332</td>\n",
       "      <td>0.0</td>\n",
       "      <td>0.8332</td>\n",
       "      <td>0.0</td>\n",
       "      <td>2019-12-30</td>\n",
       "    </tr>\n",
       "    <tr>\n",
       "      <th>14335</th>\n",
       "      <td>2.4854</td>\n",
       "      <td>0.0</td>\n",
       "      <td>0.0</td>\n",
       "      <td>0.1118</td>\n",
       "      <td>0.0211</td>\n",
       "      <td>0.0</td>\n",
       "      <td>43.1269</td>\n",
       "      <td>0.0211</td>\n",
       "      <td>35.7239</td>\n",
       "      <td>0.0038</td>\n",
       "      <td>0.2308</td>\n",
       "      <td>0.1118</td>\n",
       "      <td>0.0</td>\n",
       "      <td>0.1118</td>\n",
       "      <td>0.0</td>\n",
       "      <td>0.1118</td>\n",
       "      <td>0.0</td>\n",
       "      <td>2019-12-31</td>\n",
       "    </tr>\n",
       "  </tbody>\n",
       "</table>\n",
       "</div>"
      ],
      "text/plain": [
       "       soil_moist_tot  hru_impervstor  net_snow  net_ppt  hru_sroffp  \\\n",
       "14331          2.0748             0.0       0.0   0.0000      0.0000   \n",
       "14332          2.0376             0.0       0.0   0.0000      0.0000   \n",
       "14333          2.4328             0.0       0.0   0.7713      0.2080   \n",
       "14334          2.5656             0.0       0.0   0.8332      0.3527   \n",
       "14335          2.4854             0.0       0.0   0.1118      0.0211   \n",
       "\n",
       "       hru_snow    tmaxf  hortonian_flow    tminf  intcp_stor  canopy_covden  \\\n",
       "14331       0.0  49.9269          0.0000  34.6239      0.0000         0.2308   \n",
       "14332       0.0  47.6269          0.0000  29.5239      0.0000         0.2308   \n",
       "14333       0.0  41.1269          0.2080  30.0239      0.0038         0.2308   \n",
       "14334       0.0  38.9269          0.3527  35.0239      0.0038         0.2308   \n",
       "14335       0.0  43.1269          0.0211  35.7239      0.0038         0.2308   \n",
       "\n",
       "       net_rain  intcp_evap  hru_ppt  hru_sroffi  hru_rain  hru_impervevap  \\\n",
       "14331    0.0000         0.0   0.0000         0.0    0.0000             0.0   \n",
       "14332    0.0000         0.0   0.0000         0.0    0.0000             0.0   \n",
       "14333    0.7713         0.0   0.7722         0.0    0.7722             0.0   \n",
       "14334    0.8332         0.0   0.8332         0.0    0.8332             0.0   \n",
       "14335    0.1118         0.0   0.1118         0.0    0.1118             0.0   \n",
       "\n",
       "             date  \n",
       "14331  2019-12-27  \n",
       "14332  2019-12-28  \n",
       "14333  2019-12-29  \n",
       "14334  2019-12-30  \n",
       "14335  2019-12-31  "
      ]
     },
     "execution_count": 8,
     "metadata": {},
     "output_type": "execute_result"
    }
   ],
   "source": [
    "sim_vals.tail()"
   ]
  },
  {
   "cell_type": "code",
   "execution_count": null,
   "metadata": {},
   "outputs": [],
   "source": []
  },
  {
   "cell_type": "markdown",
   "metadata": {},
   "source": [
    "# Read the CBH forcing data into the dataframe"
   ]
  },
  {
   "cell_type": "code",
   "execution_count": 9,
   "metadata": {},
   "outputs": [],
   "source": [
    "def add_date_for_PRMS_dates(df):\n",
    "    df[\"date\"] = [date(y, m, d) for y, m, d in zip(df[\"yr\"], df[\"mo\"], df[\"da\"])]\n",
    "    del df[\"yr\"]\n",
    "    del df[\"mo\"]\n",
    "    del df[\"da\"]\n",
    "    del df[\"hr\"]\n",
    "    del df[\"mi\"]\n",
    "    del df[\"se\"]\n",
    "    return df"
   ]
  },
  {
   "cell_type": "code",
   "execution_count": 10,
   "metadata": {},
   "outputs": [],
   "source": [
    "# Read the CBH forcing inputs\n",
    "cbh_vals = None\n",
    "for filename in os.listdir(indir):\n",
    "    f = os.path.join(indir, filename)\n",
    "    if os.path.isfile(f) and f.endswith(\".cbh\"):\n",
    "        varname = filename.split(\".\")[0]\n",
    "\n",
    "        if cbh_vals is None:\n",
    "            cbh_vals = pd.read_csv(\n",
    "                f,\n",
    "                names=[\"yr\", \"mo\", \"da\", \"hr\", \"mi\", \"se\", varname],\n",
    "                skiprows=3,\n",
    "                delim_whitespace=True,\n",
    "            )\n",
    "            cbh_vals = add_date_for_PRMS_dates(cbh_vals)\n",
    "\n",
    "        else:\n",
    "            foo = pd.read_csv(\n",
    "                f,\n",
    "                names=[\"yr\", \"mo\", \"da\", \"hr\", \"mi\", \"se\", varname],\n",
    "                skiprows=3,\n",
    "                delim_whitespace=True,\n",
    "            )\n",
    "            foo = add_date_for_PRMS_dates(foo)\n",
    "            cbh_vals = pd.merge(cbh_vals, foo[[\"date\", varname]], on=\"date\", how=\"left\")"
   ]
  },
  {
   "cell_type": "code",
   "execution_count": 11,
   "metadata": {},
   "outputs": [
    {
     "data": {
      "text/html": [
       "<div>\n",
       "<style scoped>\n",
       "    .dataframe tbody tr th:only-of-type {\n",
       "        vertical-align: middle;\n",
       "    }\n",
       "\n",
       "    .dataframe tbody tr th {\n",
       "        vertical-align: top;\n",
       "    }\n",
       "\n",
       "    .dataframe thead th {\n",
       "        text-align: right;\n",
       "    }\n",
       "</style>\n",
       "<table border=\"1\" class=\"dataframe\">\n",
       "  <thead>\n",
       "    <tr style=\"text-align: right;\">\n",
       "      <th></th>\n",
       "      <th>tmin</th>\n",
       "      <th>date</th>\n",
       "      <th>tmax</th>\n",
       "      <th>prcp</th>\n",
       "    </tr>\n",
       "  </thead>\n",
       "  <tbody>\n",
       "    <tr>\n",
       "      <th>0</th>\n",
       "      <td>31.0</td>\n",
       "      <td>1979-01-01</td>\n",
       "      <td>43.6</td>\n",
       "      <td>0.00</td>\n",
       "    </tr>\n",
       "    <tr>\n",
       "      <th>1</th>\n",
       "      <td>31.0</td>\n",
       "      <td>1979-01-02</td>\n",
       "      <td>47.2</td>\n",
       "      <td>0.04</td>\n",
       "    </tr>\n",
       "    <tr>\n",
       "      <th>2</th>\n",
       "      <td>34.1</td>\n",
       "      <td>1979-01-03</td>\n",
       "      <td>53.0</td>\n",
       "      <td>0.02</td>\n",
       "    </tr>\n",
       "    <tr>\n",
       "      <th>3</th>\n",
       "      <td>38.2</td>\n",
       "      <td>1979-01-04</td>\n",
       "      <td>53.7</td>\n",
       "      <td>0.49</td>\n",
       "    </tr>\n",
       "    <tr>\n",
       "      <th>4</th>\n",
       "      <td>34.9</td>\n",
       "      <td>1979-01-05</td>\n",
       "      <td>42.9</td>\n",
       "      <td>0.48</td>\n",
       "    </tr>\n",
       "  </tbody>\n",
       "</table>\n",
       "</div>"
      ],
      "text/plain": [
       "   tmin        date  tmax  prcp\n",
       "0  31.0  1979-01-01  43.6  0.00\n",
       "1  31.0  1979-01-02  47.2  0.04\n",
       "2  34.1  1979-01-03  53.0  0.02\n",
       "3  38.2  1979-01-04  53.7  0.49\n",
       "4  34.9  1979-01-05  42.9  0.48"
      ]
     },
     "execution_count": 11,
     "metadata": {},
     "output_type": "execute_result"
    }
   ],
   "source": [
    "cbh_vals.head()"
   ]
  },
  {
   "cell_type": "code",
   "execution_count": 12,
   "metadata": {},
   "outputs": [
    {
     "data": {
      "text/html": [
       "<div>\n",
       "<style scoped>\n",
       "    .dataframe tbody tr th:only-of-type {\n",
       "        vertical-align: middle;\n",
       "    }\n",
       "\n",
       "    .dataframe tbody tr th {\n",
       "        vertical-align: top;\n",
       "    }\n",
       "\n",
       "    .dataframe thead th {\n",
       "        text-align: right;\n",
       "    }\n",
       "</style>\n",
       "<table border=\"1\" class=\"dataframe\">\n",
       "  <thead>\n",
       "    <tr style=\"text-align: right;\">\n",
       "      <th></th>\n",
       "      <th>tmin</th>\n",
       "      <th>date</th>\n",
       "      <th>tmax</th>\n",
       "      <th>prcp</th>\n",
       "    </tr>\n",
       "  </thead>\n",
       "  <tbody>\n",
       "    <tr>\n",
       "      <th>14977</th>\n",
       "      <td>34.2</td>\n",
       "      <td>2019-12-27</td>\n",
       "      <td>50.6</td>\n",
       "      <td>0.00</td>\n",
       "    </tr>\n",
       "    <tr>\n",
       "      <th>14978</th>\n",
       "      <td>29.1</td>\n",
       "      <td>2019-12-28</td>\n",
       "      <td>48.3</td>\n",
       "      <td>0.00</td>\n",
       "    </tr>\n",
       "    <tr>\n",
       "      <th>14979</th>\n",
       "      <td>29.6</td>\n",
       "      <td>2019-12-29</td>\n",
       "      <td>41.8</td>\n",
       "      <td>0.76</td>\n",
       "    </tr>\n",
       "    <tr>\n",
       "      <th>14980</th>\n",
       "      <td>34.6</td>\n",
       "      <td>2019-12-30</td>\n",
       "      <td>39.6</td>\n",
       "      <td>0.82</td>\n",
       "    </tr>\n",
       "    <tr>\n",
       "      <th>14981</th>\n",
       "      <td>35.3</td>\n",
       "      <td>2019-12-31</td>\n",
       "      <td>43.8</td>\n",
       "      <td>0.11</td>\n",
       "    </tr>\n",
       "  </tbody>\n",
       "</table>\n",
       "</div>"
      ],
      "text/plain": [
       "       tmin        date  tmax  prcp\n",
       "14977  34.2  2019-12-27  50.6  0.00\n",
       "14978  29.1  2019-12-28  48.3  0.00\n",
       "14979  29.6  2019-12-29  41.8  0.76\n",
       "14980  34.6  2019-12-30  39.6  0.82\n",
       "14981  35.3  2019-12-31  43.8  0.11"
      ]
     },
     "execution_count": 12,
     "metadata": {},
     "output_type": "execute_result"
    }
   ],
   "source": [
    "cbh_vals.tail()"
   ]
  },
  {
   "cell_type": "code",
   "execution_count": null,
   "metadata": {},
   "outputs": [],
   "source": []
  },
  {
   "cell_type": "markdown",
   "metadata": {},
   "source": [
    "# Sync up the dates of the forcings and the outputs. This makes sure that all values are compared for the same date(s)"
   ]
  },
  {
   "cell_type": "code",
   "execution_count": 13,
   "metadata": {},
   "outputs": [],
   "source": [
    "synced_vals = pd.merge(cbh_vals, sim_vals, on=\"date\", how=\"right\")"
   ]
  },
  {
   "cell_type": "code",
   "execution_count": 14,
   "metadata": {},
   "outputs": [
    {
     "name": "stdout",
     "output_type": "stream",
     "text": [
      "(14336, 21)\n"
     ]
    }
   ],
   "source": [
    "print(synced_vals.shape)"
   ]
  },
  {
   "cell_type": "code",
   "execution_count": 15,
   "metadata": {},
   "outputs": [
    {
     "data": {
      "text/html": [
       "<div>\n",
       "<style scoped>\n",
       "    .dataframe tbody tr th:only-of-type {\n",
       "        vertical-align: middle;\n",
       "    }\n",
       "\n",
       "    .dataframe tbody tr th {\n",
       "        vertical-align: top;\n",
       "    }\n",
       "\n",
       "    .dataframe thead th {\n",
       "        text-align: right;\n",
       "    }\n",
       "</style>\n",
       "<table border=\"1\" class=\"dataframe\">\n",
       "  <thead>\n",
       "    <tr style=\"text-align: right;\">\n",
       "      <th></th>\n",
       "      <th>tmin</th>\n",
       "      <th>date</th>\n",
       "      <th>tmax</th>\n",
       "      <th>prcp</th>\n",
       "      <th>soil_moist_tot</th>\n",
       "      <th>hru_impervstor</th>\n",
       "      <th>net_snow</th>\n",
       "      <th>net_ppt</th>\n",
       "      <th>hru_sroffp</th>\n",
       "      <th>hru_snow</th>\n",
       "      <th>...</th>\n",
       "      <th>hortonian_flow</th>\n",
       "      <th>tminf</th>\n",
       "      <th>intcp_stor</th>\n",
       "      <th>canopy_covden</th>\n",
       "      <th>net_rain</th>\n",
       "      <th>intcp_evap</th>\n",
       "      <th>hru_ppt</th>\n",
       "      <th>hru_sroffi</th>\n",
       "      <th>hru_rain</th>\n",
       "      <th>hru_impervevap</th>\n",
       "    </tr>\n",
       "  </thead>\n",
       "  <tbody>\n",
       "    <tr>\n",
       "      <th>0</th>\n",
       "      <td>50.1</td>\n",
       "      <td>1980-10-01</td>\n",
       "      <td>77.5</td>\n",
       "      <td>0.00</td>\n",
       "      <td>0.0000</td>\n",
       "      <td>0.0</td>\n",
       "      <td>0.0</td>\n",
       "      <td>0.0000</td>\n",
       "      <td>0.0000</td>\n",
       "      <td>0.0</td>\n",
       "      <td>...</td>\n",
       "      <td>0.0000</td>\n",
       "      <td>49.7339</td>\n",
       "      <td>0.0000</td>\n",
       "      <td>0.2308</td>\n",
       "      <td>0.0000</td>\n",
       "      <td>0.0000</td>\n",
       "      <td>0.0000</td>\n",
       "      <td>0.0</td>\n",
       "      <td>0.0000</td>\n",
       "      <td>0.0</td>\n",
       "    </tr>\n",
       "    <tr>\n",
       "      <th>1</th>\n",
       "      <td>51.9</td>\n",
       "      <td>1980-10-02</td>\n",
       "      <td>76.5</td>\n",
       "      <td>0.17</td>\n",
       "      <td>0.0926</td>\n",
       "      <td>0.0</td>\n",
       "      <td>0.0</td>\n",
       "      <td>0.1030</td>\n",
       "      <td>0.0000</td>\n",
       "      <td>0.0</td>\n",
       "      <td>...</td>\n",
       "      <td>0.0000</td>\n",
       "      <td>51.5339</td>\n",
       "      <td>0.0038</td>\n",
       "      <td>0.2308</td>\n",
       "      <td>0.1030</td>\n",
       "      <td>0.0000</td>\n",
       "      <td>0.1039</td>\n",
       "      <td>0.0</td>\n",
       "      <td>0.1039</td>\n",
       "      <td>0.0</td>\n",
       "    </tr>\n",
       "    <tr>\n",
       "      <th>2</th>\n",
       "      <td>51.5</td>\n",
       "      <td>1980-10-03</td>\n",
       "      <td>65.2</td>\n",
       "      <td>0.43</td>\n",
       "      <td>0.3290</td>\n",
       "      <td>0.0</td>\n",
       "      <td>0.0</td>\n",
       "      <td>0.2629</td>\n",
       "      <td>0.0001</td>\n",
       "      <td>0.0</td>\n",
       "      <td>...</td>\n",
       "      <td>0.0001</td>\n",
       "      <td>51.1339</td>\n",
       "      <td>0.0038</td>\n",
       "      <td>0.2308</td>\n",
       "      <td>0.2629</td>\n",
       "      <td>0.0000</td>\n",
       "      <td>0.2629</td>\n",
       "      <td>0.0</td>\n",
       "      <td>0.2629</td>\n",
       "      <td>0.0</td>\n",
       "    </tr>\n",
       "    <tr>\n",
       "      <th>3</th>\n",
       "      <td>45.4</td>\n",
       "      <td>1980-10-04</td>\n",
       "      <td>65.2</td>\n",
       "      <td>0.11</td>\n",
       "      <td>0.3684</td>\n",
       "      <td>0.0</td>\n",
       "      <td>0.0</td>\n",
       "      <td>0.0672</td>\n",
       "      <td>0.0000</td>\n",
       "      <td>0.0</td>\n",
       "      <td>...</td>\n",
       "      <td>0.0000</td>\n",
       "      <td>45.0339</td>\n",
       "      <td>0.0038</td>\n",
       "      <td>0.2308</td>\n",
       "      <td>0.0672</td>\n",
       "      <td>0.0000</td>\n",
       "      <td>0.0672</td>\n",
       "      <td>0.0</td>\n",
       "      <td>0.0672</td>\n",
       "      <td>0.0</td>\n",
       "    </tr>\n",
       "    <tr>\n",
       "      <th>4</th>\n",
       "      <td>43.3</td>\n",
       "      <td>1980-10-05</td>\n",
       "      <td>62.0</td>\n",
       "      <td>0.00</td>\n",
       "      <td>0.3468</td>\n",
       "      <td>0.0</td>\n",
       "      <td>0.0</td>\n",
       "      <td>0.0000</td>\n",
       "      <td>0.0000</td>\n",
       "      <td>0.0</td>\n",
       "      <td>...</td>\n",
       "      <td>0.0000</td>\n",
       "      <td>42.9339</td>\n",
       "      <td>0.0000</td>\n",
       "      <td>0.2308</td>\n",
       "      <td>0.0000</td>\n",
       "      <td>0.0038</td>\n",
       "      <td>0.0000</td>\n",
       "      <td>0.0</td>\n",
       "      <td>0.0000</td>\n",
       "      <td>0.0</td>\n",
       "    </tr>\n",
       "  </tbody>\n",
       "</table>\n",
       "<p>5 rows × 21 columns</p>\n",
       "</div>"
      ],
      "text/plain": [
       "   tmin        date  tmax  prcp  soil_moist_tot  hru_impervstor  net_snow  \\\n",
       "0  50.1  1980-10-01  77.5  0.00          0.0000             0.0       0.0   \n",
       "1  51.9  1980-10-02  76.5  0.17          0.0926             0.0       0.0   \n",
       "2  51.5  1980-10-03  65.2  0.43          0.3290             0.0       0.0   \n",
       "3  45.4  1980-10-04  65.2  0.11          0.3684             0.0       0.0   \n",
       "4  43.3  1980-10-05  62.0  0.00          0.3468             0.0       0.0   \n",
       "\n",
       "   net_ppt  hru_sroffp  hru_snow  ...  hortonian_flow    tminf  intcp_stor  \\\n",
       "0   0.0000      0.0000       0.0  ...          0.0000  49.7339      0.0000   \n",
       "1   0.1030      0.0000       0.0  ...          0.0000  51.5339      0.0038   \n",
       "2   0.2629      0.0001       0.0  ...          0.0001  51.1339      0.0038   \n",
       "3   0.0672      0.0000       0.0  ...          0.0000  45.0339      0.0038   \n",
       "4   0.0000      0.0000       0.0  ...          0.0000  42.9339      0.0000   \n",
       "\n",
       "   canopy_covden  net_rain  intcp_evap  hru_ppt  hru_sroffi  hru_rain  \\\n",
       "0         0.2308    0.0000      0.0000   0.0000         0.0    0.0000   \n",
       "1         0.2308    0.1030      0.0000   0.1039         0.0    0.1039   \n",
       "2         0.2308    0.2629      0.0000   0.2629         0.0    0.2629   \n",
       "3         0.2308    0.0672      0.0000   0.0672         0.0    0.0672   \n",
       "4         0.2308    0.0000      0.0038   0.0000         0.0    0.0000   \n",
       "\n",
       "   hru_impervevap  \n",
       "0             0.0  \n",
       "1             0.0  \n",
       "2             0.0  \n",
       "3             0.0  \n",
       "4             0.0  \n",
       "\n",
       "[5 rows x 21 columns]"
      ]
     },
     "execution_count": 15,
     "metadata": {},
     "output_type": "execute_result"
    }
   ],
   "source": [
    "synced_vals.head()"
   ]
  },
  {
   "cell_type": "code",
   "execution_count": 16,
   "metadata": {},
   "outputs": [
    {
     "data": {
      "text/html": [
       "<div>\n",
       "<style scoped>\n",
       "    .dataframe tbody tr th:only-of-type {\n",
       "        vertical-align: middle;\n",
       "    }\n",
       "\n",
       "    .dataframe tbody tr th {\n",
       "        vertical-align: top;\n",
       "    }\n",
       "\n",
       "    .dataframe thead th {\n",
       "        text-align: right;\n",
       "    }\n",
       "</style>\n",
       "<table border=\"1\" class=\"dataframe\">\n",
       "  <thead>\n",
       "    <tr style=\"text-align: right;\">\n",
       "      <th></th>\n",
       "      <th>tmin</th>\n",
       "      <th>date</th>\n",
       "      <th>tmax</th>\n",
       "      <th>prcp</th>\n",
       "      <th>soil_moist_tot</th>\n",
       "      <th>hru_impervstor</th>\n",
       "      <th>net_snow</th>\n",
       "      <th>net_ppt</th>\n",
       "      <th>hru_sroffp</th>\n",
       "      <th>hru_snow</th>\n",
       "      <th>...</th>\n",
       "      <th>hortonian_flow</th>\n",
       "      <th>tminf</th>\n",
       "      <th>intcp_stor</th>\n",
       "      <th>canopy_covden</th>\n",
       "      <th>net_rain</th>\n",
       "      <th>intcp_evap</th>\n",
       "      <th>hru_ppt</th>\n",
       "      <th>hru_sroffi</th>\n",
       "      <th>hru_rain</th>\n",
       "      <th>hru_impervevap</th>\n",
       "    </tr>\n",
       "  </thead>\n",
       "  <tbody>\n",
       "    <tr>\n",
       "      <th>14331</th>\n",
       "      <td>34.2</td>\n",
       "      <td>2019-12-27</td>\n",
       "      <td>50.6</td>\n",
       "      <td>0.00</td>\n",
       "      <td>2.0748</td>\n",
       "      <td>0.0</td>\n",
       "      <td>0.0</td>\n",
       "      <td>0.0000</td>\n",
       "      <td>0.0000</td>\n",
       "      <td>0.0</td>\n",
       "      <td>...</td>\n",
       "      <td>0.0000</td>\n",
       "      <td>34.6239</td>\n",
       "      <td>0.0000</td>\n",
       "      <td>0.2308</td>\n",
       "      <td>0.0000</td>\n",
       "      <td>0.0</td>\n",
       "      <td>0.0000</td>\n",
       "      <td>0.0</td>\n",
       "      <td>0.0000</td>\n",
       "      <td>0.0</td>\n",
       "    </tr>\n",
       "    <tr>\n",
       "      <th>14332</th>\n",
       "      <td>29.1</td>\n",
       "      <td>2019-12-28</td>\n",
       "      <td>48.3</td>\n",
       "      <td>0.00</td>\n",
       "      <td>2.0376</td>\n",
       "      <td>0.0</td>\n",
       "      <td>0.0</td>\n",
       "      <td>0.0000</td>\n",
       "      <td>0.0000</td>\n",
       "      <td>0.0</td>\n",
       "      <td>...</td>\n",
       "      <td>0.0000</td>\n",
       "      <td>29.5239</td>\n",
       "      <td>0.0000</td>\n",
       "      <td>0.2308</td>\n",
       "      <td>0.0000</td>\n",
       "      <td>0.0</td>\n",
       "      <td>0.0000</td>\n",
       "      <td>0.0</td>\n",
       "      <td>0.0000</td>\n",
       "      <td>0.0</td>\n",
       "    </tr>\n",
       "    <tr>\n",
       "      <th>14333</th>\n",
       "      <td>29.6</td>\n",
       "      <td>2019-12-29</td>\n",
       "      <td>41.8</td>\n",
       "      <td>0.76</td>\n",
       "      <td>2.4328</td>\n",
       "      <td>0.0</td>\n",
       "      <td>0.0</td>\n",
       "      <td>0.7713</td>\n",
       "      <td>0.2080</td>\n",
       "      <td>0.0</td>\n",
       "      <td>...</td>\n",
       "      <td>0.2080</td>\n",
       "      <td>30.0239</td>\n",
       "      <td>0.0038</td>\n",
       "      <td>0.2308</td>\n",
       "      <td>0.7713</td>\n",
       "      <td>0.0</td>\n",
       "      <td>0.7722</td>\n",
       "      <td>0.0</td>\n",
       "      <td>0.7722</td>\n",
       "      <td>0.0</td>\n",
       "    </tr>\n",
       "    <tr>\n",
       "      <th>14334</th>\n",
       "      <td>34.6</td>\n",
       "      <td>2019-12-30</td>\n",
       "      <td>39.6</td>\n",
       "      <td>0.82</td>\n",
       "      <td>2.5656</td>\n",
       "      <td>0.0</td>\n",
       "      <td>0.0</td>\n",
       "      <td>0.8332</td>\n",
       "      <td>0.3527</td>\n",
       "      <td>0.0</td>\n",
       "      <td>...</td>\n",
       "      <td>0.3527</td>\n",
       "      <td>35.0239</td>\n",
       "      <td>0.0038</td>\n",
       "      <td>0.2308</td>\n",
       "      <td>0.8332</td>\n",
       "      <td>0.0</td>\n",
       "      <td>0.8332</td>\n",
       "      <td>0.0</td>\n",
       "      <td>0.8332</td>\n",
       "      <td>0.0</td>\n",
       "    </tr>\n",
       "    <tr>\n",
       "      <th>14335</th>\n",
       "      <td>35.3</td>\n",
       "      <td>2019-12-31</td>\n",
       "      <td>43.8</td>\n",
       "      <td>0.11</td>\n",
       "      <td>2.4854</td>\n",
       "      <td>0.0</td>\n",
       "      <td>0.0</td>\n",
       "      <td>0.1118</td>\n",
       "      <td>0.0211</td>\n",
       "      <td>0.0</td>\n",
       "      <td>...</td>\n",
       "      <td>0.0211</td>\n",
       "      <td>35.7239</td>\n",
       "      <td>0.0038</td>\n",
       "      <td>0.2308</td>\n",
       "      <td>0.1118</td>\n",
       "      <td>0.0</td>\n",
       "      <td>0.1118</td>\n",
       "      <td>0.0</td>\n",
       "      <td>0.1118</td>\n",
       "      <td>0.0</td>\n",
       "    </tr>\n",
       "  </tbody>\n",
       "</table>\n",
       "<p>5 rows × 21 columns</p>\n",
       "</div>"
      ],
      "text/plain": [
       "       tmin        date  tmax  prcp  soil_moist_tot  hru_impervstor  net_snow  \\\n",
       "14331  34.2  2019-12-27  50.6  0.00          2.0748             0.0       0.0   \n",
       "14332  29.1  2019-12-28  48.3  0.00          2.0376             0.0       0.0   \n",
       "14333  29.6  2019-12-29  41.8  0.76          2.4328             0.0       0.0   \n",
       "14334  34.6  2019-12-30  39.6  0.82          2.5656             0.0       0.0   \n",
       "14335  35.3  2019-12-31  43.8  0.11          2.4854             0.0       0.0   \n",
       "\n",
       "       net_ppt  hru_sroffp  hru_snow  ...  hortonian_flow    tminf  \\\n",
       "14331   0.0000      0.0000       0.0  ...          0.0000  34.6239   \n",
       "14332   0.0000      0.0000       0.0  ...          0.0000  29.5239   \n",
       "14333   0.7713      0.2080       0.0  ...          0.2080  30.0239   \n",
       "14334   0.8332      0.3527       0.0  ...          0.3527  35.0239   \n",
       "14335   0.1118      0.0211       0.0  ...          0.0211  35.7239   \n",
       "\n",
       "       intcp_stor  canopy_covden  net_rain  intcp_evap  hru_ppt  hru_sroffi  \\\n",
       "14331      0.0000         0.2308    0.0000         0.0   0.0000         0.0   \n",
       "14332      0.0000         0.2308    0.0000         0.0   0.0000         0.0   \n",
       "14333      0.0038         0.2308    0.7713         0.0   0.7722         0.0   \n",
       "14334      0.0038         0.2308    0.8332         0.0   0.8332         0.0   \n",
       "14335      0.0038         0.2308    0.1118         0.0   0.1118         0.0   \n",
       "\n",
       "       hru_rain  hru_impervevap  \n",
       "14331    0.0000             0.0  \n",
       "14332    0.0000             0.0  \n",
       "14333    0.7722             0.0  \n",
       "14334    0.8332             0.0  \n",
       "14335    0.1118             0.0  \n",
       "\n",
       "[5 rows x 21 columns]"
      ]
     },
     "execution_count": 16,
     "metadata": {},
     "output_type": "execute_result"
    }
   ],
   "source": [
    "synced_vals.tail()"
   ]
  },
  {
   "cell_type": "code",
   "execution_count": null,
   "metadata": {},
   "outputs": [],
   "source": []
  },
  {
   "cell_type": "markdown",
   "metadata": {},
   "source": [
    "# Now that the inputs are read, the code below verifies model performance"
   ]
  },
  {
   "cell_type": "code",
   "execution_count": 17,
   "metadata": {},
   "outputs": [],
   "source": [
    "# can use the same \"dates\" array for all analysis\n",
    "dates = synced_vals[\"date\"].values"
   ]
  },
  {
   "cell_type": "code",
   "execution_count": 18,
   "metadata": {},
   "outputs": [],
   "source": [
    "tmax = synced_vals[\"tmax\"].values\n",
    "tmin = synced_vals[\"tmin\"].values\n",
    "prcp = synced_vals[\"prcp\"].values"
   ]
  },
  {
   "cell_type": "markdown",
   "metadata": {},
   "source": [
    "# Read the necessary values from the parameter file"
   ]
  },
  {
   "cell_type": "code",
   "execution_count": 19,
   "metadata": {},
   "outputs": [],
   "source": [
    "params = read_param_file(pfn)\n",
    "vals = params[1]\n",
    "\n",
    "tmax_allsnow = vals[\"tmax_allsnow\"]\n",
    "snow_cbh_adj = vals[\"snow_cbh_adj\"]\n",
    "rain_cbh_adj = vals[\"rain_cbh_adj\"]\n",
    "tmax_cbh_adj = vals[\"tmax_cbh_adj\"]\n",
    "tmin_cbh_adj = vals[\"tmin_cbh_adj\"]\n",
    "tmax_allrain_offset = vals[\"tmax_allrain_offset\"]\n",
    "tmax_allrain = tmax_allsnow + tmax_allrain_offset\n",
    "adjmix_rain = vals[\"adjmix_rain\"]"
   ]
  },
  {
   "cell_type": "code",
   "execution_count": 20,
   "metadata": {},
   "outputs": [
    {
     "name": "stdout",
     "output_type": "stream",
     "text": [
      "[[0.7412   ]\n",
      " [1.3062946]\n",
      " [1.29966  ]\n",
      " [1.       ]\n",
      " [0.8445461]\n",
      " [1.       ]\n",
      " [1.       ]\n",
      " [1.       ]\n",
      " [0.7092881]\n",
      " [0.7251823]\n",
      " [0.7410765]\n",
      " [0.7412   ]]\n"
     ]
    }
   ],
   "source": [
    "print(snow_cbh_adj)"
   ]
  },
  {
   "cell_type": "code",
   "execution_count": null,
   "metadata": {},
   "outputs": [],
   "source": []
  },
  {
   "cell_type": "code",
   "execution_count": 21,
   "metadata": {},
   "outputs": [
    {
     "name": "stdout",
     "output_type": "stream",
     "text": [
      "there are False negative values\n",
      "there are False equal values\n"
     ]
    }
   ],
   "source": [
    "# Dumb check, but simulation depends on this\n",
    "\n",
    "tiff = tmax - tmin\n",
    "print(\"there are\", np.sum(np.array(tiff)) < 0, \"negative values\")\n",
    "print(\"there are\", np.sum(np.array(tiff)) == 0, \"equal values\")"
   ]
  },
  {
   "cell_type": "code",
   "execution_count": null,
   "metadata": {},
   "outputs": [],
   "source": []
  },
  {
   "cell_type": "markdown",
   "metadata": {},
   "source": [
    "# Check the adjusted forcing temperature against tmaxf and tminf"
   ]
  },
  {
   "cell_type": "code",
   "execution_count": 22,
   "metadata": {},
   "outputs": [],
   "source": [
    "# Compute the adjusted HRU temperature\n",
    "\n",
    "tmax_hru = np.zeros(len(dates))\n",
    "tmin_hru = np.zeros(len(dates))\n",
    "\n",
    "ii = 0\n",
    "for date in dates:\n",
    "    jday = day_of_year(date)\n",
    "    imon = date.month - 1\n",
    "    tmax_hru[ii] = tmax[ii] + tmax_cbh_adj[imon]\n",
    "    tmin_hru[ii] = tmin[ii] + tmin_cbh_adj[imon]\n",
    "    ii += 1"
   ]
  },
  {
   "cell_type": "code",
   "execution_count": 23,
   "metadata": {},
   "outputs": [
    {
     "name": "stdout",
     "output_type": "stream",
     "text": [
      "868664.8405999996 868664.9429676953\n"
     ]
    }
   ],
   "source": [
    "err = synced_vals[\"tmaxf\"].values - tmax_hru\n",
    "print(sum(synced_vals[\"tmaxf\"].values), sum(tmax_hru))"
   ]
  },
  {
   "cell_type": "code",
   "execution_count": 24,
   "metadata": {},
   "outputs": [
    {
     "data": {
      "text/plain": [
       "(array([ 1826.,  3652.,  5479.,  7305.,  9131., 10957., 12784., 14610.,\n",
       "        16436., 18262., 20089.]),\n",
       " [Text(0, 0, ''),\n",
       "  Text(0, 0, ''),\n",
       "  Text(0, 0, ''),\n",
       "  Text(0, 0, ''),\n",
       "  Text(0, 0, ''),\n",
       "  Text(0, 0, ''),\n",
       "  Text(0, 0, ''),\n",
       "  Text(0, 0, ''),\n",
       "  Text(0, 0, ''),\n",
       "  Text(0, 0, ''),\n",
       "  Text(0, 0, '')])"
      ]
     },
     "execution_count": 24,
     "metadata": {},
     "output_type": "execute_result"
    },
    {
     "data": {
      "image/png": "[encoded data removed]",
      "text/plain": [
       "<Figure size 432x288 with 1 Axes>"
      ]
     },
     "metadata": {
      "needs_background": "light"
     },
     "output_type": "display_data"
    }
   ],
   "source": [
    "plt.plot(dates, err)\n",
    "plt.xticks(rotation=30, ha=\"right\")"
   ]
  },
  {
   "cell_type": "code",
   "execution_count": 25,
   "metadata": {},
   "outputs": [
    {
     "data": {
      "text/plain": [
       "<matplotlib.collections.PathCollection at 0x7f8d287b4250>"
      ]
     },
     "execution_count": 25,
     "metadata": {},
     "output_type": "execute_result"
    },
    {
     "data": {
      "image/png": "[encoded data removed]",
      "text/plain": [
       "<Figure size 432x288 with 1 Axes>"
      ]
     },
     "metadata": {
      "needs_background": "light"
     },
     "output_type": "display_data"
    }
   ],
   "source": [
    "plt.scatter(synced_vals[\"tmaxf\"].values, tmax_hru)"
   ]
  },
  {
   "cell_type": "code",
   "execution_count": 26,
   "metadata": {},
   "outputs": [
    {
     "name": "stdout",
     "output_type": "stream",
     "text": [
      "629135.4826999907 629135.3182070097\n"
     ]
    }
   ],
   "source": [
    "err = synced_vals[\"tminf\"].values - tmin_hru\n",
    "print(sum(synced_vals[\"tminf\"].values), sum(tmin_hru))"
   ]
  },
  {
   "cell_type": "code",
   "execution_count": 27,
   "metadata": {},
   "outputs": [
    {
     "data": {
      "text/plain": [
       "(array([ 1826.,  3652.,  5479.,  7305.,  9131., 10957., 12784., 14610.,\n",
       "        16436., 18262., 20089.]),\n",
       " [Text(0, 0, ''),\n",
       "  Text(0, 0, ''),\n",
       "  Text(0, 0, ''),\n",
       "  Text(0, 0, ''),\n",
       "  Text(0, 0, ''),\n",
       "  Text(0, 0, ''),\n",
       "  Text(0, 0, ''),\n",
       "  Text(0, 0, ''),\n",
       "  Text(0, 0, ''),\n",
       "  Text(0, 0, ''),\n",
       "  Text(0, 0, '')])"
      ]
     },
     "execution_count": 27,
     "metadata": {},
     "output_type": "execute_result"
    },
    {
     "data": {
      "image/png": "[encoded data removed]",
      "text/plain": [
       "<Figure size 432x288 with 1 Axes>"
      ]
     },
     "metadata": {
      "needs_background": "light"
     },
     "output_type": "display_data"
    }
   ],
   "source": [
    "plt.plot(dates, err)\n",
    "plt.xticks(rotation=30, ha=\"right\")"
   ]
  },
  {
   "cell_type": "code",
   "execution_count": 28,
   "metadata": {},
   "outputs": [
    {
     "data": {
      "text/plain": [
       "<matplotlib.collections.PathCollection at 0x7f8d28547c70>"
      ]
     },
     "execution_count": 28,
     "metadata": {},
     "output_type": "execute_result"
    },
    {
     "data": {
      "image/png": "[encoded data removed]",
      "text/plain": [
       "<Figure size 432x288 with 1 Axes>"
      ]
     },
     "metadata": {
      "needs_background": "light"
     },
     "output_type": "display_data"
    }
   ],
   "source": [
    "plt.scatter(synced_vals[\"tminf\"].values, tmin_hru)"
   ]
  },
  {
   "cell_type": "markdown",
   "metadata": {},
   "source": [
    "# compute the precip form and the adjusted precip"
   ]
  },
  {
   "cell_type": "code",
   "execution_count": 29,
   "metadata": {},
   "outputs": [],
   "source": [
    "hru_ppt = np.zeros(len(dates))\n",
    "hru_snow = np.zeros(len(dates))\n",
    "hru_rain = np.zeros(len(dates))\n",
    "\n",
    "# Be sure and use the ajdusted HRU temperatures\n",
    "# This version of adjusted temperatures are read as output from PRMS\n",
    "# tmaxf = synced_vals[\"tmaxf\"].values\n",
    "# tminf = synced_vals[\"tminf\"].values\n",
    "\n",
    "# This version of adjusted temperatures are computed by python above\n",
    "tmaxf = tmax_hru\n",
    "tminf = tmin_hru\n",
    "\n",
    "ii = 0\n",
    "for date in dates:\n",
    "    jday = day_of_year(date)\n",
    "    imon = date.month - 1\n",
    "\n",
    "    if tmaxf[ii] <= tmax_allsnow[imon]:\n",
    "        hru_ppt[ii] = prcp[ii] * snow_cbh_adj[imon]\n",
    "        hru_snow[ii] = hru_ppt[ii]\n",
    "        prmx = 0.0\n",
    "\n",
    "    elif (tminf[ii] > tmax_allsnow[imon]) or (tmaxf[ii] >= tmax_allrain[imon]):\n",
    "        hru_ppt[ii] = prcp[ii] * rain_cbh_adj[imon]\n",
    "        hru_rain[ii] = hru_ppt[ii]\n",
    "        prmx = 1.0\n",
    "\n",
    "    else:\n",
    "        tdiff = tmaxf[ii] - tminf[ii]\n",
    "        prmx = (\n",
    "            (tmaxf[ii] - tmax_allsnow[imon]) / (tmaxf[ii] - tminf[ii])\n",
    "        ) * adjmix_rain[imon]\n",
    "\n",
    "        if prmx < 1.0:\n",
    "            hru_ppt[ii] = prcp[ii] * snow_cbh_adj[imon]\n",
    "            hru_rain[ii] = prmx * hru_ppt[ii]\n",
    "            hru_snow[ii] = hru_ppt[ii] - hru_rain[ii]\n",
    "        else:\n",
    "            hru_ppt[ii] = prcp[ii] * rain_cbh_adj[imon]\n",
    "            hru_rain[ii] = hru_ppt[ii]\n",
    "    ii += 1"
   ]
  },
  {
   "cell_type": "code",
   "execution_count": 30,
   "metadata": {},
   "outputs": [
    {
     "name": "stdout",
     "output_type": "stream",
     "text": [
      "2019.1698999999828 2019.1734365229845\n"
     ]
    }
   ],
   "source": [
    "err = synced_vals[\"hru_ppt\"].values - hru_ppt\n",
    "print(sum(synced_vals[\"hru_ppt\"].values), sum(hru_ppt))"
   ]
  },
  {
   "cell_type": "code",
   "execution_count": 31,
   "metadata": {},
   "outputs": [
    {
     "data": {
      "text/plain": [
       "(array([ 1826.,  3652.,  5479.,  7305.,  9131., 10957., 12784., 14610.,\n",
       "        16436., 18262., 20089.]),\n",
       " [Text(0, 0, ''),\n",
       "  Text(0, 0, ''),\n",
       "  Text(0, 0, ''),\n",
       "  Text(0, 0, ''),\n",
       "  Text(0, 0, ''),\n",
       "  Text(0, 0, ''),\n",
       "  Text(0, 0, ''),\n",
       "  Text(0, 0, ''),\n",
       "  Text(0, 0, ''),\n",
       "  Text(0, 0, ''),\n",
       "  Text(0, 0, '')])"
      ]
     },
     "execution_count": 31,
     "metadata": {},
     "output_type": "execute_result"
    },
    {
     "data": {
      "image/png": "[encoded data removed]",
      "text/plain": [
       "<Figure size 432x288 with 1 Axes>"
      ]
     },
     "metadata": {
      "needs_background": "light"
     },
     "output_type": "display_data"
    }
   ],
   "source": [
    "plt.plot(dates, err)\n",
    "plt.xticks(rotation=30, ha=\"right\")"
   ]
  },
  {
   "cell_type": "code",
   "execution_count": 32,
   "metadata": {},
   "outputs": [
    {
     "data": {
      "text/plain": [
       "<matplotlib.collections.PathCollection at 0x7f8d28a47250>"
      ]
     },
     "execution_count": 32,
     "metadata": {},
     "output_type": "execute_result"
    },
    {
     "data": {
      "image/png": "[encoded data removed]",
      "text/plain": [
       "<Figure size 432x288 with 1 Axes>"
      ]
     },
     "metadata": {
      "needs_background": "light"
     },
     "output_type": "display_data"
    }
   ],
   "source": [
    "plt.scatter(synced_vals[\"hru_ppt\"].values, hru_ppt)"
   ]
  },
  {
   "cell_type": "code",
   "execution_count": 33,
   "metadata": {},
   "outputs": [],
   "source": [
    "err = synced_vals[\"hru_rain\"].values - hru_rain"
   ]
  },
  {
   "cell_type": "code",
   "execution_count": 34,
   "metadata": {},
   "outputs": [
    {
     "data": {
      "text/plain": [
       "(array([ 1826.,  3652.,  5479.,  7305.,  9131., 10957., 12784., 14610.,\n",
       "        16436., 18262., 20089.]),\n",
       " [Text(0, 0, ''),\n",
       "  Text(0, 0, ''),\n",
       "  Text(0, 0, ''),\n",
       "  Text(0, 0, ''),\n",
       "  Text(0, 0, ''),\n",
       "  Text(0, 0, ''),\n",
       "  Text(0, 0, ''),\n",
       "  Text(0, 0, ''),\n",
       "  Text(0, 0, ''),\n",
       "  Text(0, 0, ''),\n",
       "  Text(0, 0, '')])"
      ]
     },
     "execution_count": 34,
     "metadata": {},
     "output_type": "execute_result"
    },
    {
     "data": {
      "image/png": "[encoded data removed]",
      "text/plain": [
       "<Figure size 432x288 with 1 Axes>"
      ]
     },
     "metadata": {
      "needs_background": "light"
     },
     "output_type": "display_data"
    }
   ],
   "source": [
    "plt.plot(dates, err)\n",
    "plt.xticks(rotation=30, ha=\"right\")"
   ]
  },
  {
   "cell_type": "code",
   "execution_count": 35,
   "metadata": {},
   "outputs": [
    {
     "data": {
      "text/plain": [
       "<matplotlib.collections.PathCollection at 0x7f8d29334160>"
      ]
     },
     "execution_count": 35,
     "metadata": {},
     "output_type": "execute_result"
    },
    {
     "data": {
      "image/png": "[encoded data removed]",
      "text/plain": [
       "<Figure size 432x288 with 1 Axes>"
      ]
     },
     "metadata": {
      "needs_background": "light"
     },
     "output_type": "display_data"
    }
   ],
   "source": [
    "plt.scatter(synced_vals[\"hru_rain\"].values, hru_rain)"
   ]
  },
  {
   "cell_type": "code",
   "execution_count": 36,
   "metadata": {},
   "outputs": [],
   "source": [
    "err = synced_vals[\"hru_snow\"].values - hru_snow"
   ]
  },
  {
   "cell_type": "code",
   "execution_count": 37,
   "metadata": {},
   "outputs": [
    {
     "data": {
      "text/plain": [
       "(array([ 1826.,  3652.,  5479.,  7305.,  9131., 10957., 12784., 14610.,\n",
       "        16436., 18262., 20089.]),\n",
       " [Text(0, 0, ''),\n",
       "  Text(0, 0, ''),\n",
       "  Text(0, 0, ''),\n",
       "  Text(0, 0, ''),\n",
       "  Text(0, 0, ''),\n",
       "  Text(0, 0, ''),\n",
       "  Text(0, 0, ''),\n",
       "  Text(0, 0, ''),\n",
       "  Text(0, 0, ''),\n",
       "  Text(0, 0, ''),\n",
       "  Text(0, 0, '')])"
      ]
     },
     "execution_count": 37,
     "metadata": {},
     "output_type": "execute_result"
    },
    {
     "data": {
      "image/png": "[encoded data removed]",
      "text/plain": [
       "<Figure size 432x288 with 1 Axes>"
      ]
     },
     "metadata": {
      "needs_background": "light"
     },
     "output_type": "display_data"
    }
   ],
   "source": [
    "plt.plot(dates, err)\n",
    "plt.xticks(rotation=30, ha=\"right\")"
   ]
  },
  {
   "cell_type": "code",
   "execution_count": 38,
   "metadata": {},
   "outputs": [
    {
     "data": {
      "text/plain": [
       "<matplotlib.collections.PathCollection at 0x7f8d2c1b0580>"
      ]
     },
     "execution_count": 38,
     "metadata": {},
     "output_type": "execute_result"
    },
    {
     "data": {
      "image/png": "[encoded data removed]",
      "text/plain": [
       "<Figure size 432x288 with 1 Axes>"
      ]
     },
     "metadata": {
      "needs_background": "light"
     },
     "output_type": "display_data"
    }
   ],
   "source": [
    "plt.scatter(synced_vals[\"hru_snow\"].values, hru_snow)"
   ]
  },
  {
   "cell_type": "code",
   "execution_count": null,
   "metadata": {},
   "outputs": [],
   "source": []
  }
 ],
 "metadata": {
  "kernelspec": {
   "display_name": "Python 3 (ipykernel)",
   "language": "python",
   "name": "python3"
  },
  "language_info": {
   "codemirror_mode": {
    "name": "ipython",
    "version": 3
   },
   "file_extension": ".py",
   "mimetype": "text/x-python",
   "name": "python",
   "nbconvert_exporter": "python",
   "pygments_lexer": "ipython3",
   "version": "3.9.7"
  }
 },
 "nbformat": 4,
 "nbformat_minor": 4
}
