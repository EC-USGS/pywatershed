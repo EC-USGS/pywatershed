{
 "cells": [
  {
   "cell_type": "markdown",
   "id": "2d33f0d3-b07c-4fcb-8fd8-1d23014ec3cb",
   "metadata": {},
   "source": [
    "# Compare pywatershed and PRMS\n",
    "\n",
    "This notebook compares pywatershed (PWS) and PRMS outputs. As part of release of v1.0 this notebook is meant to give users insight on how wimilar results from pywatershed and PRMS are. They are identical or very close in the vast majority of cases. This notebook makes it easy to find when they are not by providing statistics at individual HRUs and timeseries for all HRUs.\n",
    "\n",
    "Note that this notebook requires an editable install of pywatershed (`pip install -e` in the pywatershed repository root) for the requisite data. PRMS/NHM domains which may be used are in the `test_data/` directory of pywatershed (`hru_1`, `drb_2yr`, and `ucb_2yr`) but any other domain may be used. \n",
    "\n",
    "## Notes on setting up other domains\n",
    "You may want to supply your own domain and see how pywatershed works on it. Here are notes on doing so. Domains must supply the correct, required files in `test_data/your_domain` which are given in this listing:\n",
    "\n",
    "```\n",
    "control.test  prcp.cbh      sf_data       tmax.nc       tmin.nc\n",
    "myparam.param prcp.nc       tmax.cbh      tmin.cbh\n",
    "```\n",
    "\n",
    "The `*.cbh` files must be pre-converted to netcdf for `prcp`, `tmin`, and `tmax` and how to do this can be found near the top of notebook 02. The `control.test` and `myparam.param` files are used by both PRMS and PWS. The `control.test` files in the repo are specific for being able to run sub-models and include a nearly maximal amount of model output (time-inefficient for both PRMS and PWS). The stock control files can be found in `test_data/common` there is a file for single-hru domains and multi-hru domains and these are identical (as appropriate) for the domains included in the repository. For running a large domain, for example, it is desirable to reduce the total amount of output (but this may not allow for PWS sub-models to be run as PRMS dosent necessarily supply all the required fields). So you may modify the `control.test` file but take careful note of what options are available in pywatershed as currently only NHM configuration is available.\n",
    "\n",
    "The runs of PRMS use double precision binaries produced by the `prms_src/prms5.2.1` source code in the pywatershed repository. The procedure used below is exactly as done in CI for running regression tests against PRMS.\n",
    "\n",
    "All of the code required for plotting below is included so that it can be further tailored to your tastes.\n",
    "\n",
    "## Imports, etc"
   ]
  },
  {
   "cell_type": "code",
   "execution_count": null,
   "id": "7275fe95-8e0b-45f9-837c-ad6f7d38ced7",
   "metadata": {
    "editable": true,
    "slideshow": {
     "slide_type": ""
    }
   },
   "outputs": [],
   "source": [
    "# auto-format the code in this notebook\n",
    "%load_ext jupyter_black"
   ]
  },
  {
   "cell_type": "code",
   "execution_count": null,
   "id": "816e410d-c806-4467-8d56-e6add8c7f516",
   "metadata": {
    "editable": true,
    "slideshow": {
     "slide_type": ""
    }
   },
   "outputs": [],
   "source": [
    "import pathlib as pl\n",
    "from platform import processor\n",
    "from pprint import pprint\n",
    "from shutil import rmtree\n",
    "import subprocess\n",
    "from sys import platform\n",
    "import warnings\n",
    "\n",
    "import hvplot.pandas  # noqa\n",
    "import hvplot.xarray  # noqa\n",
    "import numpy as np\n",
    "import pandas as pd\n",
    "import pywatershed as pws\n",
    "import xarray as xr\n",
    "\n",
    "repo_root = pws.constants.__pywatershed_root__.parent\n",
    "nb_output_dir = pl.Path(\"./03_compare_pws_prms\")"
   ]
  },
  {
   "cell_type": "markdown",
   "id": "06ff55cb-6298-4bbc-b654-46568db7f1fa",
   "metadata": {},
   "source": [
    "## Configuration\n",
    "\n",
    "Specify what you want!"
   ]
  },
  {
   "cell_type": "code",
   "execution_count": null,
   "id": "4950eb10-25c0-403c-80ef-857cd003bc5c",
   "metadata": {},
   "outputs": [],
   "source": [
    "domain_name: str = \"drb_2yr\"  # must be present in test_data/domain_name\n",
    "calc_method: str = \"numba\"\n",
    "budget_type: str = None\n",
    "\n",
    "run_prms: bool = True  ## always forced/overwrite\n",
    "\n",
    "run_pws: bool = True  # run if the output does not exist on disk\n",
    "force_pws_run: bool = True  # if it exists on disk, re-run it and overwrite?"
   ]
  },
  {
   "cell_type": "markdown",
   "id": "7fb91db9-3933-420a-a25c-166f3aa85981",
   "metadata": {},
   "source": [
    "## Run PRMS"
   ]
  },
  {
   "cell_type": "code",
   "execution_count": null,
   "id": "007b24ce-c8fe-4409-9880-13746acf113b",
   "metadata": {},
   "outputs": [],
   "source": [
    "domain_dir = repo_root / f\"test_data/{domain_name}\""
   ]
  },
  {
   "cell_type": "code",
   "execution_count": null,
   "id": "7d873087-b3aa-42c6-b16f-7ee8d213e849",
   "metadata": {},
   "outputs": [],
   "source": [
    "# use pytest to run the domains as in CI\n",
    "if run_prms:\n",
    "    print(f\"PRMS running domain in {repo_root / f'test_data' / domain_name}\")\n",
    "    subprocess.run(\n",
    "        f\"pytest -s -n=2 run_prms_domains.py --domain={domain_name} -vv --force\",\n",
    "        shell=True,\n",
    "        cwd=repo_root / \"test_data/generate\",\n",
    "    )"
   ]
  },
  {
   "cell_type": "code",
   "execution_count": null,
   "id": "256e81e0-ab88-408f-bf59-85531d5377a2",
   "metadata": {},
   "outputs": [],
   "source": [
    "# Convert PRMS output to netcdf as in CI\n",
    "if run_prms:\n",
    "    if \"conus\" in domain_name:\n",
    "        nproc = 2  # memory bound for CONUS\n",
    "        conv_only = \"::make_netcdf_files\"\n",
    "    else:\n",
    "        nproc = 8  # processor bound otherwise\n",
    "        conv_only = \"\"\n",
    "\n",
    "    subprocess.run(\n",
    "        f\"pytest -n={nproc} convert_prms_output_to_nc.py{conv_only} --domain={domain_name} --force\",\n",
    "        shell=True,\n",
    "        cwd=repo_root / \"test_data/generate\",\n",
    "    )"
   ]
  },
  {
   "cell_type": "markdown",
   "id": "120e0be5-f30b-4152-9a40-2f7bfa775e79",
   "metadata": {},
   "source": [
    "## Run pywatershed"
   ]
  },
  {
   "cell_type": "code",
   "execution_count": null,
   "id": "529247fe-7f0b-4783-90a4-a4ddf55c1489",
   "metadata": {},
   "outputs": [],
   "source": [
    "if run_pws:\n",
    "    nhm_processes = [\n",
    "        pws.PRMSSolarGeometry,  # submodles are possible\n",
    "        pws.PRMSAtmosphere,\n",
    "        pws.PRMSCanopy,\n",
    "        pws.PRMSSnow,\n",
    "        pws.PRMSRunoff,\n",
    "        pws.PRMSSoilzone,\n",
    "        pws.PRMSGroundwater,\n",
    "        pws.PRMSChannel,\n",
    "    ]\n",
    "\n",
    "    if len(nhm_processes) == 8:\n",
    "        input_dir = domain_dir\n",
    "        run_dir = nb_output_dir / f\"{domain_name}_full_nhm\"\n",
    "    else:\n",
    "        input_dir = domain_dir / \"output\"\n",
    "        run_dir = nb_output_dir / f\"{domain_name}_subset_nhm\"\n",
    "\n",
    "    control = pws.Control.load(domain_dir / \"control.test\")\n",
    "    params = pws.parameters.PrmsParameters.load(domain_dir / \"myparam.param\")\n",
    "\n",
    "    if run_dir.exists():\n",
    "        if force_pws_run:\n",
    "            rmtree(run_dir)\n",
    "        else:\n",
    "            raise RuntimeError(\"run directory exists\")\n",
    "\n",
    "    print(f\"PWS writing output to {run_dir}\")\n",
    "\n",
    "    control.options = control.options | {\n",
    "        \"input_dir\": input_dir,\n",
    "        \"budget_type\": budget_type,\n",
    "        \"calc_method\": calc_method,\n",
    "        \"netcdf_output_dir\": run_dir,\n",
    "    }\n",
    "\n",
    "    nhm = pws.Model(\n",
    "        nhm_processes,\n",
    "        control=control,\n",
    "        parameters=params,\n",
    "    )\n",
    "    nhm.run(finalize=True)"
   ]
  },
  {
   "cell_type": "markdown",
   "id": "aa221ffe-eb0a-4332-94fd-9826710adc74",
   "metadata": {},
   "source": [
    "## Compare outputs"
   ]
  },
  {
   "cell_type": "code",
   "execution_count": null,
   "id": "97cc606f-4d69-439f-84cb-00b78ae13605",
   "metadata": {},
   "outputs": [],
   "source": [
    "def compare_var_timeseries(var_name, rmse_min=None):\n",
    "    \"\"\"Plots compare timeseries a PWS and PRMS variable for all locations in domain (scrollable).\n",
    "\n",
    "    Args:\n",
    "        var_name: string name of variable\n",
    "        rmse_min: only plot locations which exceed this minimum rmse between PRMS and PWS.\n",
    "\n",
    "    \"\"\"\n",
    "    from textwrap import fill\n",
    "\n",
    "    var_meta = pws.meta.find_variables(var_name)[var_name]\n",
    "    ylabel = f\"{fill(var_meta['desc'], 40)}\\n({var_meta['units']})\"\n",
    "\n",
    "    prms_file = domain_dir / f\"output/{var_name}.nc\"\n",
    "    if not prms_file.exists():\n",
    "        return None\n",
    "    prms_var = xr.open_dataarray(prms_file)\n",
    "    pws_var = xr.open_dataarray(run_dir / f\"{var_name}.nc\")\n",
    "\n",
    "    if rmse_min is not None:\n",
    "        if \"time\" in prms_var.dims:\n",
    "            time_dim = \"time\"\n",
    "        else:\n",
    "            time_dim = \"doy\"\n",
    "\n",
    "        rmse = np.sqrt((pws_var - prms_var).mean(dim=time_dim) ** 2)\n",
    "        mask_ge_min = rmse >= rmse_min\n",
    "        n_mask = len(np.where(mask_ge_min)[0])\n",
    "        print(f\"There are {n_mask} locations with RMSE > {rmse_min}\")\n",
    "        if n_mask == 0:\n",
    "            return None\n",
    "        prms_var = prms_var.where(mask_ge_min, drop=True)\n",
    "        pws_var = pws_var.where(mask_ge_min, drop=True)\n",
    "\n",
    "    comp_ds = xr.merge(\n",
    "        [\n",
    "            prms_var.rename(\"prms\"),\n",
    "            pws_var.rename(\"pws\"),\n",
    "        ]\n",
    "    )\n",
    "    var_meta = pws.meta.find_variables(var_name)[var_name]\n",
    "    space_coord = list(comp_ds.coords)\n",
    "    for t_coord in [\"doy\", \"time\"]:\n",
    "        if t_coord in space_coord:\n",
    "            space_coord.remove(t_coord)\n",
    "\n",
    "    display(\n",
    "        comp_ds.hvplot(\n",
    "            frame_width=800,\n",
    "            frame_height=500,\n",
    "            groupby=space_coord,\n",
    "            # title=title,\n",
    "            ylabel=ylabel,\n",
    "            group_label=\"Model\",\n",
    "        )\n",
    "    )"
   ]
  },
  {
   "cell_type": "code",
   "execution_count": null,
   "id": "0958ac67-a965-4990-8aba-41731846e3bf",
   "metadata": {},
   "outputs": [],
   "source": [
    "def calc_stat_location(var_name, stat_name):\n",
    "    \"\"\"Calculate a statistic location-wise (over time).\n",
    "\n",
    "    Args:\n",
    "        var_name: str for the variable of interest\n",
    "        stat_name: one of [\"rmse\", \"rrmse\"]\n",
    "    \"\"\"\n",
    "    prms_file = domain_dir / f\"output/{var_name}.nc\"\n",
    "    if not prms_file.exists():\n",
    "        print(f\"PRMS file '{prms_file}' DNE, skipping.\")\n",
    "        return None\n",
    "    prms = xr.open_dataarray(prms_file, decode_timedelta=False)\n",
    "    pws_file = run_dir / f\"{var_name}.nc\"\n",
    "    assert pws_file.exists()\n",
    "    nhm_after = xr.open_dataarray(pws_file, decode_timedelta=False)\n",
    "    if \"time\" in prms.dims:\n",
    "        time_dim = \"time\"\n",
    "    else:\n",
    "        time_dim = \"doy\"\n",
    "    if stat_name.lower() == \"rmse\":\n",
    "        stat = np.sqrt((nhm_after - prms).mean(dim=time_dim) ** 2)\n",
    "    elif stat_name.lower() == \"rrmse\":\n",
    "        stat = np.sqrt(((nhm_after - prms) / prms).mean(dim=time_dim) ** 2)\n",
    "    return stat.to_dataframe().melt(ignore_index=False)\n",
    "\n",
    "\n",
    "def box_jitter_plot(\n",
    "    df, subplot_width: int = 400, stat_name: str = \"Statistic\"\n",
    "):\n",
    "    \"\"\"Box/violin-plot of a dataframe.\n",
    "\n",
    "    Args:\n",
    "        df: a pd.Dataframe\n",
    "        subplot_width: int for how wide the subplots should be\n",
    "        stat_name: str of the statisitc name\n",
    "    \"\"\"\n",
    "    from textwrap import fill\n",
    "\n",
    "    var_name = df.variable.iloc[0]\n",
    "    var_meta = pws.meta.find_variables(var_name)[var_name]\n",
    "    ylabel = (\n",
    "        f\"{stat_name} of\\n{fill(var_meta['desc'], 40)}\\n({var_meta['units']})\"\n",
    "    )\n",
    "    coord = df.index.name\n",
    "\n",
    "    box = df.hvplot.violin(y=\"value\", by=\"variable\", legend=False)\n",
    "    jitter = df.hvplot.scatter(\n",
    "        y=\"value\",\n",
    "        x=\"variable\",\n",
    "        hover_cols=[coord],\n",
    "    )\n",
    "    return (box * jitter).opts(\n",
    "        width=subplot_width,\n",
    "        # xlabel=f\"over {coord}s\",\n",
    "        xlabel=\"\",\n",
    "        ylabel=ylabel,\n",
    "    )\n",
    "\n",
    "\n",
    "def plot_proc_stats(\n",
    "    proc, stat_name: str = \"RMSE\", ncols: int = 5, subplot_width: int = 300\n",
    "):\n",
    "    \"\"\"Plot pywatershed process stats.\n",
    "\n",
    "    For a process (e.g. pws.PRMSRunoff), make box/violin plots of its stats for each of its (available) variables\n",
    "\n",
    "    Args:\n",
    "        proc: a pws.Process subclass\n",
    "        stat_name: string of the statistic desired to be passed to box_jitter_plot\n",
    "        ncols: int number of columns in the plot\n",
    "        subplot_widt: int width of the subplots\n",
    "\n",
    "    \"\"\"\n",
    "    var_stats = []\n",
    "    for var_name in proc.get_variables():\n",
    "        var_stats += [calc_stat_location(var_name, stat_name)]\n",
    "\n",
    "    var_plots = [\n",
    "        box_jitter_plot(vv, subplot_width=subplot_width, stat_name=stat_name)\n",
    "        for vv in var_stats\n",
    "        if vv is not None\n",
    "    ]\n",
    "    if len(var_plots) == 0:\n",
    "        return None\n",
    "\n",
    "    plot = var_plots[0]\n",
    "    for vv in var_plots[1:]:\n",
    "        plot += vv\n",
    "\n",
    "    plot = plot.opts(shared_axes=False)\n",
    "    if len(var_plots) > 1:\n",
    "        plot = plot.cols(ncols)\n",
    "\n",
    "    with warnings.catch_warnings():\n",
    "        warnings.simplefilter(\"ignore\")\n",
    "        display(plot)"
   ]
  },
  {
   "cell_type": "code",
   "execution_count": null,
   "id": "acadd2d2-3652-4443-8860-fa2cea2103db",
   "metadata": {},
   "outputs": [],
   "source": [
    "if pws.PRMSSolarGeometry in nhm_processes:\n",
    "    plot_proc_stats(pws.PRMSSolarGeometry, \"RMSE\", 5)"
   ]
  },
  {
   "cell_type": "code",
   "execution_count": null,
   "id": "858a8820-f086-4c9d-827b-159137aeedb6",
   "metadata": {},
   "outputs": [],
   "source": [
    "if pws.PRMSSolarGeometry in nhm_processes:\n",
    "    compare_var_timeseries(\"soltab_potsw\")"
   ]
  },
  {
   "cell_type": "code",
   "execution_count": null,
   "id": "96057162-c53c-4124-9e6f-4ea41ead03a3",
   "metadata": {},
   "outputs": [],
   "source": [
    "if pws.PRMSAtmosphere in nhm_processes:\n",
    "    plot_proc_stats(pws.PRMSAtmosphere, \"RMSE\", 4)"
   ]
  },
  {
   "cell_type": "code",
   "execution_count": null,
   "id": "88f6d07e-0c2c-4038-88e2-43bf3525fc94",
   "metadata": {},
   "outputs": [],
   "source": [
    "if pws.PRMSAtmosphere in nhm_processes:\n",
    "    compare_var_timeseries(\"tmaxf\")"
   ]
  },
  {
   "cell_type": "code",
   "execution_count": null,
   "id": "0e78b252-0e0a-49a9-bc15-d3acde820606",
   "metadata": {},
   "outputs": [],
   "source": [
    "if pws.PRMSCanopy in nhm_processes:\n",
    "    plot_proc_stats(pws.PRMSCanopy, \"RMSE\", 4)"
   ]
  },
  {
   "cell_type": "code",
   "execution_count": null,
   "id": "3066a8a2-d122-4100-bb33-2f672afa3dc1",
   "metadata": {},
   "outputs": [],
   "source": [
    "if pws.PRMSCanopy in nhm_processes:\n",
    "    compare_var_timeseries(\"intcp_stor\")"
   ]
  },
  {
   "cell_type": "code",
   "execution_count": null,
   "id": "d7d47572-1688-48f4-a916-17f63038a2fc",
   "metadata": {},
   "outputs": [],
   "source": [
    "if pws.PRMSSnow in nhm_processes:\n",
    "    plot_proc_stats(pws.PRMSSnow, \"RMSE\", 4)"
   ]
  },
  {
   "cell_type": "code",
   "execution_count": null,
   "id": "11a12175-0e7f-480d-a647-d58aff2494fc",
   "metadata": {},
   "outputs": [],
   "source": [
    "if pws.PRMSSnow in nhm_processes:\n",
    "    compare_var_timeseries(\"pkwater_equiv\")"
   ]
  },
  {
   "cell_type": "code",
   "execution_count": null,
   "id": "d3e1f0c3-2ed9-4a05-813a-4586fc8e3bd1",
   "metadata": {},
   "outputs": [],
   "source": [
    "if pws.PRMSRunoff in nhm_processes:\n",
    "    plot_proc_stats(pws.PRMSRunoff, \"RMSE\", 4)"
   ]
  },
  {
   "cell_type": "code",
   "execution_count": null,
   "id": "1f49fce8-112b-4dcc-8f67-26eaec71ca35",
   "metadata": {},
   "outputs": [],
   "source": [
    "if pws.PRMSRunoff in nhm_processes:\n",
    "    compare_var_timeseries(\"contrib_fraction\")"
   ]
  },
  {
   "cell_type": "code",
   "execution_count": null,
   "id": "50de17cc-bdee-4d34-bf16-7289d0425bfa",
   "metadata": {},
   "outputs": [],
   "source": [
    "if pws.PRMSSoilzone in nhm_processes:\n",
    "    plot_proc_stats(pws.PRMSSoilzone, \"RMSE\", 4)"
   ]
  },
  {
   "cell_type": "code",
   "execution_count": null,
   "id": "d3248cbf-e4aa-44a2-9259-68b3b1faea67",
   "metadata": {},
   "outputs": [],
   "source": [
    "if pws.PRMSSoilzone in nhm_processes:\n",
    "    compare_var_timeseries(\"soil_rechr\")"
   ]
  },
  {
   "cell_type": "code",
   "execution_count": null,
   "id": "2c72ef1f-984a-48bd-b417-fb9754c09a50",
   "metadata": {},
   "outputs": [],
   "source": [
    "if pws.PRMSGroundwater in nhm_processes:\n",
    "    plot_proc_stats(pws.PRMSGroundwater, \"RMSE\", 4)"
   ]
  },
  {
   "cell_type": "code",
   "execution_count": null,
   "id": "0569deac-c07f-453d-9f61-588edc7ad355",
   "metadata": {},
   "outputs": [],
   "source": [
    "if pws.PRMSGroundwater in nhm_processes:\n",
    "    compare_var_timeseries(\"gwres_flow_vol\")"
   ]
  },
  {
   "cell_type": "code",
   "execution_count": null,
   "id": "59b4b8e5-f944-496f-9f85-800677159272",
   "metadata": {},
   "outputs": [],
   "source": [
    "if pws.PRMSChannel in nhm_processes:\n",
    "    plot_proc_stats(pws.PRMSChannel, \"RMSE\", 4)"
   ]
  },
  {
   "cell_type": "code",
   "execution_count": null,
   "id": "8a230917-77ea-487f-9919-86c05ebcb964",
   "metadata": {},
   "outputs": [],
   "source": [
    "if pws.PRMSChannel in nhm_processes:\n",
    "    compare_var_timeseries(\"seg_outflow\")  # , rmse_min=0.01)"
   ]
  },
  {
   "cell_type": "code",
   "execution_count": null,
   "id": "c9b6a847-e7e8-412c-adea-fd63a516279b",
   "metadata": {},
   "outputs": [],
   "source": []
  },
  {
   "cell_type": "code",
   "execution_count": null,
   "id": "1d152230-b6cc-434a-9331-90799083dab7",
   "metadata": {},
   "outputs": [],
   "source": []
  }
 ],
 "metadata": {
  "language_info": {
   "codemirror_mode": {
    "name": "ipython"
   },
   "file_extension": ".py",
   "mimetype": "text/x-python",
   "name": "python",
   "nbconvert_exporter": "python"
  }
 },
 "nbformat": 4,
 "nbformat_minor": 5
}
