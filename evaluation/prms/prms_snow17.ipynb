{
 "cells": [
  {
   "cell_type": "code",
   "execution_count": null,
   "id": "cb02d0fb-4008-4f1b-a9f8-c8bf3ecce7b3",
   "metadata": {},
   "outputs": [],
   "source": [
    "%load_ext jupyter_black"
   ]
  },
  {
   "cell_type": "code",
   "execution_count": null,
   "id": "b983f5a1-920e-467a-af57-6c3abf7ce7c0",
   "metadata": {},
   "outputs": [],
   "source": [
    "import pathlib as pl\n",
    "\n",
    "import hvplot.xarray  # noqa\n",
    "import pywatershed as pws\n",
    "import xarray as xr\n",
    "\n",
    "repo_root = pws.constants.__pywatershed_root__.parent"
   ]
  },
  {
   "cell_type": "code",
   "execution_count": null,
   "id": "a8b87f40-c4ca-4eed-b5e1-e906acf6c0c7",
   "metadata": {},
   "outputs": [],
   "source": [
    "domain_name = \"drb_2yr\"\n",
    "domain_dir = repo_root / f\"test_data/{domain_name}\"\n",
    "input_dir = domain_dir / \"output\"\n",
    "output_dir = pl.Path(\"./prms_snow17\")\n",
    "output_dir.mkdir(exist_ok=True)"
   ]
  },
  {
   "cell_type": "markdown",
   "id": "8e82c9dc-de53-4d3b-a38f-d0e0d2a77b2a",
   "metadata": {},
   "source": [
    "## control and parameters"
   ]
  },
  {
   "cell_type": "code",
   "execution_count": null,
   "id": "277ca5b8-c585-4136-a86a-81325726359c",
   "metadata": {},
   "outputs": [],
   "source": [
    "ctl_prms = pws.Control.load_prms(\n",
    "    domain_dir / \"control.test\", warn_unused_options=False\n",
    ")\n",
    "output_dir_pws = output_dir / \"output_pws\"\n",
    "ctl_prms.options = ctl_prms.options | {\n",
    "    \"input_dir\": input_dir,\n",
    "    \"netcdf_output_dir\": output_dir_pws,\n",
    "    \"netcdf_output_var_names\": pws.PRMSSnow.get_variables(),\n",
    "}\n",
    "dis_prms = pws.Parameters.from_netcdf(\n",
    "    domain_dir / \"parameters_dis_hru.nc\", encoding=False\n",
    ")\n",
    "params_prms = pws.parameters.PrmsParameters.load(domain_dir / \"myparam.param\")\n",
    "\n",
    "input_vars_prms = {}\n",
    "for key in pws.PRMSSnow.get_inputs():\n",
    "    nc_path = input_dir / f\"{key}.nc\"\n",
    "    input_vars_prms[key] = nc_path"
   ]
  },
  {
   "cell_type": "code",
   "execution_count": null,
   "id": "d3412f42-bcab-48a6-81a7-0790c2f225e5",
   "metadata": {},
   "outputs": [],
   "source": [
    "output_dir_s17 = output_dir / \"output_snow17\"\n",
    "\n",
    "ctl_s17 = pws.Control(\n",
    "    start_time=ctl_prms.start_time,\n",
    "    end_time=ctl_prms.end_time,\n",
    "    time_step=ctl_prms.time_step,\n",
    "    options={\n",
    "        \"input_dir\": input_dir,\n",
    "        \"netcdf_output_dir\": output_dir_s17,\n",
    "        \"netcdf_output_var_names\": pws.Snow17.get_variables(),\n",
    "    },\n",
    ")\n",
    "param_file_s17 = domain_dir / \"drb_snow17_params_default.nc\"\n",
    "params_s17 = pws.Parameters.from_netcdf(param_file_s17)\n",
    "# for now, just duplicate the parameters into discretization\n",
    "dis_s17 = pws.Parameters.from_netcdf(param_file_s17)\n",
    "input_vars_s17 = {}\n",
    "for key in pws.Snow17.get_inputs():\n",
    "    nc_path = input_dir / f\"{key}.nc\"\n",
    "    input_vars_s17[key] = nc_path"
   ]
  },
  {
   "cell_type": "markdown",
   "id": "427e372d-5bdc-49ac-b4b9-5ec3912bd846",
   "metadata": {},
   "source": [
    "## prms"
   ]
  },
  {
   "cell_type": "code",
   "execution_count": null,
   "id": "e6a86660-d20a-4195-adb3-192584ebcd71",
   "metadata": {},
   "outputs": [],
   "source": [
    "prms_snow = pws.PRMSSnow(\n",
    "    ctl_prms, dis_prms, params_prms, **input_vars_prms, budget_type=\"error\"\n",
    ")\n",
    "prms_snow.initialize_netcdf()\n",
    "for istep in range(ctl_prms.n_times):\n",
    "    ctl_prms.advance()\n",
    "    prms_snow.advance()\n",
    "    prms_snow.calculate(1.0)\n",
    "    prms_snow.output()\n",
    "\n",
    "prms_snow.finalize()"
   ]
  },
  {
   "cell_type": "code",
   "execution_count": null,
   "id": "a0c973e4-617e-4811-8ab3-e9f81e84b1ac",
   "metadata": {},
   "outputs": [],
   "source": [
    "prms_snow.budget"
   ]
  },
  {
   "cell_type": "code",
   "execution_count": null,
   "id": "b9101b8e-361f-48fa-9fae-584c49322634",
   "metadata": {},
   "outputs": [],
   "source": [
    "## snow-17"
   ]
  },
  {
   "cell_type": "code",
   "execution_count": null,
   "id": "5d29d99e-9faf-4a9a-a5af-382bb100d62a",
   "metadata": {},
   "outputs": [],
   "source": [
    "# The budget, as expressed, fails to close on many occasions.\n",
    "# Is the budget wrong somehow? Not obvious how. Can probe the conditions later.\n",
    "snow17 = pws.Snow17(\n",
    "    ctl_s17, dis_s17, params_s17, **input_vars_s17, budget_type=\"warn\"\n",
    ")\n",
    "snow17.initialize_netcdf()\n",
    "for istep in range(ctl_s17.n_times):\n",
    "    ctl_s17.advance()\n",
    "    snow17.advance()\n",
    "    snow17.calculate(1.0)\n",
    "    snow17.output()\n",
    "\n",
    "snow17.finalize()"
   ]
  },
  {
   "cell_type": "code",
   "execution_count": null,
   "id": "c8f80dcb-ab95-4de2-9950-13efb53546f0",
   "metadata": {},
   "outputs": [],
   "source": [
    "snow17.budget"
   ]
  },
  {
   "cell_type": "markdown",
   "id": "e10cf5ec-af52-4866-b18d-5900ad79c002",
   "metadata": {},
   "source": [
    "## Compare snow variables"
   ]
  },
  {
   "cell_type": "code",
   "execution_count": null,
   "id": "08c7fe22-91f3-4f09-8534-d8b92eef8ee3",
   "metadata": {},
   "outputs": [],
   "source": [
    "def plot_compare_var(var_name):\n",
    "    ds_pws = (\n",
    "        (\n",
    "            xr.open_dataarray(output_dir_pws / f\"{var_name}.nc\")\n",
    "            .rename(\"pywatershed\")\n",
    "            .to_dataset()\n",
    "        )\n",
    "        .drop(\"nhm_id\")\n",
    "        .rename(nhm_id=\"hru_id\")\n",
    "    )\n",
    "    ds_s17 = (\n",
    "        xr.open_dataarray(output_dir_s17 / f\"{var_name}.nc\")\n",
    "        .rename(\"snow-17\")\n",
    "        .to_dataset()\n",
    "    )\n",
    "    ds_pws[\"hru_id\"] = ds_s17[\"hru_id\"]\n",
    "    ds_plot = xr.merge([ds_pws, ds_s17])\n",
    "    display(ds_plot.hvplot(x=\"time\", groupby=\"hru_id\", title=var_name))\n",
    "    return"
   ]
  },
  {
   "cell_type": "code",
   "execution_count": null,
   "id": "6cfd3c6f-4c93-4bdf-af39-7b44d64c3fe9",
   "metadata": {},
   "outputs": [],
   "source": [
    "plot_compare_var(pws.Snow17.get_variables()[0])"
   ]
  },
  {
   "cell_type": "code",
   "execution_count": null,
   "id": "87e40970-b189-4a07-b452-001411104201",
   "metadata": {},
   "outputs": [],
   "source": [
    "plot_compare_var(pws.Snow17.get_variables()[1])"
   ]
  },
  {
   "cell_type": "code",
   "execution_count": null,
   "id": "688b4d8a-b5b9-461e-940e-c5d2709eaeb2",
   "metadata": {},
   "outputs": [],
   "source": [
    "plot_compare_var(pws.Snow17.get_variables()[2])"
   ]
  },
  {
   "cell_type": "code",
   "execution_count": null,
   "id": "1cff995c-c6f1-4335-ad90-61e469d1beea",
   "metadata": {},
   "outputs": [],
   "source": [
    "plot_compare_var(pws.Snow17.get_variables()[3])"
   ]
  },
  {
   "cell_type": "code",
   "execution_count": null,
   "id": "828b8f8a-0f25-419a-8385-c77571b39188",
   "metadata": {},
   "outputs": [],
   "source": [
    "plot_compare_var(pws.Snow17.get_variables()[4])"
   ]
  },
  {
   "cell_type": "code",
   "execution_count": null,
   "id": "402e76cd-df9c-4881-b410-6960cdd1b05c",
   "metadata": {},
   "outputs": [],
   "source": [
    "plot_compare_var(pws.Snow17.get_variables()[5])"
   ]
  },
  {
   "cell_type": "code",
   "execution_count": null,
   "id": "781ecccb-a7f8-492a-b079-393ad17b23c2",
   "metadata": {},
   "outputs": [],
   "source": [
    "plot_compare_var(pws.Snow17.get_variables()[6])"
   ]
  },
  {
   "cell_type": "code",
   "execution_count": null,
   "id": "a7933b29-917c-4bcc-a1d3-8164f0416040",
   "metadata": {},
   "outputs": [],
   "source": [
    "plot_compare_var(pws.Snow17.get_variables()[7])"
   ]
  },
  {
   "cell_type": "code",
   "execution_count": null,
   "id": "7b1b7adf-0512-453e-a7de-b6708adc814d",
   "metadata": {},
   "outputs": [],
   "source": [
    "plot_compare_var(pws.Snow17.get_variables()[8])"
   ]
  },
  {
   "cell_type": "code",
   "execution_count": null,
   "id": "6302e1bd-b757-4469-9843-48428e10f697",
   "metadata": {},
   "outputs": [],
   "source": []
  }
 ],
 "metadata": {
  "language_info": {
   "codemirror_mode": {
    "name": "ipython"
   },
   "file_extension": ".py",
   "mimetype": "text/x-python",
   "name": "python",
   "nbconvert_exporter": "python"
  }
 },
 "nbformat": 4,
 "nbformat_minor": 5
}
