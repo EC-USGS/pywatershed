{
 "cells": [
  {
   "cell_type": "markdown",
   "id": "2aa72049-ae70-41ca-8720-5c7091b4dcf0",
   "metadata": {},
   "source": [
    "# Preprocess PRMSAtmosphere.\n",
    "\n",
    "This notebook demonstrates how to pre-process the atmospheric forcings used by the hydrology. If you are not varying parameters in PRMSAtmosphere over your model runs, this preprocessing can save considerable time. Certain workflows, like calibration, vary parameters in PRMSAtmosphere and therefore can not preprocess its output. \n",
    "\n",
    "Preprocessing the PRMSAtmoshpere is just one example of how you can preprocess all the inputs up to your process of interest, provided they do not vary in any for your problem of interest. For example, the sub-models demonstrated in notebooks `01_multi-process_models.ipynb` and `02_prms_legacy_models.ipynb` have all thier inputs pre-processed. But because `PRMSSolarGeom` and `PRMSAtmosphere` behave silghtly different, this example of how to pre-process their outputs can be helpful. \n",
    "\n",
    "This example further illustrates the flexible nature of how input data are handled by pywatershed. Below we'll run the atmopshere using an active `PRMSSolarGeom` instance and also use the static output of `PRMSSolarGeom` to drive `PRMSAtmosphere`. We'll start by preprocessing CBH files from PRMS-native format to NetCDF (as was previously demonstrated in `02_prms_legacy_models.ipynb`.\n",
    "\n",
    "This notebook assumes you have an editable install of pywatershed (`pip install -e .` from the root of the cloned repository), to get necessary domain information. See [this section of the DEVELOPER.md](https://github.com/EC-USGS/pywatershed/blob/develop/DEVELOPER.md#installing-pywatershed-in-development-mode) for additional details."
   ]
  },
  {
   "cell_type": "code",
   "execution_count": null,
   "id": "b4d1ec1c-2526-4ccd-a8e5-3169c898cf68",
   "metadata": {},
   "outputs": [],
   "source": [
    "from copy import deepcopy\n",
    "import pathlib as pl\n",
    "from pprint import pprint\n",
    "import shutil\n",
    "\n",
    "import jupyter_black\n",
    "import numpy as np\n",
    "import pywatershed as pws\n",
    "import xarray as xr\n",
    "\n",
    "jupyter_black.load()  # auto-format the code in this notebook\n",
    "\n",
    "pws_repo_root = pws.constants.__pywatershed_root__.parent"
   ]
  },
  {
   "cell_type": "markdown",
   "id": "ce5f687e-90af-45e8-90c0-ecfc04f37c5a",
   "metadata": {},
   "source": [
    "This is where we'll place all the output from this notebook. "
   ]
  },
  {
   "cell_type": "code",
   "execution_count": null,
   "id": "19fda9b4-d194-4b47-a4c5-03f732a8d909",
   "metadata": {},
   "outputs": [],
   "source": [
    "nb_output_dir = pl.Path(\"./04_preprocess_atm\")\n",
    "if nb_output_dir.exists():\n",
    "    shutil.rmtree(nb_output_dir)\n",
    "nb_output_dir.mkdir()"
   ]
  },
  {
   "cell_type": "markdown",
   "id": "a340d6a2-a6de-4079-b9d6-dada3bdbe4b0",
   "metadata": {},
   "source": [
    "This works with domains in the pywatershed repository, you can configure for your domains."
   ]
  },
  {
   "cell_type": "code",
   "execution_count": null,
   "id": "462020a2-5519-4b0f-9144-dfda1039963d",
   "metadata": {},
   "outputs": [],
   "source": [
    "dom_name = \"drb_2yr\"\n",
    "dom_dir = pws_repo_root / f\"test_data/{dom_name}\"\n",
    "param_file = dom_dir / \"myparam.param\"\n",
    "control_file = dom_dir / \"nhm.control\"\n",
    "dis_file = dom_dir / \"parameters_dis_hru.nc\""
   ]
  },
  {
   "cell_type": "markdown",
   "id": "e368cfc8-3a1d-4810-9a29-44dc3740c5ef",
   "metadata": {},
   "source": [
    "## Convert CBH files to netcdf\n",
    "For completeness sakes, we'll start with PRMS-native inputs and process those to the NetCDF files that pywatershed will use."
   ]
  },
  {
   "cell_type": "code",
   "execution_count": null,
   "id": "6333def3-918c-412a-9a0d-a3732fdbcc05",
   "metadata": {},
   "outputs": [],
   "source": [
    "params = pws.parameters.PrmsParameters.load(param_file)\n",
    "\n",
    "cbh_files = {\n",
    "    \"prcp\": dom_dir / \"prcp.cbh\",\n",
    "    \"tmax\": dom_dir / \"tmax.cbh\",\n",
    "    \"tmin\": dom_dir / \"tmin.cbh\",\n",
    "}\n",
    "\n",
    "cbh_dir = nb_output_dir / f\"cbh\"\n",
    "cbh_dir.mkdir(exist_ok=True)\n",
    "\n",
    "for kk, vv in cbh_files.items():\n",
    "    out_file = cbh_dir / f\"{kk}.nc\"\n",
    "    pws.utils.cbh_file_to_netcdf({kk: vv}, params, out_file)"
   ]
  },
  {
   "cell_type": "markdown",
   "id": "3733421a-652e-46b7-aa9e-c8967ef32f6b",
   "metadata": {},
   "source": [
    "## Write solar geometry files\n",
    "Below we'll demonstrate using an active instance of `PRMSSolarGeom` and also using its static output to drive `PRMSAtmosphere`. Here we create the static output that we need for `PRMSSolarGeom` in the second case."
   ]
  },
  {
   "cell_type": "code",
   "execution_count": null,
   "id": "d25797be-2a7a-4a98-9fd2-c953f48d482c",
   "metadata": {},
   "outputs": [],
   "source": [
    "solar_geom_dir = nb_output_dir / \"solar_geom\"\n",
    "solar_geom_dir.mkdir(exist_ok=True)\n",
    "\n",
    "solar_geom_output_vars = [\"soltab_horad_potsw\", \"soltab_potsw\"]\n",
    "\n",
    "control = pws.Control.load_prms(control_file, warn_unused_options=False)\n",
    "control.options = control.options | {\n",
    "    \"netcdf_output_dir\": solar_geom_dir,\n",
    "    \"netcdf_output_var_names\": [\n",
    "        \"soltab_horad_potsw\",\n",
    "        \"soltab_potsw\",\n",
    "    ],\n",
    "}\n",
    "\n",
    "solar_geom = pws.PRMSSolarGeometry(control, None, params)\n",
    "solar_geom.initialize_netcdf()\n",
    "control.advance()\n",
    "solar_geom.advance()\n",
    "solar_geom.output()\n",
    "del solar_geom"
   ]
  },
  {
   "cell_type": "markdown",
   "id": "8dbb1ea0-fd86-4f8f-aefa-9905b592b002",
   "metadata": {},
   "source": [
    "We'll take a look at some of the data, particularly looking at the last time available in the file."
   ]
  },
  {
   "cell_type": "code",
   "execution_count": null,
   "id": "4b290462-4bfb-4297-be8e-88b496442c01",
   "metadata": {},
   "outputs": [],
   "source": [
    "var = \"soltab_potsw\"\n",
    "da = xr.open_dataarray(solar_geom_dir / f\"{var}.nc\", decode_timedelta=False)\n",
    "display(da)\n",
    "print(da[-1, 0:100].values)\n",
    "da.close()"
   ]
  },
  {
   "cell_type": "markdown",
   "id": "1e5fa092-7623-4ef2-8907-d9f0597f8271",
   "metadata": {},
   "source": [
    "## Preprocess atmospheric forcings without solar geometry files present\n",
    "\n",
    "When a `PRMSAtmosphere` object is initalized with a `netcdf_output_dir` argument, the adjusted forcings \n",
    "are written to this location. Unless one requests specific variables only, all variables are written. \n",
    "\n",
    "Typically, the `soltab_potsw.nc` and `soltab_horad_potsw.nc` input files are not available as inputs. \n",
    "(These are only output in a fixed width format by a version of PRMS5.2.1 in the pynhm repository\n",
    "that is translated to netCDF when setting up test data). Here we show how to get the CBH adjustments\n",
    "to output files using PRMSSolarGeometry instead of soltab files. The next section will show how to use available soltab files we created above."
   ]
  },
  {
   "cell_type": "code",
   "execution_count": null,
   "id": "b86c8a5c-1d61-4961-804f-009dad45c7c4",
   "metadata": {},
   "outputs": [],
   "source": [
    "cbh_files_dict = {ff.with_suffix(\"\").name: ff for ff in cbh_dir.glob(\"*.nc\")}"
   ]
  },
  {
   "cell_type": "code",
   "execution_count": null,
   "id": "b8a12348-378d-45e8-928b-bc938cf430c3",
   "metadata": {},
   "outputs": [],
   "source": [
    "atm_dir = nb_output_dir / \"atm_without_solar_files\"\n",
    "atm_dir.mkdir(exist_ok=True)\n",
    "\n",
    "control = pws.Control.load_prms(control_file, warn_unused_options=False)\n",
    "control.options[\"netcdf_output_dir\"] = atm_dir\n",
    "\n",
    "solar_geom = pws.PRMSSolarGeometry(control, None, params)\n",
    "\n",
    "atm = pws.PRMSAtmosphere(\n",
    "    control,\n",
    "    None,\n",
    "    params,\n",
    "    **cbh_files_dict,\n",
    "    soltab_horad_potsw=solar_geom.soltab_horad_potsw,\n",
    "    soltab_potsw=solar_geom.soltab_potsw,\n",
    ")\n",
    "atm.initialize_netcdf()\n",
    "control.advance()\n",
    "solar_geom.advance()\n",
    "atm.advance()\n",
    "atm.calculate(1)\n",
    "atm.output()\n",
    "del atm"
   ]
  },
  {
   "cell_type": "code",
   "execution_count": null,
   "id": "a318e7da-f904-4312-9e7a-aff5b2991043",
   "metadata": {},
   "outputs": [],
   "source": [
    "var = \"potet\"\n",
    "da = xr.open_dataarray(atm_dir / f\"{var}.nc\")\n",
    "display(da)\n",
    "print(da[-1, 0:100].values)\n",
    "da.close()"
   ]
  },
  {
   "cell_type": "markdown",
   "id": "d72cfda1-9957-4283-a35d-f3f8f595a139",
   "metadata": {},
   "source": [
    "## Preprocess atmospheric forcings with solar geometry files present\n",
    "We repeat the above, dropping the `PRMSSolarGeometry` object as its information is now coming from the soltab files. "
   ]
  },
  {
   "cell_type": "code",
   "execution_count": null,
   "id": "e1696ae3-28e4-4a20-a811-68b58158f09c",
   "metadata": {},
   "outputs": [],
   "source": [
    "cbh_files_dict = {ff.with_suffix(\"\").name: ff for ff in cbh_dir.glob(\"*.nc\")}\n",
    "solar_files_dict = {\n",
    "    ff.with_suffix(\"\").name: ff for ff in solar_geom_dir.glob(\"*.nc\")\n",
    "}\n",
    "atm_input_files_dict = cbh_files_dict | solar_files_dict"
   ]
  },
  {
   "cell_type": "code",
   "execution_count": null,
   "id": "9836e071-2754-4230-b880-f2ea8dca3eb0",
   "metadata": {},
   "outputs": [],
   "source": [
    "atm_solar_files_dir = nb_output_dir / \"atm_without_solar_files\"\n",
    "atm_solar_files_dir.mkdir(exist_ok=True)\n",
    "\n",
    "control = pws.Control.load_prms(control_file, warn_unused_options=False)\n",
    "control.options[\"netcdf_output_dir\"] = atm_solar_files_dir\n",
    "\n",
    "solar_geom = pws.PRMSSolarGeometry(control, None, params)\n",
    "\n",
    "atm = pws.PRMSAtmosphere(\n",
    "    control,\n",
    "    None,\n",
    "    params,\n",
    "    **atm_input_files_dict,\n",
    ")\n",
    "atm.initialize_netcdf()\n",
    "control.advance()\n",
    "atm.advance()\n",
    "atm.calculate(1)\n",
    "atm.output()\n",
    "del atm"
   ]
  },
  {
   "cell_type": "code",
   "execution_count": null,
   "id": "386822e6-c13d-4203-afb1-baa6cd2501ab",
   "metadata": {},
   "outputs": [],
   "source": [
    "var = \"potet\"\n",
    "da = xr.open_dataarray(atm_dir / f\"{var}.nc\")\n",
    "display(da)\n",
    "print(da[-1, 0:100].values)\n",
    "da.close()"
   ]
  }
 ],
 "metadata": {
  "language_info": {
   "codemirror_mode": {
    "name": "ipython"
   },
   "file_extension": ".py",
   "mimetype": "text/x-python",
   "name": "python",
   "nbconvert_exporter": "python"
  }
 },
 "nbformat": 4,
 "nbformat_minor": 5
}
