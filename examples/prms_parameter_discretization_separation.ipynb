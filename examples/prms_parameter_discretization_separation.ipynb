{
 "cells": [
  {
   "cell_type": "code",
   "execution_count": null,
   "id": "d69f2cf4-a23c-459f-8b8c-8a9ae457e7f2",
   "metadata": {},
   "outputs": [],
   "source": [
    "import pathlib as pl\n",
    "from pywatershed.utils import separate_domain_params_dis_to_ncdf"
   ]
  },
  {
   "cell_type": "code",
   "execution_count": null,
   "id": "255d878f-1a85-4abf-b636-00621b1fecaa",
   "metadata": {},
   "outputs": [],
   "source": [
    "domain_name = \"drb_2yr\"\n",
    "domain_dir = pl.Path(f\"../test_data/{domain_name}/\")\n",
    "param_file = domain_dir/ \"myparam.param\""
   ]
  },
  {
   "cell_type": "code",
   "execution_count": null,
   "id": "a6b122d2-d810-4186-9fba-2e5ca3d8a9a8",
   "metadata": {},
   "outputs": [],
   "source": [
    "file_dict = separate_domain_params_dis_to_ncdf(\n",
    "    prms_param_file=param_file,\n",
    "    domain_name=None,\n",
    "    out_dir=domain_dir,\n",
    ")"
   ]
  },
  {
   "cell_type": "code",
   "execution_count": null,
   "id": "456750be-cf88-477d-8bdc-efffa31ddc3f",
   "metadata": {},
   "outputs": [],
   "source": [
    "file_dict"
   ]
  },
  {
   "cell_type": "code",
   "execution_count": null,
   "id": "45830117-db2d-4b2c-be8c-7d71ea9cf80e",
   "metadata": {},
   "outputs": [],
   "source": []
  }
 ],
 "metadata": {
  "language_info": {
   "codemirror_mode": {
    "name": "ipython"
   },
   "file_extension": ".py",
   "mimetype": "text/x-python",
   "name": "python",
   "nbconvert_exporter": "python"
  }
 },
 "nbformat": 4,
 "nbformat_minor": 5
}
