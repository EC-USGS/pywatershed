{
 "cells": [
  {
   "cell_type": "markdown",
   "id": "6fd42048-a870-4cee-bcd7-068f1a41b7a4",
   "metadata": {
    "tags": []
   },
   "source": [
    "# pynhm Errors against PRMS\n",
    "\n",
    "Using the `test_data` multi-hru domains (drb_2yr or ucb_2yr), we will setup and run a pynhm model (with PRMS inputs). We will then compare results against PRMS outputs. "
   ]
  },
  {
   "cell_type": "code",
   "execution_count": null,
   "id": "f86c65c5-8a96-48c1-b7af-82ff663b25c7",
   "metadata": {},
   "outputs": [],
   "source": [
    "import pathlib as pl\n",
    "import numpy as np\n",
    "import param\n",
    "import pywatershed\n",
    "import xarray as xr\n",
    "\n",
    "import panel_errors_helpers"
   ]
  },
  {
   "cell_type": "markdown",
   "id": "42099bf6-929d-4295-9799-8c09786cf1db",
   "metadata": {},
   "source": [
    "## Model setup and run"
   ]
  },
  {
   "cell_type": "code",
   "execution_count": null,
   "id": "1fa74abb-1e70-4079-8ce0-f605582d24ff",
   "metadata": {},
   "outputs": [],
   "source": [
    "domain = \"ucb_2yr\"\n",
    "processes = [\n",
    "    pywatershed.PRMSSolarGeometry,\n",
    "    # pywatershed.PRMSAtmosphere,\n",
    "    # pywatershed.PRMSCanopy,\n",
    "    # pywatershed.PRMSSnow,\n",
    "    # pywatershed.PRMSRunoff,\n",
    "    # pywatershed.PRMSSoilzone,\n",
    "    # pywatershed.PRMSGroundwater,\n",
    "    # pywatershed.PRMSChannel,\n",
    "]"
   ]
  },
  {
   "cell_type": "code",
   "execution_count": null,
   "id": "1b96e17e-58b0-4f5b-8da6-145f4b306d85",
   "metadata": {},
   "outputs": [],
   "source": [
    "repo_dir = pywatershed.constants.__pywatershed_root__.parent\n",
    "domain_dir = repo_dir / f\"test_data/{domain}/\"\n",
    "gis_dir = repo_dir / f\"examples/pynhm_gis/{domain}\"\n",
    "\n",
    "run_dir = (\n",
    "    repo_dir\n",
    "    / f\"pynhm/analysis/runs/{domain}_{'_'.join([proc.__name__ for proc in processes])}\"\n",
    ")  # change this\n",
    "input_dir_all = run_dir / \"inputs\"\n",
    "\n",
    "parameter_file = domain_dir / \"myparam.param\"\n",
    "control_file = domain_dir / \"control.test\"\n",
    "parameters = pywatershed.PRMSParameters.load(parameter_file)\n",
    "control = pywatershed.Control.load(control_file, params=parameters)\n",
    "\n",
    "# to re-run, delete the run_dir\n",
    "run_flag = False\n",
    "if not run_dir.exists():\n",
    "    run_flag = True\n",
    "    # Combine all PRMS inputs and outputs in one directory for pynhm input\n",
    "    input_dir_all.mkdir(exist_ok=True, parents=True)\n",
    "    for nc_file in domain_dir.glob(\"**/*.nc\"):\n",
    "        target = input_dir_all / (nc_file.name)\n",
    "        if not target.exists():\n",
    "            target.symlink_to(nc_file)\n",
    "\n",
    "# instantiate the model\n",
    "model = pywatershed.Model(\n",
    "    *processes,\n",
    "    control=control,\n",
    "    input_dir=input_dir_all,\n",
    "    budget_type=\"warn\",\n",
    "    netcdf_output_dir=run_dir,\n",
    ")\n",
    "\n",
    "if run_flag:\n",
    "    model.run(finalize=True)"
   ]
  },
  {
   "cell_type": "markdown",
   "id": "e45e16d5-35bf-43f5-ac5e-ad1ee9ea96d9",
   "metadata": {},
   "source": [
    "## Collect and load pynhm output and PRMS equivalents"
   ]
  },
  {
   "cell_type": "code",
   "execution_count": null,
   "id": "5b593d52-4005-4d88-81cc-5316baa4bb26",
   "metadata": {},
   "outputs": [],
   "source": [
    "import importlib\n",
    "\n",
    "importlib.reload(panel_errors_helpers)\n",
    "err_data_hru = np.zeros((model.control.params.parameters[\"nhru\"],)) * np.nan\n",
    "err_data_seg = np.zeros((model.control.params.parameters[\"nsegment\"],)) * np.nan\n",
    "panel_errors_helpers.err_panel(\n",
    "    model, gis_dir=gis_dir, err_data_hru=err_data_hru, err_data_seg=err_data_seg\n",
    ")"
   ]
  },
  {
   "cell_type": "code",
   "execution_count": null,
   "id": "0842da07-d298-4285-b821-2f00acced93d",
   "metadata": {},
   "outputs": [],
   "source": [
    "import sys\n",
    "\n",
    "sys.path.append(\"../common\")\n",
    "import process_plot\n",
    "\n",
    "pp = process_plot.ProcessPlot(gis_dir)\n",
    "\n",
    "pp.plot_hru(\n",
    "    \"data\", model, data=err_data_hru, data_units=\"whatevers\"\n",
    ")  # the error data on hru\n",
    "# pp.plot_seg('data', model, data=err_data_seg, data_units='whatevers') # the error data on segment"
   ]
  },
  {
   "cell_type": "code",
   "execution_count": null,
   "id": "5c771fa7-40dd-4d48-b87c-5af61550df75",
   "metadata": {},
   "outputs": [],
   "source": [
    "# pp.plot_hru('pkwater_equiv', model) # variable"
   ]
  }
 ],
 "metadata": {
  "kernelspec": {
   "display_name": "Python [conda env:pyws_nb] *",
   "language": "python",
   "name": "conda-env-pyws_nb-py"
  },
  "language_info": {
   "codemirror_mode": {
    "name": "ipython",
    "version": 3
   },
   "file_extension": ".py",
   "mimetype": "text/x-python",
   "name": "python",
   "nbconvert_exporter": "python",
   "pygments_lexer": "ipython3",
   "version": "3.10.6"
  }
 },
 "nbformat": 4,
 "nbformat_minor": 5
}
