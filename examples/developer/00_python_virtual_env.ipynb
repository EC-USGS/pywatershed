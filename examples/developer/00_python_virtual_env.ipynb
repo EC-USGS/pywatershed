{
 "cells": [
  {
   "cell_type": "markdown",
   "id": "c55c7fb2-2dce-4c17-b01e-ff166c8d336d",
   "metadata": {},
   "source": [
    "# 00 - pynhm Python Virtual Environments\n",
    "\n",
    "*James McCreight, September 2022*\n",
    "\n",
    "---\n",
    "\n",
    "This is the first notebook to get started. We'll setup the conda environment we need to git clone the repository, install the test data, and run all of the notebooks.\n",
    "\n",
    "## Requirements: Anaconda (or pip)\n",
    "To follow this notebook, you'll need to have conda or mamba installed (Anaconda, Miniconda, Mamba, or Micromamba). We show conda here (and use micromamba when testing the notebooks in [../.github/workflows/examples.yaml](../.github/workflows/examples.yaml)). You may elect to use pip instead of conda for installing dependencies, and there is a note below on this. However [installing Anaconda or Miniconda](https://docs.anaconda.com/anaconda/install/) is recommended for a variety of reasons. On windows we note that we used gitbash with conda installed. \n",
    "\n",
    "## Install pyws_nb environment\n",
    "\n",
    "We can get the raw file containing the list of our dependencies for conda from the URL listed in the first line below. We then remove an existing environment (take care!) named \"pyws_nb\" and install envrionment to this name based on what is in the file. This code is to be run in a bash shell on your machine and not in this notebook. In general, conda installs can take some time, so please be prepared to wait when installing from conda commands. (This took about 5-6 min for me to complete). Then we examine the versions we installed of several executables\n",
    "\n",
    "```bash\n",
    "# Customize this path to where you'd like have the repository as a sub directory\n",
    "demo_dir=../path/to/pynhm_demo\n",
    "mkdir -p $demo_dir  || exit 1\n",
    "cd $demo_dir || exit 2\n",
    "\n",
    "# Conda required for the the following\n",
    "curl -LO https://raw.githubusercontent.com/EC-USGS/pynhm/main/examples/examples_env.yml || exit 1\n",
    "conda remove -y --name pyws_nb --all || exit 2\n",
    "conda env create -f examples_env.yml || exit 1\n",
    "rm examples_env.yml || exit 4\n",
    "\n",
    "# Check we got everything\n",
    "conda activate pyws_nb\n",
    "git --version\n",
    "conda --version\n",
    "pip --version\n",
    "python --version\n",
    "```\n",
    "\n",
    "As run in making these notebooks, the versions were as follows from the last 4 commands:\n",
    "\n",
    "```bash\n",
    "git version 2.37.3\n",
    "conda 4.14.0\n",
    "pip 22.2.2\n",
    "Python 3.10.6\n",
    "```\n",
    "\n",
    "Your versions should be close, not necessarily exact. The Python version installed by conda should be in the range 3.8 - 3.10. In the next notebook we'll run the automated tests, which is the real test if the dependencies are good enough."
   ]
  },
  {
   "cell_type": "markdown",
   "id": "a7b94cf4-c6e8-429c-bf38-1a04176684c0",
   "metadata": {},
   "source": [
    "## Clone the repository, install pynhm, get and unpack the GIS files\n",
    "\n",
    "After the commands above (with the pyws_nb environment active), run the following in the same shell and conda environment. When cloning the repository below, if you'd like to have your own fork of the code please fork on github and clone your fork instead of the upstream repository.\n",
    "\n",
    "```bash\n",
    "# clone the repository\n",
    "if [ ! -e pynhm ]; then\n",
    "    git clone https://github.com/EC-USGS/pynhm || exit 3\n",
    "fi\n",
    "\n",
    "# install pynhm\n",
    "cd pynhm || exit 4\n",
    "pip install -e . || exit 5\n",
    "\n",
    "# GIS files\n",
    "cd examples || exit 6\n",
    "curl -LO https://github.com/EC-USGS/pynhm/releases/download/v2022.0.1/pynhm_gis.zip || exit 7\n",
    "unzip pynhm_gis.zip || exit 8\n",
    "```"
   ]
  },
  {
   "cell_type": "markdown",
   "id": "a4fe8d71-b2e3-4fd7-80cf-5fbc41774eab",
   "metadata": {},
   "source": [
    "## Launch jupyter-lab\n",
    "Start jupyter-lab where subsequent notebooks will be run.\n",
    "\n",
    "```bash\n",
    "jupyter-lab || exit 9\n",
    "```\n",
    "\n",
    "Following notebooks are to be run in in the pyws_nb environment in jupyter-lab __using the python kernel.__ "
   ]
  },
  {
   "cell_type": "code",
   "execution_count": null,
   "id": "0054055c-51a8-4acf-83d3-99f4f91aa21a",
   "metadata": {},
   "outputs": [],
   "source": []
  }
 ],
 "metadata": {
  "language_info": {
   "codemirror_mode": {
    "name": "ipython"
   },
   "file_extension": ".py",
   "mimetype": "text/x-python",
   "name": "python",
   "nbconvert_exporter": "python"
  }
 },
 "nbformat": 4,
 "nbformat_minor": 5
}
