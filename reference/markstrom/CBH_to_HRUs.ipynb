{
 "cells": [
  {
   "cell_type": "code",
   "execution_count": 1,
   "metadata": {},
   "outputs": [],
   "source": [
    "# 1/24/2022\n",
    "# markstro\n",
    "#\n",
    "# This notebook demos: (1) how to read the CBH file and adjust the values for the HRUS; (2) determine the\n",
    "# form of the precip' (3) read values from the parameter file and use them in calculations."
   ]
  },
  {
   "cell_type": "code",
   "execution_count": 2,
   "metadata": {},
   "outputs": [],
   "source": [
    "import pandas as pd\n",
    "import numpy as np\n",
    "import gc\n",
    "import sys\n",
    "import os\n",
    "import matplotlib.pyplot as plt\n",
    "from datetime import datetime\n",
    "from datetime import date\n",
    "import math"
   ]
  },
  {
   "cell_type": "code",
   "execution_count": 3,
   "metadata": {},
   "outputs": [],
   "source": [
    "pfn = \"C:/Users/markstro/jupyter_notebooks/EC/hru1/input/hru1.params\"\n",
    "outdir = \"C:/Users/markstro/jupyter_notebooks/EC/hru1/output/\"\n",
    "indir = \"C:/Users/markstro/jupyter_notebooks/EC/hru1/input/\""
   ]
  },
  {
   "cell_type": "code",
   "execution_count": null,
   "metadata": {},
   "outputs": [],
   "source": []
  },
  {
   "cell_type": "markdown",
   "metadata": {},
   "source": [
    "# Utility functions"
   ]
  },
  {
   "cell_type": "code",
   "execution_count": 4,
   "metadata": {},
   "outputs": [],
   "source": [
    "# Function that will read PRMS parameter file\n",
    "# Returns the contents of param file in python data structures\n",
    "def read_param_file(pfn):\n",
    "    line_num = 0\n",
    "    vals = {}\n",
    "    dims = {}\n",
    "    param_dims = {}\n",
    "    param_type = {}\n",
    "\n",
    "    with open(pfn) as f:\n",
    "        reading_dims = False\n",
    "        for line in f:\n",
    "            try:\n",
    "                line = line.rstrip()  # remove '\\n' at end of line\n",
    "                line_num += 1\n",
    "                if line == \"** Dimensions **\":\n",
    "                    reading_dims = True\n",
    "                    line = f.readline().rstrip()\n",
    "                    line_num += 1\n",
    "\n",
    "                if line == \"** Parameters **\":\n",
    "                    reading_dims = False\n",
    "                    break\n",
    "\n",
    "                if reading_dims:\n",
    "                    line = f.readline().rstrip()\n",
    "                    line_num += 1\n",
    "                    dim_name = line\n",
    "\n",
    "                    line = f.readline().rstrip()\n",
    "                    line_num += 1\n",
    "                    size = line\n",
    "\n",
    "                    if dim_name in dims.keys():\n",
    "                        pass\n",
    "                    else:\n",
    "                        dims[dim_name] = int(size)\n",
    "            except:\n",
    "                print(\"**** read parameters exception line = \", line)\n",
    "                print(\"**** read parameters exception line_num = \", str(line_num))\n",
    "                print(\"**** Unexpected error:\", sys.exc_info()[0])\n",
    "\n",
    "        #        read params\n",
    "        for line in f:\n",
    "            try:\n",
    "                line = line.rstrip()  # remove '\\n' at end of line\n",
    "                line_num += 1\n",
    "\n",
    "                if line == \"####\":\n",
    "                    line = f.readline().rstrip()\n",
    "                    line = line.split(\" \", 1)[\n",
    "                        0\n",
    "                    ]  # old format parameter files have a blank (' ') and then a width format value. Strip this off.\n",
    "                    param_name = line\n",
    "                    line_num += 1\n",
    "\n",
    "                    line = f.readline().rstrip()\n",
    "                    line_num += 1\n",
    "                    num_dims = int(line)\n",
    "                    pd = [None] * num_dims\n",
    "                    for ii in range(num_dims):\n",
    "                        line = f.readline().rstrip()\n",
    "                        pd[ii] = line\n",
    "                        line_num += 1\n",
    "\n",
    "                    param_dims[param_name] = pd\n",
    "\n",
    "                    line = f.readline().rstrip()\n",
    "                    line_num += 1\n",
    "                    num_vals = int(line)\n",
    "                    line = f.readline().rstrip()\n",
    "                    line_num += 1\n",
    "                    tp = int(line)\n",
    "                    param_type[param_name] = tp\n",
    "\n",
    "                    if tp == 2:\n",
    "                        vs = np.zeros(num_vals, dtype=np.float)\n",
    "                        for jj in range(num_vals):\n",
    "                            line = f.readline().rstrip()\n",
    "                            line_num += 1\n",
    "                            vs[jj] = float(line)\n",
    "\n",
    "                    elif tp == 1:\n",
    "                        vs = np.zeros(num_vals, dtype=np.int)\n",
    "                        for jj in range(num_vals):\n",
    "                            line = f.readline().rstrip()\n",
    "                            line_num += 1\n",
    "                            vs[jj] = int(line)\n",
    "\n",
    "                    else:\n",
    "                        vs = np.zeros(num_vals, dtype=np.chararray)\n",
    "                        for jj in range(num_vals):\n",
    "                            line = f.readline().rstrip()\n",
    "                            line_num += 1\n",
    "                            vs[jj] = line\n",
    "\n",
    "                    if num_dims == 2:\n",
    "                        vs.shape = (dims[pd[1]], dims[pd[0]])\n",
    "\n",
    "                    if param_name in vals.keys():\n",
    "                        print(\"parameter \", param_name, \" is already in \", pfn)\n",
    "                    else:\n",
    "                        vals[param_name] = vs\n",
    "\n",
    "            except:\n",
    "                print(\"read parameters exception line_num = \", str(line_num))\n",
    "                print(\"Unexpected error:\", sys.exc_info()[0])\n",
    "\n",
    "    gc.collect()\n",
    "\n",
    "    return (dims, vals, param_dims, param_type)"
   ]
  },
  {
   "cell_type": "code",
   "execution_count": 5,
   "metadata": {},
   "outputs": [],
   "source": [
    "# I don't understand why I needed to write this function myself\n",
    "# Input: datetime.Date\n",
    "# Output: day of the year (aka \"Julian date\")\n",
    "def day_of_year(d):\n",
    "    N1 = math.floor(275 * d.month / 9)\n",
    "    N2 = math.floor((d.month + 9) / 12)\n",
    "    N3 = 1 + math.floor((d.year - 4 * math.floor(d.year / 4) + 2) / 3)\n",
    "    N = N1 - (N2 * N3) + d.day - 30\n",
    "    return N"
   ]
  },
  {
   "cell_type": "code",
   "execution_count": null,
   "metadata": {},
   "outputs": [],
   "source": []
  },
  {
   "cell_type": "markdown",
   "metadata": {},
   "source": [
    "# Read the simulated output into a dataframe"
   ]
  },
  {
   "cell_type": "code",
   "execution_count": 6,
   "metadata": {},
   "outputs": [],
   "source": [
    "# This loops over all of the csv files in the output directory\n",
    "\n",
    "sim_vals = None\n",
    "for filename in os.listdir(outdir):\n",
    "    f = os.path.join(outdir, filename)\n",
    "    if os.path.isfile(f) and f.endswith(\".csv\"):\n",
    "        varname = filename.split(\".\")[0]\n",
    "\n",
    "        if sim_vals is None:\n",
    "            sim_vals = pd.read_csv(f, names=[\"datestr\", varname], skiprows=1)\n",
    "\n",
    "        else:\n",
    "            if varname != \"stats\":\n",
    "                df = pd.read_csv(f, names=[\"datestr\", varname], skiprows=1)\n",
    "                sim_vals = pd.merge(\n",
    "                    sim_vals, df[[\"datestr\", varname]], on=\"datestr\", how=\"left\"\n",
    "                )\n",
    "\n",
    "sim_vals[\"date\"] = [\n",
    "    datetime.strptime(date, \"%Y-%m-%d\").date() for date in sim_vals[\"datestr\"]\n",
    "]\n",
    "del sim_vals[\"datestr\"]"
   ]
  },
  {
   "cell_type": "code",
   "execution_count": 7,
   "metadata": {},
   "outputs": [
    {
     "data": {
      "text/html": [
       "<div>\n",
       "<style scoped>\n",
       "    .dataframe tbody tr th:only-of-type {\n",
       "        vertical-align: middle;\n",
       "    }\n",
       "\n",
       "    .dataframe tbody tr th {\n",
       "        vertical-align: top;\n",
       "    }\n",
       "\n",
       "    .dataframe thead th {\n",
       "        text-align: right;\n",
       "    }\n",
       "</style>\n",
       "<table border=\"1\" class=\"dataframe\">\n",
       "  <thead>\n",
       "    <tr style=\"text-align: right;\">\n",
       "      <th></th>\n",
       "      <th>basin_horad</th>\n",
       "      <th>basin_orad</th>\n",
       "      <th>canopy_covden</th>\n",
       "      <th>hru_ppt</th>\n",
       "      <th>hru_rain</th>\n",
       "      <th>hru_snow</th>\n",
       "      <th>intcp_evap</th>\n",
       "      <th>intcp_stor</th>\n",
       "      <th>net_ppt</th>\n",
       "      <th>net_rain</th>\n",
       "      <th>...</th>\n",
       "      <th>pkwater_equiv</th>\n",
       "      <th>potet</th>\n",
       "      <th>pptmix</th>\n",
       "      <th>soil_moist_tot</th>\n",
       "      <th>swrad</th>\n",
       "      <th>tmaxf</th>\n",
       "      <th>tminc</th>\n",
       "      <th>tminf</th>\n",
       "      <th>transp_on</th>\n",
       "      <th>date</th>\n",
       "    </tr>\n",
       "  </thead>\n",
       "  <tbody>\n",
       "    <tr>\n",
       "      <th>0</th>\n",
       "      <td>637.1866</td>\n",
       "      <td>401.4003</td>\n",
       "      <td>0.2308</td>\n",
       "      <td>0.0000</td>\n",
       "      <td>0.0000</td>\n",
       "      <td>0.0</td>\n",
       "      <td>0.0000</td>\n",
       "      <td>0.0000</td>\n",
       "      <td>0.0000</td>\n",
       "      <td>0.0000</td>\n",
       "      <td>...</td>\n",
       "      <td>0.0</td>\n",
       "      <td>0.1863</td>\n",
       "      <td>0</td>\n",
       "      <td>0.0000</td>\n",
       "      <td>403.8735</td>\n",
       "      <td>78.5987</td>\n",
       "      <td>9.8522</td>\n",
       "      <td>49.7339</td>\n",
       "      <td>1</td>\n",
       "      <td>1980-10-01</td>\n",
       "    </tr>\n",
       "    <tr>\n",
       "      <th>1</th>\n",
       "      <td>631.0960</td>\n",
       "      <td>393.9506</td>\n",
       "      <td>0.2308</td>\n",
       "      <td>0.1039</td>\n",
       "      <td>0.1039</td>\n",
       "      <td>0.0</td>\n",
       "      <td>0.0000</td>\n",
       "      <td>0.0038</td>\n",
       "      <td>0.1030</td>\n",
       "      <td>0.1030</td>\n",
       "      <td>...</td>\n",
       "      <td>0.0</td>\n",
       "      <td>0.1840</td>\n",
       "      <td>0</td>\n",
       "      <td>0.0566</td>\n",
       "      <td>396.4248</td>\n",
       "      <td>77.5987</td>\n",
       "      <td>10.8522</td>\n",
       "      <td>51.5339</td>\n",
       "      <td>1</td>\n",
       "      <td>1980-10-02</td>\n",
       "    </tr>\n",
       "    <tr>\n",
       "      <th>2</th>\n",
       "      <td>625.0040</td>\n",
       "      <td>317.8949</td>\n",
       "      <td>0.2308</td>\n",
       "      <td>0.2629</td>\n",
       "      <td>0.2629</td>\n",
       "      <td>0.0</td>\n",
       "      <td>0.0000</td>\n",
       "      <td>0.0038</td>\n",
       "      <td>0.2629</td>\n",
       "      <td>0.2629</td>\n",
       "      <td>...</td>\n",
       "      <td>0.0</td>\n",
       "      <td>0.1359</td>\n",
       "      <td>0</td>\n",
       "      <td>0.2017</td>\n",
       "      <td>319.9297</td>\n",
       "      <td>66.2987</td>\n",
       "      <td>10.6300</td>\n",
       "      <td>51.1339</td>\n",
       "      <td>1</td>\n",
       "      <td>1980-10-03</td>\n",
       "    </tr>\n",
       "    <tr>\n",
       "      <th>3</th>\n",
       "      <td>618.9124</td>\n",
       "      <td>314.7966</td>\n",
       "      <td>0.2308</td>\n",
       "      <td>0.0672</td>\n",
       "      <td>0.0672</td>\n",
       "      <td>0.0</td>\n",
       "      <td>0.0000</td>\n",
       "      <td>0.0038</td>\n",
       "      <td>0.0672</td>\n",
       "      <td>0.0672</td>\n",
       "      <td>...</td>\n",
       "      <td>0.0</td>\n",
       "      <td>0.1282</td>\n",
       "      <td>0</td>\n",
       "      <td>0.2280</td>\n",
       "      <td>316.8498</td>\n",
       "      <td>66.2987</td>\n",
       "      <td>7.2411</td>\n",
       "      <td>45.0339</td>\n",
       "      <td>1</td>\n",
       "      <td>1980-10-04</td>\n",
       "    </tr>\n",
       "    <tr>\n",
       "      <th>4</th>\n",
       "      <td>612.8231</td>\n",
       "      <td>278.0202</td>\n",
       "      <td>0.2308</td>\n",
       "      <td>0.0000</td>\n",
       "      <td>0.0000</td>\n",
       "      <td>0.0</td>\n",
       "      <td>0.0038</td>\n",
       "      <td>0.0000</td>\n",
       "      <td>0.0000</td>\n",
       "      <td>0.0000</td>\n",
       "      <td>...</td>\n",
       "      <td>0.0</td>\n",
       "      <td>0.1083</td>\n",
       "      <td>0</td>\n",
       "      <td>0.2147</td>\n",
       "      <td>279.8678</td>\n",
       "      <td>63.0987</td>\n",
       "      <td>6.0744</td>\n",
       "      <td>42.9339</td>\n",
       "      <td>1</td>\n",
       "      <td>1980-10-05</td>\n",
       "    </tr>\n",
       "  </tbody>\n",
       "</table>\n",
       "<p>5 rows × 23 columns</p>\n",
       "</div>"
      ],
      "text/plain": [
       "   basin_horad  basin_orad  canopy_covden  hru_ppt  hru_rain  hru_snow  \\\n",
       "0     637.1866    401.4003         0.2308   0.0000    0.0000       0.0   \n",
       "1     631.0960    393.9506         0.2308   0.1039    0.1039       0.0   \n",
       "2     625.0040    317.8949         0.2308   0.2629    0.2629       0.0   \n",
       "3     618.9124    314.7966         0.2308   0.0672    0.0672       0.0   \n",
       "4     612.8231    278.0202         0.2308   0.0000    0.0000       0.0   \n",
       "\n",
       "   intcp_evap  intcp_stor  net_ppt  net_rain  ...  pkwater_equiv   potet  \\\n",
       "0      0.0000      0.0000   0.0000    0.0000  ...            0.0  0.1863   \n",
       "1      0.0000      0.0038   0.1030    0.1030  ...            0.0  0.1840   \n",
       "2      0.0000      0.0038   0.2629    0.2629  ...            0.0  0.1359   \n",
       "3      0.0000      0.0038   0.0672    0.0672  ...            0.0  0.1282   \n",
       "4      0.0038      0.0000   0.0000    0.0000  ...            0.0  0.1083   \n",
       "\n",
       "   pptmix  soil_moist_tot     swrad    tmaxf    tminc    tminf  transp_on  \\\n",
       "0       0          0.0000  403.8735  78.5987   9.8522  49.7339          1   \n",
       "1       0          0.0566  396.4248  77.5987  10.8522  51.5339          1   \n",
       "2       0          0.2017  319.9297  66.2987  10.6300  51.1339          1   \n",
       "3       0          0.2280  316.8498  66.2987   7.2411  45.0339          1   \n",
       "4       0          0.2147  279.8678  63.0987   6.0744  42.9339          1   \n",
       "\n",
       "         date  \n",
       "0  1980-10-01  \n",
       "1  1980-10-02  \n",
       "2  1980-10-03  \n",
       "3  1980-10-04  \n",
       "4  1980-10-05  \n",
       "\n",
       "[5 rows x 23 columns]"
      ]
     },
     "execution_count": 7,
     "metadata": {},
     "output_type": "execute_result"
    }
   ],
   "source": [
    "sim_vals.head()"
   ]
  },
  {
   "cell_type": "code",
   "execution_count": 8,
   "metadata": {},
   "outputs": [
    {
     "data": {
      "text/html": [
       "<div>\n",
       "<style scoped>\n",
       "    .dataframe tbody tr th:only-of-type {\n",
       "        vertical-align: middle;\n",
       "    }\n",
       "\n",
       "    .dataframe tbody tr th {\n",
       "        vertical-align: top;\n",
       "    }\n",
       "\n",
       "    .dataframe thead th {\n",
       "        text-align: right;\n",
       "    }\n",
       "</style>\n",
       "<table border=\"1\" class=\"dataframe\">\n",
       "  <thead>\n",
       "    <tr style=\"text-align: right;\">\n",
       "      <th></th>\n",
       "      <th>basin_horad</th>\n",
       "      <th>basin_orad</th>\n",
       "      <th>canopy_covden</th>\n",
       "      <th>hru_ppt</th>\n",
       "      <th>hru_rain</th>\n",
       "      <th>hru_snow</th>\n",
       "      <th>intcp_evap</th>\n",
       "      <th>intcp_stor</th>\n",
       "      <th>net_ppt</th>\n",
       "      <th>net_rain</th>\n",
       "      <th>...</th>\n",
       "      <th>pkwater_equiv</th>\n",
       "      <th>potet</th>\n",
       "      <th>pptmix</th>\n",
       "      <th>soil_moist_tot</th>\n",
       "      <th>swrad</th>\n",
       "      <th>tmaxf</th>\n",
       "      <th>tminc</th>\n",
       "      <th>tminf</th>\n",
       "      <th>transp_on</th>\n",
       "      <th>date</th>\n",
       "    </tr>\n",
       "  </thead>\n",
       "  <tbody>\n",
       "    <tr>\n",
       "      <th>360</th>\n",
       "      <td>673.5969</td>\n",
       "      <td>144.6075</td>\n",
       "      <td>0.2308</td>\n",
       "      <td>0.0000</td>\n",
       "      <td>0.0000</td>\n",
       "      <td>0.0</td>\n",
       "      <td>0.0000</td>\n",
       "      <td>0.0000</td>\n",
       "      <td>0.0000</td>\n",
       "      <td>0.0000</td>\n",
       "      <td>...</td>\n",
       "      <td>0.0</td>\n",
       "      <td>0.0559</td>\n",
       "      <td>0</td>\n",
       "      <td>0.6204</td>\n",
       "      <td>145.3992</td>\n",
       "      <td>66.1987</td>\n",
       "      <td>10.4633</td>\n",
       "      <td>50.8339</td>\n",
       "      <td>1</td>\n",
       "      <td>1981-09-26</td>\n",
       "    </tr>\n",
       "    <tr>\n",
       "      <th>361</th>\n",
       "      <td>667.5533</td>\n",
       "      <td>358.0934</td>\n",
       "      <td>0.2308</td>\n",
       "      <td>0.0122</td>\n",
       "      <td>0.0122</td>\n",
       "      <td>0.0</td>\n",
       "      <td>0.0000</td>\n",
       "      <td>0.0038</td>\n",
       "      <td>0.0113</td>\n",
       "      <td>0.0113</td>\n",
       "      <td>...</td>\n",
       "      <td>0.0</td>\n",
       "      <td>0.1527</td>\n",
       "      <td>0</td>\n",
       "      <td>0.5382</td>\n",
       "      <td>360.0937</td>\n",
       "      <td>77.4987</td>\n",
       "      <td>11.4633</td>\n",
       "      <td>52.6339</td>\n",
       "      <td>1</td>\n",
       "      <td>1981-09-27</td>\n",
       "    </tr>\n",
       "    <tr>\n",
       "      <th>362</th>\n",
       "      <td>661.4974</td>\n",
       "      <td>232.0970</td>\n",
       "      <td>0.2308</td>\n",
       "      <td>0.0000</td>\n",
       "      <td>0.0000</td>\n",
       "      <td>0.0</td>\n",
       "      <td>0.0038</td>\n",
       "      <td>0.0000</td>\n",
       "      <td>0.0000</td>\n",
       "      <td>0.0000</td>\n",
       "      <td>...</td>\n",
       "      <td>0.0</td>\n",
       "      <td>0.0864</td>\n",
       "      <td>0</td>\n",
       "      <td>0.5142</td>\n",
       "      <td>233.4196</td>\n",
       "      <td>69.1987</td>\n",
       "      <td>6.2411</td>\n",
       "      <td>43.2339</td>\n",
       "      <td>1</td>\n",
       "      <td>1981-09-28</td>\n",
       "    </tr>\n",
       "    <tr>\n",
       "      <th>363</th>\n",
       "      <td>655.4311</td>\n",
       "      <td>131.0862</td>\n",
       "      <td>0.2308</td>\n",
       "      <td>0.0000</td>\n",
       "      <td>0.0000</td>\n",
       "      <td>0.0</td>\n",
       "      <td>0.0000</td>\n",
       "      <td>0.0000</td>\n",
       "      <td>0.0000</td>\n",
       "      <td>0.0000</td>\n",
       "      <td>...</td>\n",
       "      <td>0.0</td>\n",
       "      <td>0.0437</td>\n",
       "      <td>0</td>\n",
       "      <td>0.5026</td>\n",
       "      <td>131.8481</td>\n",
       "      <td>59.0987</td>\n",
       "      <td>4.6855</td>\n",
       "      <td>40.4339</td>\n",
       "      <td>1</td>\n",
       "      <td>1981-09-29</td>\n",
       "    </tr>\n",
       "    <tr>\n",
       "      <th>364</th>\n",
       "      <td>649.3560</td>\n",
       "      <td>129.8712</td>\n",
       "      <td>0.2308</td>\n",
       "      <td>0.0122</td>\n",
       "      <td>0.0122</td>\n",
       "      <td>0.0</td>\n",
       "      <td>0.0000</td>\n",
       "      <td>0.0038</td>\n",
       "      <td>0.0113</td>\n",
       "      <td>0.0113</td>\n",
       "      <td>...</td>\n",
       "      <td>0.0</td>\n",
       "      <td>0.0438</td>\n",
       "      <td>0</td>\n",
       "      <td>0.4990</td>\n",
       "      <td>130.6410</td>\n",
       "      <td>61.7987</td>\n",
       "      <td>3.8522</td>\n",
       "      <td>38.9339</td>\n",
       "      <td>1</td>\n",
       "      <td>1981-09-30</td>\n",
       "    </tr>\n",
       "  </tbody>\n",
       "</table>\n",
       "<p>5 rows × 23 columns</p>\n",
       "</div>"
      ],
      "text/plain": [
       "     basin_horad  basin_orad  canopy_covden  hru_ppt  hru_rain  hru_snow  \\\n",
       "360     673.5969    144.6075         0.2308   0.0000    0.0000       0.0   \n",
       "361     667.5533    358.0934         0.2308   0.0122    0.0122       0.0   \n",
       "362     661.4974    232.0970         0.2308   0.0000    0.0000       0.0   \n",
       "363     655.4311    131.0862         0.2308   0.0000    0.0000       0.0   \n",
       "364     649.3560    129.8712         0.2308   0.0122    0.0122       0.0   \n",
       "\n",
       "     intcp_evap  intcp_stor  net_ppt  net_rain  ...  pkwater_equiv   potet  \\\n",
       "360      0.0000      0.0000   0.0000    0.0000  ...            0.0  0.0559   \n",
       "361      0.0000      0.0038   0.0113    0.0113  ...            0.0  0.1527   \n",
       "362      0.0038      0.0000   0.0000    0.0000  ...            0.0  0.0864   \n",
       "363      0.0000      0.0000   0.0000    0.0000  ...            0.0  0.0437   \n",
       "364      0.0000      0.0038   0.0113    0.0113  ...            0.0  0.0438   \n",
       "\n",
       "     pptmix  soil_moist_tot     swrad    tmaxf    tminc    tminf  transp_on  \\\n",
       "360       0          0.6204  145.3992  66.1987  10.4633  50.8339          1   \n",
       "361       0          0.5382  360.0937  77.4987  11.4633  52.6339          1   \n",
       "362       0          0.5142  233.4196  69.1987   6.2411  43.2339          1   \n",
       "363       0          0.5026  131.8481  59.0987   4.6855  40.4339          1   \n",
       "364       0          0.4990  130.6410  61.7987   3.8522  38.9339          1   \n",
       "\n",
       "           date  \n",
       "360  1981-09-26  \n",
       "361  1981-09-27  \n",
       "362  1981-09-28  \n",
       "363  1981-09-29  \n",
       "364  1981-09-30  \n",
       "\n",
       "[5 rows x 23 columns]"
      ]
     },
     "execution_count": 8,
     "metadata": {},
     "output_type": "execute_result"
    }
   ],
   "source": [
    "sim_vals.tail()"
   ]
  },
  {
   "cell_type": "code",
   "execution_count": null,
   "metadata": {},
   "outputs": [],
   "source": []
  },
  {
   "cell_type": "markdown",
   "metadata": {},
   "source": [
    "# Read the CBH forcing data into the dataframe"
   ]
  },
  {
   "cell_type": "code",
   "execution_count": 9,
   "metadata": {},
   "outputs": [],
   "source": [
    "def add_date_for_PRMS_dates(df):\n",
    "    df[\"date\"] = [date(y, m, d) for y, m, d in zip(df[\"yr\"], df[\"mo\"], df[\"da\"])]\n",
    "    del df[\"yr\"]\n",
    "    del df[\"mo\"]\n",
    "    del df[\"da\"]\n",
    "    del df[\"hr\"]\n",
    "    del df[\"mi\"]\n",
    "    del df[\"se\"]\n",
    "    return df"
   ]
  },
  {
   "cell_type": "code",
   "execution_count": 10,
   "metadata": {},
   "outputs": [],
   "source": [
    "# Read the CBH forcing inputs\n",
    "cbh_vals = None\n",
    "for filename in os.listdir(indir):\n",
    "    f = os.path.join(indir, filename)\n",
    "    if os.path.isfile(f) and f.endswith(\".cbh\"):\n",
    "        varname = filename.split(\".\")[0]\n",
    "\n",
    "        if cbh_vals is None:\n",
    "            cbh_vals = pd.read_csv(\n",
    "                f,\n",
    "                names=[\"yr\", \"mo\", \"da\", \"hr\", \"mi\", \"se\", varname],\n",
    "                skiprows=3,\n",
    "                delim_whitespace=True,\n",
    "            )\n",
    "            cbh_vals = add_date_for_PRMS_dates(cbh_vals)\n",
    "\n",
    "        else:\n",
    "            foo = pd.read_csv(\n",
    "                f,\n",
    "                names=[\"yr\", \"mo\", \"da\", \"hr\", \"mi\", \"se\", varname],\n",
    "                skiprows=3,\n",
    "                delim_whitespace=True,\n",
    "            )\n",
    "            foo = add_date_for_PRMS_dates(foo)\n",
    "            cbh_vals = pd.merge(cbh_vals, foo[[\"date\", varname]], on=\"date\", how=\"left\")"
   ]
  },
  {
   "cell_type": "code",
   "execution_count": 11,
   "metadata": {},
   "outputs": [
    {
     "data": {
      "text/html": [
       "<div>\n",
       "<style scoped>\n",
       "    .dataframe tbody tr th:only-of-type {\n",
       "        vertical-align: middle;\n",
       "    }\n",
       "\n",
       "    .dataframe tbody tr th {\n",
       "        vertical-align: top;\n",
       "    }\n",
       "\n",
       "    .dataframe thead th {\n",
       "        text-align: right;\n",
       "    }\n",
       "</style>\n",
       "<table border=\"1\" class=\"dataframe\">\n",
       "  <thead>\n",
       "    <tr style=\"text-align: right;\">\n",
       "      <th></th>\n",
       "      <th>prcp</th>\n",
       "      <th>date</th>\n",
       "      <th>tmax</th>\n",
       "      <th>tmin</th>\n",
       "    </tr>\n",
       "  </thead>\n",
       "  <tbody>\n",
       "    <tr>\n",
       "      <th>0</th>\n",
       "      <td>0.00</td>\n",
       "      <td>1979-01-01</td>\n",
       "      <td>43.6</td>\n",
       "      <td>31.0</td>\n",
       "    </tr>\n",
       "    <tr>\n",
       "      <th>1</th>\n",
       "      <td>0.04</td>\n",
       "      <td>1979-01-02</td>\n",
       "      <td>47.2</td>\n",
       "      <td>31.0</td>\n",
       "    </tr>\n",
       "    <tr>\n",
       "      <th>2</th>\n",
       "      <td>0.02</td>\n",
       "      <td>1979-01-03</td>\n",
       "      <td>53.0</td>\n",
       "      <td>34.1</td>\n",
       "    </tr>\n",
       "    <tr>\n",
       "      <th>3</th>\n",
       "      <td>0.49</td>\n",
       "      <td>1979-01-04</td>\n",
       "      <td>53.7</td>\n",
       "      <td>38.2</td>\n",
       "    </tr>\n",
       "    <tr>\n",
       "      <th>4</th>\n",
       "      <td>0.48</td>\n",
       "      <td>1979-01-05</td>\n",
       "      <td>42.9</td>\n",
       "      <td>34.9</td>\n",
       "    </tr>\n",
       "  </tbody>\n",
       "</table>\n",
       "</div>"
      ],
      "text/plain": [
       "   prcp        date  tmax  tmin\n",
       "0  0.00  1979-01-01  43.6  31.0\n",
       "1  0.04  1979-01-02  47.2  31.0\n",
       "2  0.02  1979-01-03  53.0  34.1\n",
       "3  0.49  1979-01-04  53.7  38.2\n",
       "4  0.48  1979-01-05  42.9  34.9"
      ]
     },
     "execution_count": 11,
     "metadata": {},
     "output_type": "execute_result"
    }
   ],
   "source": [
    "cbh_vals.head()"
   ]
  },
  {
   "cell_type": "code",
   "execution_count": 12,
   "metadata": {},
   "outputs": [
    {
     "data": {
      "text/html": [
       "<div>\n",
       "<style scoped>\n",
       "    .dataframe tbody tr th:only-of-type {\n",
       "        vertical-align: middle;\n",
       "    }\n",
       "\n",
       "    .dataframe tbody tr th {\n",
       "        vertical-align: top;\n",
       "    }\n",
       "\n",
       "    .dataframe thead th {\n",
       "        text-align: right;\n",
       "    }\n",
       "</style>\n",
       "<table border=\"1\" class=\"dataframe\">\n",
       "  <thead>\n",
       "    <tr style=\"text-align: right;\">\n",
       "      <th></th>\n",
       "      <th>prcp</th>\n",
       "      <th>date</th>\n",
       "      <th>tmax</th>\n",
       "      <th>tmin</th>\n",
       "    </tr>\n",
       "  </thead>\n",
       "  <tbody>\n",
       "    <tr>\n",
       "      <th>14977</th>\n",
       "      <td>0.00</td>\n",
       "      <td>2019-12-27</td>\n",
       "      <td>50.6</td>\n",
       "      <td>34.2</td>\n",
       "    </tr>\n",
       "    <tr>\n",
       "      <th>14978</th>\n",
       "      <td>0.00</td>\n",
       "      <td>2019-12-28</td>\n",
       "      <td>48.3</td>\n",
       "      <td>29.1</td>\n",
       "    </tr>\n",
       "    <tr>\n",
       "      <th>14979</th>\n",
       "      <td>0.76</td>\n",
       "      <td>2019-12-29</td>\n",
       "      <td>41.8</td>\n",
       "      <td>29.6</td>\n",
       "    </tr>\n",
       "    <tr>\n",
       "      <th>14980</th>\n",
       "      <td>0.82</td>\n",
       "      <td>2019-12-30</td>\n",
       "      <td>39.6</td>\n",
       "      <td>34.6</td>\n",
       "    </tr>\n",
       "    <tr>\n",
       "      <th>14981</th>\n",
       "      <td>0.11</td>\n",
       "      <td>2019-12-31</td>\n",
       "      <td>43.8</td>\n",
       "      <td>35.3</td>\n",
       "    </tr>\n",
       "  </tbody>\n",
       "</table>\n",
       "</div>"
      ],
      "text/plain": [
       "       prcp        date  tmax  tmin\n",
       "14977  0.00  2019-12-27  50.6  34.2\n",
       "14978  0.00  2019-12-28  48.3  29.1\n",
       "14979  0.76  2019-12-29  41.8  29.6\n",
       "14980  0.82  2019-12-30  39.6  34.6\n",
       "14981  0.11  2019-12-31  43.8  35.3"
      ]
     },
     "execution_count": 12,
     "metadata": {},
     "output_type": "execute_result"
    }
   ],
   "source": [
    "cbh_vals.tail()"
   ]
  },
  {
   "cell_type": "code",
   "execution_count": null,
   "metadata": {},
   "outputs": [],
   "source": []
  },
  {
   "cell_type": "markdown",
   "metadata": {},
   "source": [
    "# Sync up the dates of the forcings and the outputs. This makes sure that all values are compared for the same date(s)"
   ]
  },
  {
   "cell_type": "code",
   "execution_count": 13,
   "metadata": {},
   "outputs": [],
   "source": [
    "synced_vals = pd.merge(cbh_vals, sim_vals, on=\"date\", how=\"right\")"
   ]
  },
  {
   "cell_type": "code",
   "execution_count": 14,
   "metadata": {},
   "outputs": [
    {
     "name": "stdout",
     "output_type": "stream",
     "text": [
      "(365, 26)\n"
     ]
    }
   ],
   "source": [
    "print(synced_vals.shape)"
   ]
  },
  {
   "cell_type": "code",
   "execution_count": 15,
   "metadata": {},
   "outputs": [
    {
     "data": {
      "text/html": [
       "<div>\n",
       "<style scoped>\n",
       "    .dataframe tbody tr th:only-of-type {\n",
       "        vertical-align: middle;\n",
       "    }\n",
       "\n",
       "    .dataframe tbody tr th {\n",
       "        vertical-align: top;\n",
       "    }\n",
       "\n",
       "    .dataframe thead th {\n",
       "        text-align: right;\n",
       "    }\n",
       "</style>\n",
       "<table border=\"1\" class=\"dataframe\">\n",
       "  <thead>\n",
       "    <tr style=\"text-align: right;\">\n",
       "      <th></th>\n",
       "      <th>prcp</th>\n",
       "      <th>date</th>\n",
       "      <th>tmax</th>\n",
       "      <th>tmin</th>\n",
       "      <th>basin_horad</th>\n",
       "      <th>basin_orad</th>\n",
       "      <th>canopy_covden</th>\n",
       "      <th>hru_ppt</th>\n",
       "      <th>hru_rain</th>\n",
       "      <th>hru_snow</th>\n",
       "      <th>...</th>\n",
       "      <th>orad</th>\n",
       "      <th>pkwater_equiv</th>\n",
       "      <th>potet</th>\n",
       "      <th>pptmix</th>\n",
       "      <th>soil_moist_tot</th>\n",
       "      <th>swrad</th>\n",
       "      <th>tmaxf</th>\n",
       "      <th>tminc</th>\n",
       "      <th>tminf</th>\n",
       "      <th>transp_on</th>\n",
       "    </tr>\n",
       "  </thead>\n",
       "  <tbody>\n",
       "    <tr>\n",
       "      <th>0</th>\n",
       "      <td>0.00</td>\n",
       "      <td>1980-10-01</td>\n",
       "      <td>77.5</td>\n",
       "      <td>50.1</td>\n",
       "      <td>637.1866</td>\n",
       "      <td>401.4003</td>\n",
       "      <td>0.2308</td>\n",
       "      <td>0.0000</td>\n",
       "      <td>0.0000</td>\n",
       "      <td>0.0</td>\n",
       "      <td>...</td>\n",
       "      <td>401.4003</td>\n",
       "      <td>0.0</td>\n",
       "      <td>0.1863</td>\n",
       "      <td>0</td>\n",
       "      <td>0.0000</td>\n",
       "      <td>403.8735</td>\n",
       "      <td>78.5987</td>\n",
       "      <td>9.8522</td>\n",
       "      <td>49.7339</td>\n",
       "      <td>1</td>\n",
       "    </tr>\n",
       "    <tr>\n",
       "      <th>1</th>\n",
       "      <td>0.17</td>\n",
       "      <td>1980-10-02</td>\n",
       "      <td>76.5</td>\n",
       "      <td>51.9</td>\n",
       "      <td>631.0960</td>\n",
       "      <td>393.9506</td>\n",
       "      <td>0.2308</td>\n",
       "      <td>0.1039</td>\n",
       "      <td>0.1039</td>\n",
       "      <td>0.0</td>\n",
       "      <td>...</td>\n",
       "      <td>393.9506</td>\n",
       "      <td>0.0</td>\n",
       "      <td>0.1840</td>\n",
       "      <td>0</td>\n",
       "      <td>0.0566</td>\n",
       "      <td>396.4248</td>\n",
       "      <td>77.5987</td>\n",
       "      <td>10.8522</td>\n",
       "      <td>51.5339</td>\n",
       "      <td>1</td>\n",
       "    </tr>\n",
       "    <tr>\n",
       "      <th>2</th>\n",
       "      <td>0.43</td>\n",
       "      <td>1980-10-03</td>\n",
       "      <td>65.2</td>\n",
       "      <td>51.5</td>\n",
       "      <td>625.0040</td>\n",
       "      <td>317.8949</td>\n",
       "      <td>0.2308</td>\n",
       "      <td>0.2629</td>\n",
       "      <td>0.2629</td>\n",
       "      <td>0.0</td>\n",
       "      <td>...</td>\n",
       "      <td>317.8949</td>\n",
       "      <td>0.0</td>\n",
       "      <td>0.1359</td>\n",
       "      <td>0</td>\n",
       "      <td>0.2017</td>\n",
       "      <td>319.9297</td>\n",
       "      <td>66.2987</td>\n",
       "      <td>10.6300</td>\n",
       "      <td>51.1339</td>\n",
       "      <td>1</td>\n",
       "    </tr>\n",
       "    <tr>\n",
       "      <th>3</th>\n",
       "      <td>0.11</td>\n",
       "      <td>1980-10-04</td>\n",
       "      <td>65.2</td>\n",
       "      <td>45.4</td>\n",
       "      <td>618.9124</td>\n",
       "      <td>314.7966</td>\n",
       "      <td>0.2308</td>\n",
       "      <td>0.0672</td>\n",
       "      <td>0.0672</td>\n",
       "      <td>0.0</td>\n",
       "      <td>...</td>\n",
       "      <td>314.7966</td>\n",
       "      <td>0.0</td>\n",
       "      <td>0.1282</td>\n",
       "      <td>0</td>\n",
       "      <td>0.2280</td>\n",
       "      <td>316.8498</td>\n",
       "      <td>66.2987</td>\n",
       "      <td>7.2411</td>\n",
       "      <td>45.0339</td>\n",
       "      <td>1</td>\n",
       "    </tr>\n",
       "    <tr>\n",
       "      <th>4</th>\n",
       "      <td>0.00</td>\n",
       "      <td>1980-10-05</td>\n",
       "      <td>62.0</td>\n",
       "      <td>43.3</td>\n",
       "      <td>612.8231</td>\n",
       "      <td>278.0202</td>\n",
       "      <td>0.2308</td>\n",
       "      <td>0.0000</td>\n",
       "      <td>0.0000</td>\n",
       "      <td>0.0</td>\n",
       "      <td>...</td>\n",
       "      <td>278.0202</td>\n",
       "      <td>0.0</td>\n",
       "      <td>0.1083</td>\n",
       "      <td>0</td>\n",
       "      <td>0.2147</td>\n",
       "      <td>279.8678</td>\n",
       "      <td>63.0987</td>\n",
       "      <td>6.0744</td>\n",
       "      <td>42.9339</td>\n",
       "      <td>1</td>\n",
       "    </tr>\n",
       "  </tbody>\n",
       "</table>\n",
       "<p>5 rows × 26 columns</p>\n",
       "</div>"
      ],
      "text/plain": [
       "   prcp        date  tmax  tmin  basin_horad  basin_orad  canopy_covden  \\\n",
       "0  0.00  1980-10-01  77.5  50.1     637.1866    401.4003         0.2308   \n",
       "1  0.17  1980-10-02  76.5  51.9     631.0960    393.9506         0.2308   \n",
       "2  0.43  1980-10-03  65.2  51.5     625.0040    317.8949         0.2308   \n",
       "3  0.11  1980-10-04  65.2  45.4     618.9124    314.7966         0.2308   \n",
       "4  0.00  1980-10-05  62.0  43.3     612.8231    278.0202         0.2308   \n",
       "\n",
       "   hru_ppt  hru_rain  hru_snow  ...      orad  pkwater_equiv   potet  pptmix  \\\n",
       "0   0.0000    0.0000       0.0  ...  401.4003            0.0  0.1863       0   \n",
       "1   0.1039    0.1039       0.0  ...  393.9506            0.0  0.1840       0   \n",
       "2   0.2629    0.2629       0.0  ...  317.8949            0.0  0.1359       0   \n",
       "3   0.0672    0.0672       0.0  ...  314.7966            0.0  0.1282       0   \n",
       "4   0.0000    0.0000       0.0  ...  278.0202            0.0  0.1083       0   \n",
       "\n",
       "   soil_moist_tot     swrad    tmaxf    tminc    tminf  transp_on  \n",
       "0          0.0000  403.8735  78.5987   9.8522  49.7339          1  \n",
       "1          0.0566  396.4248  77.5987  10.8522  51.5339          1  \n",
       "2          0.2017  319.9297  66.2987  10.6300  51.1339          1  \n",
       "3          0.2280  316.8498  66.2987   7.2411  45.0339          1  \n",
       "4          0.2147  279.8678  63.0987   6.0744  42.9339          1  \n",
       "\n",
       "[5 rows x 26 columns]"
      ]
     },
     "execution_count": 15,
     "metadata": {},
     "output_type": "execute_result"
    }
   ],
   "source": [
    "synced_vals.head()"
   ]
  },
  {
   "cell_type": "code",
   "execution_count": 16,
   "metadata": {},
   "outputs": [
    {
     "data": {
      "text/html": [
       "<div>\n",
       "<style scoped>\n",
       "    .dataframe tbody tr th:only-of-type {\n",
       "        vertical-align: middle;\n",
       "    }\n",
       "\n",
       "    .dataframe tbody tr th {\n",
       "        vertical-align: top;\n",
       "    }\n",
       "\n",
       "    .dataframe thead th {\n",
       "        text-align: right;\n",
       "    }\n",
       "</style>\n",
       "<table border=\"1\" class=\"dataframe\">\n",
       "  <thead>\n",
       "    <tr style=\"text-align: right;\">\n",
       "      <th></th>\n",
       "      <th>prcp</th>\n",
       "      <th>date</th>\n",
       "      <th>tmax</th>\n",
       "      <th>tmin</th>\n",
       "      <th>basin_horad</th>\n",
       "      <th>basin_orad</th>\n",
       "      <th>canopy_covden</th>\n",
       "      <th>hru_ppt</th>\n",
       "      <th>hru_rain</th>\n",
       "      <th>hru_snow</th>\n",
       "      <th>...</th>\n",
       "      <th>orad</th>\n",
       "      <th>pkwater_equiv</th>\n",
       "      <th>potet</th>\n",
       "      <th>pptmix</th>\n",
       "      <th>soil_moist_tot</th>\n",
       "      <th>swrad</th>\n",
       "      <th>tmaxf</th>\n",
       "      <th>tminc</th>\n",
       "      <th>tminf</th>\n",
       "      <th>transp_on</th>\n",
       "    </tr>\n",
       "  </thead>\n",
       "  <tbody>\n",
       "    <tr>\n",
       "      <th>360</th>\n",
       "      <td>0.00</td>\n",
       "      <td>1981-09-26</td>\n",
       "      <td>65.1</td>\n",
       "      <td>51.2</td>\n",
       "      <td>673.5969</td>\n",
       "      <td>144.6075</td>\n",
       "      <td>0.2308</td>\n",
       "      <td>0.0000</td>\n",
       "      <td>0.0000</td>\n",
       "      <td>0.0</td>\n",
       "      <td>...</td>\n",
       "      <td>144.6075</td>\n",
       "      <td>0.0</td>\n",
       "      <td>0.0559</td>\n",
       "      <td>0</td>\n",
       "      <td>0.6204</td>\n",
       "      <td>145.3992</td>\n",
       "      <td>66.1987</td>\n",
       "      <td>10.4633</td>\n",
       "      <td>50.8339</td>\n",
       "      <td>1</td>\n",
       "    </tr>\n",
       "    <tr>\n",
       "      <th>361</th>\n",
       "      <td>0.02</td>\n",
       "      <td>1981-09-27</td>\n",
       "      <td>76.4</td>\n",
       "      <td>53.0</td>\n",
       "      <td>667.5533</td>\n",
       "      <td>358.0934</td>\n",
       "      <td>0.2308</td>\n",
       "      <td>0.0122</td>\n",
       "      <td>0.0122</td>\n",
       "      <td>0.0</td>\n",
       "      <td>...</td>\n",
       "      <td>358.0934</td>\n",
       "      <td>0.0</td>\n",
       "      <td>0.1527</td>\n",
       "      <td>0</td>\n",
       "      <td>0.5382</td>\n",
       "      <td>360.0937</td>\n",
       "      <td>77.4987</td>\n",
       "      <td>11.4633</td>\n",
       "      <td>52.6339</td>\n",
       "      <td>1</td>\n",
       "    </tr>\n",
       "    <tr>\n",
       "      <th>362</th>\n",
       "      <td>0.00</td>\n",
       "      <td>1981-09-28</td>\n",
       "      <td>68.1</td>\n",
       "      <td>43.6</td>\n",
       "      <td>661.4974</td>\n",
       "      <td>232.0970</td>\n",
       "      <td>0.2308</td>\n",
       "      <td>0.0000</td>\n",
       "      <td>0.0000</td>\n",
       "      <td>0.0</td>\n",
       "      <td>...</td>\n",
       "      <td>232.0970</td>\n",
       "      <td>0.0</td>\n",
       "      <td>0.0864</td>\n",
       "      <td>0</td>\n",
       "      <td>0.5142</td>\n",
       "      <td>233.4196</td>\n",
       "      <td>69.1987</td>\n",
       "      <td>6.2411</td>\n",
       "      <td>43.2339</td>\n",
       "      <td>1</td>\n",
       "    </tr>\n",
       "    <tr>\n",
       "      <th>363</th>\n",
       "      <td>0.00</td>\n",
       "      <td>1981-09-29</td>\n",
       "      <td>58.0</td>\n",
       "      <td>40.8</td>\n",
       "      <td>655.4311</td>\n",
       "      <td>131.0862</td>\n",
       "      <td>0.2308</td>\n",
       "      <td>0.0000</td>\n",
       "      <td>0.0000</td>\n",
       "      <td>0.0</td>\n",
       "      <td>...</td>\n",
       "      <td>131.0862</td>\n",
       "      <td>0.0</td>\n",
       "      <td>0.0437</td>\n",
       "      <td>0</td>\n",
       "      <td>0.5026</td>\n",
       "      <td>131.8481</td>\n",
       "      <td>59.0987</td>\n",
       "      <td>4.6855</td>\n",
       "      <td>40.4339</td>\n",
       "      <td>1</td>\n",
       "    </tr>\n",
       "    <tr>\n",
       "      <th>364</th>\n",
       "      <td>0.02</td>\n",
       "      <td>1981-09-30</td>\n",
       "      <td>60.7</td>\n",
       "      <td>39.3</td>\n",
       "      <td>649.3560</td>\n",
       "      <td>129.8712</td>\n",
       "      <td>0.2308</td>\n",
       "      <td>0.0122</td>\n",
       "      <td>0.0122</td>\n",
       "      <td>0.0</td>\n",
       "      <td>...</td>\n",
       "      <td>129.8712</td>\n",
       "      <td>0.0</td>\n",
       "      <td>0.0438</td>\n",
       "      <td>0</td>\n",
       "      <td>0.4990</td>\n",
       "      <td>130.6410</td>\n",
       "      <td>61.7987</td>\n",
       "      <td>3.8522</td>\n",
       "      <td>38.9339</td>\n",
       "      <td>1</td>\n",
       "    </tr>\n",
       "  </tbody>\n",
       "</table>\n",
       "<p>5 rows × 26 columns</p>\n",
       "</div>"
      ],
      "text/plain": [
       "     prcp        date  tmax  tmin  basin_horad  basin_orad  canopy_covden  \\\n",
       "360  0.00  1981-09-26  65.1  51.2     673.5969    144.6075         0.2308   \n",
       "361  0.02  1981-09-27  76.4  53.0     667.5533    358.0934         0.2308   \n",
       "362  0.00  1981-09-28  68.1  43.6     661.4974    232.0970         0.2308   \n",
       "363  0.00  1981-09-29  58.0  40.8     655.4311    131.0862         0.2308   \n",
       "364  0.02  1981-09-30  60.7  39.3     649.3560    129.8712         0.2308   \n",
       "\n",
       "     hru_ppt  hru_rain  hru_snow  ...      orad  pkwater_equiv   potet  \\\n",
       "360   0.0000    0.0000       0.0  ...  144.6075            0.0  0.0559   \n",
       "361   0.0122    0.0122       0.0  ...  358.0934            0.0  0.1527   \n",
       "362   0.0000    0.0000       0.0  ...  232.0970            0.0  0.0864   \n",
       "363   0.0000    0.0000       0.0  ...  131.0862            0.0  0.0437   \n",
       "364   0.0122    0.0122       0.0  ...  129.8712            0.0  0.0438   \n",
       "\n",
       "     pptmix  soil_moist_tot     swrad    tmaxf    tminc    tminf  transp_on  \n",
       "360       0          0.6204  145.3992  66.1987  10.4633  50.8339          1  \n",
       "361       0          0.5382  360.0937  77.4987  11.4633  52.6339          1  \n",
       "362       0          0.5142  233.4196  69.1987   6.2411  43.2339          1  \n",
       "363       0          0.5026  131.8481  59.0987   4.6855  40.4339          1  \n",
       "364       0          0.4990  130.6410  61.7987   3.8522  38.9339          1  \n",
       "\n",
       "[5 rows x 26 columns]"
      ]
     },
     "execution_count": 16,
     "metadata": {},
     "output_type": "execute_result"
    }
   ],
   "source": [
    "synced_vals.tail()"
   ]
  },
  {
   "cell_type": "code",
   "execution_count": 17,
   "metadata": {},
   "outputs": [
    {
     "name": "stdout",
     "output_type": "stream",
     "text": [
      "<class 'pandas.core.frame.DataFrame'>\n",
      "Int64Index: 365 entries, 0 to 364\n",
      "Data columns (total 26 columns):\n",
      " #   Column          Non-Null Count  Dtype  \n",
      "---  ------          --------------  -----  \n",
      " 0   prcp            365 non-null    float64\n",
      " 1   date            365 non-null    object \n",
      " 2   tmax            365 non-null    float64\n",
      " 3   tmin            365 non-null    float64\n",
      " 4   basin_horad     365 non-null    float64\n",
      " 5   basin_orad      365 non-null    float64\n",
      " 6   canopy_covden   365 non-null    float64\n",
      " 7   hru_ppt         365 non-null    float64\n",
      " 8   hru_rain        365 non-null    float64\n",
      " 9   hru_snow        365 non-null    float64\n",
      " 10  intcp_evap      365 non-null    float64\n",
      " 11  intcp_stor      365 non-null    float64\n",
      " 12  net_ppt         365 non-null    float64\n",
      " 13  net_rain        365 non-null    float64\n",
      " 14  net_snow        365 non-null    float64\n",
      " 15  newsnow         365 non-null    int64  \n",
      " 16  orad            365 non-null    float64\n",
      " 17  pkwater_equiv   365 non-null    float64\n",
      " 18  potet           365 non-null    float64\n",
      " 19  pptmix          365 non-null    int64  \n",
      " 20  soil_moist_tot  365 non-null    float64\n",
      " 21  swrad           365 non-null    float64\n",
      " 22  tmaxf           365 non-null    float64\n",
      " 23  tminc           365 non-null    float64\n",
      " 24  tminf           365 non-null    float64\n",
      " 25  transp_on       365 non-null    int64  \n",
      "dtypes: float64(22), int64(3), object(1)\n",
      "memory usage: 77.0+ KB\n"
     ]
    }
   ],
   "source": [
    "synced_vals.info()"
   ]
  },
  {
   "cell_type": "markdown",
   "metadata": {},
   "source": [
    "# Compute the adjusted hru temperatures"
   ]
  },
  {
   "cell_type": "code",
   "execution_count": 18,
   "metadata": {},
   "outputs": [],
   "source": [
    "# Compute the adjusted HRU temperature\n",
    "\n",
    "\n",
    "def adjust_temp(dates, tmx, tmn, tmxadj, tmnadj):\n",
    "    tmx_hru = np.zeros(len(dates))\n",
    "    tmn_hru = np.zeros(len(dates))\n",
    "\n",
    "    ii = 0\n",
    "    for date in dates:\n",
    "        jday = day_of_year(date)\n",
    "        imon = date.month - 1\n",
    "        tmx_hru[ii] = tmx[ii] + tmxadj[imon]\n",
    "        tmn_hru[ii] = tmn[ii] + tmnadj[imon]\n",
    "        ii += 1\n",
    "\n",
    "    return tmn_hru, tmx_hru"
   ]
  },
  {
   "cell_type": "code",
   "execution_count": 19,
   "metadata": {},
   "outputs": [],
   "source": [
    "# call adjust_temp\n",
    "\n",
    "dates = synced_vals[\"date\"].values\n",
    "tmax = synced_vals[\"tmax\"].values\n",
    "tmin = synced_vals[\"tmin\"].values\n",
    "\n",
    "params = read_param_file(pfn)\n",
    "vals = params[1]\n",
    "tmax_cbh_adj = vals[\"tmax_cbh_adj\"]\n",
    "tmin_cbh_adj = vals[\"tmin_cbh_adj\"]\n",
    "\n",
    "tmin_hru, tmax_hru = adjust_temp(dates, tmax, tmin, tmax_cbh_adj, tmin_cbh_adj)"
   ]
  },
  {
   "cell_type": "code",
   "execution_count": 20,
   "metadata": {},
   "outputs": [
    {
     "name": "stdout",
     "output_type": "stream",
     "text": [
      "21555.099799999996 21555.102405299996\n"
     ]
    }
   ],
   "source": [
    "err = synced_vals[\"tmaxf\"].values - tmax_hru\n",
    "print(sum(synced_vals[\"tmaxf\"].values), sum(tmax_hru))"
   ]
  },
  {
   "cell_type": "code",
   "execution_count": 21,
   "metadata": {},
   "outputs": [
    {
     "data": {
      "text/plain": [
       "Text(0, 0.5, 'Error tmax_hru (Degrees F)')"
      ]
     },
     "execution_count": 21,
     "metadata": {},
     "output_type": "execute_result"
    },
    {
     "data": {
      "image/png": "[encoded data removed]",
      "text/plain": [
       "<Figure size 432x288 with 1 Axes>"
      ]
     },
     "metadata": {
      "needs_background": "light"
     },
     "output_type": "display_data"
    }
   ],
   "source": [
    "plt.plot(dates, err)\n",
    "plt.xticks(rotation=30, ha=\"right\")\n",
    "plt.xlabel(\"Date\")\n",
    "plt.ylabel(\"Error tmax_hru (Degrees F)\")"
   ]
  },
  {
   "cell_type": "code",
   "execution_count": 22,
   "metadata": {},
   "outputs": [
    {
     "data": {
      "text/plain": [
       "Text(0, 0.5, 'Python computed tmax_hru (Degrees F)')"
      ]
     },
     "execution_count": 22,
     "metadata": {},
     "output_type": "execute_result"
    },
    {
     "data": {
      "image/png": "[encoded data removed]",
      "text/plain": [
       "<Figure size 432x288 with 1 Axes>"
      ]
     },
     "metadata": {
      "needs_background": "light"
     },
     "output_type": "display_data"
    }
   ],
   "source": [
    "plt.scatter(synced_vals[\"tmaxf\"].values, tmax_hru)\n",
    "plt.xlabel(\"PRMS computed tmaxf (Degrees F)\")\n",
    "plt.ylabel(\"Python computed tmax_hru (Degrees F)\")"
   ]
  },
  {
   "cell_type": "code",
   "execution_count": 23,
   "metadata": {},
   "outputs": [
    {
     "name": "stdout",
     "output_type": "stream",
     "text": [
      "14900.501299999996 14900.497526599996\n"
     ]
    }
   ],
   "source": [
    "err = synced_vals[\"tminf\"].values - tmin_hru\n",
    "print(sum(synced_vals[\"tminf\"].values), sum(tmin_hru))"
   ]
  },
  {
   "cell_type": "code",
   "execution_count": 24,
   "metadata": {},
   "outputs": [
    {
     "data": {
      "text/plain": [
       "Text(0, 0.5, 'Error tmin_hru (Degrees F)')"
      ]
     },
     "execution_count": 24,
     "metadata": {},
     "output_type": "execute_result"
    },
    {
     "data": {
      "image/png": "[encoded data removed]",
      "text/plain": [
       "<Figure size 432x288 with 1 Axes>"
      ]
     },
     "metadata": {
      "needs_background": "light"
     },
     "output_type": "display_data"
    }
   ],
   "source": [
    "plt.plot(dates, err)\n",
    "plt.xticks(rotation=30, ha=\"right\")\n",
    "plt.xlabel(\"Date\")\n",
    "plt.ylabel(\"Error tmin_hru (Degrees F)\")"
   ]
  },
  {
   "cell_type": "code",
   "execution_count": 25,
   "metadata": {},
   "outputs": [
    {
     "data": {
      "text/plain": [
       "Text(0, 0.5, 'Python computed tmin_hru (Degrees F)')"
      ]
     },
     "execution_count": 25,
     "metadata": {},
     "output_type": "execute_result"
    },
    {
     "data": {
      "image/png": "[encoded data removed]",
      "text/plain": [
       "<Figure size 432x288 with 1 Axes>"
      ]
     },
     "metadata": {
      "needs_background": "light"
     },
     "output_type": "display_data"
    }
   ],
   "source": [
    "plt.scatter(synced_vals[\"tminf\"].values, tmin_hru)\n",
    "plt.xlabel(\"PRMS computed tminf (Degrees F)\")\n",
    "plt.ylabel(\"Python computed tmin_hru (Degrees F)\")"
   ]
  },
  {
   "cell_type": "markdown",
   "metadata": {},
   "source": [
    "# Compute the precip form and the adjusted precip"
   ]
  },
  {
   "cell_type": "code",
   "execution_count": 26,
   "metadata": {},
   "outputs": [],
   "source": [
    "def adjust_precip(\n",
    "    dates,\n",
    "    ppt,\n",
    "    tmnh,\n",
    "    tmxh,\n",
    "    tmax_allsnow,\n",
    "    tmax_allrain,\n",
    "    snow_cbh_adj,\n",
    "    rain_cbh_adj,\n",
    "    adjmix_rain,\n",
    "):\n",
    "    hru_ppt = np.zeros(len(dates))\n",
    "    hru_snow = np.zeros(len(dates))\n",
    "    hru_rain = np.zeros(len(dates))\n",
    "    newsnow = np.zeros(len(dates), dtype=int)\n",
    "    pptmix = np.zeros(len(dates), dtype=int)\n",
    "\n",
    "    ii = 0\n",
    "    for date in dates:\n",
    "        jday = day_of_year(date)\n",
    "        imon = date.month - 1\n",
    "\n",
    "        if ppt[ii] > 0.0:\n",
    "            if tmxh[ii] <= tmax_allsnow[imon]:\n",
    "                hru_ppt[ii] = ppt[ii] * snow_cbh_adj[imon]\n",
    "                hru_snow[ii] = hru_ppt[ii]\n",
    "                prmx = 0.0\n",
    "                newsnow[ii] = True\n",
    "\n",
    "            elif (tmnh[ii] > tmax_allsnow[imon]) or (tmxh[ii] >= tmax_allrain[imon]):\n",
    "                hru_ppt[ii] = ppt[ii] * rain_cbh_adj[imon]\n",
    "                hru_rain[ii] = hru_ppt[ii]\n",
    "                prmx = 1.0\n",
    "\n",
    "            else:\n",
    "                tdiff = tmxh[ii] - tmnh[ii]\n",
    "                prmx = (\n",
    "                    (tmxh[ii] - tmax_allsnow[imon]) / (tmxh[ii] - tmnh[ii])\n",
    "                ) * adjmix_rain[imon]\n",
    "\n",
    "                if prmx < 1.0:\n",
    "                    pptmix[ii] = True\n",
    "                    hru_ppt[ii] = ppt[ii] * snow_cbh_adj[imon]\n",
    "                    hru_rain[ii] = prmx * hru_ppt[ii]\n",
    "                    hru_snow[ii] = hru_ppt[ii] - hru_rain[ii]\n",
    "                    newsnow[ii] = True\n",
    "                else:\n",
    "                    hru_ppt[ii] = ppt[ii] * rain_cbh_adj[imon]\n",
    "                    hru_rain[ii] = hru_ppt[ii]\n",
    "        ii += 1\n",
    "\n",
    "    return hru_ppt, hru_snow, hru_rain, newsnow, pptmix"
   ]
  },
  {
   "cell_type": "code",
   "execution_count": 27,
   "metadata": {},
   "outputs": [],
   "source": [
    "# call adjust_precip\n",
    "\n",
    "dates = synced_vals[\"date\"].values\n",
    "prcp = synced_vals[\"prcp\"].values\n",
    "\n",
    "params = read_param_file(pfn)\n",
    "vals = params[1]\n",
    "tmax_allsnow = vals[\"tmax_allsnow\"]\n",
    "tmax_allrain_offset = vals[\"tmax_allrain_offset\"]\n",
    "tmax_allrain = tmax_allsnow + tmax_allrain_offset\n",
    "snow_cbh_adj = vals[\"snow_cbh_adj\"]\n",
    "rain_cbh_adj = vals[\"rain_cbh_adj\"]\n",
    "adjmix_rain = vals[\"adjmix_rain\"]\n",
    "\n",
    "# tmin_hru and tmax_hru come from the call to adjust_temp\n",
    "hru_ppt, hru_snow, hru_rain, newsnow, pptmix = adjust_precip(\n",
    "    dates,\n",
    "    prcp,\n",
    "    tmin_hru,\n",
    "    tmax_hru,\n",
    "    tmax_allsnow,\n",
    "    tmax_allrain,\n",
    "    snow_cbh_adj,\n",
    "    rain_cbh_adj,\n",
    "    adjmix_rain,\n",
    ")"
   ]
  },
  {
   "cell_type": "code",
   "execution_count": 28,
   "metadata": {},
   "outputs": [
    {
     "name": "stdout",
     "output_type": "stream",
     "text": [
      "41.0725 41.072602573000026\n"
     ]
    }
   ],
   "source": [
    "err = synced_vals[\"hru_ppt\"].values - hru_ppt\n",
    "print(sum(synced_vals[\"hru_ppt\"].values), sum(hru_ppt))"
   ]
  },
  {
   "cell_type": "code",
   "execution_count": 29,
   "metadata": {},
   "outputs": [
    {
     "data": {
      "text/plain": [
       "Text(0, 0.5, 'Error hru_ppt (Inches per day)')"
      ]
     },
     "execution_count": 29,
     "metadata": {},
     "output_type": "execute_result"
    },
    {
     "data": {
      "image/png": "[encoded data removed]",
      "text/plain": [
       "<Figure size 432x288 with 1 Axes>"
      ]
     },
     "metadata": {
      "needs_background": "light"
     },
     "output_type": "display_data"
    }
   ],
   "source": [
    "plt.plot(dates, err)\n",
    "plt.xticks(rotation=30, ha=\"right\")\n",
    "plt.xlabel(\"Date\")\n",
    "plt.ylabel(\"Error hru_ppt (Inches per day)\")"
   ]
  },
  {
   "cell_type": "code",
   "execution_count": 30,
   "metadata": {},
   "outputs": [
    {
     "data": {
      "text/plain": [
       "Text(0, 0.5, 'Python computed hru_ppt (Inches per day)')"
      ]
     },
     "execution_count": 30,
     "metadata": {},
     "output_type": "execute_result"
    },
    {
     "data": {
      "image/png": "[encoded data removed]",
      "text/plain": [
       "<Figure size 432x288 with 1 Axes>"
      ]
     },
     "metadata": {
      "needs_background": "light"
     },
     "output_type": "display_data"
    }
   ],
   "source": [
    "plt.scatter(synced_vals[\"hru_ppt\"].values, hru_ppt)\n",
    "plt.xlabel(\"PRMS computed hru_ppt (Inches per day)\")\n",
    "plt.ylabel(\"Python computed hru_ppt (Inches per day)\")"
   ]
  },
  {
   "cell_type": "code",
   "execution_count": 31,
   "metadata": {},
   "outputs": [],
   "source": [
    "err = synced_vals[\"hru_rain\"].values - hru_rain"
   ]
  },
  {
   "cell_type": "code",
   "execution_count": 32,
   "metadata": {},
   "outputs": [
    {
     "data": {
      "text/plain": [
       "Text(0, 0.5, 'Error hru_rain (Inches per day)')"
      ]
     },
     "execution_count": 32,
     "metadata": {},
     "output_type": "execute_result"
    },
    {
     "data": {
      "image/png": "[encoded data removed]",
      "text/plain": [
       "<Figure size 432x288 with 1 Axes>"
      ]
     },
     "metadata": {
      "needs_background": "light"
     },
     "output_type": "display_data"
    }
   ],
   "source": [
    "plt.plot(dates, err)\n",
    "plt.xticks(rotation=30, ha=\"right\")\n",
    "plt.xlabel(\"Date\")\n",
    "plt.ylabel(\"Error hru_rain (Inches per day)\")"
   ]
  },
  {
   "cell_type": "code",
   "execution_count": 33,
   "metadata": {},
   "outputs": [
    {
     "data": {
      "text/plain": [
       "Text(0, 0.5, 'Python computed hru_rain (Inches per day)')"
      ]
     },
     "execution_count": 33,
     "metadata": {},
     "output_type": "execute_result"
    },
    {
     "data": {
      "image/png": "[encoded data removed]",
      "text/plain": [
       "<Figure size 432x288 with 1 Axes>"
      ]
     },
     "metadata": {
      "needs_background": "light"
     },
     "output_type": "display_data"
    }
   ],
   "source": [
    "plt.scatter(synced_vals[\"hru_rain\"].values, hru_rain)\n",
    "plt.xlabel(\"PRMS computed hru_rain (Inches per day)\")\n",
    "plt.ylabel(\"Python computed hru_rain (Inches per day)\")"
   ]
  },
  {
   "cell_type": "code",
   "execution_count": 34,
   "metadata": {},
   "outputs": [],
   "source": [
    "err = synced_vals[\"hru_snow\"].values - hru_snow"
   ]
  },
  {
   "cell_type": "code",
   "execution_count": 35,
   "metadata": {},
   "outputs": [
    {
     "data": {
      "text/plain": [
       "Text(0, 0.5, 'Error hru_snow (Inches per day)')"
      ]
     },
     "execution_count": 35,
     "metadata": {},
     "output_type": "execute_result"
    },
    {
     "data": {
      "image/png": "[encoded data removed]",
      "text/plain": [
       "<Figure size 432x288 with 1 Axes>"
      ]
     },
     "metadata": {
      "needs_background": "light"
     },
     "output_type": "display_data"
    }
   ],
   "source": [
    "plt.plot(dates, err)\n",
    "plt.xticks(rotation=30, ha=\"right\")\n",
    "plt.xlabel(\"Date\")\n",
    "plt.ylabel(\"Error hru_snow (Inches per day)\")"
   ]
  },
  {
   "cell_type": "code",
   "execution_count": 36,
   "metadata": {},
   "outputs": [
    {
     "data": {
      "text/plain": [
       "Text(0, 0.5, 'Python computed hru_snow (Inches per day)')"
      ]
     },
     "execution_count": 36,
     "metadata": {},
     "output_type": "execute_result"
    },
    {
     "data": {
      "image/png": "[encoded data removed]",
      "text/plain": [
       "<Figure size 432x288 with 1 Axes>"
      ]
     },
     "metadata": {
      "needs_background": "light"
     },
     "output_type": "display_data"
    }
   ],
   "source": [
    "plt.scatter(synced_vals[\"hru_snow\"].values, hru_snow)\n",
    "plt.xlabel(\"PRMS computed hru_snow (Inches per day)\")\n",
    "plt.ylabel(\"Python computed hru_snow (Inches per day)\")"
   ]
  },
  {
   "cell_type": "code",
   "execution_count": 37,
   "metadata": {},
   "outputs": [
    {
     "data": {
      "text/plain": [
       "Text(0, 0.5, 'newsnow (Unitless)')"
      ]
     },
     "execution_count": 37,
     "metadata": {},
     "output_type": "execute_result"
    },
    {
     "data": {
      "image/png": "[encoded data removed]",
      "text/plain": [
       "<Figure size 432x288 with 1 Axes>"
      ]
     },
     "metadata": {
      "needs_background": "light"
     },
     "output_type": "display_data"
    }
   ],
   "source": [
    "plt.plot(dates, newsnow)\n",
    "plt.xticks(rotation=30, ha=\"right\")\n",
    "plt.xlabel(\"Date\")\n",
    "plt.ylabel(\"newsnow (Unitless)\")"
   ]
  },
  {
   "cell_type": "code",
   "execution_count": 38,
   "metadata": {},
   "outputs": [
    {
     "data": {
      "text/plain": [
       "Text(0, 0.5, 'newsnow (Unitless)')"
      ]
     },
     "execution_count": 38,
     "metadata": {},
     "output_type": "execute_result"
    },
    {
     "data": {
      "image/png": "[encoded data removed]",
      "text/plain": [
       "<Figure size 432x288 with 1 Axes>"
      ]
     },
     "metadata": {
      "needs_background": "light"
     },
     "output_type": "display_data"
    }
   ],
   "source": [
    "plt.plot(dates, synced_vals[\"newsnow\"].values)\n",
    "plt.xticks(rotation=30, ha=\"right\")\n",
    "plt.xlabel(\"Date\")\n",
    "plt.ylabel(\"newsnow (Unitless)\")"
   ]
  },
  {
   "cell_type": "code",
   "execution_count": 39,
   "metadata": {},
   "outputs": [],
   "source": [
    "err = synced_vals[\"newsnow\"].values - newsnow"
   ]
  },
  {
   "cell_type": "code",
   "execution_count": 40,
   "metadata": {},
   "outputs": [
    {
     "data": {
      "text/plain": [
       "Text(0, 0.5, 'Error newsnow (Unitless)')"
      ]
     },
     "execution_count": 40,
     "metadata": {},
     "output_type": "execute_result"
    },
    {
     "data": {
      "image/png": "[encoded data removed]",
      "text/plain": [
       "<Figure size 432x288 with 1 Axes>"
      ]
     },
     "metadata": {
      "needs_background": "light"
     },
     "output_type": "display_data"
    }
   ],
   "source": [
    "plt.plot(dates, err)\n",
    "plt.xticks(rotation=30, ha=\"right\")\n",
    "plt.xlabel(\"Date\")\n",
    "plt.ylabel(\"Error newsnow (Unitless)\")"
   ]
  },
  {
   "cell_type": "code",
   "execution_count": 41,
   "metadata": {},
   "outputs": [
    {
     "data": {
      "text/plain": [
       "Text(0, 0.5, 'pptmix (Unitless)')"
      ]
     },
     "execution_count": 41,
     "metadata": {},
     "output_type": "execute_result"
    },
    {
     "data": {
      "image/png": "[encoded data removed]",
      "text/plain": [
       "<Figure size 432x288 with 1 Axes>"
      ]
     },
     "metadata": {
      "needs_background": "light"
     },
     "output_type": "display_data"
    }
   ],
   "source": [
    "plt.plot(dates, pptmix)\n",
    "plt.xticks(rotation=30, ha=\"right\")\n",
    "plt.xlabel(\"Date\")\n",
    "plt.ylabel(\"pptmix (Unitless)\")"
   ]
  },
  {
   "cell_type": "code",
   "execution_count": 42,
   "metadata": {},
   "outputs": [
    {
     "data": {
      "text/plain": [
       "Text(0, 0.5, 'pptmix (Unitless)')"
      ]
     },
     "execution_count": 42,
     "metadata": {},
     "output_type": "execute_result"
    },
    {
     "data": {
      "image/png": "[encoded data removed]",
      "text/plain": [
       "<Figure size 432x288 with 1 Axes>"
      ]
     },
     "metadata": {
      "needs_background": "light"
     },
     "output_type": "display_data"
    }
   ],
   "source": [
    "plt.plot(dates, synced_vals[\"pptmix\"].values)\n",
    "plt.xticks(rotation=30, ha=\"right\")\n",
    "plt.xlabel(\"Date\")\n",
    "plt.ylabel(\"pptmix (Unitless)\")"
   ]
  },
  {
   "cell_type": "code",
   "execution_count": null,
   "metadata": {},
   "outputs": [],
   "source": [
    "err = synced_vals[\"pptmix\"].values - pptmix"
   ]
  },
  {
   "cell_type": "code",
   "execution_count": 43,
   "metadata": {},
   "outputs": [
    {
     "data": {
      "text/plain": [
       "Text(0, 0.5, 'Error pptmix (Unitless)')"
      ]
     },
     "execution_count": 43,
     "metadata": {},
     "output_type": "execute_result"
    },
    {
     "data": {
      "image/png": "[encoded data removed]",
      "text/plain": [
       "<Figure size 432x288 with 1 Axes>"
      ]
     },
     "metadata": {
      "needs_background": "light"
     },
     "output_type": "display_data"
    }
   ],
   "source": [
    "plt.plot(dates, err)\n",
    "plt.xticks(rotation=30, ha=\"right\")\n",
    "plt.xlabel(\"Date\")\n",
    "plt.ylabel(\"Error pptmix (Unitless)\")"
   ]
  },
  {
   "cell_type": "code",
   "execution_count": null,
   "metadata": {},
   "outputs": [],
   "source": []
  },
  {
   "cell_type": "code",
   "execution_count": null,
   "metadata": {},
   "outputs": [],
   "source": []
  }
 ],
 "metadata": {
  "kernelspec": {
   "display_name": "Python 3",
   "language": "python",
   "name": "python3"
  },
  "language_info": {
   "codemirror_mode": {
    "name": "ipython",
    "version": 3
   },
   "file_extension": ".py",
   "mimetype": "text/x-python",
   "name": "python",
   "nbconvert_exporter": "python",
   "pygments_lexer": "ipython3",
   "version": "3.8.3"
  }
 },
 "nbformat": 4,
 "nbformat_minor": 4
}
