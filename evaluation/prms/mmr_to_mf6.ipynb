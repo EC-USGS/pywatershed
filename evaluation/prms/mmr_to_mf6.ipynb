{
 "cells": [
  {
   "cell_type": "markdown",
   "id": "035f97a9-3c25-4cbb-a419-c40fc2c4f278",
   "metadata": {},
   "source": [
    "# MMR To MF6\n",
    "Purpose\n",
    "* export PRMS files for Muskingum-Mann Routing to run in MF6 as Muskingum\n",
    "* run mf6 with these files\n",
    "* compare PRMS MMR and MF6 MR"
   ]
  },
  {
   "cell_type": "code",
   "execution_count": null,
   "id": "e7e2b8db-dc8c-4eae-b185-4181ff05490c",
   "metadata": {},
   "outputs": [],
   "source": [
    "# This notebook uses the environment found in\n",
    "# pynhm/ci/requirements/pynhmf6nb.yml\n",
    "# running python update_flopy.py in modflow6/autotest likely required\n",
    "\n",
    "import flopy\n",
    "import pathlib as pl\n",
    "import shutil\n",
    "\n",
    "import hvplot.xarray\n",
    "import numpy as np\n",
    "import pandas as pd\n",
    "import pint\n",
    "import xarray as xr\n",
    "\n",
    "import pywatershed\n",
    "from pywatershed.utils.prms_to_mf6 import MMRToMF6"
   ]
  },
  {
   "cell_type": "code",
   "execution_count": null,
   "id": "a4327dd4-94e1-4423-9868-878ca43dce91",
   "metadata": {},
   "outputs": [],
   "source": [
    "# General setup: use specified\n",
    "mf6_bin = pl.Path(\"/Users/jmccreight/usgs/modflow6/bin/mf6\")\n",
    "domain = \"drb_2yr\"\n",
    "start_time = np.datetime64(\"1979-01-01T00:00:00\")\n",
    "end_time = np.datetime64(\"1979-07-01T00:00:00\")\n",
    "observations_nc_file = pl.Path(\n",
    "    \"/Users/jmccreight/usgs/data/pynhm/nhm_subsets/drb/drb_2yr_gage_poi_obs.nc\"\n",
    ")"
   ]
  },
  {
   "cell_type": "code",
   "execution_count": null,
   "id": "1d15c524-f3fe-4783-9f13-df3defc70acc",
   "metadata": {},
   "outputs": [],
   "source": [
    "# Data paths\n",
    "pynhm_root_dir = pywatershed.constants.__pywatershed_root__.parent\n",
    "test_data_dir = pynhm_root_dir / \"test_data\"\n",
    "domain_dir = test_data_dir / f\"{domain}\"\n",
    "param_file = domain_dir / \"myparam.param\"\n",
    "control_file = domain_dir / \"control.test\"\n",
    "inflow_dir = control_file.parent / \"output\""
   ]
  },
  {
   "cell_type": "code",
   "execution_count": null,
   "id": "a4494e7f-8a6c-4c9e-b1b3-e6e0153e066a",
   "metadata": {},
   "outputs": [],
   "source": [
    "# where we'll run the experiment\n",
    "mmr_to_mf6_dir = pynhm_root_dir / f\"evaluation/prms/tmp_{domain}_mmr_to_mf6\"\n",
    "if mmr_to_mf6_dir.exists():\n",
    "    shutil.rmtree(mmr_to_mf6_dir)\n",
    "\n",
    "mmr_to_mf6_dir.mkdir(parents=True)"
   ]
  },
  {
   "cell_type": "code",
   "execution_count": null,
   "id": "f1c5a66c-8ee1-4290-a689-28cace9522ef",
   "metadata": {},
   "outputs": [],
   "source": [
    "# Generate the data for mf6 MR routing from PRMS\n",
    "mm = MMRToMF6(\n",
    "    param_file=param_file,\n",
    "    control_file=control_file,\n",
    "    output_dir=mmr_to_mf6_dir,\n",
    "    inflow_dir=inflow_dir,\n",
    "    sim_name=domain,\n",
    "    bc_binary_files=True,  # T, T\n",
    "    bc_flows_combine=True,  # F, T\n",
    "    write_on_init=False,\n",
    "    # length_units=\"meters\",\n",
    "    # time_units=\"seconds\",\n",
    "    start_time=start_time,\n",
    "    end_time=end_time,\n",
    "    save_flows=True,\n",
    ")"
   ]
  },
  {
   "cell_type": "code",
   "execution_count": null,
   "id": "cd2ff6fb-5dc2-4e47-ad5b-1736e29cb187",
   "metadata": {},
   "outputs": [],
   "source": [
    "# Save mm object's MMR to save flows\n",
    "oc = flopy.mf6.ModflowSnfoc(\n",
    "    mm.sim.snf[0],\n",
    "    budget_filerecord=f\"{domain}.bud\",\n",
    "    saverecord=[\n",
    "        (\"BUDGET\", \"ALL\"),\n",
    "    ],\n",
    "    printrecord=[\n",
    "        (\"BUDGET\", \"ALL\"),\n",
    "    ],\n",
    ")\n",
    "\n",
    "mmr = mm.sim.snf[0].get_package(\"mmr\")\n",
    "mmr.save_flows = True"
   ]
  },
  {
   "cell_type": "code",
   "execution_count": null,
   "id": "56f92359-1de4-4a8a-8d84-20480c71ee65",
   "metadata": {},
   "outputs": [],
   "source": [
    "# Write the data for MF6\n",
    "mm.write()"
   ]
  },
  {
   "cell_type": "code",
   "execution_count": null,
   "id": "947d2740-4b37-42a5-b99a-8a11ce76fbf1",
   "metadata": {},
   "outputs": [],
   "source": [
    "# copy the MF6 binary\n",
    "shutil.copy2(mf6_bin, mmr_to_mf6_dir / mf6_bin.name)"
   ]
  },
  {
   "cell_type": "code",
   "execution_count": null,
   "id": "b4fdf738-0610-4b36-ae98-537f99e530b3",
   "metadata": {
    "tags": []
   },
   "outputs": [],
   "source": [
    "# Run MF6 MR\n",
    "import subprocess\n",
    "\n",
    "run_result = subprocess.run(\"./mf6\", cwd=mmr_to_mf6_dir, capture_output=True)"
   ]
  },
  {
   "cell_type": "code",
   "execution_count": null,
   "id": "ac167b9a-4e44-4370-91b9-9ee6d549f712",
   "metadata": {},
   "outputs": [],
   "source": [
    "# confirm\n",
    "assert run_result.returncode == 0"
   ]
  },
  {
   "cell_type": "code",
   "execution_count": null,
   "id": "e7e54a48-16cb-4d07-8a27-ffd2a5ed1e5d",
   "metadata": {},
   "outputs": [],
   "source": [
    "# parse the results from the budget object and the disl grid\n",
    "budobj = flopy.utils.binaryfile.CellBudgetFile(mmr_to_mf6_dir / f\"{domain}.bud\")\n",
    "flowja = budobj.get_data(text=\"FLOW-JA-FACE\")\n",
    "qstorage = budobj.get_data(text=\"STORAGE\")\n",
    "qextoutflow = budobj.get_data(text=\"EXT-OUTFLOW\")\n",
    "\n",
    "disl_grb = mmr_to_mf6_dir / f\"{domain}.disl.grb\"\n",
    "grb = flopy.mf6.utils.MfGrdFile(disl_grb)\n",
    "ia = grb.ia\n",
    "ja = grb.ja\n",
    "\n",
    "# reuse this\n",
    "tosegment = mm.sim.snf[0].disl.tosegment.get_data()"
   ]
  },
  {
   "cell_type": "code",
   "execution_count": null,
   "id": "310309af-9d8d-4f54-bcdb-26e26617ea92",
   "metadata": {},
   "outputs": [],
   "source": [
    "# build the flow from the budget\n",
    "def get_outflow(itime):\n",
    "    outflow = np.zeros(ia.shape[0] - 1)\n",
    "    flowjaflat = flowja[itime].flatten()\n",
    "    qextflat = qextoutflow[itime].flatten()\n",
    "    for n in range(grb.nodes):\n",
    "        itoseg = tosegment[n]\n",
    "        if itoseg == -1:\n",
    "            outflow[n] = -qextflat[n]\n",
    "        else:\n",
    "            found = False\n",
    "            for ipos in range(ia[n] + 1, ia[n + 1]):\n",
    "                j = ja[ipos]\n",
    "                if j == itoseg:\n",
    "                    found = True\n",
    "                    q = flowjaflat[ipos]\n",
    "                    outflow[n] = -q\n",
    "                if found:\n",
    "                    break\n",
    "            if not found:\n",
    "                raise Exception(\n",
    "                    f\"could not find entry for tosegment {ito} in flowja for node {n}\"\n",
    "                )\n",
    "\n",
    "    return outflow"
   ]
  },
  {
   "cell_type": "code",
   "execution_count": null,
   "id": "e675353b-197c-4fa0-95ab-e6280285ddee",
   "metadata": {},
   "outputs": [],
   "source": [
    "mf6_flow = [get_outflow(tt) for tt in range(len(flowja))]"
   ]
  },
  {
   "cell_type": "code",
   "execution_count": null,
   "id": "cec356ea-c773-4cf6-97ca-3cb099bcc9fb",
   "metadata": {},
   "outputs": [],
   "source": [
    "# bing in PRMS flows and convert units\n",
    "units = pint.UnitRegistry()\n",
    "flow_ds = (\n",
    "    xr.open_dataset(inflow_dir / \"seg_outflow.nc\")\n",
    "    .sel(time=slice(start_time, end_time))\n",
    "    .rename(seg_outflow=\"prms\")\n",
    ")\n",
    "\n",
    "flow_ds[\"prms\"][:, :] = (\n",
    "    (flow_ds[\"prms\"].values * units(\"feet ** 3 / second\")).to(\"meters ** 3 / second\")\n",
    ").m"
   ]
  },
  {
   "cell_type": "code",
   "execution_count": null,
   "id": "2a26ff0b-77a7-430b-8853-bcaaab10b2a6",
   "metadata": {},
   "outputs": [],
   "source": [
    "# add the MF6 flows the xarray dataset\n",
    "flow_ds[\"mf6\"] = xr.DataArray(mf6_flow, dims=[\"time\", \"nhm_seg\"])"
   ]
  },
  {
   "cell_type": "code",
   "execution_count": null,
   "id": "811d12c7-f264-46b1-bcb9-1d465fa68c4d",
   "metadata": {},
   "outputs": [],
   "source": [
    "# cheap way to identify the outlet\n",
    "display(flow_ds.mean(dim=\"time\").argmax().values)"
   ]
  },
  {
   "cell_type": "code",
   "execution_count": null,
   "id": "2c6c9ec1-9fd5-4920-ab1b-0d52526ebc46",
   "metadata": {
    "tags": []
   },
   "outputs": [],
   "source": [
    "flow_ds.nhm_seg[24].values"
   ]
  },
  {
   "cell_type": "code",
   "execution_count": null,
   "id": "527c3e74-eaee-406c-977f-868a419ecbc5",
   "metadata": {},
   "outputs": [],
   "source": [
    "flow_ds.hvplot(x=\"time\", groupby=\"nhm_seg\", ylabel=\"streamflow (m^3/s)\", xlabel=\"\")"
   ]
  },
  {
   "cell_type": "code",
   "execution_count": null,
   "id": "4c428902-0b85-4b1a-a9b6-dd60837d02e5",
   "metadata": {
    "tags": []
   },
   "outputs": [],
   "source": [
    "params = pywatershed.PrmsParameters.load(param_file)\n",
    "poi_id = np.chararray(flow_ds.prms.nhm_seg.shape, unicode=True, itemsize=15)\n",
    "#            123456789012345\n",
    "empty_str = \"               \"\n",
    "poi_id[:] = empty_str\n",
    "for ii, jj in enumerate(params.parameters[\"poi_gage_segment\"].tolist()):\n",
    "    poi_id[jj] = params.parameters[\"poi_gage_id\"][ii]\n",
    "\n",
    "flow_ds[\"poi_id\"] = xr.DataArray(poi_id, dims=[\"nhm_seg\"])\n",
    "mod_obs_ds = (\n",
    "    flow_ds.where(flow_ds.poi_id != empty_str, drop=True)\n",
    "    .set_coords(\"poi_id\")\n",
    "    .swap_dims(nhm_seg=\"poi_id\")\n",
    ")"
   ]
  },
  {
   "cell_type": "code",
   "execution_count": null,
   "id": "5929d41a-fc75-416c-b070-4e0f6153f2e0",
   "metadata": {
    "tags": []
   },
   "outputs": [],
   "source": [
    "obs_ds = xr.open_dataset(observations_nc_file)[\"discharge\"].rename(\"observed\")\n",
    "obs_ds[:] = (\n",
    "    (obs_ds.values * units(\"feet ** 3 / second\")).to(\"meters ** 3 / second\").magnitude\n",
    ")\n",
    "obs_ds = obs_ds.to_dataset()"
   ]
  },
  {
   "cell_type": "code",
   "execution_count": null,
   "id": "c7bdfc61-6a38-48c4-92b4-8c6e7611467c",
   "metadata": {
    "tags": []
   },
   "outputs": [],
   "source": [
    "eval_ds = xr.merge([obs_ds, mod_obs_ds], join=\"inner\")"
   ]
  },
  {
   "cell_type": "code",
   "execution_count": null,
   "id": "929da87d-193c-4cbf-adfe-ba20c35356ed",
   "metadata": {
    "tags": []
   },
   "outputs": [],
   "source": [
    "obs_all_na = np.isnan(eval_ds.observed).sum(dim=\"time\") == len(eval_ds.time)\n",
    "eval_ds = eval_ds.where(~obs_all_na, drop=True)"
   ]
  },
  {
   "cell_type": "code",
   "execution_count": null,
   "id": "6ab98b3e-b834-4251-a3d7-94338477e7fd",
   "metadata": {
    "tags": []
   },
   "outputs": [],
   "source": [
    "eval_ds.hvplot(x=\"time\", groupby=\"poi_id\", ylabel=\"streamflow (m^3/s)\", xlabel=\"\")"
   ]
  }
 ],
 "metadata": {
  "kernelspec": {
   "display_name": "Python 3 (ipykernel)",
   "language": "python",
   "name": "python3"
  },
  "language_info": {
   "codemirror_mode": {
    "name": "ipython",
    "version": 3
   },
   "file_extension": ".py",
   "mimetype": "text/x-python",
   "name": "python",
   "nbconvert_exporter": "python",
   "pygments_lexer": "ipython3",
   "version": "3.10.9"
  }
 },
 "nbformat": 4,
 "nbformat_minor": 5
}
