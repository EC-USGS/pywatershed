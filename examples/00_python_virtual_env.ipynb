{
 "cells": [
  {
   "cell_type": "markdown",
   "id": "c55c7fb2-2dce-4c17-b01e-ff166c8d336d",
   "metadata": {},
   "source": [
    "# 00 - pynhm Python Virtual Environments\n",
    "\n",
    "*James McCreight, September 2022*\n",
    "\n",
    "---\n",
    "\n",
    "This is the first notebook to get started. We'll setup the conda environment we need to git clone the repository, install the test data, and run all of the notebooks.\n",
    "\n",
    "## Requirements: Anaconda (or pip)\n",
    "To follow this notebook, you'll need to have conda installed (Anaconda or Miniconda). You may elect to use pip instead of conda for installing dependencies, and there is a note below on this. However [installing Anaconda or Miniconda](https://docs.anaconda.com/anaconda/install/) is recommended for a variety of reasons. \n",
    "\n",
    "## Install pynhm_nb environment\n",
    "\n",
    "We can get the raw file containing the list of our dependencies for conda from the URL listed in the first line below. We then remove an existing environment (take care!) named \"pynhm_nb\" and install envrionment to this name based on what is in the file. This code is to be run in a bash shell on your machine and not in this notebook. In general, conda installs can take some time, so please be prepared to wait when installing from conda commands. (This took about 5-6 min for me to complete). THen we examine the versions we installed of several executables\n",
    "\n",
    "```bash\n",
    "curl -LO https://github.com/EC-USGS/pynhm/blob/main/examples/examples_env.yml\n",
    "conda remove -y --name pynhm_nb --all || exit 1\n",
    "time conda env create -f examples_env.yml || exit 2\n",
    "\n",
    "conda activate pynhm_nb\n",
    "git --version\n",
    "conda --version\n",
    "pip --version\n",
    "python --version\n",
    "```"
   ]
  },
  {
   "cell_type": "markdown",
   "id": "a7b94cf4-c6e8-429c-bf38-1a04176684c0",
   "metadata": {},
   "source": [
    "The Python version installed by conda should be in the range 3.8 - 3.10. \n",
    "\n",
    "## Clone the repository, get the GIS files, launch this notebook\n",
    "\n",
    "After the commands above, run the following in the same shell and conda environment. When cloning the repository below, if you'd like to have your own fork of the code please fork on github and clone your fork instead of the upstream repository.\n",
    "\n",
    "```bash\n",
    "# customize this path to where you'd like to put the files and repository\n",
    "demo_dir=/c/Users/jmccreight/pynhm_demo\n",
    "mkdir -p $demo_dir\n",
    "cd $demo_dir\n",
    "\n",
    "# clone\n",
    "if [ ! -e pynhm ]; then\n",
    "    git clone https://github.com/EC-USGS/pynhm\n",
    "fi\n",
    "# install pynhm\n",
    "cd pynhm\n",
    "pip install -e .\n",
    "\n",
    "# GIS files\n",
    "cd examples\n",
    "curl -LO https://github.com/EC-USGS/pynhm/releases/download/v2022.0.1/pynhm_gis.zip\n",
    "unzip pynhm_gis.zip\n",
    "\n",
    "# Start jupyter-lab where subsequent notebooks will be run.\n",
    "jupyter-lab\n",
    "```\n",
    "Following notebooks are to be run in in the pynhm_nb environment in jupyter-lab __using the python kernel.__ "
   ]
  },
  {
   "cell_type": "code",
   "execution_count": null,
   "id": "5fb50f77-0a9a-49ea-b1cc-9c50d2aedca5",
   "metadata": {},
   "outputs": [],
   "source": []
  }
 ],
 "metadata": {
  "kernelspec": {
   "display_name": "Python [conda env:pynhm_nb] *",
   "language": "python",
   "name": "conda-env-pynhm_nb-py"
  },
  "language_info": {
   "codemirror_mode": {
    "name": "ipython",
    "version": 3
   },
   "file_extension": ".py",
   "mimetype": "text/x-python",
   "name": "python",
   "nbconvert_exporter": "python",
   "pygments_lexer": "ipython3",
   "version": "3.10.6"
  }
 },
 "nbformat": 4,
 "nbformat_minor": 5
}
