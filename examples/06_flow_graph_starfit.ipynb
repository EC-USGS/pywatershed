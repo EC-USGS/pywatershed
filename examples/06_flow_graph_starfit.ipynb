{
 "cells": [
  {
   "cell_type": "markdown",
   "id": "66cf7f2b-ca2e-40b0-81e9-6cf8bfd0e2eb",
   "metadata": {},
   "source": [
    "# FlowGraph with STARFit Reservoir: Big Sandy Reservoir\n",
    "1. Plot the plot, show where the reservoir should be\n",
    "2. Run the FGR simulation, look at flows out of where reservoir should be\n",
    "3. Insert the STARFit reservoir, compare flows.\n",
    "\n",
    "? Where will the FGR data reside? as release assets?"
   ]
  },
  {
   "cell_type": "code",
   "execution_count": null,
   "id": "42cab067-be80-4743-b09a-410c215abfcb",
   "metadata": {},
   "outputs": [],
   "source": [
    "from copy import deepcopy\n",
    "import pathlib as pl\n",
    "import pickle\n",
    "from pprint import pprint\n",
    "from shutil import rmtree\n",
    "\n",
    "import jupyter_black\n",
    "import numpy as np\n",
    "from tqdm.auto import tqdm\n",
    "import xarray as xr\n",
    "\n",
    "import hvplot.xarray  # noqa, after xr\n",
    "\n",
    "import pywatershed as pws\n",
    "from pywatershed.plot import DomainPlot\n",
    "from pywatershed.constants import __pywatershed_root__ as repo_root\n",
    "from pywatershed.constants import zero\n",
    "\n",
    "plot_height = 600\n",
    "plot_width = 1000\n",
    "\n",
    "jupyter_black.load()"
   ]
  },
  {
   "cell_type": "code",
   "execution_count": null,
   "id": "4ac724e3-5d9c-4e8e-9334-2f7f0be643b5",
   "metadata": {},
   "outputs": [],
   "source": [
    "nb_output_dir = pl.Path(\"./06_flow_graph_starfit\")\n",
    "if not nb_output_dir.exists():\n",
    "    nb_output_dir.mkdir()"
   ]
  },
  {
   "cell_type": "markdown",
   "id": "314d5271-3976-430b-a754-b7a72e336704",
   "metadata": {},
   "source": [
    "## Big Sandy Reservoir"
   ]
  },
  {
   "cell_type": "code",
   "execution_count": null,
   "id": "d2039fc5-dcb0-42fa-a5da-e9a9b9dd9fa5",
   "metadata": {},
   "outputs": [],
   "source": [
    "sf_data_dir = pl.Path(\"/Users/jmccreight/usgs/data/starfit_datasets/\")\n",
    "grand_file = sf_data_dir / \"GRanD_Version_1_3/GRanD_reservoirs_v1_3.shp\"\n",
    "istarf_file = sf_data_dir / \"ISTARF-CONUS.csv\"\n",
    "sf_params = pws.parameters.StarfitParameters.from_istarf_conus_grand(\n",
    "    grand_file=grand_file, istarf_file=istarf_file\n",
    ")"
   ]
  },
  {
   "cell_type": "code",
   "execution_count": null,
   "id": "ed3dc6c5-3e67-461e-a7e6-2fd7617c2b03",
   "metadata": {},
   "outputs": [],
   "source": [
    "grand_names = sf_params.parameters[\"GRanD_NAME\"].tolist()\n",
    "big_sandy_index = [\n",
    "    ii for ii, nn in enumerate(grand_names) if \"big sandy\" in str(nn).lower()\n",
    "][0]\n",
    "big_sandy_grand_id = sf_params.parameters[\"grand_id\"][big_sandy_index]"
   ]
  },
  {
   "cell_type": "code",
   "execution_count": null,
   "id": "6d30c6e7-f71d-45c8-aa47-de0857e0e608",
   "metadata": {},
   "outputs": [],
   "source": [
    "# get a parameter set with just the big sandy dike\n",
    "sf_params = pws.parameters.StarfitParameters.from_istarf_conus_grand(\n",
    "    grand_file=grand_file, istarf_file=istarf_file, grand_ids=[big_sandy_index]\n",
    ")"
   ]
  },
  {
   "cell_type": "code",
   "execution_count": null,
   "id": "90d3878e-0308-413f-a1d1-36a8f64956d8",
   "metadata": {},
   "outputs": [],
   "source": [
    "start_lat = sf_params.parameters[\"LAT_DD\"]\n",
    "start_lon = sf_params.parameters[\"LONG_DD\"]\n",
    "# unfortunately the above are for a different reservoir,\n",
    "# TODO: is the polygon correct?\n",
    "# the coords are easy to get on google maps\n",
    "start_lat = 42.25547378652696\n",
    "start_lon = -109.43063080023737"
   ]
  },
  {
   "cell_type": "code",
   "execution_count": null,
   "id": "10004a14-785a-43f4-abc6-5102156d219e",
   "metadata": {},
   "outputs": [],
   "source": [
    "domain_dir = pl.Path(\"/Users/jmccreight/usgs/data/pynhm/fgr\")\n",
    "domain_gis_dir = domain_dir / \"GIS\"\n",
    "\n",
    "control_file = domain_dir / \"nhm.control\"\n",
    "\n",
    "shp_file_hru = domain_gis_dir / \"model_nhru.shp\"\n",
    "shp_file_seg = domain_gis_dir / \"model_nsegment.shp\""
   ]
  },
  {
   "cell_type": "code",
   "execution_count": null,
   "id": "19533c6d-35b4-4017-9d03-a8992ca3f876",
   "metadata": {},
   "outputs": [],
   "source": [
    "# add GRanD shp file? or add to the object afterwards? option to get polygons\n",
    "# for sf_params above? but how to show connectivity?\n",
    "_ = DomainPlot(\n",
    "    hru_shp_file=shp_file_hru,\n",
    "    segment_shp_file=shp_file_seg,\n",
    "    start_lat=start_lat,\n",
    "    start_lon=start_lon,\n",
    "    start_zoom=13,\n",
    "    width=1300,\n",
    "    height=800,\n",
    ")"
   ]
  },
  {
   "cell_type": "markdown",
   "id": "1170d616-a760-455d-a88f-19ffc2205121",
   "metadata": {},
   "source": [
    "From the above, by mousing over the segments we can see the reservoir should be inserted above nhm_seg 44426 and below nhm_segs 44434 and 44435. "
   ]
  },
  {
   "cell_type": "code",
   "execution_count": null,
   "id": "36c6d718-d476-48ea-9e83-0cc7f6ed5bec",
   "metadata": {},
   "outputs": [],
   "source": [
    "from IPython.display import Image\n",
    "\n",
    "display(Image(\"big_sandy_satellite.png\", width=400))\n",
    "display(Image(url=\"IMG_3249.jpg\"))"
   ]
  },
  {
   "cell_type": "markdown",
   "id": "c98ccde5-0a85-491e-911c-4045aa68aa12",
   "metadata": {},
   "source": [
    "## Flaming Gorge Domain run with NHM and NO RESERVOIR\n",
    "Big Sandy Dike is upstream of the Flaming Gorge and we run it as part of that domain. Let's first take a look at the flows on segment 44426 with no reservoir present."
   ]
  },
  {
   "cell_type": "code",
   "execution_count": null,
   "id": "9b64dd07-cc07-4175-9f49-dffd532f7e81",
   "metadata": {},
   "outputs": [],
   "source": [
    "control = pws.Control.load_prms(control_file, warn_unused_options=False)\n",
    "control.edit_n_time_steps(365 * 2)\n",
    "parameter_file = domain_dir / control.options[\"parameter_file\"]\n",
    "params = pws.parameters.PrmsParameters.load(parameter_file)"
   ]
  },
  {
   "cell_type": "code",
   "execution_count": null,
   "id": "82ba984f-3402-416d-8800-0bee97158219",
   "metadata": {},
   "outputs": [],
   "source": [
    "# # run just once\n",
    "# cbh_nc_dir = domain_dir\n",
    "# cbh_files = [\n",
    "#     domain_dir / \"prcp.cbh\",\n",
    "#     domain_dir / \"tmax.cbh\",\n",
    "#     domain_dir / \"tmin.cbh\",\n",
    "# ]\n",
    "\n",
    "# params = pws.parameters.PrmsParameters.load(domain_dir / \"myparam.param\")\n",
    "\n",
    "# for cbh_file in cbh_files:\n",
    "#     out_file = cbh_nc_dir / cbh_file.with_suffix(\".nc\").name\n",
    "#     pws.utils.cbh_file_to_netcdf(cbh_file, params, out_file)"
   ]
  },
  {
   "cell_type": "code",
   "execution_count": null,
   "id": "9288d4c9-a1f0-423f-b580-e43230651d0d",
   "metadata": {},
   "outputs": [],
   "source": [
    "nhm_processes = [\n",
    "    pws.PRMSSolarGeometry,\n",
    "    pws.PRMSAtmosphere,\n",
    "    pws.PRMSCanopy,\n",
    "    pws.PRMSSnow,\n",
    "    pws.PRMSRunoff,\n",
    "    pws.PRMSSoilzone,\n",
    "    pws.PRMSGroundwater,\n",
    "    pws.PRMSChannel,\n",
    "]\n",
    "\n",
    "# we'll use the to-channel fluxes later when running FlowGraph as a post-process\n",
    "control.options[\"netcdf_output_var_names\"] = [\n",
    "    \"seg_outflow\",\n",
    "    \"sroff_vol\",\n",
    "    \"ssres_flow_vol\",\n",
    "    \"gwres_flow_vol\",\n",
    "]\n",
    "run_dir = nb_output_dir / \"fgr_nhm\"\n",
    "\n",
    "control.options = control.options | {\n",
    "    \"input_dir\": domain_dir,\n",
    "    \"budget_type\": \"error\",\n",
    "    \"calc_method\": \"numba\",\n",
    "    \"netcdf_output_dir\": run_dir,\n",
    "}"
   ]
  },
  {
   "cell_type": "code",
   "execution_count": null,
   "id": "2e96b9ba-1253-4a41-abfb-3444de3b37c0",
   "metadata": {},
   "outputs": [],
   "source": [
    "%%time\n",
    "if not run_dir.exists():\n",
    "    # must delete the run dir to re-run\n",
    "    run_dir.mkdir()\n",
    "    nhm = pws.Model(\n",
    "        nhm_processes,\n",
    "        control=control,\n",
    "        parameters=params,\n",
    "    )\n",
    "    nhm.run(finalize=True)\n",
    "    nhm.finalize()"
   ]
  },
  {
   "cell_type": "code",
   "execution_count": null,
   "id": "cdcfb7bc-5ebe-4fb8-a4f6-91a8370f3fbf",
   "metadata": {},
   "outputs": [],
   "source": [
    "outflow = xr.open_dataarray(run_dir / \"seg_outflow.nc\").sel(nhm_seg=44426)"
   ]
  },
  {
   "cell_type": "code",
   "execution_count": null,
   "id": "bec64846-76af-4934-a304-f40f33b0cb14",
   "metadata": {},
   "outputs": [],
   "source": [
    "outflow.hvplot(\n",
    "    width=plot_width,\n",
    "    height=plot_height,\n",
    ")"
   ]
  },
  {
   "cell_type": "markdown",
   "id": "07caf286-e581-4cbd-83ad-e0b960e56911",
   "metadata": {},
   "source": [
    "## FlowGraph in Model"
   ]
  },
  {
   "cell_type": "code",
   "execution_count": null,
   "id": "9328c9fd-8afd-4bd5-8326-ed093d3610d0",
   "metadata": {},
   "outputs": [],
   "source": [
    "params_file_channel = domain_dir / \"parameters_PRMSChannel.nc\"\n",
    "params_channel = pws.parameters.PrmsParameters.from_netcdf(params_file_channel)\n",
    "\n",
    "dis_file = domain_dir / \"parameters_dis_hru.nc\"\n",
    "dis_hru = pws.Parameters.from_netcdf(dis_file, encoding=False)\n",
    "\n",
    "dis_both_file = domain_dir / \"parameters_dis_both.nc\"\n",
    "dis_both = pws.Parameters.from_netcdf(dis_both_file, encoding=False)"
   ]
  },
  {
   "cell_type": "code",
   "execution_count": null,
   "id": "810d62fe-2742-48df-ae87-21ba419dd1a2",
   "metadata": {},
   "outputs": [],
   "source": [
    "control = pws.Control.load_prms(control_file, warn_unused_options=False)\n",
    "control.edit_n_time_steps(365 * 2)\n",
    "run_dir = nb_output_dir / \"fgr_starfit\"\n",
    "control.options = control.options | {\n",
    "    \"input_dir\": domain_dir,\n",
    "    \"budget_type\": \"error\",\n",
    "    \"calc_method\": \"numba\",\n",
    "    \"netcdf_output_dir\": run_dir,\n",
    "    \"netcdf_output_var_names\": [\"node_outflows\", \"node_upstream_inflows\"],\n",
    "}"
   ]
  },
  {
   "cell_type": "code",
   "execution_count": null,
   "id": "f3eb9546-c026-4aa8-b9ea-9d37d7ece0e9",
   "metadata": {},
   "outputs": [],
   "source": [
    "nhm_processes = [\n",
    "    pws.PRMSSolarGeometry,\n",
    "    pws.PRMSAtmosphere,\n",
    "    pws.PRMSCanopy,\n",
    "    pws.PRMSSnow,\n",
    "    pws.PRMSRunoff,\n",
    "    pws.PRMSSoilzone,\n",
    "    pws.PRMSGroundwater,\n",
    "]\n",
    "\n",
    "model_dict = {\n",
    "    \"control\": control,\n",
    "    \"dis_both\": dis_hru,\n",
    "    \"dis_hru\": dis_both,\n",
    "    \"model_order\": [],\n",
    "}\n",
    "\n",
    "for proc in nhm_processes:\n",
    "    # this is the class name\n",
    "    proc_name = proc.__name__\n",
    "    # the processes can have arbitrary names in the model_dict and\n",
    "    # an instance should not have capitalized name anyway (according to\n",
    "    # python convention), so rename from the class name\n",
    "    proc_rename = \"prms_\" + proc_name[4:].lower()\n",
    "    # each process has a dictionary of information\n",
    "    model_dict[\"model_order\"] += [proc_rename]\n",
    "    model_dict[proc_rename] = {}\n",
    "    # alias to shorten lines below\n",
    "    proc_dict = model_dict[proc_rename]\n",
    "    # required key \"class\" specifys the class\n",
    "    proc_dict[\"class\"] = proc\n",
    "    # the \"parameters\" key provides an instance of Parameters\n",
    "    proc_param_file = domain_dir / f\"parameters_{proc_name}.nc\"\n",
    "    proc_dict[\"parameters\"] = pws.Parameters.from_netcdf(proc_param_file)\n",
    "    # the \"dis\" key provides the name of the discretizations\n",
    "    # which we'll supply shortly to the model dictionary\n",
    "    if proc_rename == \"prms_channel\":\n",
    "        proc_dict[\"dis\"] = \"dis_both\"\n",
    "    else:\n",
    "        proc_dict[\"dis\"] = \"dis_hru\""
   ]
  },
  {
   "cell_type": "code",
   "execution_count": null,
   "id": "0b170049-ec6b-4a6d-b183-98effa92d6c0",
   "metadata": {},
   "outputs": [],
   "source": [
    "pprint(model_dict, sort_dicts=False)"
   ]
  },
  {
   "cell_type": "code",
   "execution_count": null,
   "id": "db25a89a-7a37-405e-ad09-1bfe682cabd5",
   "metadata": {},
   "outputs": [],
   "source": [
    "model_dict = pws.prms_channel_flow_graph_to_model_dict(\n",
    "    model_dict=model_dict,\n",
    "    prms_channel_dis=dis_both,\n",
    "    prms_channel_dis_name=\"dis_both\",\n",
    "    prms_channel_params=params_channel,\n",
    "    new_nodes_maker_dict={\n",
    "        \"starfit\": pws.hydrology.starfit.StarfitFlowNodeMaker(None, sf_params)\n",
    "    },\n",
    "    new_nodes_maker_names=[\"starfit\"],\n",
    "    new_nodes_maker_indices=[0],\n",
    "    new_nodes_flow_to_nhm_seg=[44426],\n",
    "    graph_budget_type=\"warn\",  # move to error\n",
    ")"
   ]
  },
  {
   "cell_type": "code",
   "execution_count": null,
   "id": "ece847a1-c229-4813-9dee-eb3be5d1cc80",
   "metadata": {},
   "outputs": [],
   "source": [
    "%%time\n",
    "if not run_dir.exists():\n",
    "    run_dir.mkdir()\n",
    "    model = pws.Model(model_dict)\n",
    "    model.run()\n",
    "    model.finalize()"
   ]
  },
  {
   "cell_type": "code",
   "execution_count": null,
   "id": "cdc97a64-807c-4fa3-a3a3-d4d404fd25ca",
   "metadata": {},
   "outputs": [],
   "source": [
    "wh_44426 = np.where(params.parameters[\"nhm_seg\"] == 44426)[0]\n",
    "outflow_nodes = xr.open_dataarray(run_dir / \"node_outflows.nc\")[\n",
    "    :, wh_44426\n",
    "].drop_vars(\"node_coord\")"
   ]
  },
  {
   "cell_type": "code",
   "execution_count": null,
   "id": "7af336c0-e846-4fd9-a2d0-6728c4c42d78",
   "metadata": {},
   "outputs": [],
   "source": [
    "xr.merge([outflow, outflow_nodes]).rename(\n",
    "    {\"seg_outflow\": \"NHM\", \"node_outflows\": \"STARFIT\"}\n",
    ").hvplot(\n",
    "    width=plot_width,\n",
    "    height=plot_height,\n",
    "    ylabel=\"streamflow (cfs)\",\n",
    ")"
   ]
  },
  {
   "cell_type": "markdown",
   "id": "14432433-2385-4c21-992a-a05fc9524f11",
   "metadata": {},
   "source": [
    "## FlowGraph as a post-process"
   ]
  },
  {
   "cell_type": "code",
   "execution_count": null,
   "id": "56aaced3-9191-4acb-9043-24bcb2623e70",
   "metadata": {},
   "outputs": [],
   "source": [
    "control = pws.Control.load_prms(control_file, warn_unused_options=False)\n",
    "control.edit_n_time_steps(365 * 2)\n",
    "run_dir = nb_output_dir / \"fgr_starfit_post\"\n",
    "control.options = control.options | {\n",
    "    \"input_dir\": domain_dir,\n",
    "    \"budget_type\": \"error\",\n",
    "    \"calc_method\": \"numba\",\n",
    "    \"netcdf_output_dir\": run_dir,\n",
    "    \"netcdf_output_var_names\": [\"node_outflows\", \"node_upstream_inflows\"],\n",
    "}\n",
    "\n",
    "params_file_channel = domain_dir / \"parameters_PRMSChannel.nc\"\n",
    "params_channel = pws.parameters.PrmsParameters.from_netcdf(params_file_channel)\n",
    "\n",
    "# dis_file = domain_dir / \"parameters_dis_hru.nc\"\n",
    "# dis_hru = pws.Parameters.from_netcdf(dis_file, encoding=False)\n",
    "if \"dis_hru\" in locals().keys():\n",
    "    del dis_hru\n",
    "\n",
    "dis_both_file = domain_dir / \"parameters_dis_both.nc\"\n",
    "dis_both = pws.Parameters.from_netcdf(dis_both_file, encoding=False)"
   ]
  },
  {
   "cell_type": "code",
   "execution_count": null,
   "id": "d8c52566-9032-49ed-8012-382c9f5cd5dd",
   "metadata": {},
   "outputs": [],
   "source": [
    "sfp_ds = sf_params.to_xr_ds().copy()\n",
    "sfp_ds[\"GRanD_CAP_MCM\"] *= 6\n",
    "sf_params_new = pws.Parameters.from_ds(sfp_ds)"
   ]
  },
  {
   "cell_type": "code",
   "execution_count": null,
   "id": "134c8589-f15d-4174-b2c8-ffd0b7214b9f",
   "metadata": {},
   "outputs": [],
   "source": [
    "input_dir = nb_output_dir / \"fgr_nhm\"  # use the output of the NHM run\n",
    "\n",
    "flow_graph = pws.prms_channel_flow_graph_postprocess(\n",
    "    control=control,\n",
    "    prms_channel_params=params_channel,\n",
    "    prms_channel_dis=dis_both,\n",
    "    input_dir=input_dir,\n",
    "    new_nodes_maker_dict={\n",
    "        \"starfit\": pws.hydrology.starfit.StarfitFlowNodeMaker(\n",
    "            None, sf_params_new\n",
    "        ),\n",
    "        \"pass_through\": pws.hydrology.pass_through_node.PassThroughNodeMaker(),\n",
    "    },\n",
    "    new_nodes_maker_names=[\"starfit\", \"pass_through\"],\n",
    "    new_nodes_maker_indices=[0, 0],\n",
    "    new_nodes_flow_to_nhm_seg=[44426, 44418],\n",
    ")"
   ]
  },
  {
   "cell_type": "code",
   "execution_count": null,
   "id": "4f5619ab-f399-4303-a6f5-4e656971424b",
   "metadata": {},
   "outputs": [],
   "source": [
    "%%time\n",
    "if not run_dir.exists():\n",
    "    run_dir.mkdir()\n",
    "    flow_graph.initialize_netcdf()\n",
    "    for istep in tqdm(range(control.n_times)):\n",
    "        control.advance()\n",
    "        flow_graph.advance()\n",
    "        flow_graph.calculate(1.0)\n",
    "        flow_graph.output()\n",
    "\n",
    "    flow_graph.finalize()"
   ]
  },
  {
   "cell_type": "code",
   "execution_count": null,
   "id": "f52c3100-3db4-489e-8d29-b755b0807cb6",
   "metadata": {},
   "outputs": [],
   "source": [
    "wh_44426 = np.where(params.parameters[\"nhm_seg\"] == 44426)[0]\n",
    "outflow_nodes_post = (\n",
    "    xr.open_dataarray(run_dir / \"node_outflows.nc\")[:, wh_44426]\n",
    "    .drop_vars(\"node_coord\")\n",
    "    .rename(\"node_outflows_post\")\n",
    ")"
   ]
  },
  {
   "cell_type": "code",
   "execution_count": null,
   "id": "7dd9e92e-1e96-478c-a381-d5b2fd0d45db",
   "metadata": {},
   "outputs": [],
   "source": [
    "xr.merge(\n",
    "    [\n",
    "        outflow,\n",
    "        outflow_nodes,\n",
    "        outflow_nodes_post,\n",
    "    ]\n",
    ").rename(\n",
    "    {\n",
    "        \"seg_outflow\": \"NHM\",\n",
    "        \"node_outflows\": \"STARFIT\",\n",
    "        \"node_outflows_post\": \"STARFIT CAP*6\",\n",
    "    }\n",
    ").hvplot(\n",
    "    width=950,\n",
    "    height=400,\n",
    "    ylabel=\"streamflow (cfs)\",\n",
    ")"
   ]
  },
  {
   "cell_type": "code",
   "execution_count": null,
   "id": "c89c762a-77e4-44d1-a75b-560ea9f6ceda",
   "metadata": {},
   "outputs": [],
   "source": []
  }
 ],
 "metadata": {
  "language_info": {
   "codemirror_mode": {
    "name": "ipython"
   },
   "file_extension": ".py",
   "mimetype": "text/x-python",
   "name": "python",
   "nbconvert_exporter": "python"
  }
 },
 "nbformat": 4,
 "nbformat_minor": 5
}
